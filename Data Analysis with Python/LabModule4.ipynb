{
  "nbformat": 4,
  "nbformat_minor": 0,
  "metadata": {
    "colab": {
      "provenance": [],
      "collapsed_sections": [],
      "authorship_tag": "ABX9TyMWDCwDlFMwtgxS42m+Jj3k",
      "include_colab_link": true
    },
    "kernelspec": {
      "name": "python3",
      "display_name": "Python 3"
    },
    "language_info": {
      "name": "python"
    }
  },
  "cells": [
    {
      "cell_type": "markdown",
      "metadata": {
        "id": "view-in-github",
        "colab_type": "text"
      },
      "source": [
        "<a href=\"https://colab.research.google.com/github/PosgradoMNA/actividades-de-aprendizaje-JuanMelendres/blob/main/LabModule4.ipynb\" target=\"_parent\"><img src=\"https://colab.research.google.com/assets/colab-badge.svg\" alt=\"Open In Colab\"/></a>"
      ]
    },
    {
      "cell_type": "markdown",
      "source": [
        "Juan Melendres - A00369017"
      ],
      "metadata": {
        "id": "Zj2gS-CaU-im"
      }
    },
    {
      "cell_type": "markdown",
      "source": [
        "# **Module 4 - Model Development**"
      ],
      "metadata": {
        "id": "K-bhvNih3eNc"
      }
    },
    {
      "cell_type": "markdown",
      "source": [
        "**Lab - Model Development**"
      ],
      "metadata": {
        "id": "fB0PUCb93ofD"
      }
    },
    {
      "cell_type": "code",
      "execution_count": 4,
      "metadata": {
        "id": "jLyvTtxs3WXs"
      },
      "outputs": [],
      "source": [
        "# Import Libraries \n",
        "import pandas as pd\n",
        "import numpy as np\n",
        "import matplotlib.pyplot as plt\n",
        "# import the visualization package: seaborn\n",
        "import seaborn as sns\n",
        "%matplotlib inline \n",
        "from sklearn.linear_model import LinearRegression\n",
        "from sklearn.preprocessing import PolynomialFeatures\n",
        "from sklearn.pipeline import Pipeline\n",
        "from sklearn.preprocessing import StandardScaler"
      ]
    },
    {
      "cell_type": "code",
      "source": [
        "# Import dataset\n",
        "path = 'https://cf-courses-data.s3.us.cloud-object-storage.appdomain.cloud/IBMDeveloperSkillsNetwork-DA0101EN-SkillsNetwork/labs/Data%20files/automobileEDA.csv'"
      ],
      "metadata": {
        "id": "3qOQ0uaMacXC"
      },
      "execution_count": 5,
      "outputs": []
    },
    {
      "cell_type": "code",
      "source": [
        "# Load the data and store it in dataframe df\n",
        "df = pd.read_csv(path)\n",
        "df.head(5)"
      ],
      "metadata": {
        "colab": {
          "base_uri": "https://localhost:8080/",
          "height": 349
        },
        "id": "GbNrn0teagXb",
        "outputId": "afe6e56d-91e8-474c-f8ca-a72964f6414e"
      },
      "execution_count": 6,
      "outputs": [
        {
          "output_type": "execute_result",
          "data": {
            "text/plain": [
              "   symboling  normalized-losses         make aspiration num-of-doors  \\\n",
              "0          3                122  alfa-romero        std          two   \n",
              "1          3                122  alfa-romero        std          two   \n",
              "2          1                122  alfa-romero        std          two   \n",
              "3          2                164         audi        std         four   \n",
              "4          2                164         audi        std         four   \n",
              "\n",
              "    body-style drive-wheels engine-location  wheel-base    length  ...  \\\n",
              "0  convertible          rwd           front        88.6  0.811148  ...   \n",
              "1  convertible          rwd           front        88.6  0.811148  ...   \n",
              "2    hatchback          rwd           front        94.5  0.822681  ...   \n",
              "3        sedan          fwd           front        99.8  0.848630  ...   \n",
              "4        sedan          4wd           front        99.4  0.848630  ...   \n",
              "\n",
              "   compression-ratio  horsepower  peak-rpm city-mpg highway-mpg    price  \\\n",
              "0                9.0       111.0    5000.0       21          27  13495.0   \n",
              "1                9.0       111.0    5000.0       21          27  16500.0   \n",
              "2                9.0       154.0    5000.0       19          26  16500.0   \n",
              "3               10.0       102.0    5500.0       24          30  13950.0   \n",
              "4                8.0       115.0    5500.0       18          22  17450.0   \n",
              "\n",
              "  city-L/100km  horsepower-binned  diesel  gas  \n",
              "0    11.190476             Medium       0    1  \n",
              "1    11.190476             Medium       0    1  \n",
              "2    12.368421             Medium       0    1  \n",
              "3     9.791667             Medium       0    1  \n",
              "4    13.055556             Medium       0    1  \n",
              "\n",
              "[5 rows x 29 columns]"
            ],
            "text/html": [
              "\n",
              "  <div id=\"df-080519b5-83b4-40c6-9f67-479f61bc8fe2\">\n",
              "    <div class=\"colab-df-container\">\n",
              "      <div>\n",
              "<style scoped>\n",
              "    .dataframe tbody tr th:only-of-type {\n",
              "        vertical-align: middle;\n",
              "    }\n",
              "\n",
              "    .dataframe tbody tr th {\n",
              "        vertical-align: top;\n",
              "    }\n",
              "\n",
              "    .dataframe thead th {\n",
              "        text-align: right;\n",
              "    }\n",
              "</style>\n",
              "<table border=\"1\" class=\"dataframe\">\n",
              "  <thead>\n",
              "    <tr style=\"text-align: right;\">\n",
              "      <th></th>\n",
              "      <th>symboling</th>\n",
              "      <th>normalized-losses</th>\n",
              "      <th>make</th>\n",
              "      <th>aspiration</th>\n",
              "      <th>num-of-doors</th>\n",
              "      <th>body-style</th>\n",
              "      <th>drive-wheels</th>\n",
              "      <th>engine-location</th>\n",
              "      <th>wheel-base</th>\n",
              "      <th>length</th>\n",
              "      <th>...</th>\n",
              "      <th>compression-ratio</th>\n",
              "      <th>horsepower</th>\n",
              "      <th>peak-rpm</th>\n",
              "      <th>city-mpg</th>\n",
              "      <th>highway-mpg</th>\n",
              "      <th>price</th>\n",
              "      <th>city-L/100km</th>\n",
              "      <th>horsepower-binned</th>\n",
              "      <th>diesel</th>\n",
              "      <th>gas</th>\n",
              "    </tr>\n",
              "  </thead>\n",
              "  <tbody>\n",
              "    <tr>\n",
              "      <th>0</th>\n",
              "      <td>3</td>\n",
              "      <td>122</td>\n",
              "      <td>alfa-romero</td>\n",
              "      <td>std</td>\n",
              "      <td>two</td>\n",
              "      <td>convertible</td>\n",
              "      <td>rwd</td>\n",
              "      <td>front</td>\n",
              "      <td>88.6</td>\n",
              "      <td>0.811148</td>\n",
              "      <td>...</td>\n",
              "      <td>9.0</td>\n",
              "      <td>111.0</td>\n",
              "      <td>5000.0</td>\n",
              "      <td>21</td>\n",
              "      <td>27</td>\n",
              "      <td>13495.0</td>\n",
              "      <td>11.190476</td>\n",
              "      <td>Medium</td>\n",
              "      <td>0</td>\n",
              "      <td>1</td>\n",
              "    </tr>\n",
              "    <tr>\n",
              "      <th>1</th>\n",
              "      <td>3</td>\n",
              "      <td>122</td>\n",
              "      <td>alfa-romero</td>\n",
              "      <td>std</td>\n",
              "      <td>two</td>\n",
              "      <td>convertible</td>\n",
              "      <td>rwd</td>\n",
              "      <td>front</td>\n",
              "      <td>88.6</td>\n",
              "      <td>0.811148</td>\n",
              "      <td>...</td>\n",
              "      <td>9.0</td>\n",
              "      <td>111.0</td>\n",
              "      <td>5000.0</td>\n",
              "      <td>21</td>\n",
              "      <td>27</td>\n",
              "      <td>16500.0</td>\n",
              "      <td>11.190476</td>\n",
              "      <td>Medium</td>\n",
              "      <td>0</td>\n",
              "      <td>1</td>\n",
              "    </tr>\n",
              "    <tr>\n",
              "      <th>2</th>\n",
              "      <td>1</td>\n",
              "      <td>122</td>\n",
              "      <td>alfa-romero</td>\n",
              "      <td>std</td>\n",
              "      <td>two</td>\n",
              "      <td>hatchback</td>\n",
              "      <td>rwd</td>\n",
              "      <td>front</td>\n",
              "      <td>94.5</td>\n",
              "      <td>0.822681</td>\n",
              "      <td>...</td>\n",
              "      <td>9.0</td>\n",
              "      <td>154.0</td>\n",
              "      <td>5000.0</td>\n",
              "      <td>19</td>\n",
              "      <td>26</td>\n",
              "      <td>16500.0</td>\n",
              "      <td>12.368421</td>\n",
              "      <td>Medium</td>\n",
              "      <td>0</td>\n",
              "      <td>1</td>\n",
              "    </tr>\n",
              "    <tr>\n",
              "      <th>3</th>\n",
              "      <td>2</td>\n",
              "      <td>164</td>\n",
              "      <td>audi</td>\n",
              "      <td>std</td>\n",
              "      <td>four</td>\n",
              "      <td>sedan</td>\n",
              "      <td>fwd</td>\n",
              "      <td>front</td>\n",
              "      <td>99.8</td>\n",
              "      <td>0.848630</td>\n",
              "      <td>...</td>\n",
              "      <td>10.0</td>\n",
              "      <td>102.0</td>\n",
              "      <td>5500.0</td>\n",
              "      <td>24</td>\n",
              "      <td>30</td>\n",
              "      <td>13950.0</td>\n",
              "      <td>9.791667</td>\n",
              "      <td>Medium</td>\n",
              "      <td>0</td>\n",
              "      <td>1</td>\n",
              "    </tr>\n",
              "    <tr>\n",
              "      <th>4</th>\n",
              "      <td>2</td>\n",
              "      <td>164</td>\n",
              "      <td>audi</td>\n",
              "      <td>std</td>\n",
              "      <td>four</td>\n",
              "      <td>sedan</td>\n",
              "      <td>4wd</td>\n",
              "      <td>front</td>\n",
              "      <td>99.4</td>\n",
              "      <td>0.848630</td>\n",
              "      <td>...</td>\n",
              "      <td>8.0</td>\n",
              "      <td>115.0</td>\n",
              "      <td>5500.0</td>\n",
              "      <td>18</td>\n",
              "      <td>22</td>\n",
              "      <td>17450.0</td>\n",
              "      <td>13.055556</td>\n",
              "      <td>Medium</td>\n",
              "      <td>0</td>\n",
              "      <td>1</td>\n",
              "    </tr>\n",
              "  </tbody>\n",
              "</table>\n",
              "<p>5 rows × 29 columns</p>\n",
              "</div>\n",
              "      <button class=\"colab-df-convert\" onclick=\"convertToInteractive('df-080519b5-83b4-40c6-9f67-479f61bc8fe2')\"\n",
              "              title=\"Convert this dataframe to an interactive table.\"\n",
              "              style=\"display:none;\">\n",
              "        \n",
              "  <svg xmlns=\"http://www.w3.org/2000/svg\" height=\"24px\"viewBox=\"0 0 24 24\"\n",
              "       width=\"24px\">\n",
              "    <path d=\"M0 0h24v24H0V0z\" fill=\"none\"/>\n",
              "    <path d=\"M18.56 5.44l.94 2.06.94-2.06 2.06-.94-2.06-.94-.94-2.06-.94 2.06-2.06.94zm-11 1L8.5 8.5l.94-2.06 2.06-.94-2.06-.94L8.5 2.5l-.94 2.06-2.06.94zm10 10l.94 2.06.94-2.06 2.06-.94-2.06-.94-.94-2.06-.94 2.06-2.06.94z\"/><path d=\"M17.41 7.96l-1.37-1.37c-.4-.4-.92-.59-1.43-.59-.52 0-1.04.2-1.43.59L10.3 9.45l-7.72 7.72c-.78.78-.78 2.05 0 2.83L4 21.41c.39.39.9.59 1.41.59.51 0 1.02-.2 1.41-.59l7.78-7.78 2.81-2.81c.8-.78.8-2.07 0-2.86zM5.41 20L4 18.59l7.72-7.72 1.47 1.35L5.41 20z\"/>\n",
              "  </svg>\n",
              "      </button>\n",
              "      \n",
              "  <style>\n",
              "    .colab-df-container {\n",
              "      display:flex;\n",
              "      flex-wrap:wrap;\n",
              "      gap: 12px;\n",
              "    }\n",
              "\n",
              "    .colab-df-convert {\n",
              "      background-color: #E8F0FE;\n",
              "      border: none;\n",
              "      border-radius: 50%;\n",
              "      cursor: pointer;\n",
              "      display: none;\n",
              "      fill: #1967D2;\n",
              "      height: 32px;\n",
              "      padding: 0 0 0 0;\n",
              "      width: 32px;\n",
              "    }\n",
              "\n",
              "    .colab-df-convert:hover {\n",
              "      background-color: #E2EBFA;\n",
              "      box-shadow: 0px 1px 2px rgba(60, 64, 67, 0.3), 0px 1px 3px 1px rgba(60, 64, 67, 0.15);\n",
              "      fill: #174EA6;\n",
              "    }\n",
              "\n",
              "    [theme=dark] .colab-df-convert {\n",
              "      background-color: #3B4455;\n",
              "      fill: #D2E3FC;\n",
              "    }\n",
              "\n",
              "    [theme=dark] .colab-df-convert:hover {\n",
              "      background-color: #434B5C;\n",
              "      box-shadow: 0px 1px 3px 1px rgba(0, 0, 0, 0.15);\n",
              "      filter: drop-shadow(0px 1px 2px rgba(0, 0, 0, 0.3));\n",
              "      fill: #FFFFFF;\n",
              "    }\n",
              "  </style>\n",
              "\n",
              "      <script>\n",
              "        const buttonEl =\n",
              "          document.querySelector('#df-080519b5-83b4-40c6-9f67-479f61bc8fe2 button.colab-df-convert');\n",
              "        buttonEl.style.display =\n",
              "          google.colab.kernel.accessAllowed ? 'block' : 'none';\n",
              "\n",
              "        async function convertToInteractive(key) {\n",
              "          const element = document.querySelector('#df-080519b5-83b4-40c6-9f67-479f61bc8fe2');\n",
              "          const dataTable =\n",
              "            await google.colab.kernel.invokeFunction('convertToInteractive',\n",
              "                                                     [key], {});\n",
              "          if (!dataTable) return;\n",
              "\n",
              "          const docLinkHtml = 'Like what you see? Visit the ' +\n",
              "            '<a target=\"_blank\" href=https://colab.research.google.com/notebooks/data_table.ipynb>data table notebook</a>'\n",
              "            + ' to learn more about interactive tables.';\n",
              "          element.innerHTML = '';\n",
              "          dataTable['output_type'] = 'display_data';\n",
              "          await google.colab.output.renderOutput(dataTable, element);\n",
              "          const docLink = document.createElement('div');\n",
              "          docLink.innerHTML = docLinkHtml;\n",
              "          element.appendChild(docLink);\n",
              "        }\n",
              "      </script>\n",
              "    </div>\n",
              "  </div>\n",
              "  "
            ]
          },
          "metadata": {},
          "execution_count": 6
        }
      ]
    },
    {
      "cell_type": "markdown",
      "source": [
        "1. Linear Regression and Multiple Linear Regression\n",
        "Linear Regression **texto en negrita**\n",
        "\n",
        "One example of a Data Model that we will be using is:\n",
        "Simple Linear Regression\n",
        "\n",
        "Simple Linear Regression is a method to help us understand the relationship between two variables:\n",
        "\n",
        "    The predictor/independent variable (X)\n",
        "    The response/dependent variable (that we want to predict)(Y)\n"
      ],
      "metadata": {
        "id": "eiPsGZWFa50f"
      }
    },
    {
      "cell_type": "code",
      "source": [
        "# Create the linear regression object:\n",
        "lm = LinearRegression()\n",
        "lm"
      ],
      "metadata": {
        "colab": {
          "base_uri": "https://localhost:8080/"
        },
        "id": "6kJdhbP6bDxC",
        "outputId": "3e89fccb-77c7-4883-eae0-7214ddce9937"
      },
      "execution_count": 7,
      "outputs": [
        {
          "output_type": "execute_result",
          "data": {
            "text/plain": [
              "LinearRegression()"
            ]
          },
          "metadata": {},
          "execution_count": 7
        }
      ]
    },
    {
      "cell_type": "code",
      "source": [
        "'''\n",
        "How could \"highway-mpg\" help us predict car price?\n",
        "For this example, we want to look at how highway-mpg can help us predict car price. \n",
        "Using simple linear regression, we will create a linear function with \"highway-mpg\" as the predictor variable and the \"price\" as the response variable.\n",
        "'''\n",
        "X = df[['highway-mpg']]\n",
        "Y = df['price']"
      ],
      "metadata": {
        "id": "V1ZRbtlRbKWO"
      },
      "execution_count": 8,
      "outputs": []
    },
    {
      "cell_type": "code",
      "source": [
        "# Fit the linear model using highway-mpg:\n",
        "lm.fit(X,Y)"
      ],
      "metadata": {
        "colab": {
          "base_uri": "https://localhost:8080/"
        },
        "id": "KdFCV2IhbQQd",
        "outputId": "6dbed062-1a5e-416f-f9c5-f44591392c5f"
      },
      "execution_count": 9,
      "outputs": [
        {
          "output_type": "execute_result",
          "data": {
            "text/plain": [
              "LinearRegression()"
            ]
          },
          "metadata": {},
          "execution_count": 9
        }
      ]
    },
    {
      "cell_type": "code",
      "source": [
        "# We can output a prediction:\n",
        "Yhat = lm.predict(X)\n",
        "Yhat[0:5]   "
      ],
      "metadata": {
        "colab": {
          "base_uri": "https://localhost:8080/"
        },
        "id": "BaiO0fLebT0h",
        "outputId": "b8c2cd18-4b46-4baf-d061-fe5d2e3d0acc"
      },
      "execution_count": 10,
      "outputs": [
        {
          "output_type": "execute_result",
          "data": {
            "text/plain": [
              "array([16236.50464347, 16236.50464347, 17058.23802179, 13771.3045085 ,\n",
              "       20345.17153508])"
            ]
          },
          "metadata": {},
          "execution_count": 10
        }
      ]
    },
    {
      "cell_type": "code",
      "source": [
        "# What is the value of the intercept (a)?\n",
        "lm.intercept_"
      ],
      "metadata": {
        "colab": {
          "base_uri": "https://localhost:8080/"
        },
        "id": "Z8ZE4lbSbXX3",
        "outputId": "b71072ad-cdd9-48e7-db59-15353abb43cf"
      },
      "execution_count": 11,
      "outputs": [
        {
          "output_type": "execute_result",
          "data": {
            "text/plain": [
              "38423.3058581574"
            ]
          },
          "metadata": {},
          "execution_count": 11
        }
      ]
    },
    {
      "cell_type": "code",
      "source": [
        "# What is the value of the slope (b)?\n",
        "lm.coef_"
      ],
      "metadata": {
        "colab": {
          "base_uri": "https://localhost:8080/"
        },
        "id": "8yhmWt67boZt",
        "outputId": "c864e8d2-217c-4782-d0c0-848af622a79d"
      },
      "execution_count": 12,
      "outputs": [
        {
          "output_type": "execute_result",
          "data": {
            "text/plain": [
              "array([-821.73337832])"
            ]
          },
          "metadata": {},
          "execution_count": 12
        }
      ]
    },
    {
      "cell_type": "code",
      "source": [
        "'''\n",
        "Question #1 a): Create a linear regression object called \"lm1\".\n",
        "'''\n",
        "lm1 = LinearRegression()\n",
        "lm1"
      ],
      "metadata": {
        "colab": {
          "base_uri": "https://localhost:8080/"
        },
        "id": "ctZURapqbrXA",
        "outputId": "e71e5900-fb90-4e88-b5f4-3384f1da570c"
      },
      "execution_count": 13,
      "outputs": [
        {
          "output_type": "execute_result",
          "data": {
            "text/plain": [
              "LinearRegression()"
            ]
          },
          "metadata": {},
          "execution_count": 13
        }
      ]
    },
    {
      "cell_type": "code",
      "source": [
        "'''\n",
        "Question #1 b): Train the model using \"engine-size\" as the independent variable and \"price\" as the dependent variable?\n",
        "'''\n",
        "lm1.fit(df[['engine-size']], df[['price']])\n",
        "lm1"
      ],
      "metadata": {
        "colab": {
          "base_uri": "https://localhost:8080/"
        },
        "outputId": "95611cd8-8d32-413c-dd70-85d1180b9ec1",
        "id": "lyACAXrcbzhn"
      },
      "execution_count": 14,
      "outputs": [
        {
          "output_type": "execute_result",
          "data": {
            "text/plain": [
              "LinearRegression()"
            ]
          },
          "metadata": {},
          "execution_count": 14
        }
      ]
    },
    {
      "cell_type": "code",
      "source": [
        "'''\n",
        "Question #1 c): Find the slope and intercept of the model.\n",
        "'''\n",
        "# Slope \n",
        "print(lm1.coef_)\n",
        "# Intercept\n",
        "print(lm1.intercept_)"
      ],
      "metadata": {
        "colab": {
          "base_uri": "https://localhost:8080/"
        },
        "outputId": "f0b90039-6bf8-4fcc-8f18-4c7498602b9e",
        "id": "VGbH1A3Tb6qZ"
      },
      "execution_count": 15,
      "outputs": [
        {
          "output_type": "stream",
          "name": "stdout",
          "text": [
            "[[166.86001569]]\n",
            "[-7963.33890628]\n"
          ]
        }
      ]
    },
    {
      "cell_type": "code",
      "source": [
        "'''\n",
        "Question #1 d): What is the equation of the predicted line? You can use x and yhat or \"engine-size\" or \"price\".\n",
        "'''\n",
        "# using X and Y  \n",
        "# using X and Y  \n",
        "Yhat = -7963.34 + 166.86 * X\n",
        "Price = -7963.34 + 166.86 * df['engine-size']"
      ],
      "metadata": {
        "id": "-bUq5wLGcKid"
      },
      "execution_count": 16,
      "outputs": []
    },
    {
      "cell_type": "markdown",
      "source": [
        "Multiple Linear Regression\n",
        "\n",
        "What if we want to predict car price using more than one variable?\n",
        "\n",
        "If we want to use more variables in our model to predict car price, we can use Multiple Linear Regression. Multiple Linear Regression is very similar to Simple Linear Regression, but this method is used to explain the relationship between one continuous response (dependent) variable and two or more predictor (independent) variables."
      ],
      "metadata": {
        "id": "zcBBFKZucWS7"
      }
    },
    {
      "cell_type": "code",
      "source": [
        "# Let's develop a model using these variables as the predictor variables.\n",
        "Z = df[['horsepower', 'curb-weight', 'engine-size', 'highway-mpg']]"
      ],
      "metadata": {
        "id": "1Yuscx7EcTCI"
      },
      "execution_count": 17,
      "outputs": []
    },
    {
      "cell_type": "code",
      "source": [
        "# Fit the linear model using the four above-mentioned variables.\n",
        "lm.fit(Z, df['price'])"
      ],
      "metadata": {
        "colab": {
          "base_uri": "https://localhost:8080/"
        },
        "id": "9IH1yekGcbfo",
        "outputId": "998bbf37-ac8f-4c54-de2a-7006792423c5"
      },
      "execution_count": 18,
      "outputs": [
        {
          "output_type": "execute_result",
          "data": {
            "text/plain": [
              "LinearRegression()"
            ]
          },
          "metadata": {},
          "execution_count": 18
        }
      ]
    },
    {
      "cell_type": "code",
      "source": [
        "# What is the value of the intercept(a)?\n",
        "lm.intercept_"
      ],
      "metadata": {
        "colab": {
          "base_uri": "https://localhost:8080/"
        },
        "id": "57hlEzYlcf37",
        "outputId": "50ab30fc-5afd-4963-a9f0-34e932d9d0c3"
      },
      "execution_count": 19,
      "outputs": [
        {
          "output_type": "execute_result",
          "data": {
            "text/plain": [
              "-15806.62462632922"
            ]
          },
          "metadata": {},
          "execution_count": 19
        }
      ]
    },
    {
      "cell_type": "code",
      "source": [
        "# What are the values of the coefficients (b1, b2, b3, b4)?\n",
        "lm.coef_"
      ],
      "metadata": {
        "colab": {
          "base_uri": "https://localhost:8080/"
        },
        "id": "m8o1ELcYcjLS",
        "outputId": "6577a4c4-9f1e-4755-9e16-563d5c92f7e7"
      },
      "execution_count": 20,
      "outputs": [
        {
          "output_type": "execute_result",
          "data": {
            "text/plain": [
              "array([53.49574423,  4.70770099, 81.53026382, 36.05748882])"
            ]
          },
          "metadata": {},
          "execution_count": 20
        }
      ]
    },
    {
      "cell_type": "code",
      "source": [
        "'''\n",
        "Question #2 a): Create and train a Multiple Linear Regression model \"lm2\" where the response variable is \"price\", and the predictor variable is \"normalized-losses\" and \"highway-mpg\". \n",
        "'''\n",
        "lm2 = LinearRegression()\n",
        "lm2.fit(df[['normalized-losses' , 'highway-mpg']],df['price'])"
      ],
      "metadata": {
        "colab": {
          "base_uri": "https://localhost:8080/"
        },
        "id": "MmNH_JY6cmdK",
        "outputId": "d23c94fd-6738-43d7-83cc-212963ef212a"
      },
      "execution_count": 21,
      "outputs": [
        {
          "output_type": "execute_result",
          "data": {
            "text/plain": [
              "LinearRegression()"
            ]
          },
          "metadata": {},
          "execution_count": 21
        }
      ]
    },
    {
      "cell_type": "code",
      "source": [
        "'''\n",
        "Question #2 b): Find the coefficient of the model. \n",
        "'''\n",
        "lm2.coef_"
      ],
      "metadata": {
        "colab": {
          "base_uri": "https://localhost:8080/"
        },
        "outputId": "3248da41-f99f-4913-f5a0-cce7c101a5a9",
        "id": "3-bQT3bzcs4x"
      },
      "execution_count": 22,
      "outputs": [
        {
          "output_type": "execute_result",
          "data": {
            "text/plain": [
              "array([   1.49789586, -820.45434016])"
            ]
          },
          "metadata": {},
          "execution_count": 22
        }
      ]
    },
    {
      "cell_type": "markdown",
      "source": [
        "2. **Model Evaluation Using Visualization**\n",
        "\n",
        "Now that we've developed some models, how do we evaluate our models and choose the best one? One way to do this is by using a visualization."
      ],
      "metadata": {
        "id": "YgBQVlwNdAyB"
      }
    },
    {
      "cell_type": "markdown",
      "source": [
        "Regression Plot\n",
        "\n",
        "When it comes to simple linear regression, an excellent way to visualize the fit of our model is by using regression plots.\n",
        "\n",
        "This plot will show a combination of a scattered data points (a scatterplot), as well as the fitted linear regression line going through the data. This will give us a reasonable estimate of the relationship between the two variables, the strength of the correlation, as well as the direction (positive or negative correlation).\n"
      ],
      "metadata": {
        "id": "hYIhHd4TdDsu"
      }
    },
    {
      "cell_type": "code",
      "source": [
        "# Let's visualize highway-mpg as potential predictor variable of price:\n",
        "width = 12\n",
        "height = 10\n",
        "plt.figure(figsize=(width, height))\n",
        "sns.regplot(x = \"highway-mpg\", y = \"price\", data = df)\n",
        "plt.ylim(0,)"
      ],
      "metadata": {
        "colab": {
          "base_uri": "https://localhost:8080/",
          "height": 624
        },
        "id": "p95H872kdIOz",
        "outputId": "36c819e6-5849-4bf4-9976-ca0efdfc02e6"
      },
      "execution_count": 23,
      "outputs": [
        {
          "output_type": "execute_result",
          "data": {
            "text/plain": [
              "(0.0, 48175.10262685277)"
            ]
          },
          "metadata": {},
          "execution_count": 23
        },
        {
          "output_type": "display_data",
          "data": {
            "text/plain": [
              "<Figure size 864x720 with 1 Axes>"
            ],
            "image/png": "[encoded data removed]"
          },
          "metadata": {
            "needs_background": "light"
          }
        }
      ]
    },
    {
      "cell_type": "code",
      "source": [
        "# Let's compare this plot to the regression plot of \"peak-rpm\".\n",
        "plt.figure(figsize=(width, height))\n",
        "sns.regplot(x = \"peak-rpm\", y = \"price\", data = df)\n",
        "plt.ylim(0,)"
      ],
      "metadata": {
        "colab": {
          "base_uri": "https://localhost:8080/",
          "height": 624
        },
        "id": "LTh7yPxtdOej",
        "outputId": "7514f113-02da-4d47-d55a-ba3ae5c3ff22"
      },
      "execution_count": 24,
      "outputs": [
        {
          "output_type": "execute_result",
          "data": {
            "text/plain": [
              "(0.0, 47414.1)"
            ]
          },
          "metadata": {},
          "execution_count": 24
        },
        {
          "output_type": "display_data",
          "data": {
            "text/plain": [
              "<Figure size 864x720 with 1 Axes>"
            ],
            "image/png": "[encoded data removed]"
          },
          "metadata": {
            "needs_background": "light"
          }
        }
      ]
    },
    {
      "cell_type": "code",
      "source": [
        "'''\n",
        "Question #3: Given the regression plots above, is \"peak-rpm\" or \"highway-mpg\" more strongly correlated with \"price\"? Use the method \".corr()\" to verify your answer.\n",
        "'''\n",
        "df[[\"peak-rpm\",\"highway-mpg\",\"price\"]].corr()"
      ],
      "metadata": {
        "colab": {
          "base_uri": "https://localhost:8080/",
          "height": 143
        },
        "outputId": "5b2ba8f4-05a3-4cd3-f67b-d7eae82fcb87",
        "id": "9a-D3CSwctSz"
      },
      "execution_count": 25,
      "outputs": [
        {
          "output_type": "execute_result",
          "data": {
            "text/plain": [
              "             peak-rpm  highway-mpg     price\n",
              "peak-rpm     1.000000    -0.058598 -0.101616\n",
              "highway-mpg -0.058598     1.000000 -0.704692\n",
              "price       -0.101616    -0.704692  1.000000"
            ],
            "text/html": [
              "\n",
              "  <div id=\"df-a855aaeb-c55d-49f1-ac79-2a5f45234671\">\n",
              "    <div class=\"colab-df-container\">\n",
              "      <div>\n",
              "<style scoped>\n",
              "    .dataframe tbody tr th:only-of-type {\n",
              "        vertical-align: middle;\n",
              "    }\n",
              "\n",
              "    .dataframe tbody tr th {\n",
              "        vertical-align: top;\n",
              "    }\n",
              "\n",
              "    .dataframe thead th {\n",
              "        text-align: right;\n",
              "    }\n",
              "</style>\n",
              "<table border=\"1\" class=\"dataframe\">\n",
              "  <thead>\n",
              "    <tr style=\"text-align: right;\">\n",
              "      <th></th>\n",
              "      <th>peak-rpm</th>\n",
              "      <th>highway-mpg</th>\n",
              "      <th>price</th>\n",
              "    </tr>\n",
              "  </thead>\n",
              "  <tbody>\n",
              "    <tr>\n",
              "      <th>peak-rpm</th>\n",
              "      <td>1.000000</td>\n",
              "      <td>-0.058598</td>\n",
              "      <td>-0.101616</td>\n",
              "    </tr>\n",
              "    <tr>\n",
              "      <th>highway-mpg</th>\n",
              "      <td>-0.058598</td>\n",
              "      <td>1.000000</td>\n",
              "      <td>-0.704692</td>\n",
              "    </tr>\n",
              "    <tr>\n",
              "      <th>price</th>\n",
              "      <td>-0.101616</td>\n",
              "      <td>-0.704692</td>\n",
              "      <td>1.000000</td>\n",
              "    </tr>\n",
              "  </tbody>\n",
              "</table>\n",
              "</div>\n",
              "      <button class=\"colab-df-convert\" onclick=\"convertToInteractive('df-a855aaeb-c55d-49f1-ac79-2a5f45234671')\"\n",
              "              title=\"Convert this dataframe to an interactive table.\"\n",
              "              style=\"display:none;\">\n",
              "        \n",
              "  <svg xmlns=\"http://www.w3.org/2000/svg\" height=\"24px\"viewBox=\"0 0 24 24\"\n",
              "       width=\"24px\">\n",
              "    <path d=\"M0 0h24v24H0V0z\" fill=\"none\"/>\n",
              "    <path d=\"M18.56 5.44l.94 2.06.94-2.06 2.06-.94-2.06-.94-.94-2.06-.94 2.06-2.06.94zm-11 1L8.5 8.5l.94-2.06 2.06-.94-2.06-.94L8.5 2.5l-.94 2.06-2.06.94zm10 10l.94 2.06.94-2.06 2.06-.94-2.06-.94-.94-2.06-.94 2.06-2.06.94z\"/><path d=\"M17.41 7.96l-1.37-1.37c-.4-.4-.92-.59-1.43-.59-.52 0-1.04.2-1.43.59L10.3 9.45l-7.72 7.72c-.78.78-.78 2.05 0 2.83L4 21.41c.39.39.9.59 1.41.59.51 0 1.02-.2 1.41-.59l7.78-7.78 2.81-2.81c.8-.78.8-2.07 0-2.86zM5.41 20L4 18.59l7.72-7.72 1.47 1.35L5.41 20z\"/>\n",
              "  </svg>\n",
              "      </button>\n",
              "      \n",
              "  <style>\n",
              "    .colab-df-container {\n",
              "      display:flex;\n",
              "      flex-wrap:wrap;\n",
              "      gap: 12px;\n",
              "    }\n",
              "\n",
              "    .colab-df-convert {\n",
              "      background-color: #E8F0FE;\n",
              "      border: none;\n",
              "      border-radius: 50%;\n",
              "      cursor: pointer;\n",
              "      display: none;\n",
              "      fill: #1967D2;\n",
              "      height: 32px;\n",
              "      padding: 0 0 0 0;\n",
              "      width: 32px;\n",
              "    }\n",
              "\n",
              "    .colab-df-convert:hover {\n",
              "      background-color: #E2EBFA;\n",
              "      box-shadow: 0px 1px 2px rgba(60, 64, 67, 0.3), 0px 1px 3px 1px rgba(60, 64, 67, 0.15);\n",
              "      fill: #174EA6;\n",
              "    }\n",
              "\n",
              "    [theme=dark] .colab-df-convert {\n",
              "      background-color: #3B4455;\n",
              "      fill: #D2E3FC;\n",
              "    }\n",
              "\n",
              "    [theme=dark] .colab-df-convert:hover {\n",
              "      background-color: #434B5C;\n",
              "      box-shadow: 0px 1px 3px 1px rgba(0, 0, 0, 0.15);\n",
              "      filter: drop-shadow(0px 1px 2px rgba(0, 0, 0, 0.3));\n",
              "      fill: #FFFFFF;\n",
              "    }\n",
              "  </style>\n",
              "\n",
              "      <script>\n",
              "        const buttonEl =\n",
              "          document.querySelector('#df-a855aaeb-c55d-49f1-ac79-2a5f45234671 button.colab-df-convert');\n",
              "        buttonEl.style.display =\n",
              "          google.colab.kernel.accessAllowed ? 'block' : 'none';\n",
              "\n",
              "        async function convertToInteractive(key) {\n",
              "          const element = document.querySelector('#df-a855aaeb-c55d-49f1-ac79-2a5f45234671');\n",
              "          const dataTable =\n",
              "            await google.colab.kernel.invokeFunction('convertToInteractive',\n",
              "                                                     [key], {});\n",
              "          if (!dataTable) return;\n",
              "\n",
              "          const docLinkHtml = 'Like what you see? Visit the ' +\n",
              "            '<a target=\"_blank\" href=https://colab.research.google.com/notebooks/data_table.ipynb>data table notebook</a>'\n",
              "            + ' to learn more about interactive tables.';\n",
              "          element.innerHTML = '';\n",
              "          dataTable['output_type'] = 'display_data';\n",
              "          await google.colab.output.renderOutput(dataTable, element);\n",
              "          const docLink = document.createElement('div');\n",
              "          docLink.innerHTML = docLinkHtml;\n",
              "          element.appendChild(docLink);\n",
              "        }\n",
              "      </script>\n",
              "    </div>\n",
              "  </div>\n",
              "  "
            ]
          },
          "metadata": {},
          "execution_count": 25
        }
      ]
    },
    {
      "cell_type": "markdown",
      "source": [
        "Residual Plot\n",
        "\n",
        "A good way to visualize the variance of the data is to use a residual plot.\n",
        "\n",
        "What is a residual?\n",
        "\n",
        "The difference between the observed value (y) and the predicted value (Yhat) is called the residual (e). When we look at a regression plot, the residual is the distance from the data point to the fitted regression line.\n",
        "\n",
        "So what is a residual plot?\n",
        "\n",
        "A residual plot is a graph that shows the residuals on the vertical y-axis and the independent variable on the horizontal x-axis.\n",
        "\n",
        "What do we pay attention to when looking at a residual plot?\n",
        "\n",
        "We look at the spread of the residuals:\n",
        "\n",
        "- If the points in a residual plot are randomly spread out around the x-axis, then a linear model is appropriate for the data. "
      ],
      "metadata": {
        "id": "rmJbrXWqdffM"
      }
    },
    {
      "cell_type": "code",
      "source": [
        "width = 12\n",
        "height = 10\n",
        "plt.figure(figsize = (width, height))\n",
        "sns.residplot(df['highway-mpg'], df['price'])\n",
        "plt.show()"
      ],
      "metadata": {
        "colab": {
          "base_uri": "https://localhost:8080/",
          "height": 663
        },
        "id": "h-ZuARN5dhly",
        "outputId": "de1a26c3-15c8-4f4e-9dcd-9c0275897bbf"
      },
      "execution_count": 26,
      "outputs": [
        {
          "output_type": "stream",
          "name": "stderr",
          "text": [
            "/usr/local/lib/python3.7/dist-packages/seaborn/_decorators.py:43: FutureWarning: Pass the following variables as keyword args: x, y. From version 0.12, the only valid positional argument will be `data`, and passing other arguments without an explicit keyword will result in an error or misinterpretation.\n",
            "  FutureWarning\n"
          ]
        },
        {
          "output_type": "display_data",
          "data": {
            "text/plain": [
              "<Figure size 864x720 with 1 Axes>"
            ],
            "image/png": "[encoded data removed]"
          },
          "metadata": {
            "needs_background": "light"
          }
        }
      ]
    },
    {
      "cell_type": "markdown",
      "source": [
        "**Multiple Linear Regression**"
      ],
      "metadata": {
        "id": "05ZF70Dkdn02"
      }
    },
    {
      "cell_type": "code",
      "source": [
        "Y_hat = lm.predict(Z)"
      ],
      "metadata": {
        "id": "maNv431sdlam"
      },
      "execution_count": 27,
      "outputs": []
    },
    {
      "cell_type": "code",
      "source": [
        "plt.figure(figsize=(width, height))\n",
        "\n",
        "ax1 = sns.distplot(df['price'], hist = False, color = \"r\", label = \"Actual Value\")\n",
        "sns.distplot(Y_hat, hist = False, color = \"b\", label = \"Fitted Values\" , ax = ax1)\n",
        "\n",
        "plt.title('Actual vs Fitted Values for Price')\n",
        "plt.xlabel('Price (in dollars)')\n",
        "plt.ylabel('Proportion of Cars')\n",
        "\n",
        "plt.show()\n",
        "plt.close()"
      ],
      "metadata": {
        "colab": {
          "base_uri": "https://localhost:8080/",
          "height": 714
        },
        "id": "JHNIIai-drYN",
        "outputId": "f5206279-8fc9-4af8-b220-379a9b86219a"
      },
      "execution_count": 28,
      "outputs": [
        {
          "output_type": "stream",
          "name": "stderr",
          "text": [
            "/usr/local/lib/python3.7/dist-packages/seaborn/distributions.py:2619: FutureWarning: `distplot` is a deprecated function and will be removed in a future version. Please adapt your code to use either `displot` (a figure-level function with similar flexibility) or `kdeplot` (an axes-level function for kernel density plots).\n",
            "  warnings.warn(msg, FutureWarning)\n",
            "/usr/local/lib/python3.7/dist-packages/seaborn/distributions.py:2619: FutureWarning: `distplot` is a deprecated function and will be removed in a future version. Please adapt your code to use either `displot` (a figure-level function with similar flexibility) or `kdeplot` (an axes-level function for kernel density plots).\n",
            "  warnings.warn(msg, FutureWarning)\n"
          ]
        },
        {
          "output_type": "display_data",
          "data": {
            "text/plain": [
              "<Figure size 864x720 with 1 Axes>"
            ],
            "image/png": "[encoded data removed]"
          },
          "metadata": {
            "needs_background": "light"
          }
        }
      ]
    },
    {
      "cell_type": "markdown",
      "source": [
        "3. **Polynomial Regression and Pipelines**\n",
        "\n",
        "Polynomial regression is a particular case of the general linear regression model or multiple linear regression models.\n",
        "\n",
        "We get non-linear relationships by squaring or setting higher-order terms of the predictor variables."
      ],
      "metadata": {
        "id": "v-SEfgKadzQL"
      }
    },
    {
      "cell_type": "code",
      "source": [
        "def PlotPolly(model, independent_variable, dependent_variabble, Name):\n",
        "    x_new = np.linspace(15, 55, 100)\n",
        "    y_new = model(x_new)\n",
        "\n",
        "    plt.plot(independent_variable, dependent_variabble, '.', x_new, y_new, '-')\n",
        "    plt.title('Polynomial Fit with Matplotlib for Price ~ Length')\n",
        "    ax = plt.gca()\n",
        "    ax.set_facecolor((0.898, 0.898, 0.898))\n",
        "    fig = plt.gcf()\n",
        "    plt.xlabel(Name)\n",
        "    plt.ylabel('Price of Cars')\n",
        "\n",
        "    plt.show()\n",
        "    plt.close()"
      ],
      "metadata": {
        "id": "L1QxEmWPd0dd"
      },
      "execution_count": 29,
      "outputs": []
    },
    {
      "cell_type": "code",
      "source": [
        "# Let's get the variables:\n",
        "x = df['highway-mpg']\n",
        "y = df['price']"
      ],
      "metadata": {
        "id": "TfDvecWzd4jG"
      },
      "execution_count": 30,
      "outputs": []
    },
    {
      "cell_type": "code",
      "source": [
        "# Let's fit the polynomial using the function polyfit, then use the function poly1d to display the polynomial function.\n",
        "# Here we use a polynomial of the 3rd order (cubic) \n",
        "f = np.polyfit(x, y, 3)\n",
        "p = np.poly1d(f)\n",
        "print(p)"
      ],
      "metadata": {
        "colab": {
          "base_uri": "https://localhost:8080/"
        },
        "id": "YuawiQUsd7Tv",
        "outputId": "758de5f9-42f6-4298-bf17-0e6450277fce"
      },
      "execution_count": 31,
      "outputs": [
        {
          "output_type": "stream",
          "name": "stdout",
          "text": [
            "        3         2\n",
            "-1.557 x + 204.8 x - 8965 x + 1.379e+05\n"
          ]
        }
      ]
    },
    {
      "cell_type": "code",
      "source": [
        "# Let's plot the function:\n",
        "PlotPolly(p, x, y, 'highway-mpg')"
      ],
      "metadata": {
        "colab": {
          "base_uri": "https://localhost:8080/",
          "height": 295
        },
        "id": "M_fUk0oQd_Qm",
        "outputId": "210a9576-444e-4ea5-fb90-652da82ef7ff"
      },
      "execution_count": 32,
      "outputs": [
        {
          "output_type": "display_data",
          "data": {
            "text/plain": [
              "<Figure size 432x288 with 1 Axes>"
            ],
            "image/png": "[encoded data removed]"
          },
          "metadata": {
            "needs_background": "light"
          }
        }
      ]
    },
    {
      "cell_type": "code",
      "source": [
        "np.polyfit(x, y, 3)"
      ],
      "metadata": {
        "colab": {
          "base_uri": "https://localhost:8080/"
        },
        "id": "4FJcsQ5MeEsv",
        "outputId": "12f1753a-94ef-474b-caea-2f9a5d086b18"
      },
      "execution_count": 33,
      "outputs": [
        {
          "output_type": "execute_result",
          "data": {
            "text/plain": [
              "array([-1.55663829e+00,  2.04754306e+02, -8.96543312e+03,  1.37923594e+05])"
            ]
          },
          "metadata": {},
          "execution_count": 33
        }
      ]
    },
    {
      "cell_type": "code",
      "source": [
        "'''\n",
        "Question #4: Create 11 order polynomial model with the variables x and y from above.\n",
        "'''\n",
        "# Here we use a polynomial of the 11rd order (cubic) \n",
        "f1 = np.polyfit(x, y, 11)\n",
        "p1 = np.poly1d(f1)\n",
        "print(p1)\n",
        "PlotPolly(p1,x,y, 'Highway MPG')"
      ],
      "metadata": {
        "colab": {
          "base_uri": "https://localhost:8080/",
          "height": 368
        },
        "id": "0BzvyieMefHK",
        "outputId": "133eccef-58b6-453b-c42f-7230fffb07d4"
      },
      "execution_count": 34,
      "outputs": [
        {
          "output_type": "stream",
          "name": "stdout",
          "text": [
            "            11             10             9           8         7\n",
            "-1.243e-08 x  + 4.722e-06 x  - 0.0008028 x + 0.08056 x - 5.297 x\n",
            "          6        5             4             3             2\n",
            " + 239.5 x - 7588 x + 1.684e+05 x - 2.565e+06 x + 2.551e+07 x - 1.491e+08 x + 3.879e+08\n"
          ]
        },
        {
          "output_type": "display_data",
          "data": {
            "text/plain": [
              "<Figure size 432x288 with 1 Axes>"
            ],
            "image/png": "[encoded data removed]"
          },
          "metadata": {
            "needs_background": "light"
          }
        }
      ]
    },
    {
      "cell_type": "code",
      "source": [
        "# We create a PolynomialFeatures object of degree 2:\n",
        "pr = PolynomialFeatures(degree = 2)\n",
        "pr"
      ],
      "metadata": {
        "colab": {
          "base_uri": "https://localhost:8080/"
        },
        "id": "JjoNvcYvektX",
        "outputId": "1272fd75-02a3-4b7b-fa7b-6cf891721501"
      },
      "execution_count": 35,
      "outputs": [
        {
          "output_type": "execute_result",
          "data": {
            "text/plain": [
              "PolynomialFeatures()"
            ]
          },
          "metadata": {},
          "execution_count": 35
        }
      ]
    },
    {
      "cell_type": "code",
      "source": [
        "Z_pr = pr.fit_transform(Z)"
      ],
      "metadata": {
        "id": "47gp8lhbepaq"
      },
      "execution_count": 36,
      "outputs": []
    },
    {
      "cell_type": "code",
      "source": [
        "# In the original data, there are 201 samples and 4 features.\n",
        "Z.shape"
      ],
      "metadata": {
        "colab": {
          "base_uri": "https://localhost:8080/"
        },
        "id": "gjdO5viCew7u",
        "outputId": "6dbb7440-ecdc-4244-ad00-271449435a08"
      },
      "execution_count": 37,
      "outputs": [
        {
          "output_type": "execute_result",
          "data": {
            "text/plain": [
              "(201, 4)"
            ]
          },
          "metadata": {},
          "execution_count": 37
        }
      ]
    },
    {
      "cell_type": "code",
      "source": [
        "# After the transformation, there are 201 samples and 15 features.\n",
        "Z_pr.shape"
      ],
      "metadata": {
        "colab": {
          "base_uri": "https://localhost:8080/"
        },
        "id": "jb0cOMO0eyND",
        "outputId": "429812f2-433b-47e5-bfa9-4a7177138b4b"
      },
      "execution_count": 38,
      "outputs": [
        {
          "output_type": "execute_result",
          "data": {
            "text/plain": [
              "(201, 15)"
            ]
          },
          "metadata": {},
          "execution_count": 38
        }
      ]
    },
    {
      "cell_type": "markdown",
      "source": [
        "Pipeline\n",
        "\n",
        "Data Pipelines simplify the steps of processing the data. We use the module Pipeline to create a pipeline. We also use StandardScaler as a step in our pipeline.\n"
      ],
      "metadata": {
        "id": "HM7aOu9Ce8xO"
      }
    },
    {
      "cell_type": "code",
      "source": [
        "# We create the pipeline by creating a list of tuples including the name of the model or estimator and its corresponding constructor.\n",
        "Input = [('scale', StandardScaler()), ('polynomial', PolynomialFeatures(include_bias = False)), ('model', LinearRegression())]"
      ],
      "metadata": {
        "id": "dL6PZnQpe8ib"
      },
      "execution_count": 39,
      "outputs": []
    },
    {
      "cell_type": "code",
      "source": [
        "# We input the list as an argument to the pipeline constructor:\n",
        "pipe = Pipeline(Input)\n",
        "pipe"
      ],
      "metadata": {
        "colab": {
          "base_uri": "https://localhost:8080/"
        },
        "id": "VlQBLeF1fDwZ",
        "outputId": "4e9de37c-0366-4a81-b713-377cb39ac22c"
      },
      "execution_count": 40,
      "outputs": [
        {
          "output_type": "execute_result",
          "data": {
            "text/plain": [
              "Pipeline(steps=[('scale', StandardScaler()),\n",
              "                ('polynomial', PolynomialFeatures(include_bias=False)),\n",
              "                ('model', LinearRegression())])"
            ]
          },
          "metadata": {},
          "execution_count": 40
        }
      ]
    },
    {
      "cell_type": "code",
      "source": [
        "# Then, we can normalize the data, perform a transform and fit the model simultaneously.\n",
        "Z = Z.astype(float)\n",
        "pipe.fit(Z,y)"
      ],
      "metadata": {
        "colab": {
          "base_uri": "https://localhost:8080/"
        },
        "id": "ok-L6qRUfG-p",
        "outputId": "c6529584-21b4-4290-c962-f4dea3cebacd"
      },
      "execution_count": 41,
      "outputs": [
        {
          "output_type": "execute_result",
          "data": {
            "text/plain": [
              "Pipeline(steps=[('scale', StandardScaler()),\n",
              "                ('polynomial', PolynomialFeatures(include_bias=False)),\n",
              "                ('model', LinearRegression())])"
            ]
          },
          "metadata": {},
          "execution_count": 41
        }
      ]
    },
    {
      "cell_type": "code",
      "source": [
        "# Similarly, we can normalize the data, perform a transform and produce a prediction simultaneously.\n",
        "ypipe = pipe.predict(Z)\n",
        "ypipe[0:4]"
      ],
      "metadata": {
        "colab": {
          "base_uri": "https://localhost:8080/"
        },
        "id": "D2OvOR5mfK-9",
        "outputId": "67a2b6e2-bc7d-453d-b1e8-f9b634721338"
      },
      "execution_count": 42,
      "outputs": [
        {
          "output_type": "execute_result",
          "data": {
            "text/plain": [
              "array([13102.74784201, 13102.74784201, 18225.54572197, 10390.29636555])"
            ]
          },
          "metadata": {},
          "execution_count": 42
        }
      ]
    },
    {
      "cell_type": "code",
      "source": [
        "'''\n",
        "Question #5: Create a pipeline that standardizes the data, then produce a prediction using a linear regression model using the features Z and target y.\n",
        "'''\n",
        "Input = [('scale', StandardScaler()), ('model', LinearRegression())]\n",
        "\n",
        "pipe = Pipeline(Input)\n",
        "pipe.fit(Z,y)\n",
        "\n",
        "ypipe = pipe.predict(Z)\n",
        "ypipe[0:10]"
      ],
      "metadata": {
        "colab": {
          "base_uri": "https://localhost:8080/"
        },
        "id": "jpuVKFihfPAd",
        "outputId": "fbcaa43f-8cc4-47f9-93cd-5040aed015ce"
      },
      "execution_count": 43,
      "outputs": [
        {
          "output_type": "execute_result",
          "data": {
            "text/plain": [
              "array([13699.11161184, 13699.11161184, 19051.65470233, 10620.36193015,\n",
              "       15521.31420211, 13869.66673213, 15456.16196732, 15974.00907672,\n",
              "       17612.35917161, 10722.32509097])"
            ]
          },
          "metadata": {},
          "execution_count": 43
        }
      ]
    },
    {
      "cell_type": "markdown",
      "source": [
        "4. **Measures for In-Sample Evaluation**\n",
        "\n",
        "When evaluating our models, not only do we want to visualize the results, but we also want a quantitative measure to determine how accurate the model is.\n",
        "\n",
        "Two very important measures that are often used in Statistics to determine the accuracy of a model are:\n",
        "\n",
        "    R^2 / R-squared\n",
        "    Mean Squared Error (MSE)\n",
        "\n",
        "R-squared\n",
        "\n",
        "R squared, also known as the coefficient of determination, is a measure to indicate how close the data is to the fitted regression line.\n",
        "\n",
        "The value of the R-squared is the percentage of variation of the response variable (y) that is explained by a linear model.\n",
        "\n",
        "Mean Squared Error (MSE)\n",
        "\n",
        "The Mean Squared Error measures the average of the squares of errors. That is, the difference between actual value (y) and the estimated value (ŷ).\n"
      ],
      "metadata": {
        "id": "idhHAb9YfZBo"
      }
    },
    {
      "cell_type": "code",
      "source": [
        "# Model 1: Simple Linear Regression\n",
        "# Let's calculate the R^2:\n",
        "# highway_mpg_fit\n",
        "lm.fit(X, Y)\n",
        "# Find the R^2\n",
        "print('The R-square is: ', lm.score(X, Y))"
      ],
      "metadata": {
        "colab": {
          "base_uri": "https://localhost:8080/"
        },
        "id": "6GmN_V2hfYVH",
        "outputId": "13119979-f510-45c7-c7a4-45613767d7d3"
      },
      "execution_count": 44,
      "outputs": [
        {
          "output_type": "stream",
          "name": "stdout",
          "text": [
            "The R-square is:  0.4965911884339176\n"
          ]
        }
      ]
    },
    {
      "cell_type": "code",
      "source": [
        "# We can predict the output i.e., \"yhat\" using the predict method, where X is the input variable:\n",
        "Yhat = lm.predict(X)\n",
        "print('The output of the first four predicted value is: ', Yhat[0:4])"
      ],
      "metadata": {
        "colab": {
          "base_uri": "https://localhost:8080/"
        },
        "id": "t1z823MifhLC",
        "outputId": "937624c0-11d0-48a2-e9fa-fde42da5fd4d"
      },
      "execution_count": 45,
      "outputs": [
        {
          "output_type": "stream",
          "name": "stdout",
          "text": [
            "The output of the first four predicted value is:  [16236.50464347 16236.50464347 17058.23802179 13771.3045085 ]\n"
          ]
        }
      ]
    },
    {
      "cell_type": "code",
      "source": [
        "# We can compare the predicted results with the actual results:\n",
        "from sklearn.metrics import mean_squared_error\n",
        "mse = mean_squared_error(df['price'], Yhat)\n",
        "print('The mean square error of price and predicted value is: ', mse)"
      ],
      "metadata": {
        "colab": {
          "base_uri": "https://localhost:8080/"
        },
        "id": "byFNoE7Zfkmm",
        "outputId": "be4c7343-02af-4333-8bd3-9996f0663101"
      },
      "execution_count": 46,
      "outputs": [
        {
          "output_type": "stream",
          "name": "stdout",
          "text": [
            "The mean square error of price and predicted value is:  31635042.944639888\n"
          ]
        }
      ]
    },
    {
      "cell_type": "code",
      "source": [
        "# Model 2: Multiple Linear Regression\n",
        "# Let's calculate the R^2:\n",
        "# fit the model \n",
        "lm.fit(Z, df['price'])\n",
        "# Find the R^2\n",
        "print('The R-square is: ', lm.score(Z, df['price']))"
      ],
      "metadata": {
        "colab": {
          "base_uri": "https://localhost:8080/"
        },
        "id": "eSmsOPzXf2hH",
        "outputId": "c1be8755-4964-40ff-ac5e-21dc5399dcf5"
      },
      "execution_count": 47,
      "outputs": [
        {
          "output_type": "stream",
          "name": "stdout",
          "text": [
            "The R-square is:  0.8093562806577457\n"
          ]
        }
      ]
    },
    {
      "cell_type": "code",
      "source": [
        "# We produce a prediction:\n",
        "Y_predict_multifit = lm.predict(Z)"
      ],
      "metadata": {
        "id": "YyVLBM3cf6Wd"
      },
      "execution_count": 48,
      "outputs": []
    },
    {
      "cell_type": "code",
      "source": [
        "# We compare the predicted results with the actual results:\n",
        "print('The mean square error of price and predicted value using multifit is: ', \\\n",
        "      mean_squared_error(df['price'], Y_predict_multifit))"
      ],
      "metadata": {
        "id": "CREmKA63f8ra",
        "outputId": "d8fbf6f8-205f-4a99-dbad-5a2703b0bbc7",
        "colab": {
          "base_uri": "https://localhost:8080/"
        }
      },
      "execution_count": 49,
      "outputs": [
        {
          "output_type": "stream",
          "name": "stdout",
          "text": [
            "The mean square error of price and predicted value using multifit is:  11980366.87072649\n"
          ]
        }
      ]
    },
    {
      "cell_type": "code",
      "source": [
        "# Model 3: Polynomial Fit\n",
        "# Let's calculate the R^2.\n",
        "#Let’s import the function r2_score from the module metrics as we are using a different function.\n",
        "from sklearn.metrics import r2_score"
      ],
      "metadata": {
        "id": "1ueRmsmqf_3r"
      },
      "execution_count": 50,
      "outputs": []
    },
    {
      "cell_type": "code",
      "source": [
        "# We apply the function to get the value of R^2:\n",
        "r_squared = r2_score(y, p(x))\n",
        "print('The R-square value is: ', r_squared)"
      ],
      "metadata": {
        "id": "46bG0kVZgT1B",
        "outputId": "8f3df7af-cc3b-4f42-e3d8-4c18f3654f3a",
        "colab": {
          "base_uri": "https://localhost:8080/"
        }
      },
      "execution_count": 51,
      "outputs": [
        {
          "output_type": "stream",
          "name": "stdout",
          "text": [
            "The R-square value is:  0.674194666390652\n"
          ]
        }
      ]
    },
    {
      "cell_type": "code",
      "source": [
        "# MSE\n",
        "# We can also calculate the MSE:\n",
        "mean_squared_error(df['price'], p(x))"
      ],
      "metadata": {
        "id": "TXsSNCj5gY_G",
        "outputId": "de9c0d80-5d78-4dda-a21a-c300e04b4921",
        "colab": {
          "base_uri": "https://localhost:8080/"
        }
      },
      "execution_count": 52,
      "outputs": [
        {
          "output_type": "execute_result",
          "data": {
            "text/plain": [
              "20474146.426361218"
            ]
          },
          "metadata": {},
          "execution_count": 52
        }
      ]
    },
    {
      "cell_type": "markdown",
      "source": [
        "5. Prediction and Decision Making\n",
        "Prediction **texto en negrita**\n",
        "\n",
        "In the previous section, we trained the model using the method fit. Now we will use the method predict to produce a prediction. Lets import pyplot for plotting; we will also be using some functions from numpy.\n"
      ],
      "metadata": {
        "id": "vTBe5embgogd"
      }
    },
    {
      "cell_type": "code",
      "source": [
        "# Create a new input:\n",
        "new_input = np.arange(1, 100, 1).reshape(-1, 1)"
      ],
      "metadata": {
        "id": "vAvYur2Egqpy"
      },
      "execution_count": 53,
      "outputs": []
    },
    {
      "cell_type": "code",
      "source": [
        "# Fit the model:\n",
        "lm.fit(X, Y)\n",
        "lm"
      ],
      "metadata": {
        "id": "NeKRzqUNgtaR",
        "outputId": "1d525284-4e84-467f-bf4d-3c2f4480e9d8",
        "colab": {
          "base_uri": "https://localhost:8080/"
        }
      },
      "execution_count": 54,
      "outputs": [
        {
          "output_type": "execute_result",
          "data": {
            "text/plain": [
              "LinearRegression()"
            ]
          },
          "metadata": {},
          "execution_count": 54
        }
      ]
    },
    {
      "cell_type": "code",
      "source": [
        "# Produce a prediction:\n",
        "yhat = lm.predict(new_input)\n",
        "yhat[0:5]"
      ],
      "metadata": {
        "id": "-81VOHfPgv7p",
        "outputId": "26f103a8-9af9-40f0-aad9-506222675ae0",
        "colab": {
          "base_uri": "https://localhost:8080/"
        }
      },
      "execution_count": 55,
      "outputs": [
        {
          "output_type": "stream",
          "name": "stderr",
          "text": [
            "/usr/local/lib/python3.7/dist-packages/sklearn/base.py:451: UserWarning: X does not have valid feature names, but LinearRegression was fitted with feature names\n",
            "  \"X does not have valid feature names, but\"\n"
          ]
        },
        {
          "output_type": "execute_result",
          "data": {
            "text/plain": [
              "array([37601.57247984, 36779.83910151, 35958.10572319, 35136.37234487,\n",
              "       34314.63896655])"
            ]
          },
          "metadata": {},
          "execution_count": 55
        }
      ]
    },
    {
      "cell_type": "code",
      "source": [
        "# We can plot the data:\n",
        "plt.plot(new_input, yhat)\n",
        "plt.show()"
      ],
      "metadata": {
        "id": "AkrXf489g1Z9",
        "outputId": "99f51471-929b-4938-973c-b3dadd03168c",
        "colab": {
          "base_uri": "https://localhost:8080/",
          "height": 265
        }
      },
      "execution_count": 56,
      "outputs": [
        {
          "output_type": "display_data",
          "data": {
            "text/plain": [
              "<Figure size 432x288 with 1 Axes>"
            ],
            "image/png": "[encoded data removed]"
          },
          "metadata": {
            "needs_background": "light"
          }
        }
      ]
    },
    {
      "cell_type": "markdown",
      "source": [
        "# **Graded Review Questions**"
      ],
      "metadata": {
        "id": "grTk-uOnVP9K"
      }
    },
    {
      "cell_type": "markdown",
      "source": [
        "**Question 1 - Let X be a dataframe with 100 rows and 5 columns. Let y be the target with 100 samples. Assuming all the relevant libraries and data have been imported, the following line of code has been executed: LR = LinearRegression();LR.fit(X, y); yhat = LR.predict(X); How many samples does yhat contain?**\n",
        "ANS: 100"
      ],
      "metadata": {
        "id": "gWeHPJ8rgCSP"
      }
    },
    {
      "cell_type": "markdown",
      "source": [
        "**Question 2 - What value of R^2 (coefficient of determination) indicates your model performs best?**\n",
        "ANS: 1 "
      ],
      "metadata": {
        "id": "yHmC6Z07gLNZ"
      }
    },
    {
      "cell_type": "markdown",
      "source": [
        "**Question 3 - Which statement is true about polynomial linear regression?**\n",
        "ANS: Although the predictor variables of polynomial linear regression are not linear, the relationship between the parameters or coefficients is linear.  "
      ],
      "metadata": {
        "id": "HmnDB_6ZgLZQ"
      }
    },
    {
      "cell_type": "markdown",
      "source": [
        "**Question 4 - The larger the mean squared error, the better your model performs:**\n",
        "ANS: False"
      ],
      "metadata": {
        "id": "4GygIFcMgLid"
      }
    },
    {
      "cell_type": "markdown",
      "source": [
        "**Question 5 - Assume all the libraries are imported. y is the target and X is the features or dependent variables. Consider the following lines of code: Input = [('scale',StandardScaler()),('model',LinearRegression())]; pipe = Pipeline(Input); pipe.fit(X,y); ypipe = pipe.predict(X); What is the result of ypipe?**\n",
        "ANS: Standardize the data, then perform prediction using a linear regression model."
      ],
      "metadata": {
        "id": "mTT9VwUYguRn"
      }
    },
    {
      "cell_type": "markdown",
      "source": [
        "# **Course Progress for 'a00369017' (a00369017@tec.mx)**\n",
        "![Captura de Pantalla 2022-10-26 a la(s) 20.08.37.png](data:image/png;base64,iVBORw0KGgoAAAANSUhEUgAAByYAAAHlCAYAAACwDZuDAAABWmlDQ1BJQ0MgUHJvZmlsZQAAKJF1kE9LAlEUxc+YYUwt+reKiFkmTCGT1C6YDCIwGDT7txuf0yioPcaJCPwKUbRoX0TfQKxVfYB2QkHUqmjTUphNyXSfVmrRg/vuj8N5l/MuEOgzOc8HARSKrpNYWlA2NreU0CtkjGEEE5g0WYnrhhEnC7579/HuIIlemxKz1IL9cnw2f3B6uFIvx2tvf/1dR85YJUb9gyrCuOMCkkps7LlccJl41KFQxEeC7RafC063+LLpWU3EiG+JB1nWzBA/EqvpDt3u4EJ+l31lEOkHrGIqKeZQjUNHEikqBWt0a4hi7h9/tOmPYQcc+3CQg40sXHqpk8KRh0W8jCIYpqESa4hQaWLPv/fX1nKLwOwzELDaGqsAV5RvqNLWwk/0FRm4HuamY/5sVfKCpe0ZrcX9VaD3xPfr60AoDDTuff+96vuNC6DnAbjxPgF7x2P/F8d+fQAAAFZlWElmTU0AKgAAAAgAAYdpAAQAAAABAAAAGgAAAAAAA5KGAAcAAAASAAAARKACAAQAAAABAAAHJqADAAQAAAABAAAB5QAAAABBU0NJSQAAAFNjcmVlbnNob3Rgo0rCAAAB12lUWHRYTUw6Y29tLmFkb2JlLnhtcAAAAAAAPHg6eG1wbWV0YSB4bWxuczp4PSJhZG9iZTpuczptZXRhLyIgeDp4bXB0az0iWE1QIENvcmUgNi4wLjAiPgogICA8cmRmOlJERiB4bWxuczpyZGY9Imh0dHA6Ly93d3cudzMub3JnLzE5OTkvMDIvMjItcmRmLXN5bnRheC1ucyMiPgogICAgICA8cmRmOkRlc2NyaXB0aW9uIHJkZjphYm91dD0iIgogICAgICAgICAgICB4bWxuczpleGlmPSJodHRwOi8vbnMuYWRvYmUuY29tL2V4aWYvMS4wLyI+CiAgICAgICAgIDxleGlmOlBpeGVsWURpbWVuc2lvbj40ODU8L2V4aWY6UGl4ZWxZRGltZW5zaW9uPgogICAgICAgICA8ZXhpZjpQaXhlbFhEaW1lbnNpb24+MTgzMDwvZXhpZjpQaXhlbFhEaW1lbnNpb24+CiAgICAgICAgIDxleGlmOlVzZXJDb21tZW50PlNjcmVlbnNob3Q8L2V4aWY6VXNlckNvbW1lbnQ+CiAgICAgIDwvcmRmOkRlc2NyaXB0aW9uPgogICA8L3JkZjpSREY+CjwveDp4bXBtZXRhPgo+vYzZAABAAElEQVR4AezdB7xkVWE/8LM0AUFAioqoiCCCdAIW5B8FRLEgsYsCCgrRgAmiBLGhJhELGkBpsaBUwVDEBioCYlcUIUiTYofQgihS9/9+N57JebPzln1vd2ffY77n83nMzO33e8+9s9zfnHNnzR4rRSFAgAABAgQIECBAgAABAgQIECBAgAABAgQIECBAgMBCFFhsIS7bogkQIECAAAECBAgQIECAAAECBAgQIECAAAECBAgQINAJCCZVBAIECBAgQIAAAQIECBAgQIAAAQIECBAgQIAAAQIEFrqAYHKhE1sBAQIECBAgQIAAAQIECBAgQIAAAQIECBAgQIAAAQKCSXWAAAECBAgQIECAAAECBAgQIECAAAECBAgQIECAAIGFLiCYXOjEVkCAAAECBAgQIECAAAECBAgQIECAAAECBAgQIECAgGBSHSBAgAABAgQIECBAgAABAgQIECBAgAABAgQIECBAYKELCCYXOrEVECBAgAABAgQIECBAgAABAgQIECBAgAABAgQIECAgmFQHCBAgQIAAAQIECBAgQIAAAQIECBAgQIAAAQIECBBY6AJLLPQ1WAGBERP42c9+Vr73ve+Vyy+/vNx///1l1VVXLVtttVXZdtttR0zC7hIgQIAAAQIECBAgQIAAAQIECBAgQIAAAQIE/k9g1uyx8n8fF8y766+/vvz0pz8tl156afnVr35VHvawh5VHPvKRZcMNNyzbbbddWXzxxRfMikZgKd/85jfLFVdcMW5PZ82aVZZddtmy5pprlqc85Sll6aWXHjfeh0Un8LnPfa586lOfmmMDVlxxxXLmmWfOMXxYA7773e+WBKYpOQef+MQnLpBV33fffeWkk04ql1xySbnhhhvKwx/+8PLkJz+5vOY1rykPechDJlzHbbfdVj772c+Wa6+9ttx+++3lUY96VFeXd9xxxwnnyXXlxz/+cbnyyitL3i+22GLlcY97XPmbv/mbeQp9//KXv5SLL764C4yzjJtuuqk7j/72b/+27LTTTnOs95577ik//OEPS+yyvic84Qll0003LZk+5+BEJcv+whe+UH7961+Xe++9tzzmMY8pL3zhC7t5J5qnHd4eq+c///ndPrbjf/CDH5Sf/OQn7aC5vl9//fXLM5/5zJJj9R//8R9dWJ5rco7RvJbs/5e//OVu8lxzNt9883mdda7TnXvuueW8884rv/vd77r68vjHP768+tWv7urDRDNOpc7dfPPN3bHMjwVS51IXVl999fKkJz2pvOQlLylLLrnkRKvrhudr8rLLLuv+cj3+7W9/W5ZYYonu2Lz1rW+dY946/YUXXth9Dz7iEY8oG220Udlmm23KcsstN8f0dcBU9q3Om9f2OG288cbdDyLa8b/5zW/KF7/4xXbQXN+vsMIK3fGY60R/HZll5/zKdSDf92ussUb3nT+3c2Velmua8QJ33HFHyfdMyjrrrFOe/exnj5/AJwIECBAgQIAAAQIECBAgQIAAAQLTXGCBBpP//d//Xf7xH/+xu2k70X4nlNxjjz3m+WbnRMsZleFveMMbuiBmbvubIOg973lPyc1vZdEJ/PKXvyy77777uA3ITfmEFAm+9t1333HjhvnhXe96V7ngggu6VaZOTSaUmmg7s79vetObupCnf5qlllqqfOhDHxoYxiUY+ehHP9q59M+XYPMzn/lMSZBbS4Kkgw8+uAsU67D+10z/iU98ogtD+sfl81e/+tVunXffffcco3Nz/5Of/OS44QkHDzzwwIHbmNDlsMMOG3i+/cu//Ev5+te/Pm5Z9UPCvOz33ErGtwF2rqcvfvGLx83SHstxIyb4kOvDEUccUe66666y/fbbd1Plxwxnn332BHPMOfjlL395FzhlTJaVZc5PybbkXEmY1V9yzrzuda8ru+22W/+oMtk698c//rF87GMfKwlAJ/oNTurq29/+9i40nGOFYwMSZmb8LbfcMsfohJP58Uhb8j246667lj//+c/t4O59wvp/+7d/68L0/pGT3bf++VPvPvCBD3QBdMZtueWW5cMf/vC4yb72ta9104wbOJcP2d5zzjlnwiny44Kzzjqrs0mo2l9i+7SnPa279q200kr9o3ufE2YmcMsPFPKjG2VigdTj/IAjP+hIyfVyrbXWmngGYwgQIECAAAECBAgQIECAAAECBAhMM4HFFtT25KboK17xirmGkllXbl6mlZOy4AT+67/+q7z2ta/tgocFt1RLmqzAj370o94sCSwOPfTQct5Ya7CTTz65vP71r++NWxRv2qBv5ZVXnu9NSOgyUSiZhScATEuy3//+9+PW9fOf/7wccsghE4ZECX/6rd797nfPNZTMCtIC841vfGNJK8f+8ra3va0LNvtDyRyjQSWtEScKJTP9H/7wh7Lzzjt3QUo7fwKCiULJTJflJrgcVBLKJKhrQ8lB001lWFqWpiRkqq3XJtPKOq2zEhylpOXl/IaSWU4C10GhZMYlePn0pz9dvvGNb+Rjr0ylzmU5CQ4nCiWz8NSL973vfV1Lyt7K/vrmxJNOLHvttdccoWR+YFMt23nSMjOB6qBQMtMlkN1vv/1KWr22ZSr71s6fHwGkbg0KB9vpFtT7nNdp2RrfBLF1vQki22Axtueff35JsJ3XiUq+v1L/TzjhhIkmMfyvAql3//zP/9zzSGiuECBAgAABAgQIECBAgAABAgQIEJhJAoPvzE9yD3Iz9l//9V/H3fzdeuuty7Oe9ayywQYbdOFEupH80pe+1N2YfcYznjHJNZg8AmlxlfA3rYDS9WG6VkxIkpIb2x/84AdLQhxl0QgkdKtlvfXWK5tsskn3Ma2AFnVJS8Ra2vd12GRfjz/++F5Lydwof+UrX1le9rKXdSFQugtNIJFuTD/+8Y9314a6/LQ0rCXhWMLEPH8zgcTpp5/ejUrQ8ZWvfKU873nP6z6nFVjtGjYBR1oLrbLKKl3Ql9As3UempAXRRRdd1HUJ2w0Y+09aZ6Y71lq22GKLLvhcd911u2ApzwD905/+VEd3rwcddFDvWharrD9djH7rW9/qWoEmhMm+pXVjPd8y7MQTT+wt59GPfnQXvmU7Dz/88K5r64xMcPn3f//33fbXidMiL0Fduhedl5LWeGmFNlHJtiX8raU65nO6LM2xeehDH1pHz/X11ltvLccee2w3TcK4BRGCZH9/8Ytf9Nb79Kc/vasH6fb73//937ugKyNTV9LtcC1TqXN7771311ryf/7nf7plvepVr+pal1133XVd3TjttNO6xSe4/M///M8uTK/rS3B6zNHH1I9d96QJ4/P9FYuUBOJtSQvFWp8SfB9wwAFdmJv9TUvXOn2mS3e/tUxl3zJv6nz2MV24zktJ/W9DrUHzpEVsvmNSMn1/SR1uv+9zLiWkTFe1tVVk5v/+97/ftbbM+Zc6l3MlxzfdIbcl9WGiILedzvv/E0gdTHfc6TY6/wbIj19yDVYIECBAgAABAgQIECBAgAABAgQIzASBBRJMppvF2iIlIUVuwG677ba9/U8Xowlp0iqitqzojWze5Obkd77znS5oWHvttUvCzYlad6V7x2uuuaabO9MOaoWZG6P1JnHCj9pKKAFA1pOS53AlPMiN6wQPV199dXfTOTd763PHsm/pBjPjbrzxxrL82PPZVh8Lm9JVXp6jNVHJTei0mMu2JqDNNrStSSaab6LheSZanu9WSwKKtC676qqrukF5rmctk93HOt9kjkGdJ63U8jzRhM95rl6eX5eu5ZZZZpk6SfeaOpHWW3nuWloOrTn2jMw8ty91Ik5ZRm5gJ3zqP545BnmO4fe+973uuKRupAvOicpkj1n2Oy208uy4HLfUiYRLWc/yyy8/0Wp6w2OQYKWW7Gft4rHuZx1XX3Pcvv3tb3c35VM3co4MaoWV6dMqNjeg88y3PFMxJcc7N/0TTiSomlvgXwODzLfqqqvmZVzJ9qfFZ+pqWsctNda67rFjz0bMdg06B9M1ai3ZnoRtKTl2af2XLh5Tcp4l/ItHjGtdzbg999yz92zHf/qnf+rCqoQUKQkqa6CWc+yoo47q6ko9JzNN1pvz6rnPfW7v+pPn/9VzJOtLq9VaBnVtme1qj2/mqV0k5lgcffTRZbXVVusWkfXEcf/99+8+p3vQbHfqe+pO6m4tCQZrIJ0AM/OmzqckTH3LW97Svc8xTBe/9fqZZWWbaoDVTdT3n9T7udX9BGy15Jq3ww471I9dq8lsZ7vPvZED3iQ8q9fsuT3PNnU/528Csvjl/MmxqceiXXTbKi4BaYLflMc+9rGdWe0OOdfktDKtz7OcSp1LgJi6k3qTbaolQXPC4FxPaqve+n1Sp0kIW49Lzrsct7Q6bUvbEjnD2+cBp2Vkff5fQrvsd0L1eCZ8z/Whfk9OZd9SV/NjgBpoZ1+zX/memqjkXK7n1aBpYlFDyYxPa9G25NjW7/usLz8syDb0l9Sv7Hv+Pj7WxfKpp5zSTZJzJ62C6/dgLNpulHN9qNfNzPD//t//630P13VM9rugzpfXXF/y74L6HMz82yHB+ETX3Xbe/u+t1M8ct9T9dO+cEDfPLK3Lyvmea2p+sHL/2PfX2mPfdTne7TUs+1u/N/J9mW3pL/Xan+Gpb/V82GeffUr+Uk499VTBZCfhPwQIECBAgAABAgQIECBAgAABAjNBYL6DydxUa1sk5Rlm9WbrIIDa0qQdlzAkN+r7n+GVZ4PlxnVaZ/S3ssjNzNwoTMnNy/e///3tIrv3CUhrWJCboxuO3ShPyc3JdN2XknAvIVhujqelUS1vfvObu7d51lxaUNVQoY6vr2lRlRAmgUItudmY/akBR4afccYZ3eisKy3K+m9w13kn+/qSl7yku1Gc+dK6qZbJ7GPmmcoxyHwJnuJcw4sMm6gkpIjTO9/5zu6Gf1ra5OZ/wp02iNlss83GBZM5Vgku23XEPC2ScvO//0b7ZI9ZjkdCgxpCtNufVqgJDNuAqx2f9wme0hq43b604qst+VJ301KoltS1tDpqp8+N5dzQTniWddab23WehAE517LPaSmb+pUb1rUkpJhbMNmGMu37hIZpQZUAqN2eutzs24te9KI5no+Zm/K19IcXaT2VFmBZXkwTWCWY+eVff0iQ+dLl49/93d/VRXSvCSprYJeAuC254T+oJHhLyFF/gND+UCBhYT2nc0M/z/Z7oNJ2x5tAsoaSdb7U4ZzzuVZl3y677LLy1Kc+tVzVhEGp1zWUzHwJGhNM1m5aE+DXkpa1yy23XBcGJSRJ68o8X3F+SgK0WmLc1qVYJXhK0DYvpQ2JamDYzpfuOdOy8aabbmoH997HKiFt+wy8/Hihlly/2pIfKuQY1m5eExzWIGYqdS7Lbo9Fu668f8xY+F6DyYRLtWRdNTCKX47LA12zE+6332E55m3Jcc45Wrs0Teve+l05lX3LsUz9Sbid78m0Ts51ZG7BZLs9g96ntWQtORYJi9uSa3E9p2KSbn1zHuRHPfk+TgiXa1GCyZw7uZbvNXZeLzUWDOcam+/jz3/+810dT0CYZyPXYDXrSRe3bTe3mac9pyf7XVC3PdextJ4edI3PtSjP3hz0b5M6f17r91bC3xzbBN7t8j71qU91P/rItS/X5nQh3X9Nzb9p6ndKlhmvthV5Wti2PyTIufIP//APvfXk3zr1fMg1Nde/+OX8y4+m+q9XWYdCgAABAgQIECBAgAABAgQIECBAYLoJLDa/G/TjH/+4t4jcwE1Lw8mUtFwY9AyvuowEDgmfakuqOnxBvSa8yLO56s3WLDc3KPOXbUvoNlEomWkzXxtK5uZgbiS2oWSmqyUtivbYY4+Bz8Kr00zmtb2hnQBkUJnbPmb6qR6D3IjOs/jqzdeYDWqNl5unucndf2M/FukasQ0lsz1pqVhLbignHKnrqMPzGvvc5K03+jNssscsgWduJLc3mLOcttTWPe2w9n1usA/avnaa+j77k5vgg6bPNuSmfG2RV+dpX7PPMWtDyYxvQ5V2+vq+bfXY1tfUmQQZg7Yn82abEqqna9VaEjzU6XPO97fey3FOIFVLvUb8eixYrSWtqPvra0KMWrLe/hZsdVz7mmNfQ8kMT0hYS1o515IALC2Vci7HbqIgLQF9LW2gV4fltQ26agj0+7GulWtJWNRfapiQ4TUIy/ucGwl4XjbW0jTBRura3Opi5plbyTlZz6dsf3540ZaEYyn9Lf3aaer7LKdua7az/zhnugRNE1lmfIK6XL8TgNfShnftMa/jW7+0kk6Zap2ryxz0muCxDYnTOriWXDNrWX/99bsfSmQfUicn6jY13WvXEvt6jtRhec11sJYafM7PvqVL2IRkadma8HfQOuv6Hug1gXVacNeSHwq0JT9eqMF9zrP6rNEc3/e+973ddTotQXM+pnV3Qrdjx7oBzucsq7bSTUCYkmtdG0q26xr0frLfBXUZH/nIR7ofBUx0XiXMe6BQsi4rr9eNdQN85JFHDjxPs//pLjgmg45F9jf/pqjbkutS+6OL7GPbYjU/GqnTJnxOONqW2no+w+qPn9rx3hMgQIAAAQIECBAgQIAAAQIECBCYjgLz3WLyl7/8ZW+/0hKrDT16I+byJiFdDf7SciHBZm5M5wZonpuUgC83+NJlWboonOzy57LqblS9mZwbk7nZuuZY96L1JmWeP1YDy2xbAoS0hkoYmDAqNwK32Wabcato9yctPdJSLi5pVZoQL8tLK4i0bkkXjvNTcsMyIVctbRhUh+V1bvuY8e02T+YY1OezZRlp7VW7TEyYkZuz9YZq9vtv//ZvM9m40t6Uzk3udP2YYbWVTm5g11ZmmTFdL6YFWIKN3MCtLWbT6ibdaibomuwxa1uXZb0f+tCHuuAp+5BWjfFNd7lzKzmWuZmcVrs12ErLlte+9rXdbDUEyra1+5PWd3G68847u3VlH1JSV1Jv0pJ0UKnnXAKydB+YLgDn1loyy8jN73gOCtvSQi8tk16004vKs575rC7kTEu1tNKswXfG15apbTCT+jKoJADLTfqUGlzVICbDBrXYy7bl3Ks39BNutC3tYpygKkFODNJasQ2W0sq5DZEzvpZcN9KSs7bEy/BMmxaqaRFdXTbccMM6SxeuZF3tMjOyHuO8r/tUA7wMa0PgfE5pW6nWVtz/O6Z03W/uPfZjhgVRcg7Wkm6I+7c9LeJyvU3Q+ECl1sdM1wZq7XzpqjPhU66bL37xi7tzOF35Hnfccb1nhuZ8Tau+Gs5mfC2tSx3WXsdq/ZtqnavLzGuu2WnVmHAx9SfXj1rXci7W1ot12jpvWlUmIMr8taTlcq55aYVbj3euH6lHue7lLyFf//dDbUWd5eRHFCnzs28J2xfEcz+zHemFoF6zc81qQ/6MP+uss/LSnaO5pqe84x3v6Fpb532OW657uY7nu7uG9jWQfOYzn9kto7bsz/fOC17wgm4Z9fx5znOe0z1HOctLqT9Smcp3QebPdatudz7nmKUFeOpzut0955xzuu51M25eSzVKN/DpxjbnWALiug81eM+68iOS1PfY1mtF/k2T61btBSI/rklAmX8b5NqQ77N8v+UHM23L8dS1/h/3pHVl/R5MTwH9YfK87pPpCBAgQIAAAQIECBAgQIAAAQIECAxTYL6DyfYm/WS7EcsN4rZ1QG7e1WcLPvGJT+zCrNe85jXdzdLcsEsLi/rMrgWJlJv0uQnY39qvDRAStKQLt9x4zk3btFLp76ovN5jblpK5kViXmRvfb33rW3vdruZG/WRLtic3OROu5MZ6ujOtN7ezrO22227CRU60j/NzDH7xi1/01pebvfXZWQnMElTUupEbpoOCyTpzbsLW0KIOy2v73LUElwk+UhIEpJXrTjvt1LUOy43i2l3oZI9ZgopaEkDU1nB5TWuz/hZnddr2NfU+f7U1WsblJn1/mHP22Wf3Zks3fAlBa8mzxbIttcVSWgJOFExmngSa9bmOdRlze029HRQGZp489y5/bcn2xPszn/lMN7iGi/mQFkO19D9HtA7Psxjr8a/nRBsKts+8rPPkNXWohkU1lKrjU48GdceacywBQH8IVH/wkPnzo4L6I4O6vISO5513Xtd9bLpYTMlxaUu6+U0gnpIWc+lqNvPVUuvPzTffXAf1zvnegLE3/dfGbFt/yNBOP5X3aVXedpOa5//1l1wH5iWUzHy/Gwvna0l3xhOVhD9tyX6l7qbL4Xo+Zttyjme/6/HNPP0uGdaGlQntU6Za57qZx/6T45Rwsb8kYExg3d99bg3PMn3O2xpG1flTl7JPNdRP+JZzLPtTr8n50UPC4XpdzOe0OqylOszvvtXlzc9rfNpW0THpL/UHEWmdnWtJjmUNxRL8J4ysdTo/bKjBZP2hT74/U2KZa0LmyTWzDc9zLvdfNzPPVL4LMl9aktaSVto5n2tL7fY7pU4zr6+5vqd77xzzlLSgzPdRLakPaQFdS35A0nbRmu/dGkzm3xNpJV+vbakj+RHWpz/96Tp7ef7zn991Kd4b8Nc3+XdSLW2drcO8EiBAgAABAgQIECBAgAABAgQIEJiOAovN70a14UG6GptMaZ9NmdaFNZSsy8iw3NCrpXYjVz8vqNe0/qgBYrvMthVaWkHkxmPCwDbwaKevXVZmWG5M5gZogoL6195wbVtCtMuY2/vcIM8NynR9m1Cr3gDPPLlR2v+sv3ZZE+3j/ByDtnvG/oBqopZ07TblfYLmQaFkxrU37NMSpzrmNSFXbVmZaWvdmOwxqzeHs4w8L/OVr3xl13oxnxd0afentqZs15FnktWS+lZDrzqsvqauTiaUrPPNy2tCg7T8SejchkZtnW9/TFBv8vcvuw2/aqjTdrlaw4r++dp6U+frn6b/c1pmfmLsGbJt6JNp2iAy7xMA5BxOYNd2n5hn/SUISEmI1I5LK9e06nr5WFerCT77f1BQW4O1rX8TdvWX/mvjvO5b/3Lm9jkGtSSwWH311evHKb3eMNZitZYH6iq4TpdwJAFWuvFs608NTWpIXaevQVb9nNdBdWeqda5d7qD3qRd55mH+2tKuL8cq9TItKtOiPy3/asn3X1q41dL+WCXBfFoZ55qSedugKtPX/WzXNZnzqa5zQbxm/2uInH3tf/Zn1lG/b+r3dL3mZlzOqfZY1lax7XnengM1cM6881Laa+e8fhfk+llbL2Yd6WJ9It952YZ2mvjUUDLD80OLdv/7fySR8LUN3NPle1vSUrTt1jjPnazBdb7b86OmQaX9d0v7g4lB0xpGgAABAgQIECBAgAABAgQIECBAYLoIzHkHfZJb1nat2raImpfF5OZ1LWlhN6iklUUNz/qfqzdo+qkMS+uwQSU3CtOCqm5nbvylFUPCyQRqCYfall9tt5K52ZzWnhOV3BDPM9wSlsxvSZd7BxxwwLgbpf3LnGgf675l+skegzx7LaFOSgKc3HzPjd+EEFdeeWU3PP/pb4XWGzH2pg0S2+EJetobrWmRkr+JSn0G6WSP2W677Va+9a1v9Vq6JpRLa8y04kyrxPzVFk8TrXtehqc+tOFVfT5bO29aIbVdmebYDApt5+bZLm9e3+e8SmiSVqdtADnR/G0gPNH07Q8WakvSBGW1vrTHtl1Pu7z+Fp55nlpavSXUyLUmXRSnFXWCo7ToTGvGdIGbsLk/1E1r2LT+rMcyYdHOO+/c6yox15gaxqRr3l122aXXNWOOXQ2PEkbknK+BR0KDlAyrXTnWadv9qt3a1mE1lKqf5/c1627P5bn9SGFe19W2Am1DlXb+HK+0mEzryJz3NUxpp2nft0FKhg+6BtYQM+PrDx6mWueyjJQc91wjE74lYEv9qc84zHmZa0vWW1uZ1pAu8yZwOnasu9oa9Kb7zkMOOaTrGjnj22vd7rvv3tXLdAOdkuXUepHP6Zq0/iilfnfO775lufNbTjzxxN4iEq62gWJG5Hyt52a6KE2p38t53z4XNJ9r97RtSJ+umWuZqD7V8e3rVL8L2vVlee0PDtrlT+V9DWfbeVNXq9Gg8Qnqa8vzQT9M+Nd//dfuhxN1GXXZ+RHSRIFqrkcJklPP2jpb5/VKgAABAgQIECBAgAABAgQIECBAYDoKzHeLyXpjPjtXb7rN6462Nw7bllLt/O3y27CjnWai9w90kzzzZb01rOhfTm76pQvIdGvXbl+Wm2cPJshoW1ClJd9kSn948kDzJqhJ6JIg8hWveEX3bLF0n5dnVLUBaf9y5raP83MMateqWV+e55ewNi3L0iqt3njNzfe5dTE76AZulle7Dcz7eSn1WE/2mKVb2NyUT5eLmbeW3IhPWJf9aQOaOn6yr/X5YnW+tnVNHZbXti5OFPQnZFtQJYFyukFNa8P2hnjqzETb2Lb8bedptymBUy215Vx7rNvwqU6X1/bmen8rvRyrtEDLeZfuVVPvTz311HHPnf3IRz7SLS6O7fHMM2pb20zUPlOwDZcy3bFjQVRaxyUYzo8HEiilO+Ksry01pKldAGfcoOtgG0y2YU27rPl534b2uWYmxJ3f0h6LQXUh53iC/fxQI/vcnoMJXlv/dlvaULa/5Vima/1qOD3VOteuN11ppsvpPIfvfe97X/nSl7407kcTaTVYr1s1TM/822+/fS+UrMtru+3s/9HBO9/5zvKud72ra1mZIDZ/+cFEvkvarjfrebwg9q1u11ReE6LW1sw5ZoOeqdu2cKzHr20B2V6v873Wfq/UbcoPH1JSl/qDzzrNoNd22YPG9w+r9bC/dW69DvVPP5XP9dmXE81b6+1E4wcNT6vK9hqZaTKsrR+D5mtDy7YXg0HTGkaAAAECBAgQIECAAAECBAgQIEBgOgjMd4vJjTfeuPecqdzITuuQ9ib93HYyLVDqTcfaTVz/9G04M9HNvkE349KVXL1B2b/MyX7Ojew99tijnHTSSd1ztGqLqCx/v/32K9/4xje6Fg21BUyWn9aE++6774Sryg3g/tZDE0781xHpwm6iLt0eaN6Jxs/PMUiYlxv87373u7vFpxVoexwTLKW1x6BQo25Pe1O1DstrG0jnc27q1xvi+dxf+qef12OW5aQ7zrSSTJh29NFHl3POOafXDWhaxuU45vlw81P6by4nxG5bStVlt0FfujIeVCYKfAZNO7dhaYmU56TVkmew5VlnCVFyXNIiMS1G+0vqbbYhIU6Oec6//uNYz5HMW1tHrbXWWr1FtcFlHZgwuAZDGTYvQUK2JcF3AtaUNujKca3hRN2GbqK//iehYz2u/S04U9fSMi5/bcnxqaFqDPLs2JQcq9oatA0h67zteVFbAdZx8/uaa90FF1zQW8zcWmr3JpqHN+31LK38+lvv5rmcbWvAtEJNfamtwBMGt6046yoTMNdWg3Fpw7pM0/4QoP7gYqp1rq5z0GsC6FzX6zNEU/fSZWha6ed41h8T1G1ol5HzuZ4DGZ460X7vpU4O+kFGfY5g5qndfS6Mfcvy57Xk2c61JNAe9D2bY1ZLPcfaFohf/OIXu/3JdSDfk7XkfMm5nrCydnX+tKc9rY6ep9f+a/u8fhfUHw3UleR49gd/ddxkXxfGjwvyjM/2BxLZplyXPvzhDw98Pmrd5vqdkfrYfx2u03glQIAAAQIECBAgQIAAAQIECBAgMJ0E5rvFZJ6N1JbcjJ7XQLC9cThRa8Orrrqqt/jawiQD2tZPV1xxRW+a+qZ27Vk/z+9rWnjkhn9a2bzhDW/oLS77WltNtjemE07khvtEf+uss05vGYvyzfwcg2x3vakdn2c961nd36677tp1dZgWSFO9EZyQrC1pLTuRZYYPCp7m5Zi160igkq5C0xq2Bk4Znxvag8Lvdt4Hep+gq211e8kll8wxS0L6NpjLfi3MUoOCrCM3tdNKMMFEvbldfzQwaBvSkqeW008/vb7tXjNfDQQzYJNNNumGt+Fszo821MoEp5xySjdd/pMwuz6/sTdwgjdt66v2utAGm/nxQH+pwVOGt9eW/unazwlu6zHKPHV9azZdUedZpf0l141apnpO1Pn7X9Oyt25T3P7u7/6uf5IpfU5gVsugFnDf/va36+iutXS6Qa2hZEb0H986ce0SNZ/PPPPMOrh7zXnW1su2y+Op1LlxCx/wodb1OqrWufZ4fve7362je6+p39U8IVV77e9N1PfmxJNO7JnkfNtyyy17UyyMfestfC5v8t3VHtvale2gWeoPTC6++OJudH4oU8PrDMu/BV760pf2nqWZfUxJ6/4E/PHKsITBE5Vq2o6f6ndBtrdt1Vm/p9tlT5f3CePTPXAt7fdZAsuJtj0/LqlmC/oHD3VbvBIgQIAAAQIECBAgQIAAAQIECBBY0ALzHUymdcWGG27Y264EDgceeOC45+nVkbmBds0119SPpX3uYW705hlwbbnwwgtLGzCmC9Na0iKxlqyzbfGU9XzgAx+oo6f8mi4FB3W3moCybb2XFkspO+64Y29d2aa0IhlUssw6z6Dxwxw2P8cg3X/WcCetgw466KDuLzee57cryQQGbZCVZz7WliH9PrUFW4ZP9pgNCk8SNqUlbC2pT/Mattd5Br22+3PYYYfNcY684x3v6M2WG+o1JOkNXMBv2laNWXR/+JqgcqLStpY6/vjjx032iU98ovc54VYN4tLyrA1gjjrqqN50MW6DyfbZowmvBrWwzMy5brTnWfv8zXT7WssXvvCFrgVo/ZzjmS5Ia2mvYXVY/2umb58jm65ea2lbgaVbzPqMwYxPHUtXx7X0t8Ksw6fymv1oQ8/sc3/YNpXlZp62K902vKrLa+tL+z7j45Rr4KDShv4JIdtjm5C7nucJsdruoqdS5xKeXnvttYM2owt08kzSWhKy1UCorTtXX311Of/88+tk3WsbIrVB67iJmg+XjHVjeszRx/SGpEvZ9jhNZd96C5uPN20XwGnB3V6j+hdbz6145tjm+KQ1Xw3/0mNCPeZ51mae+ZpSw7NMn+co9rcUb8PsfKf0l6l+F2Q59dqT90cccUTp7w4+1532BxjpoSEmuaYM+u7PchZGyQ9i0vo8Jf+2SPfi7Q9T8m+qel60629/0LWwvy/a9XpPgAABAgQIECBAgAABAgQIECBAYH4E5rsr16z8Pe95T9cqooY33//+97vWEwklNthgg+6GWm7O1xDr3HPP7bY5N97SauSHP/xh9zlByPe+973uOYoJJNtWZblh3D7Xa4sttujmqf/Jjd50LZpWEll/uuCc35LgJC2tckM23Rjmpm1aNuQmdW621lID07TuSWBaQ4jcvE4XiwktEsika8x0bZj9evHYc/L2/od/qItYZK/zcwzajT777LO75xRmP3MDOjeTc/xjkmd01pZl7TwP9D6tb9ONam4e53gm+M3zBdPVYsLI1Ke0TsvN5lqnJnvMso6EWzmGqavpwjHheRv2ZD+msv39+5dnzyXUzv6k/iR0yXpjlnrfPluvDUb7l7OgPrehdLYp1nmmZm7I58Z4e9O7f53/MFZ3Ez6k5NiktVTqeVpOtedeG/Bk2iy/Bp7nnXde18IqdST73954T52pJSFugumEDGnhm2Aj15rrxrrdzPGv151M3z43MnUlXbUm+Epokuch5hqRG/hZdxuI5TmCtaR70eOOO65bV5ada1fO47Y71ti1AVvCqfXWW6/84he/6BaTroHr8y/bFoBpNZtnVS6o8vlTPt97LmfOu7m1RpvsOtsff9RWcu0yEqblWpsSzwSZmedHP/pROeuss9pJx73PcfmP//iP7nin3uU8yPU8oVYbEq277rqlfdbjVOpcwuS0uk93oKlnaeWalmU5ptnm9gcteX5vLZkudaW2Ck131fmuetxYy9ifjbUybFvyt3Uu86euZv58FyXQTRe/tV5kfH7MU7uPzeeUqezb/8459f9ef/31pe1tYNCzJdulp5veHNuUnPs5t1IHEiZneL73cv1MS8p63HKOfPWrX+1alKbetz/oqcvO92sNJPO9n+vk+k9ev1x91dXlta99bXe+T+W7IMvPvwvq93GuL7n+5Lt89bFnxv5mrDvtHJsE0vnhQsL1nD/1uz3Xh7T+X9glP8ho69N73/veru6k29+0Ns01KPU0w9uugLNdbRfObQi7sLfZ8gkQIECAAAECBAgQIECAAAECBAjMj8ACCSYT3OS5T//0T//Uu0mejcqN5m9961vjtq/tdjEjchNyl1126bVkyI3S9mZppsnN/IPGbsq1JeFUgsJ6IzvBwze/+c12kq4lR1ovzU/JjfPclB90Yz7LTUur2sVdPqe1WFpS/dd//Vc+djds683cbsA0/M9Uj0Fu8CYkqoFzG6xlN9OyJqFzQq60qmu71pwXhgQFH/nIR7rnatYw74QTTphj1v46NdljlhvWCZv7W0XVFbUtYeuwqbzmpn1utNeWwamb/XU2y01Y2R92TGV9DzRPApIEagnMU/J8swRqteS8SzeVbXhTx+XcS8u/hG8puZnff67n3Mj+tiWf41xbseUakYCoLZlmUMutBCn5m6gk4Hr2s589bnRa8ea5rGmNNOgakYnTWimhYi1pNTW3YC0BVZbbX97//vd3wXMNNvqvY6mnBx98cBfc98871c8nnnBib9aEQAuy1VSWlzoQt5zbOVa51tfywhe+sBdMJjzpPzfTvWkCwP6SHy3E7+1vf3s3KvPWgLNOm7AorevaMtU6l2UkLK8hY7vM+j7H/4ADDqgfu9e3ve1t3XW8Bu25ltUf0dQJ85zI1Ne2pLVdrkGDSsLbXNPa1pKZbn72bdB65mVYWhDWEu8HCsxzva8/vMmPORLaJcBPi8e0cG5bOdflphvWBJrtd2QdV18TANdrYoblONVjlZb4+Y6Z6nfBc5/73O65s+nuOCXn5qCuljMu9byeu/mc6RZ2MJnzo205nh881B865VzLs5Jrq9ZsT66d7XFqu6heUN9T2XeFAAECBAgQIECAAAECBAgQIECAwMIUmO+uXOvGpTXKSSedVHIjMDezB5W0lmi7PMw0CUfS4iItrhKCtCU38tOaIq0ZNhxrzdZf0uomN0v7g6ncZE3Y1j5rbbGx1kS1LN6sJ62MJiq5QZiWNoNK9mXnnXfuAtl2fG44J5x8wQte0N3EH7T8hKrP2GqrdrYJ37c3sNv3E87w1xHzuo+ZfCrHIGHV+973vjla1Q3a3wR/CSJqafejfV/Ht6/pEvZjH/tY1zJnUGubDGvDqMkes2eOPRdz0HKzDbnhnlYq83pzut2X9n27PwkxEuK3AU8dny4RE5J98IMfrIN6r20dn2jZvYkn8SaBwKDnnSYMOProo3sB6aB1JoDP81b7z/d4Jlj9+Mc/PkcAk/pRl9tfV3LeZpmve93rxu1BWg0N8qoTJexJS6L+VmgZn0AjzzpNS8t2fXmf4Cze/a0663Lb11ybsp50EZ3uKwcFLdnGBCBtt5xZRtaVcYeOtfzM9eqBSrud7XHvny9BRdsd75ve9Kb+Seb7c7u9Z5xxxrjlJYjKdbb/+GebE0YltOrtS991NgFM6nn/9TXzphV3fshQu1VtVzrZOpe6k+ttbzvahY29T53LOZlwqO1mOJPlupjvnoSP/d9N2e604E9vAQ9Usu5Mn3qdupjWlIPKZPdt0DLa/Rx0ztZ5ck3+wQ9+UD92PzLofZjLm/QCUMPvhJP5cUKukel2PT8aSNCWFsKnnXZaSdfUO+ywwwNePxPK5vztN85m1JaXeT/Z74LMk5LrdwK+nL+tT8ZlnfVHILlutc8KTSjaltazfV+naYe17+v4dt11fIwSzKdk/f316ZWvfGUXzNZlJKyv3SbHv/6oJPsxKBiu83klQIAAAQIECBAgQIAAAQIECBAgMJ0EZo217BjctGM+tzLda+ZGZZ6lmJuyuTG/8sorP+BS0zInz/RKt2TtTcIHmrHeFM1N6LTSWJAl+5IWXtmX7ENCjnnt2jM3ES8de75YusdMi8HcHJ3XeRfkPkxmWfNyDNKK4+STT+4WmxvLuaHadiWXbvDSBWdtEZib/unSb35Lti0t+1KnYtk+n6xd9mSPWW6o//a3v+1azCQ4SDDX3khul72g3ueGdLouzGu6rRwUdi2odT3QclI/U08TDK255ppdYPNA87Tj45dzJPsxL+d55s1+pzvWHNONN954woC4ridhSrpTvfHGG7sWkLmmPHqsS8aJguU6X33NpS7XljvvvLPrtreGA3V8fc05m33JuuKRoDEh1WRKWl6lnqaki+CJ1jWZZS6KaRNe7b///t2qc87lRySDSqzSej2tgvM3mf3NtSLHJcezvYYMWk87bDJ1Lsc0LT6znQlzsy/5fpno+tGup77P+tI6fJNNNpnruVqnyzmVa+NkvsfadU32fKrzLuzX1O0887B2v/pA68t1OoHsvJR6THN8Yje378p5/S5o15trQFoyp7V6Wovn3wptXc01KS248++ItdZaq5112r3PDzzSG0FKukJOS1yFAAECBAgQIECAAAECBAgQIECAwEwQWGjB5EzYeds4dYF0G5fwLyXPY6ytaNolpjVHWk6lpDXgV77ylXa09wQIzACBtIqtIWuehZjn9CkE0l15no+YrsrTgr79jVNa8K200kolLWPznMeEjMqCE8h3b3qESJCaH08k+E2wrxAgQIAAAQIECBAgQIAAAQIECBCYCQLj+06dCVtsG6eFQFqv1fLlL3+5pMu5tqRVUvu8wrSkUwgQmHkC6WYzXaImBEn32flRwry2Up15e2uL51Ug3benG9da0pKy9iqwsFub13WO6mu6dM35mLL77rsLJUe1IthvAgQIECBAgAABAgQIECBAgMAMFdBicoYeuEW92W95y1vGdeWX1hrp/i4tZdJdYrrorDdO06LjiCOOmOPZe4t6H6yfAIF5Ezj11FPL5z73uW7iPfbYo3u+4rzNaSoCBBakQFqnpieCdE+cLsfzTGuFAAECBAgQIECAAAECBAgQIECAwEwSEEzOpKM1jbY1N0d33XXX7rltc9ushz3sYeWggw4qm2+++dwmM44AAQIECBAgQIAAAQIECBAgQIAAAQIECBAgQOBBLiCYfJAf4IW9e+eff35JV6433nhj95yxtJhceeWVu67lnvOc55SnPOUpC3sTLJ8AAQIECBAgQIAAAQIECBAgQIAAAQIECBAgQGAGCAgmZ8BBsokECBAgQIAAAQIECBAgQIAAAQIECBAgQIAAAQIEZrrAYjN9B2w/AQIECBAgQIAAAQIECBAgQIAAAQIECBAgQIAAAQLTX0AwOf2PkS0kQIAAAQIECBAgQIAAAQIECBAgQIAAAQIECBAgMOMFBJMz/hDaAQIECBAgQIAAAQIECBAgQIAAAQIECBAgQIAAAQLTX0AwOf2PkS0kQIAAAQIECBAgQIAAAQIECBAgQIAAAQIECBAgMOMFBJMz/hDaAQIECBAgQIAAAQIECBAgQIAAAQIECBAgQIAAAQLTX0AwOf2PkS0kQIAAAQIECBAgQIAAAQIECBAgQIAAAQIECBAgMOMFBJMz/hDaAQIECBAgQIAAAQIECBAgQIAAAQIECBAgQIAAAQLTX0AwOf2PkS0kQIAAAQIECBAgQIAAAQIECBAgQIAAAQIECBAgMOMFBJMz/hDaAQIECBAgQIAAAQIECBAgQIAAAQIECBAgQIAAAQLTX0AwOf2PkS0kQIAAAQIECBAgQIAAAQIECBAgQIAAAQIECBAgMOMFBJMz/hDaAQIECBAgQIAAAQIECBAgQIAAAQIECBAgQIAAAQLTX0AwOf2PkS0kQIAAAQIECBAgQIAAAQIECBAgQIAAAQIECBAgMOMFBJMz/hDaAQIECBAgQIAAAQIECBAgQIAAAQIECBAgQIAAAQLTX0AwOf2PkS0kQIAAAQIECBAgQIAAAQIECBAgQIAAAQIECBAgMOMFBJMz/hDaAQIECBAgQIAAAQIECBAgQIAAAQIECBAgQIAAAQLTX0AwOf2PkS0kQIAAAQIECBAgQIAAAQIECBAgQIAAAQIECBAgMOMFBJMz/hDaAQIECBAgQIAAAQIECBAgQIAAAQIECBAgQIAAAQLTX0AwOf2PkS0kQIAAAQIECBAgQIAAAQIECBAgQIAAAQIECBAgMOMFBJMz/hDaAQIECBAgQIAAAQIECBAgQIAAAQIECBAgQIAAAQLTX0AwOf2PkS0kQIAAAQIECBAgQIAAAQIECBAgQIAAAQIECBAgMOMFlpjxezDNduDLX/5y+epXv1oOP/zwMmvWrN7W/fa3vy0nn3xy+dnPflbWW2+9svPOO5c111yzN/5LX/pSOfvss8s999xTtttuu/LSl760N+7CCy8sxx13XNlmm2264Ysvvng37oQTTujWkWUpBAgQIECAAAECBAgQIECAAAECBAgQIECAAAECBKazgBaTC+jo3HfffeX9739/OeKII8q1115bZs+e3Vty3u+///7l4osvLs973vPKr371q/K2t72t3Hvvvd005557bjnyyCPLWmutVTbeeONy7LHHltNOO60bd/vtt5eDDz64PPvZzy6nnHpqueCCC7rhN954YznppJPKlltu2VuPNwQIECBAgAABAgQIECBAgAABAgQIECBAgAABAgSmq4BgcgEdmU9+8pPl5z//edlrr73mWOLXv/71ctttt5WPfexj5VWvelU59NBDy1133VU+//nPd9MeffTR5elPf3rZd999yxvf+Mbyop12Kp/97Ge7cWlhueKKK3YtJbf4m78pF110UTc8y9p0003L2muvPcf6DCBAgAABAgQIECBAgAABAgQIECBAgAABAgQIECAw3QR05bqAjsjrXve6sssuu5SrrrpqjiVeeeWVZbXVVisrr7xyN+4hD3lIWWeddbpp05ryjjvuKNtuu21vvu3HWkeecfrpXZh50003lWWXXbYbt8IKK3StLS+//PJyySWX9MLL3owD3uy5554DhhpEgAABAgQIECBAgAABAgQIECBAgAABAgQIECAwSgLHHHPMIt9dweQCOgRLLbVUyd+g8oc//KEkVGxLQsp06XrzzTd3g1ddddXe6ISYKddff33ZZJNNyvHHH991DXv11Vd3rSQPOeSQsvXWW3fPsfzpT39adtxxx7LHHnv05u9/c9jhH+8f5PMiELhopxeXe8dayiqjLbDcWCvn9Q8/dJEi/Oaoo8vvzvziIt0GK58eAhv8+0fLsuuuu8g25q7f/75cvPvrF9n6rXj6CKy6zTPL48e6uV+U5aoD31Fu/enPFuUmWPc0EfibM08vi03w7/ppsok2gwABAgQIECBAgAABAgQITFrgzfvsPel5FsYMunJdGKp9y7z77rvL4osvPm7okksu2XXnmi5dU5ZY4v8y4oxLufPOO7vnTibUfOnLXtY9uzLD83zJtLhMUJnnT5555pndsIxTCBAgQIAAAQIECBAgQIAAAQIECBAgQIAAAQIECExHAcHkEI7Kox71qHL77bePW9Mtt9xSlltuufLIRz6yG15bTuZDum9NefjDH969fuYznykHvv3t5eSTTy5nnXVW12VsunPdaKONynrrrVfS2vJHP/pRN63/ECBAgAABAgQIECBAgAABAgQIECBAgAABAgQIEJiOAoLJIRyVxz72sV2Lxnvvvbe3tuuuu65keFpS5pmTl156aW9cnh+ZssYaa/SGbb755uX0sedOLrbYYuUlL3lJybJqK8y83nPPPb1pvSFAgAABAgQIECBAgAABAgQIECBAgAABAgQIECAw3QQEk0M4IjvssEO3lkMPPbTcdttt5bOf/WzXgvJFL3pRN/wFL3hBOe2008pll13Wddf66U9/uqw99hy6ZZddtrd16db1xBNPLHvvvXeZNWtW96zJTJ/l3XDDDd3n3sTeECBAgAABAgQIECBAgAABAgQIECBAgAABAgQIEJhmAv/3YMNptmEzdXNqK8Z2+xMwvu1tbyuHH354Offcc7tgcddddy1PfOITu8l22223cuWVV5b999+/zJ49u6yyyirlve99b7uI8slPfrKkS9itttqqG7711luXr3zlK+XVr3512WKLLcrjHve4cdP7QIAAAQIECBAgQIAAAQIECBAgQIAAAQIECBAgQGA6CQgmF/DR2GCDDcqXv/zlOZb6jGc8o+Qvz5ZcaaWVunCyTpQw8+CDDy53331395dnT/aXffbZZ9ygFVdcsRx55JHljjvu6J5VOW6kDwQIECBAgAABAgQIECBAgAABAgQIECBAgAABAgSmmYBgcsgH5OEPf/iEa1xqqaVK/iZTBoWYk5nftAQIECBAgAABAgQIECBAgAABAgQIECBAgAABAgSGIeAZk8NQtg4CBAgQIECAAAECBAgQIECAAAECBAgQIECAAAECIy4gmBzxCmD3CRAgQIAAAQIECBAgQIAAAQIECBAgQIAAAQIECAxDQDA5DGXrIECAAAECBAgQIECAAAECBAgQIECAAAECBAgQIDDiAoLJEa8Adp8AAQIECBAgQIAAAQIECBAgQIAAAQIECBAgQIDAMAQEk8NQtg4CBAgQIECAAAECBAgQIECAAAECBAgQIECAAAECIy4gmBzxCmD3CRAgQIAAAQIECBAgQIAAAQIECBAgQIAAAQIECAxDQDA5DGXrIECAAAECBAgQIECAAAECBAgQIECAAAECBAgQIDDiAoLJEa8Adp8AAQIECBAgQIAAAQIECBAgQIAAAQIECBAgQIDAMAQEk8NQtg4CBAgQIECAAAECBAgQIECAAAECBAgQIECAAAECIy4gmBzxCmD3CRAgQIAAAQIECBAgQIAAAQIECBAgQIAAAQIECAxDQDA5DGXrIECAAAECBAgQIECAAAECBAgQIECAAAECBAgQIDDiAoLJEa8Adp8AAQIECBAgQIAAAQIECBAgQIAAAQIECBAgQIDAMAQEk8NQtg4CBAgQIECAAAECBAgQIECAAAECBAgQIECAAAECIy4gmBzxCmD3CRAgQIAAAQIECBAgQIAAAQIECBAgQIAAAQIECAxDQDA5DGXrIECAAAECBAgQIECAAAECBAgQIECAAAECBAgQIDDiAoLJEa8Adp8AAQIECBAgQIAAAQIECBAgQIAAAQIECBAgQIDAMAQEk8NQtg4CBAgQIECAAAECBAgQIECAAAECBAgQIECAAAECIy4gmBzxCmD3CRAgQIAAAQIECBAgQIAAAQIECBAgQIAAAQIECAxDQDA5DGXrIECAAAECBAgQIECAAAECBAgQIECAAAECBAgQIDDiAoLJEa8Adp8AAQIECBAgQIAAAQIECBAgQIAAAQIECBAgQIDAMAQEk8NQtg4CBAgQIECAAAECBAgQIECAAAECBAgQIECAAAECIy4gmBzxCmD3CRAgQIAAAQIECBAgQIAAAQIECBAgQIAAAQIECAxDQDA5DGXrIECAAAECBAgQIECAAAECBAgQIECAAAECBAgQIDDiAoLJEa8Adp8AAQIECBAgQIAAAQIECBAgQIAAAQIECBAgQIDAMAQEk8NQtg4CBAgQIECAAAECBAgQIECAAAECBAgQIECAAAECIy4gmBzxCmD3CRAgQIAAAQIECBAgQIAAAQIECBAgQIAAAQIECAxDQDA5DGXrIECAAAECBAgQIECAAAECBAgQIECAAAECBAgQIDDiAoLJEa8Adp8AAQIECBAgQIAAAQIECBAgQIAAAQIECBAgQIDAMAQEk8NQtg4CBAgQIECAAAECBAgQIECAAAECBAgQIECAAAECIy4gmBzxCmD3CRAgQIAAAQIECBAgQIAAAQIECBAgQIAAAQIECAxDQDA5DGXrIECAAAECBAgQIECAAAECBAgQIECAAAECBAgQIDDiAoLJEa8Adp8AAQIECBAgQIAAAQIECBAgQIAAAQIECBAgQIDAMAQEk8NQtg4CBAgQIECAAAECBAgQIECAAAECBAgQIECAoeFgggAAQABJREFUAAECIy4gmBzxCmD3CRAgQIAAAQIECBAgQIAAAQIECBAgQIAAAQIECAxDQDA5DGXrIECAAAECBAgQIECAAAECBAgQIECAAAECBAgQIDDiAoLJEa8Adp8AAQIECBAgQIAAAQIECBAgQIAAAQIECBAgQIDAMAQEk8NQtg4CBAgQIECAAAECBAgQIECAAAECBAgQIECAAAECIy4gmBzxCmD3CRAgQIAAAQIECBAgQIAAAQIECBAgQIAAAQIECAxDQDA5DGXrIECAAAECBAgQIECAAAECBAgQIECAAAECBAgQIDDiAoLJEa8Adp8AAQIECBAgQIAAAQIECBAgQIAAAQIECBAgQIDAMAQEk8NQtg4CBAgQIECAAAECBAgQIECAAAECBAgQIECAAAECIy4gmBzxCmD3CRAgQIAAAQIECBAgQIAAAQIECBAgQIAAAQIECAxDQDA5DGXrIECAAAECBAgQIECAAAECBAgQIECAAAECBAgQIDDiAoLJEa8Adp8AAQIECBAgQIAAAQIECBAgQIAAAQIECBAgQIDAMAQEk8NQtg4CBAgQIECAAAECBAgQIECAAAECBAgQIECAAAECIy4gmBzxCmD3CRAgQIAAAQIECBAgQIAAAQIECBAgQIAAAQIECAxDQDA5DGXrIECAAAECBAgQIECAAAECBAgQIECAAAECBAgQIDDiAoLJEa8Adp8AAQIECBAgQIAAAQIECBAgQIAAAQIECBAgQIDAMAQEk8NQtg4CBAgQIECAAAECBAgQIECAAAECBAgQIECAAAECIy4gmBzxCmD3CRAgQIAAAQIECBAgQIAAAQIECBAgQIAAAQIECAxDQDA5DGXrIECAAAECBAgQIECAAAECBAgQIECAAAECBAgQIDDiAoLJEa8Adp8AAQIECBAgQIAAAQIECBAgQIAAAQIECBAgQIDAMAQEk8NQtg4CBAgQIECAAAECBAgQIECAAAECBAgQIECAAAECIy4gmBzxCmD3CRAgQIAAAQIECBAgQIAAAQIECBAgQIAAAQIECAxDQDA5DGXrIECAAAECBAgQIECAAAECBAgQIECAAAECBAgQIDDiAoLJEa8Adp8AAQIECBAgQIAAAQIECBAgQIAAAQIECBAgQIDAMAQEk8NQtg4CBAgQIECAAAECBAgQIECAAAECBAgQIECAAAECIy4gmBzxCmD3CRAgQIAAAQIECBAgQIAAAQIECBAgQIAAAQIECAxDQDA5DGXrIECAAAECBAgQIECAAAECBAgQIECAAAECBAgQIDDiAoLJEa8Adp8AAQIECBAgQIAAAQIECBAgQIAAAQIECBAgQIDAMAQEk8NQtg4CBAgQIECAAAECBAgQIECAAAECBAgQIECAAAECIy6wxIjvv90nQIAAAQIECBAgQIAAAQIEZqjAL/bdb4Zuuc1ekALLr/ekssaeb1iQi7QsAgQIECBAgACBhSQgmFxIsBZLgAABAgQIECBAgAABAgQILDyB++++u/zx8ssX3gosecYILLHM0jNmW20oAQIECBAgQGDUBXTlOuo1wP4TIECAAAECBAgQIECAAAECBAgQIECAAAECBAgQGIKAYHIIyFZBgAABAgQIECBAgAABAgQIECBAgAABAgQIECBAYNQFBJOjXgPsPwECBAgQIECAAAECBAgQIECAAAECBAgQIECAAIEhCAgmh4BsFQQIECBAgAABAgQIECBAgAABAgQIECBAgAABAgRGXUAwOeo1wP4TIECAAAECBAgQIECAAAECBAgQIECAAAECBAgQGIKAYHIIyFZBgAABAgQIECBAgAABAgQIECBAgAABAgQIECBAYNQFBJOjXgPsPwECBAgQIECAAAECBAgQIECAAAECBAgQIECAAIEhCAgmh4BsFQQIECBAgAABAgQIECBAgAABAgQIECBAgAABAgRGXUAwOeo1wP4TIECAAAECBAgQIECAAAECBAgQIECAAAECBAgQGIKAYHIIyFZBgAABAgQIECBAgAABAgQIECBAgAABAgQIECBAYNQFBJOjXgPsPwECBAgQIECAAAECBAgQIECAAAECBAgQIECAAIEhCAgmh4BsFQQIECBAgAABAgQIECBAgAABAgQIECBAgAABAgRGXUAwOeo1wP4TIECAAAECBAgQIECAAAECBAgQIECAAAECBAgQGIKAYHIIyFZBgAABAgQIECBAgAABAgQIECBAgAABAgQIECBAYNQFBJOjXgPsPwECBAgQIECAAAECBAgQIECAAAECBAgQIECAAIEhCAgmh4BsFQQIECBAgAABAgQIECBAgAABAgQIECBAgAABAgRGXUAwOeo1wP4TIECAAAECBAgQIECAAAECBAgQIECAAAECBAgQGIKAYHIIyFZBgAABAgQIECBAgAABAgQIECBAgAABAgQIECBAYNQFBJOjXgPsPwECBAgQIECAAAECBAgQIECAAAECBAgQIECAAIEhCAgmh4BsFQQIECBAgAABAgQIECBAgAABAgQIECBAgAABAgRGXUAwOeo1wP4TIECAAAECBAgQIECAAAECBAgQIECAAAECBAgQGIKAYHIIyFZBgAABAgQIECBAgAABAgQIECBAgAABAgQIECBAYNQFBJOjXgPsPwECBAgQIECAAAECBAgQIECAAAECBAgQIECAAIEhCAgmh4BsFQQIECBAgAABAgQIECBAgAABAgQIECBAgAABAgRGXUAwOeo1wP4TIECAAAECBAgQIECAAAECBAgQIECAAAECBAgQGIKAYHIIyFZBgAABAgQIECBAgAABAgQIECBAgAABAgQIECBAYNQFBJOjXgPsPwECBAgQIECAAAECBAgQIECAAAECBAgQIECAAIEhCAgmh4BsFQQIECBAgAABAgQIECBAgAABAgQIECBAgAABAgRGXUAwOeo1wP4TIECAAAECBAgQIECAAAECBAgQIECAAAECBAgQGIKAYHIIyFZBgAABAgQIECBAgAABAgQIECBAgAABAgQIECBAYNQFBJOjXgPsPwECBAgQIECAAAECBAgQIECAAAECBAgQIECAAIEhCAgmh4BsFQQIECBAgAABAgQIECBAgAABAgQIECBAgAABAgRGXUAwOeo1wP4TIECAAAECBAgQIECAAAECBAgQIECAAAECBAgQGIKAYHIIyFZBgAABAgQIECBAgAABAgQIECBAgAABAgQIECBAYNQFBJOjXgPsPwECBAgQIECAAAECBAgQIECAAAECBAgQIECAAIEhCAgmh4BsFQQIECBAgAABAgQIECBAgAABAgQIECBAgAABAgRGXUAwOeo1wP4TIECAAAECBAgQIECAAAECBAgQIECAAAECBAgQGIKAYHIIyFZBgAABAgQIECBAgAABAgQIECBAgAABAgQIECBAYNQFBJOjXgPsPwECBAgQIECAAAECBAgQIECAAAECBAgQIECAAIEhCAgmh4BsFQQIECBAgAABAgQIECBAgAABAgQIECBAgAABAgRGXUAwOeo1wP4TIECAAAECBAgQIECAAAECBAgQIECAAAECBAgQGIKAYHIIyFZBgAABAgQIECBAgAABAgQIECBAgAABAgQIECBAYNQFBJOjXgPsPwECBAgQIECAAAECBAgQIECAAAECBAgQIECAAIEhCAgmh4BsFQQIECBAgAABAgQIECBAgAABAgQIECBAgAABAgRGXUAwOeo1wP4TIECAAAECBAgQIECAAAECBAgQIECAAAECBAgQGIKAYHIIyFZBgAABAgQIECBAgAABAgQIECBAgAABAgQIECBAYNQFBJOjXgPsPwECBAgQIECAAAECBAgQIECAAAECBAgQIECAAIEhCAgmh4BsFQQIECBAgAABAgQIECBAgAABAgQIECBAgAABAgRGXUAwOeo1wP4TIECAAAECBAgQIECAAAECBAgQIECAAAECBAgQGIKAYHIIyFZBgAABAgQIECBAgAABAgQIECBAgAABAgQIECBAYNQFBJOjXgPsPwECBAgQIECAAAECBAgQIECAAAECBAgQIECAAIEhCAgmh4BsFQQIECBAgAABAgQIECBAgAABAgQIECBAgAABAgRGXUAwOeo1wP4TIECAAAECBAgQIECAAAECBAgQIECAAAECBAgQGIKAYHIIyFZBgAABAgQIECBAgAABAgQIECBAgAABAgQIECBAYNQFBJOjXgPsPwECBAgQIECAAAECBAgQIECAAAECBAgQIECAAIEhCAgmh4BsFQQIECBAgAABAgQIECBAgAABAgQIECBAgAABAgRGXUAwOeo1wP4TIECAAAECBAgQIECAAAECBAgQIECAAAECBAgQGIKAYHIIyFZBgAABAgQIECBAgAABAgQIECBAgAABAgQIECBAYNQFBJOjXgPsPwECBAgQIECAAAECBAgQIECAAAECBAgQIECAAIEhCAgmh4BsFQQIECBAgAABAgQIECBAgAABAgQIECBAgAABAgRGXUAwOeo1wP4TIECAAAECBAgQIECAAAECBAgQIECAAAECBAgQGIKAYHIIyFZBgAABAgQIECBAgAABAgQIECBAgAABAgQIECBAYNQFBJOjXgPsPwECBAgQIECAAAECBAgQIECAAAECBAgQIECAAIEhCAgmh4BsFQQIECBAgAABAgQIECBAgAABAgQIECBAgAABAgRGXUAwOeo1wP4TIECAAAECBAgQIECAAAECBAgQIECAAAECBAgQGIKAYHIIyFZBgAABAgQIECBAgAABAgQIECBAgAABAgQIECBAYNQFBJOjXgPsPwECBAgQIECAAAECBAgQIECAAAECBAgQIECAAIEhCAgmh4BsFQQIECBAgAABAgQIECBAgAABAgQIECBAgAABAgRGXUAwOeo1wP4TIECAAAECBAgQIECAAAECBAgQIECAAAECBAgQGIKAYHIIyFZBgAABAgQIECBAgAABAgQIECBAgAABAgQIECBAYNQFBJOjXgPsPwECBAgQIECAAAECBAgQIECAAAECBAgQIECAAIEhCAgmh4BsFQQIECBAgAABAgQIECBAgAABAgQIECBAgAABAgRGXUAwOeo1wP4TIECAAAECBAgQIECAAAECBAgQIECAAAECBAgQGIKAYHIIyFZBgAABAgQIECBAgAABAgQIECBAgAABAgQIECBAYNQFBJOjXgPsPwECBAgQIECAAAECBAgQIECAAAECBAgQIECAAIEhCAgmh4BsFQQIECBAgAABAgQIECBAgAABAgQIECBAgAABAgRGXUAwOeo1wP4TIECAAAECBAgQIECAAAECBAgQIECAAAECBAgQGIKAYHIIyFZBgAABAgQIECBAgAABAgQIECBAgAABAgQIECBAYNQFBJOjXgPsPwECBAgQIECAAAECBAgQIECAAAECBAgQIECAAIEhCAgmh4BsFQQIECBAgAABAgQIECBAgAABAgQIECBAgAABAgRGXUAwOeo1wP4TIECAAAECBAgQIECAAAECBAgQIECAAAECBAgQGIKAYHIIyFZBgAABAgQIECBAgAABAgQIECBAgAABAgQIECBAYNQFBJOjXgPsPwECBAgQIECAAAECBAgQIECAAAECBAgQIECAAIEhCAgmh4BsFQQIECBAgAABAgQIECBAgAABAgQIECBAgAABAgRGXUAwOeo1wP4TIECAAAECBAgQIECAAAECBAgQIECAAAECBAgQGIKAYHIIyFZBgAABAgQIECBAgAABAgQIECBAgAABAgQIECBAYNQFBJOjXgPsPwECBAgQIECAAAECBAgQIECAAAECBAgQIECAAIEhCAgmh4BsFQQIECBAgAABAgQIECBAgAABAgQIECBAgAABAgRGXUAwOeo1wP4TIECAAAECBAgQIECAAAECBAgQIECAAAECBAgQGIKAYHIIyFZBgAABAgQIECBAgAABAgQIECBAgAABAgQIECBAYNQFBJOjXgPsPwECBAgQIECAAAECBAgQIECAAAECBAgQIECAAIEhCAgmh4BsFQQIECBAgAABAgQIECBAgAABAgQIECBAgAABAgRGXUAwOeo1wP4TIECAAAECBAgQIECAAAECBAgQIECAAAECBAgQGIKAYHIIyFZBgAABAgQIECBAgAABAgQIECBAgAABAgQIECBAYNQFBJOjXgPsPwECBAgQIECAAAECBAgQIECAAAECBAgQIECAAIEhCAgmh4BsFQQIECBAgAABAgQIECBAgAABAgQIECBAgAABAgRGXUAwOeo1wP4TIECAAAECBAgQIECAAAECBAgQIECAAAECBAgQGIKAYHIIyFZBgAABAgQIECBAgAABAgQIECBAgAABAgQIECBAYNQFlhgVgDPOOKN84xvf6HZ3iSWWKOutt155yUteUlZZZZWhEBx44IHl9ttvH7euQw89tCy++OLdsC996Uvl7LPPLvfcc0/Zbrvtyktf+tLetBdeeGE57rjjyjbbbNMNr/OccMIJZdasWWXnnXfuTesNAQIECBAgQIAAAQIECBAgQIAAAQIECBAgQIAAgekoMDItJq+44ory+z/8oWy22WZl+eWXL+d8/etlt912Kxk+jHLxxRd3IeiTnvSkUv8SKqace+655cgjjyxrrbVW2Xjjjcuxxx5bTjvttG5cwsyDDz64PPvZzy6nnHpqueCCC7rhN954YznppJPKlltu2X32HwIECBAgQIAAAQIECBAgQIAAAQIECBAgQIAAAQLTWWBkWkzmIDxsLJDcfffdu+Pxpz/9qbziFa8op46Ffe985zu7YVdffXW57LLLuvfPetazugCz+zD2nxtuuKF8//vfL/fee2/ZYIMNyrrrrtuNyuef/vSn5aqrriqrrbZaefrTn16WXXbZOlv3+uc//7l73WOPPcpjHvOYcePy4eijj+7m23fffbtxSyy5ZPnsZz9bXvziF5ef/exnZcUVV+xaSmb7LrroopJt+9jHPlY23XTTsvbaa8+xPAMIECBAgAABAgQIECBAgAABAgQIECBAgAABAgQITDeBkQomW/yHPvSh5eEPf3i54447usHnnHNOOeyww8rqq69e/ud//qcLCz/+8Y+Xxz/+8V0I+M1vfrM8+tGPLnfffXf5zGc+U44//vju/Rve8IbykIc8pAslf/e735Uf/vCHJd22tuXmm2/uPg7qNnb27NndNmy77ba9WbYfax15xumnl9tuu63cdNNNvaBzhRVWKL/61a/K5ZdfXi655JIuvOzN5A0BAgQIECBAgAABAgQIECBAgAABAgQIECBAgACBaSwwssFkgsgEhjvttFN3eNIKceutty7LLLNM9/lVr3pVOeuss8qb3/zm8u1vf7u88IUvLHvttVc37r777uueDZnuVvM+XarW5z7mc3+55ZZbukFpoXn//feXBIxpDZlnXNbQctVVV+3NlpaXKddff33ZZJNNuhA0AWZaTKaV5CGHHNJt6+GHH9611txxxx1LWmNOVK679pqJRhk+RIE77y9l9uz/7b53iKu1qmkm8Md77i2L+py8bazF+N3q4jSrGYtmc34z1sX5UkstuWhWPrbWe2++RV1cZPrTa8W3/uWuMmsR/3vltrvuUR+nV7VYZFtz/fXXlVljz6RXHlwCiy22WPf/Yg+uvbI3s8d6MPLvWvUgAvkeX9T/n+VIECBAgAABAgQIzJvASP0fd57LmEDwrrvu6nSe+tSndp/zYcmx7lNTfvCDH5Rf/vKX3edrrvnfQC/hYELKv/zlL2XnnXcuNUTcYostyqc//eny+te/vuy6667lmc98Zi+g7Bb21/9suOGGXXexCRzTAjKhaOZ72MMeVtZff/1uqiWamx91W+68887umZMJMl/6speV2WOhZoLJ7McOO+zQPYcyz5/853/+5y44rYFmu+68zzMtlUUvcMtYF7/3zxqZx7ouevBpugXLr7DiIj8nr3vEI8tvHrL0NBWyWcMUeMLYs40fuvYThrnKceu664Yby23q4jiTUf2wyiqrlicu4n+v3DfWk8at6uOoVsFx+51HNiz21/83GDfCBwIEpp3A/ffcU2527Z52x2VRbNBKY9/j7n0sCnnrJECAAAECBAhMXmCkgskEgXvvvXdZeeWVy+Me97he68iwffjDHy7nn39+173rOuus0z1LsnK+613vKmeeeWY55ZRTulAxLSsTBuZ5kUceeWT55Cc/2bViPOKII8r73ve+st5669VZu9f8OvdpT3ta9/4JT3hCecpTnlJe/vKXd+vbZpttuuFpOZltSkl4mZKuZlPSdexPfvKTkoBzl1126f7SnetGG23UrStB6Y9+9KPy/Oc/v5vefwgQIECAAAECBAgQIECAAAECBAgQIECAAAECBAhMN4GRar619NJLl6222qr7FV3tsjUHJC0jzzvvvJLnRX7uc58rCSITJtYya9asrsvXE088sey3335d164XXXRRNzrh5Hvf+96ScSuuuGL56Ec/Wmeb62uecZlnU6YL2Lxeeumlvenz/MiUNdZYozds8803L6ePPXcy25UuYO8d67Kmdh+b13vGfimqECBAgAABAgQIECBAgAABAgQIECBAgAABAgQIEJiuAv+Xvk3XLRzCdiUkTLn77ru77lrz7Mhbb721t+Z0vXr77bePPR9wdll++eW74UsttVS58soru0Axz41MYJjgs4aFvZnH3nzve98r3/nOd7pl/2ns2W4nnHBC1x1rbS35ghe8oOuW9bLLLivXXntt183r2muvXZYd6/qzlnTrmvAzLT4TlKZL10x/2223lRtuuKH7XKf1SoAAAQIECBAgQIAAAQIECBAgQIAAAQIECBAgQGC6CYxUV64T4T/iEY8oeV7kscce2/0lEEzXq7VL1eOPP74ceuihvdk322yzrlvVBJbt8KWXWaa848ADe9PVN7fcckvX5WuCzZS0kNxzzz271pv5vNtuu3Uh5/7779+Fn6usskrXCjPjakl3sY961KN686Q72a985Svl1a9+dbfttRvYOr1XAgQIECBAgAABAgQIECBAgAABAgQIECBAgAABAtNJYGSCyTwTcm7loIMOKmmVmBaNCQbbku5d0zLxL3/5S1lttdV63bxuv/32Ja0eb7zxxq4lZW1N2c6b93n24/Oe97ySgHLJJZcsedZlW9LK8uCDD+5abKbV5nLLLdeO7t7vs88+44al29g83/KOO+4YOP24iX0gQIAAAQIECBAgQIAAAQIECBAgQIAAAQIECBAgsIgFRiaYnBfnPHeyffZkO0+CwEFliSWWKKuvvvqgUeOGpfvVlVdeedyw/g/pHjZ/kymDQszJzG9aAgQIECBAgAABAgQIECBAgAABAgQIECBAgAABAsMQ8IzJYShbBwECBAgQIECAAAECBAgQIECAAAECBAgQIECAAIERFxBMjngFsPsECBAgQIAAAQIECBAgQIAAAQIECBAgQIAAAQIEhiEgmByGsnUQIECAAAECBAgQIECAAAECBAgQIECAAAECBAgQGHEBweSIVwC7T4AAAQIECBAgQIAAAQIECBAgQIAAAQIECBAgQGAYAoLJYShbBwECBAgQIECAAAECBAgQIECAAAECBAgQIECAAIERFxBMjngFsPsECBAgQIAAAQIECBAgQIAAAQIECBAgQIAAAQIEhiEgmByGsnUQIECAAAECBAgQIECAAAECBAgQIECAAAECBAgQGHEBweSIVwC7T4AAAQIECBAgQIAAAQIECBAgQIAAAQIECBAgQGAYAoLJYShbBwECBAgQIECAAAECBAgQIECAAAECBAgQIECAAIERFxBMjngFsPsECBAgQIAAAQIECBAgQIAAAQIECBAgQIDA1AROPfXUsuuuu5Zrr7123AJuvfXWcvzxx5eXv/zl5S1veUu58MILy+zZs3vT/PnPfy4HHHBA2XHHHctRRx3VG17fHHLIISXLVgg82AQEkw+2I2p/CBAgQIAAAQIECBAgQIAAAQIECBAgQIAAgYUucMUVV3TB43HHHVduueWW3vruv//+8rznPa/ssssuZckll+xCya233rqccMIJvWk+/OEPlyOOOKKsueaa5Y1vfGM555xzeuO+//3vl7e+9a1l/fXX7w3zhsCDRUAw+WA5kvaDAAECBAgQIECAAAECBAgQIECAAAECBAgQGIrAPffc0wWPG2200RzrS0vJhIvf+c53ujDyhz/8Yfn7v//78qY3vamkJWXKBRdcUD7wgQ+Uww47rFtOpk1Jq8qEkpn+yU9+cjfMfwg8mAQEkw+mo2lfCBAgQIAAAQIECBAgQIAAAQIECBAgQIAAgYUu8G//9m/l8ssvLwcffPAc6zrllFPKVlttVZ7+9Kf3xu23337lj3/8Yzn//PPLfffdV84999zyhCc8oRu/3nrrdUFlPpx22mldoPnud7+7N683BB5MAoLJB9PRtC8ECBAgQIAAAQIECBAgQIAAAQIECBAgQIDAQhVIa8iDDjqonHTSSWW11VabY1153uSmm246bngNIa+77rqy2GKLleWXX77cfffd3TR33XVX9zmv+++/f/mXf/mXssIKK5Trr79+3HMpxy3QBwIzVEAwOUMPnM0mQIAAAQIECBAgQIAAAQIECBAgQIAAAQIEhiuQVo+vfvWry957712e//znD1z5ZZddVh7xiEeMGzdr1qyyxhprlISWeb/99tuXSy+9tJvmoosuKk972tPKMcccU+64447u2ZIPfehDu+dPPuUpTym33377uGX5QGAmCwgmZ/LRs+0ECBAgQIAAAQIECBAgQIAAAQIECBAgQIDA0AT23XffssQSS5QPfvCDA9d57733dsOXXHLJOcYvu+yy5U9/+lM3/LnPfW55xzveUZ7xjGeUs846q2yyySbd5yz3uOOOK7vttlsXXKbV5HnnnTfHsgwgMFMFBJMz9cjZbgIECBAgQIAAAQIECBAgQIAAAQIECBAgQGBoAmeccUb51Kc+VU444YSyzDLLdN2s3n///d368zp79uwutFxrrbXKzTffPMd2/f73vy8rr7xyN/z1r399Ofnkk8u2227bPXcy4ePjH//48prXvKZ84xvfKC972cvKk5/85PKc5zynfPe7351jWQYQmKkCS8zUDbfdBAgQIECAAAECBAgQIECAAAECBAgQIECAAIFhCRx11FHdqrbYYos5Vrnlllt2z4lMt6vrrLNO+fWvfz1umnTRmm5g2y5eX/GKV3TTXHPNNeVDH/pQ+frXv95Nk+lWX331btxjHvOYcvHFF49blg8EZrKAYHImHz3bToAAAQIECBAgQIAAAQIECBAgQIAAAQIECAxF4F3velfZa6+9xq3ryiuvLAcccEA5+OCDywYbbNCNS0j5/ve/vxx66KFltdVW64allWXKdttt1722/0mXrjvssENvXOb57W9/WzbddNNy3XXXlQ033LCd3HsCM1pAMDmjD5+NJ0CAAAECBAgQIECAAAECBAgQIECAAAECBIYhsNVWW82xmp/85CfdsASOm2++efd+v/32K0cffXTZddddy1ve8pau9eS73/3ukvk32mijccv4wQ9+0HXp+vOf/7w3PMvKcybTujLduh5zzDG9cd4QmOkCnjE504+g7SdAgAABAgQIECBAgAABAgQIECBAgAABAgQWicCsWbO69dbXfFhhhRXKF77whW54nhGZ50kmtDzrrLO6Ye1/0tpyzz33HNcqcp999ilf/epXS1peplvYbbbZpp3FewIzWkCLyRl9+Gw8AQIECBAgQIAAAQIECBAgQIAAAQIECBAgsKgENttsszJ79uw5Vr/11luXr33ta+XWW28tSy+9dFlmmWXmmCYDvvWtb80x/KlPfWq5+eabu79HPvKRc4w3gMBMFhBMzuSjZ9sJECBAgAABAgQIECBAgAABAgQIECBAgACBaSuw0korTWnbllxyySKUnBKdmaa5gK5cp/kBsnkECBAgQIAAAQIECBAgQIAAAQIECBAgQIAAAQIEHgwCgskHw1G0DwQIECBAgAABAgQIECBAgAABAgQIECBAgAABAgSmuYBgcpofIJtHgAABAgQIECBAgAABAgQIECBAgAABAgQIECBA4MEg4BmTD4ajaB8IECBAgAABAgQIECBAgAABAgQIECBAgMA0EvjD184pd9908zTaIpuyKARmLb54ecyrXr4oVm2d01RAMDlND4zNIkCAAAECBAgQIECAAAECBAgQIECAAAECM1Xghq99vfzx8itm6ubb7gUksNgySwsmF5DlTF/M7Nmzy/33318EkzP9SNp+AgQIECBAgAABAgQIECBAgAABAgQIECBAgAABAtNUIIHkvffeWy658priGZPT9CDZLAIECBAgQIAAAQIECBAgQIAAAQIECBAgQIAAAQIzWSAtJRNKXnz5VWWzJ68rmJzJB9O2EyBAgAABAgQIECBAgAABAgQIECBAgAABAgQIEJiuAmkteeedd5bZsxYvB3/qZMHkdD1QtosAAQIECBAgQIAAAQIECBAgQIAAAQIECBAgQIDATBWoz5W84447yhYbrFu+/eOfCyZn6sG03QQIECBAgAABAgQIECBAgAABAgQIECBAgMD/b+9OgKSqzgUAn2FAEUEICkJERXCPQY1lXGMUcFeiiPpQXCoa9yhGDe7l9iwrRsUlMZhU0CgalxCNJoVxiRI1cUOMK5qKLFGRJeIuQeXNuXkzzgSYGYbp7nNvf7dqmJ7u2/f+5/tPMz3933MOAQIEUhaIIyY//fTTUFNTk03pao3JlLMlNgIECBAgQIAAAQIECBAgQIAAAQIECBAgQIAAAQI5FYijJj///PMs+i/qbitM5jSRwiZAgAABAgQIECBAgAABAgQIECBAgAABAgQIECCQukAsTmabwmTqqRIfAQIECBAgQIAAAQIECBAgQIAAAQIECBAgQIAAgWIIGDFZjDxqBQECBAgQIECAAAECBAgQIECAAAECBAgQIECAAIGkBRQmk06P4AgQIECAAAECBAgQIECAAAECBAgQIECAAAECBAgUQ0Bhshh51AoCBAgQIECAAAECBAgQIECAAAECBAgQIECAAAECSQsoTCadHsERIECAAAECBAgQIECAAAECBAgQIECAAAECBAgQKIaAwmQx8qgVBAgQIECAAAECBAgQIECAAAECBAgQIECAAAECBJIWUJhMOj2CI0CAAAECBAgQIECAAAECBAgQIECAAAECBAgQIFAMAYXJYuRRKwgQIECAAAECBAgQIECAAAECBAgQIECAAAECBAgkLaAwmXR6BEeAAAECBAgQIECAAAECBAgQIECAAAECBAgQIECgGAIKk8XIo1YQIECAAAECBAgQIECAAAECBAgQIECAAAECBAgQSFpAYTLp9AiOAAECBAgQIECAAAECBAgQIECAAAECBAgQIECAQDEEFCaLkUetIECAAAECBAgQIECAAAECBAgQIECAAAECBAgQIJC0gMJk0ukRHAECBAgQIECAAAECBAgQIECAAAECBAgQIECAAIFiCChMFiOPWkGAAAECBAgQIECAAAECBAgQIECAAAECBAgQIEAgaQGFyaTTIzgCBAgQIECAAAECBAgQIECAAAECBAgQIECAAAECxRBQmCxGHrWCAAECBAgQIECAAAECBAgQIECAAAECBAgQIECAQNICCpNJp0dwBAgQIECAAAECBAgQIECAAAECBAgQIECAAAECBIohoDBZjDxqBQECBAgQIECAAAECBAgQIECAAAECBAgQIECAAIGkBRQmk06P4AgQIECAAAECBAgQIECAAAECBAgQIECAAAECBAgUQ0Bhshh51AoCBAgQIECAAAECBAgQIECAAAECBAgQIECAAAECSQsoTCadHsERIECAAAECBAgQIECAAAECBAgQIECAAAECBAgQKIaAwmQx8qgVBAgQIECAAAECBAgQIECAAAECBAgQIECAAAECBJIWUJhMOj2CI0CAAAECBAgQIECAAAECBAgQIECAAAECBAgQIFAMAYXJYuRRKwgQIECAAAECBAgQIECAAAECBAgQIECAAAECBAgkLaAwmXR6BEeAAAECBAgQIECAAAECBAgQIECAAAECBAgQIECgGAIKk8XIo1YQIECAAAECBAgQIECAAAECBAgQIECAAAECBAgQSFpAYTLp9AiOAAECBAgQIECAAAECBAgQIECAAAECBAgQIECAQDEEFCaLkUetIECAAAECBAgQIECAAAECBAgQIECAAAECBAgQIJC0gMJk0ukRHAECBAgQIECAAAECBAgQIECAAAECBAgQIECAAIFiCChMFiOPWkGAAAECBAgQIECAAAECBAgQIECAAAECBAgQIEAgaQGFyaTTIzgCBAgQIECAAAECBAgQIECAAAECBAgQIECAAAECxRBQmCxGHrWCAAECBAgQIECAAAECBAgQIECAAAECBAgQIECAQNICCpNJp0dwBAgQIECAAAECBAgQIECAAAECBAgQIECAAAECBIohoDBZjDxqBQECBAgQIECAAAECBAgQIECAAAECBAgQIECAAIGkBRQmk06P4AgQIECAAAECBAgQIECAAAECBAgQIECAAAECBAgUQ0Bhshh51AoCBAgQIECAAAECBAgQIECAAAECBAgQIECAAAECSQsoTCadHsERIECAAAECBAgQIECAAAECBAgQIECAAAECBAgQKIaAwmQx8qgVBAgQIECAAAECBAgQIECAAAECBAgQIECAAAECBJIWUJhMOj2CI0CAAAECBAgQIECAAAECBAgQIECAAAECBAgQIFAMAYXJYuRRKwgQIECAAAECBAgQIECAAAECBAgQIECAAAECBAgkLaAwmXR6BEeAAAECBAgQIECAAAECBAgQIECAAAECBAgQIECgGAIKk8XIo1YQIECAAAECBAgQIECAAAECBAgQIECAAAECBAgQSFpAYTLp9AiOAAECBAgQIECAAAECBAgQIECAAAECBAgQIECAQDEEFCaLkUetIECAAAECBAgQIECAAAECBAgQIECAAAECBAgQIJC0gMJk0ukRHAECBAgQIECAAAECBAgQIECAAAECBAgQIECAAIFiCChMFiOPWkGAAAECBAgQIECAAAECBAgQIECAAAECBAgQIEAgaQGFyaTTIzgCBAgQIECAAAECBAgQIECAAAECBAgQIECAAAECxRBQmCxGHrWCAAECBAgQIECAAAECBAgQIECAAAECBAgQIECAQNICCpNJp0dwBAgQIECAAAECBAgQIECAAAECBAgQIECAAAECBIohoDBZjDxqBQECBAgQIECAAAECBAgQIECAAAECBAgQIECAAIGkBRQmk06P4AgQIECAAAECBAgQIECAAAECBAgQIECAAAECBAgUQ0Bhshh51AoCBAgQIECAAAECBAgQIECAAAECBAgQIECAAAECSQsoTCadHsERIECAAAECBAgQIECAAAECBAgQIECAAAECBAgQKIaAwmQx8qgVBAgQIECAAAECBAgQIECAAAECBAgQIECAAAECBJIWUJhMOj2CI0CAAAECBAgQIECAAAECBAgQIECAAAECBAgQIFAMAYXJYuRRKwgQIECAAAECBAgQIECAAAECBAgQIECAAAECBAgkLaAwmXR6BEeAAAECBAgQIECAAAECBAgQIECAAAECBAgQIECgGAIKk8XIo1YQIECAAAECBAgQIECAAAECBAgQIECAAAECBAgQSFpAYTLp9AiOAAECBAgQIECAAAECBAgQIECAAAECBAgQIECAQDEEFCaLkUetIECAAAECBAgQIECAAAECBAgQIECAAAECBAgQIJC0gMJk0ukRHAECBAgQIECAAAECBAgQIECAAAECBAgQIECAAIFiCChMFiOPWkGAAAECBAgQIECAAAECBAgQIECAAAECBAgQIEAgaQGFyaTTIzgCBAgQIECAAAECBAgQIECAAAECBAgQIECAAAECxRBQmCxGHrWCAAECBAgQIECAAAECBAgQIECAAAECBAgQIECAQNICCpNJp0dwBAgQIECAAAECBAgQIECAAAECBAgQIECAAAECBIohoDBZjDxqBQECBAgQIECAAAECBAgQIECAAAECBAgQIECAAIGkBRQmk06P4AgQIECAAAECBAgQIECAAAECBAgQIECAAAECBAgUQ0Bhshh51AoCBAgQIECAAAECBAgQIECAAAECBAgQIECAAAECSQsoTCadHsERIECAAAECBAgQIECAAAECBAgQIECAAAECBAgQKIaAwmQx8qgVBAgQIECAAAECBAgQIECAAAECBAgQIECAAAECBJIWUJhMOj2CI0CAAAECBAgQIECAAAECBAgQIECAAAECBAgQIFAMAYXJYuRRKwgQIECAAAECBAgQIECAAAECBAgQIECAAAECBAgkLaAwmXR6BEeAAAECBAgQIECAAAECBAgQIECAAAECBAgQIECgGAIKk8XIo1YQIECAAAECBAgQIECAAAECBAgQIECAAAECBAgQSE6gpqYmLF68OIS67wqTyaVHQAQIECBAgAABAgQIECBAgAABAgQIECBAgAABAgTyLxCLkrW1teGpF14NO39zS4XJ/KdUCwgQIECAAAECBAgQIECAAAECBAgQIECAAAECBAikJ9ChQ4fQuXPnMOftt8I5xxyiMJleikREgAABAgQIECBAgAABAgQIECBAgAABAgQIECBAIN8CcbRkLEx27do1rNu3V/jNfZNCx3w3SfQECBAgQIAAAQIECBAgQIAAAQIECBAgQIAAAQIECKQoEAuTq6yySujbt28WnsJkilkSEwECBAgQIECAAAECBAgQIECAAAECBAgQIECAAIGcC8RRkx07dgzdu3cPnTp1MpVrzvMpfAIECBAgQIAAAQIECBAgQIAAAQIECBAgQIAAAQLJCsRRk7Eo2a1bN4XJZLMkMAIECBAgQIAAAQIECBAgQIAAAQIECBAgQIAAAQIFEIgjJ2traxUmC5BLTSBAgAABAgQIECBAgAABAgQIECBAgAABAgQIECCQvECH5CMUIAECBAgQIECAAAECBAgQIECAAAECBAgQIECAAAECuRdQmMx9CjWAAAECBAgQIECAAAECBAgQIECAAAECBAgQIECAQPoCCpPp50iEBAgQIECAAAECBAgQIECAAAECBAgQIECAAAECBHIvoDCZ+xRqAAECBAgQIECAAAECBAgQIECAAAECBAgQIECAAIH0BRQm08+RCAkQIECAAAECBAgQIECAAAECBAgQIECAAAECBAjkXkBhMvcp1AACBAgQIECAAAECBAgQIECAAAECBAgQIECAAAEC6QsoTKafIxESIECAAAECBAgQIECAAAECBAgQIECAAAECBAgQyL2AwmTuU6gBBAgQIECAAAECBAgQIECAAAECBAgQIECAAAECBNIXUJhMP0ciJECAAAECBAgQIECAAAECBAgQIECAAAECBAgQIJB7AYXJ3KdQAwgQIECAAAECBAgQIECAAAECBAgQIECAAAECBAikL6AwmX6OREiAAAECBAgQIECAAAECBAgQIECAAAECBAgQIEAg9wIKk7lPoQYQIECAAAECBAgQIECAAAECBAgQIECAAAECBAgQSF9AYTL9HImQAAECBAgQIECAAAECBAgQIECAAAECBAgQIECAQO4FFCZzn0INIECAAAECBAgQIECAAAECBAgQIECAAAECBAgQIJC+gMJk+jkSIQECBAgQIECAAAECBAgQIECAAAECBAgQIECAAIHcCyhM5j6FGkCAAAECBAgQIECAAAECBAgQIECAAAECBAgQIEAgfQGFyfRzJEICBAgQIECAAAECBAgQIECAAAECBAgQIECAAAECuRdQmMx9CjWAAAECBAgQIECAAAECBAgQIECAAAECBAgQIECAQPoCCpPp50iEBAgQIECAAAECBAgQIECAAAECBAgQIECAAAECBHIvoDCZ+xRqAAECBAgQIECAAAECBAgQIECAAAECBAgQIECAAIH0BRQm08+RCAkQIECAAAECBAgQIECAAAECBAgQIECAAAECBAjkXkBhMvcp1AACBAgQIECAAAECBAgQIECAAAECBAgQIECAAAEC6QsoTKafIxESIECAAAECBAgQIECAAAECBAgQIECAAAECBAgQyL2AwmTuU6gBBAgQIECAAAECBAgQIECAAAECBAgQIECAAAECBNIXUJhMP0ciJECAAAECBAgQIECAAAECBAgQIECAAAECBAgQIJB7AYXJ3KdQAwgQIECAAAECBAgQIECAAAECBAgQIECAAAECBAikL6AwmX6OREiAAAECBAgQIECAAAECBAgQIECAAAECBAgQIEAg9wIKk7lPoQYQIECAAAECBAgQIECAAAECBAgQIECAAAECBAgQSF9AYTL9HImQAAECBAgQIECAAAECBAgQIECAAAECBAgQIECAQO4FFCZzn0INIECAAAECBAgQIECAAAECBAgQIECAAAECBAgQIJC+gMJk+jkSIQECBAgQIECAAAECBAgQIECAAAECBAgQIECAAIHcCyhM5j6FGkCAAAECBAgQIECAAAECBAgQIECAAAECBAgQIEAgfQGFyfRzJEICBAgQIECAAAECBAgQIECAAAECBAgQIECAAAECuRdQmMx9CjWAAAECBAgQIECAAAECBAgQIECAAAECBAgQIECAQPoCCpPp50iEBAgQIECAAAECBAgQIECAAAECBAgQIECAAAECBHIvoDCZ+xRqAAECBAgQIECAAAECBAgQIECAAAECBAgQIECAAIH0BRQm08+RCAkQIECAAAECBAgQIECAAAECBAgQIECAAAECBAjkXkBhMvcp1AACBAgQIECAAAECBAgQIECAAAECBAgQIECAAAEC6QsoTKafIxESIECAAAECBAgQIECAAAECBAgQIECAAAECBAgQyL2AwmTuU6gBBAgQIECAAAECBAgQIECAAAECBAgQIECAAAECBNIXUJhMP0ciJECAAAECBAgQIECAAAECBAgQIECAAAECBAgQIJB7AYXJ3KdQAwgQIECAAAECBAgQIECAAAECBAgQIECAAAECBAikL6AwmX6OREiAAAECBAgQIECAAAECBAgQIECAAAECBAgQIEAg9wIKk7lPoQYQIECAAAECBAgQIECAAAECBAgQIECAAAECBAgQSF+gY/ohVkeE9913X7j//vvDokWLwtChQ8OIESMaGv7YY4+Fm2++OQwePDi7v7a2NntswoQJoaamJhxyyCEN+7pBgAABAgQIECBAgAABAgQIECBAgAABAgQIECBAIEUBIyYTyMrDDz8crr/++jBgwICw+eabhxtvvDFMnDgxi+z9998Pl112Wdh1113DHXfeGSZPnpzdP2fOnHDbbbeFb37zmwm0QAgECBAgQIAAAQIECBAgQIAAAQIECBAgQIAAAQIEmhcwYrJ5n7I8Om7cuLD99tuHU089NTtfx06dwk033RSGDx8epk6dGnr06JGNlPz73/8epkyZEnbZZZdw1VVXhS233DKsv/76ZYnRSQgQIECAAAECBAgQIECAAAECBAgQIECAAAECBAisiIARkyui1w7PXbx4cfjwww/DkCFDGo62W93oyM8++ywsWLAgzJs3L3Tp0iV7rHv37tnPr776anjhhRfC6NGjG57jBgECBAgQIECAAAECBAgQIECAAAECBAgQIECAAIGUBWrqCmOLUw6w6LHFwuMRRxwRrrnmmjBw4MCsuZ988kk2QvLSSy8N3bp1C6effnr4zW9+k32PoyQfffTRbKRk3O+5554Lw4YNC0cdddRSqY455pil3u9OAgQIECBAgAABAgQIECBAgAABAgQIECBAgACB6hG44YYbKt5YU7lWOAULFy7MIujY8ctUdKqbyjVusfAY15yMIyVHHHhgWPzFF9n0rXF9yT333DNbhzKuPzlmzJiw7777ht69e2fPa/xPCp2scTxuEyBAgAABAgQIECBAgAABAgQIECBAgAABAgQIVKeAqVwrnPc+ffpkEcyfP78hkjiKMm49e/bMvo8fPz6cfdZZ4de//nW49957w2GHHRbidK6DBg0Km2yySejVq1d4+umns339Q4AAAQIECBAgQIAAAQIECBAgQIAAAQIECBAgQCBFAYXJCmeltrY2rLzyyuHFF19siCSuHxm3fv36Ndy31VZbhd/+9rehQ4cO4YADDsjWoIzPjVv8vmjRooZ93SBAgAABAgQIECBAgAABAgQIECBAgAABAgQIECCQmoDCZAIZ2WeffbJpWV9++eXwxhtvhF/+8pfZGpJdunRpiC5O63rrrbeGk046KdTU1GRTusb9FyxYEN55553s54ad3SBAgAABAgQIECBAgAABAgQIECBAgAABAgQIECCQmMCXCxsmFlg1hXPEEUeE1157Lfzwhz8MixcvDmussUa48MILmxD84he/CH379g077LBDdv+3vvWt8Ic//CEceuihYeuttw7rrrtuk/39QIAAAQIECBAgQKCtAvE96eeffx4ar4Pe1mN5HgECBAgQIECAAAECBAgQIECgXqCm7kOHxfU/+F5ZgX//+98hfnXt2rXVgXz44YfLtX+rD2xHAgQIFFTgX//6V1hppZWW+L8z/v/7ox/9KJx22mlhlVVWKWjrNSslgbfeeit07949rLrqqllYzz77bJg6dWrYbrvtwqabbppSqGKpQoHHH388XHHFFdmsHlXYfE1ORGDWrFnh0UcfzaLZcccdQ//+/ROJTBgE0hCIH+dMnz49xOVg3n333bD22muHr3/966FXr16tCjA+7/bbbw+XXHLJEvv/5S9/Cbfcckv2vjheRN27d+8l9nEHAQIrLhD/Dn377bdbdaB11lknm0WtVTvbiQCBigl4XVeM3olzJKAwmaNkCZUAAQIE2i4Qp8Q+4YQTwpw5c7KDxA9Xzj///LDeeutlP8epseMo9Jtvvjn07Nmz7SfyTAItCMS+Fj/ge/PNN7M948wJs2fPDvfff3/2QUP8kPGoo44Kw4cPb+FIHiaw4gLxA+nnn39+iQPNnTs3+5Bs0KBB2WPnnntuaLzMwBJPcAeBFRSIhfDYx44//vjsSC+++GI488wzsxll4sjdzz77LLt4aPDgwSt4Jk8nUAyBGTNmhB/UXVD3ad173LjcS9zqrzvfeeedww9+8INQW1sbnnjiifDpp5+Gpb12nnnmmXDBBReEDh06ZF977rlnOPbYY8MXX3wR9ttvv+x9cryoL27xPbKNAIH2F4jvw84+++xWHdjfqq1ishOBigt4XVc8BQLIgYCpXHOQJCESyKtA/EU8c+bMFsOPfwCbKq5FJjusoMDPf/7z7EryE088MSs8xnV7v//974f4Yfu22267gkf3dAKtF3jooYeyvhgL4/Hq6Li2dPxA8Mc//nHYYIMNwk9/+tNw4403Kky2ntSeKyAQ1yyPv6+/+tWvZssJ1H+oXX/I+OF03P77/vrHfSfQXgJxtFe8iKh+GzduXLaURSxYrrbaaiH+fPXVVy+1uFL/HN8JVItAfP8Q38fGC+xOOeWUMGDAgKzpsYh43333ZaMg40xMG220UTb6/bjjjlsqTSz4x//fhw4dGnr06BHuuuuusNtuu2WvxTid95VXXhk++uijcMghh2QXVK211lpLPY47CRBou8Bmm20W4vJNrdni69RGgED6Al7X6edIhJUXUJisfA5EQKCwAnfffXd46qmnQqdOnZptY1wz1RvsZok82A4C06ZNC7vsskvYa6+9sqPFYmQsCF188cXZiIw47ZWNQDkEJk+enH2wvs0222Sn+/Of/xzmzZsXNtlkk+znUaNGZaMn4+he06aVIyPVfY5YIL/uuuvCAw88EOLv48MPPzwDeeyxx7Ji+WWXXVbdQFpfMYG36govI0jvvjAAABkgSURBVP/nf7KiZAwijiT/3e9+l8184P/GiqXFiRMR+NOf/pS9Nq666qrs4qb6sOKsH/H/8VjMjxflxSLllltu2fD+t36/+u/17zVOPvnk7K44LeyDDz4Y4mj5OAozjriMx4pfcQp6hcl6Od8JtJ9AfJ317du3/Q7oSAQIVFzA67riKRBADgQUJnOQJCESyKtAnDYzrpm2//77hzhVoY1AJQXiupJxnv/G23e/+91srcn4wfuyriRvvL/bBNpDIPbFOEKyfotrpjUejRY/VIx/yMRipQ/f65V8L5VA7GtxtM1OO+0ULvnf/82m/FvaWmOlOr/jEmgsUD9CN963uG60bv0osPhznF0jFkrmz5/v/8YIYqtqgaeffjpsvfXWTd5PNAaJF+PFwmQcCXnqqac2fqjJ7X79+oU4yvL999/P1pJ84403wjvvvBNWXnnl7L1JHDUZf08srHsPXb8mdpMD+IEAgXYXiLNZxAtxXn/99SWOPXbs2NCtW7cl7ncHAQJpC3hdp50f0VVG4MtPxSpzfmclQKDAAr169QrnnHNOuOOOO8KsWbMK3FJNy4NAHAkUR6Z98MEHTcI96KCDslEYP/vZz5rc7wcCpRKI07o8+uijDcXIWBDad999G04X16CMHwTG/0NtBMolEEfU3FK3ftgaa6wR4kUbDz/8cLlO7TwEGgSefPLJsPfee2dr2y1cuLBhLd64Q3wvGS/iMKqkgcuNKhaIxcL/fk/bmKP+gqcRI0Y0vnuJ23HGkFhwHDlyZHYxaSz8xwsE4vrDcdabOJVrnF5+Yd0alRtvvPESz3cHAQLtKxD/Bohr0b/yyiuhc+fO2bTK8TUa16OP0+5b77t9vR2NQDkEvK7LoewceRQwYjKPWRMzgRwJxKkK43ppa6+9do6iFmoRBb7zne+E1157raEY1LiNw4cPz64G/1Xdh/LWO20s43YpBA4++OAwZcqU8PHHH2cfBm6++eZNThOneo3FIYXJJix+KIPAKqusEuJoyTit67XXXrvMkThlCMUpqlAgXswWp5WMhZE4git+xQs36rc4kmvnnXc2/X89iO9VLRBHS8b1IOMakUt77/rHP/4xG2Hc0t9gsfgYL86LF6N8+OGHYciQIVnxP46gjGtLjh49OiuMHHbYYX4nVHWP0/hyCcS/EeLsKjfddFOYNGlStrxDnLI5jpKOS5DE13y8MMFGgEB+BLyu85MrkZZXQGGyvN7ORqAqBdZdd92qbLdGpyUQ/4A788wzlxlULFzGLxuBUgvEq5+vvvrqZZ5m2LBhIX7ZCFRKYNdddw1bbbVVdnV+pWJw3uoTiIXx+J5xWe8bY5GycaGy+oS0mMCXArFIP2HChHDkkUeGMWPGhI022igrZsRRVffee2+4++67wx577PHlE5ZxK04VOX78+HDAAQdk/+/X71a/rmQcOVk/nWv9Y74TIFA6gbj0SJxKOW5rrrlmmDFjRnY7XowQRzPHdWDj691GgEB+BLyu85MrkZZXQGGyvN7ORqDqBOKUhLfddlu2PsLcuXPDp3XTAMU32nE9k7322ssHTFXXIyrbYP2xsv7O/qWAvvilhVuVF9AfK58DEfxHQF/UEwi0TiAWLH7yk5+E0047bakX3sUlDE488cQWDxaniPznP/8Zzj///NC57uKAoXUjJmORsvEa10ZntchoBwLtJrDJJptka77GtV433HDDEAsa119/fYhr0McpmldfffV2O5cDESBQHgGv6/I4O0v+BGrqfrEtzl/YIiZAIA8CcS2g448/PpteKK5dFd9Ex5FCcWquOB3XzJkzw7e//e1sDYU8tEeM+RbQH/OdvyJFry8WKZv5b4v+mP8cFqUF+mJRMqkd5RaIr52XXnopzJs3L7v4c9CgQVkRY3niiMeYOHFimFy3Hvunn3ySLcMRZxLZfffdTeG6PJD2JdAOAs8880zYYostss9R4hqvd955Z3bUOGryggsuaIczOAQBAuUW8Lout7jz5UFAYTIPWRIjgZwKXHPNNeH5558P48aNW+raJ4888ki4/PLLszfaFnHPaZJzFLb+mKNkFTxUfbHgCc5Z8/THnCWswOHqiwVOrqaVXSBO+XjrrbeG/fffP1vPenkCePzxx8OVdWvaxQLlzXXrr8eRWjYCBConENd7ja/pbt26VS4IZyZAoM0CcUzYJ3W/Uxt/7ln/uo6zyvXq1avNx/ZEAnkW6JDn4MVOgEDaAtOmTQtxpGTHjkufNXqHHXbIGhDXQrERKLWA/lhqYcdvrYC+2Fop+5VDQH8sh7JztEZAX2yNkn0IfCkQR1IdeOCBYZ999gmnn356+Pjjj7MHX3jhhTBq1KhsOY3PPvvsyyc0cyuuI/nAAw+Ek08+OVx66aXh87rnDR48WCGkGTMPESilQCxWPP300+Gvf/1riK/pOCo63o6vVRsBAvkSmDp1ajj66KObBB2nUo8XGxx11FHZ2rFNHvQDgSoRWHq1oEoar5kECJRWYLvttgv33HNP2G233bL1ERqfbeHCheG6667L1pscMGBA44fcJlASAf2xJKwO2gYBfbENaJ5SMgH9sWS0DrycAvricoLZvaoFnn322WzWmQ022CAMHDgwPPTQQ9kUj3E0RixmrLXWWuGSSy4J3bt3b9YpLrERRytPmTIlK3jE440ZMybsuOOOpnBtVs6DBEonEKdrja/jpW1GMS9NxX0E0hZY1ip6cYa5eLGBCw7Szp/oSiegMFk6W0cmUPUCw4YNy95Qn3rqqdmUBV27dg0rrbRS+OCDD7IF3Tt06BBOOOGEqncCUB4B/bE8zs7SsoC+2LKRPconoD+Wz9qZmhfQF5v38SiBxgJxraoePXqEsWPHZnd/7WtfC1dccUV20Wf822vo0KGNd1/m7enTp4fXXnstjBgxIsQ1JRsXMl9//fWw3nrrLXP2m2Ue1AMECLRZIK4VG4uSJ510UhgyZEj2+UmbD+aJBAhUXODQQw8NCxYsyOLYe++9l4hn9dVXz37XLvGAOwhUgYA1JqsgyZpIoNIC8Sqg5557LsyaNSvU1NSEfv36ZV/bb799kznWKx2n81eHgP5YHXnOQyv1xTxkqXpi1B+rJ9ept1RfTD1D4ktB4Pzzz8/+rrrwwguzcOLaVbG4eMMNN2SjJdsaY1zz6t577w333XdfePfdd60x2VZIzyPQRoE4pfLPxo0Lv7nrrjYewdMIEEhJII6GnDRpUvjl+PHh+3UXHDTe+vTpk80uFwdt2AhUo4ARk9WYdW0mUGaBzTffPMQvG4EUBPTHFLIghiigL+oHKQnojyllo7pj0RerO/9a3zqBL774InTu3Dm89957TZ4Q15lsfN9qq62WFTCb7LSUH+IIzLvqCiEvvvhi9ugWW2wRzjjjjNCzZ8+l7O0uAgRKJRCnU/607kKDOJq5f//+pTqN4xIgUCaB2traEEdK9u3bN3zjG98o01mdhkA+BIyYzEeeREmAAAECBAgQIECAAAECBAgQCOeee242I01LFM2tRzd//vysGPnggw+GWNDs3bt3mDNnTvjVr34V4tRyNgIEyi8QRz+fcsopIU7pGqdo3nTTTUMsbNRv++23n+ld6zF8J5AjgUWLFoUrr7wyvPDCC9nSVquuumqIs8gde+yxXtM5yqNQ21fAiMn29XQ0AgQIECBAgAABAgQIECBAgEDJBE488cSscNHSCRqvGdl432uvvTabWi6uU7n77ruH/fffPxtZedhhh/mAtDGU2wTKLPDGG280vLZfeumlEL8ab7vttpvXaGMQtwnkROC4444L8YKgwYMHhzXXXDPMnDkz3H///dn3yy+/PCetECaB9hVQmGxfT0cjQIAAAQIECBAgQIAAAQIECJRMIE4JF7/ausWCZU1NTYhrSsaRWXE9SdO2tlXT8wi0n0AcITlx4sT2O6AjESBQcYEZM2aE2bNnhwkTJoR4QVD9FkdAjx49OnzwwQehW7du9Xf7TqBqBBQmqybVGkqgcgJxfYQnnngivPzyy9maJ2uttVaI65bsscceTYKKUxt06tSpyX1+INDeAvpje4s6XlsF9MW2ynleKQT0x1KoOmZbBPTFtqh5DoHlEzj88MPDwQcfHH7/+9+He+65J5s6Mk4rF7c4rasPSJfP094EVlRg1qxZIb4G47qwb7/99jIPFz9L6dChwzIf9wABAukJvP7662HllVduUpSMUcY1ZeNFQm+++WbYeOON0wtcRARKLGCNyRIDOzyBaheYNGlSiFMFdezYMfTp0ycrPMa1S+LVuXHtkrFjx2ZX515//fUhvskeNmxYtZNpfwkF9McS4jr0cgnoi8vFZecSC+iPJQZ2+FYL6IutprIjgXYViNNH3nHHHeHxxx8Pn3/+efYB6YgRI8J2223XrudxMAIEli4QLxRYZ511wsiRI8N555239J3q7m1u3dhlPskDBAhUVGDu3LnhyCOPDOecc062rmR9MA8//HC44oorslHSsXBpI1BtAgqT1ZZx7SVQRoE4QvKMM84IBx10UBg1alSTRdtfeeWVcG7dG+4N1l8/9OrVK8RfyGeddVbYcccdyxihU1WTgP5YTdlOu636Ytr5qbbo9Mdqy3i67dUX082NyKpHIBYlH3rooexD0jiCSxGkenKvpZUViFMqx8JEly5dQryQe1lbXJvOiMll6bifQLoC8YKDKVOmhK985Suhf//+2TTq8ffsXnvtFeK60TYC1ShQe0HdVo0N12YCBEovcNddd2VX3MaC43+/eY7FyLX79Qtxn3iF7jHHHBPiQu42AqUS0B9LJeu4yyugLy6vmP1LKaA/llLXsZdHQF9cHi37EiiNQPybbeDAgWGfffYJu+66a/YB6n//HVeaMzsqgeoWeOyxx7JCxXrrrZdNpbzSSiuFadOmZaOX49TK9V9x2kcbAQL5Exg8eHA2XXOcLj1O17zGGmtkoygPPPDA/DVGxATaScAak+0E6TAECCwp8Le//S0MGjRoyQf+/56tt946uxWvDopXCdkIlFJAfyylrmMvj4C+uDxa9i21gP5YamHHb62AvthaKfsRKI9A7969y3MiZyFAIEyePDkbLbnTTjtlGrNnzw4XXXRRtg4sHgIE8ikQR0jGiww222yzrAH77bdfiF82AgT+I6AwqScQIFAygTjNyIwZM5Z5/Lfeeit7bNttt13mPh4g0F4C+mN7STrOigroiysq6PntKaA/tqemY62IgL64InqeS4AAAQIECBAgkJLAxIkTswsO6guTKcUmFgIpCHRIIQgxECBQTIFtttkmxPWC4rzpS9smTJgQOnXqFHr27Lm0h91HoF0F9Md25XSwFRDQF1cAz1PbXUB/bHdSB2yjgL7YRjhPI0CAAAECBAgQIECAQM4EjJjMWcKESyBPAnEakttuuy0cf/zxYd999w2bbrpp6Nq1a7am5AMPPBBmzpwZRo8enacmiTXHAvpjjpNXsND1xYIlNOfN0R9znsACha8vFiiZmkKAAAECyy3w5ptvhkmTJmXPmzdvXva9/uf6gw0dOjR07Oij3HoP3wmkLjB9+vRw++23Nxvm8OHDs0Ebze7kQQIFFKhZXLcVsF2aRIBAIgKLFi0KF198cYjrBsXb9Vv37t3D0UcfHeIC0DYC5RLQH8sl7TwtCeiLLQl5vJwC+mM5tZ2rOQF9sTkdjxEgQIBAUQXiZyZPPvlki8275ZZbQo8ePVrczw4ECFRe4Nxzzw1Tp04NtbW1zQZz0003eV03K+TBogooTBY1s9pFIEGBBQsWhPnz54e11147WwA6wRCFVEUC+mMVJTvxpuqLiSeoysLTH6ss4Qk3V19MODlCI0CAAAECBAgQaFYgFia7dOkSzj777Gb38yCBahWwxmS1Zl67CZRRYO7cueHVV18Nq622Whg4cGBDUXLOnDnZVK7vvfdeGaNxqmoX0B+rvQek0359MZ1ciCQE/VEvSEVAX0wlE+IgQIAAAQIECBAgQIBAaQRMTF4aV0clQKBOIM4UffLJJ4d//OMfmUenTp3C2LFjsxGT48ePD3fffXdYuXNnc6nrLWUR0B/LwuwkrRDQF1uBZJeyCeiPZaN2ohYE9MUWgDxMgAABAgQIECCQG4Fu3bplAzRyE7BACZRZwFSuZQZ3OgLVJBAXar/22mvDyJEjw0YbbRRuuOGG8Mknn2RrTX700Udh7733Dt/73vcs3l5NnaKCbdUfK4jv1E0E9MUmHH6osID+WOEEOH2DgL7YQOEGAQIECBAgQIAAAQIECi1gxGSh06txBCorMG3atNCnT58watSoLJC44PN5550XNtxww3DWWWeF3r17VzZAZ68qAf2xqtKddGP1xaTTU3XB6Y9Vl/JkG6wvJpsagREgQIAAAQIECBAgQKBdBawx2a6cDkaAQGOBuEbQgAEDGu7aYoststtjxoxRlGxQcaNcAvpjuaSdpyUBfbElIY+XU0B/LKe2czUnoC82p+MxAgQIECBAgAABAgQIFEfAiMni5FJLCCQpMHv27BCn5mq8PfLII6FHjx4Ndw0ZMsQ6kw0abpRSQH8spa5jL4+Avrg8WvYttYD+WGphx2+tgL7YWin7ESBAgAABAgQIECBAIL8C1pjMb+5ETiB5gYsuuig89dRTLcZ5yy23NClUtvgEOxBog4D+2AY0TymJgL5YElYHbaOA/thGOE9rdwF9sd1JHZAAAQIECBAgQIAAAQJJCihMJpkWQREgQIAAAQIECBAgQIAAAQIECBAgQIAAAQIECBAoloA1JouVT60hQIAAAQIECBAgQIAAAQIECBAgQIAAAQIECBAgkKSAwmSSaREUAQIECBAgQIAAAQIECBAgQIAAAQIECBAgQIAAgWIJKEwWK59aQ4AAAQIECBAgQIAAAQIECBAgQIAAAQIECBAgQCBJAYXJJNMiKAIECBAgQIAAAQIECBAgQIAAAQIECBAgQIAAAQLFElCYLFY+tYYAAQIECBAgQIAAAQIECBAgQIAAAQIECBAgQIBAkgIKk0mmRVAECBAgQIAAAQIECBAgQIAAAQIECBAgQIAAAQIEiiWgMFmsfGoNAQIECBAgQIAAAQIECBAgQIAAAQIECBAgQIAAgSQFFCaTTIugCBAgQIAAAQIECBAgQIAAAQIECBAgQIAAAQIECBRLQGGyWPnUGgIECBAgQIAAAQIECBAgQIAAAQIECBAgQIAAAQJJCihMJpkWQREgQIAAAQIECBAgQIAAAQIECBAgQIAAAQIECBAoloDCZLHyqTUECBAgQIAAAQIECBAgQIAAAQIECBAgQIAAAQIEkhRQmEwyLYIiQIAAAQIECBAgQIAAAQIECBAgQIAAAQIECBAgUCwBhcli5VNrCBAgQIAAAQIECBAgQIAAAQIECBAgQIAAAQIECCQpoDCZZFoERYAAAQIECBAgQIAAAQIECBAgQIAAAQIECBAgQKBYAgqTxcqn1hAgQIAAAQIECBAgQIAAAQIECBAgQIAAAQIECBBIUkBhMsm0CIoAAQIECBAgQIAAAQIECBAgQIAAAQIECBAgQIBAsQQUJouVT60hQIAAAQIECBAgQIAAAQIECBAgQIAAAQIECBAgkKSAwmSSaREUAQIECBAgQIAAAQIECBAgQIAAAQIECBAgQIAAgWIJKEwWK59aQ4AAAQIECBAgQIAAAQIECBAgQIAAAQIECBAgQCBJAYXJJNMiKAIECBAgQIAAAQIECBAgQIAAAQIECBAgQIAAAQLFElCYLFY+tYYAAQIECBAgQIAAAQIECBAgQIAAAQIECBAgQIBAkgIKk0mmRVAECBAgQIAAAQIECBAgQIAAAQIECBAgQIAAAQIEiiWgMFmsfGoNAQIECBAgQIAAAQIECBAgQIAAAQIECBAgQIAAgSQFFCaTTIugCBAgQIAAAQIECBAgQIAAAQIECBAgQIAAAQIECBRLQGGyWPnUGgIECBAgQIAAAQIECBAgQIAAAQIECBAgQIAAAQJJCihMJpkWQREgQIAAAQIECBAgQIAAAQIECBAgQIAAAQIECBAoloDCZLHyqTUECBAgQIAAAQIECBAgQIAAAQIECBAgQIAAAQIEkhRQmEwyLYIiQIAAAQIECBAgQIAAAQIECBAgQIAAAQIECBAgUCwBhcli5VNrCBAgQIAAAQIECBAgQIAAAQIECBAgQIAAAQIECCQpoDCZZFoERYAAAQIECBAgQIAAAQIECBAgQIAAAQIECBAgQKBYAgqTxcqn1hAgQIAAAQIECBAgQIAAAQIECBAgQIAAAQIECBBIUqDjikQ1ffr0FXm65xIgQIAAAQIECBAgQIAAAQIECBAgQIAAAQIECBAgUGaB/v37l/mM/zldzeK6rSJndlICBAgQIECAAAECBAgQIECAAAECBAgQIECAAAECBKpGwFSuVZNqDSVAgAABAgQIECBAgAABAgQIECBAgAABAgQIECBQOQGFycrZOzMBAgQIECBAgAABAgQIECBAgAABAgQIECBAgACBqhFQmKyaVGsoAQIECBAgQIAAAQIECBAgQIAAAQIECBAgQIAAgcoJKExWzt6ZCRAgQIAAAQIECBAgQIAAAQIECBAgQIAAAQIECFSNwP8BEFSDgp7bvB0AAAAASUVORK5CYII=)"
      ],
      "metadata": {
        "id": "r0v-1IXy-tLO"
      }
    }
  ]
}