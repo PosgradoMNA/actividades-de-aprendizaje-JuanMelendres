{
  "nbformat": 4,
  "nbformat_minor": 0,
  "metadata": {
    "colab": {
      "provenance": [],
      "collapsed_sections": [],
      "authorship_tag": "ABX9TyP1tk1VctPIpb6u8raw3Skh",
      "include_colab_link": true
    },
    "kernelspec": {
      "name": "python3",
      "display_name": "Python 3"
    },
    "language_info": {
      "name": "python"
    }
  },
  "cells": [
    {
      "cell_type": "markdown",
      "metadata": {
        "id": "view-in-github",
        "colab_type": "text"
      },
      "source": [
        "<a href=\"https://colab.research.google.com/github/PosgradoMNA/actividades-de-aprendizaje-JuanMelendres/blob/main/LabModule5.ipynb\" target=\"_parent\"><img src=\"https://colab.research.google.com/assets/colab-badge.svg\" alt=\"Open In Colab\"/></a>"
      ]
    },
    {
      "cell_type": "markdown",
      "source": [
        "**Juan Melendres - A00369017**"
      ],
      "metadata": {
        "id": "UYeZFyNnzDVv"
      }
    },
    {
      "cell_type": "markdown",
      "source": [
        "# **Module 5 - Working with Numpy Arrays & Simple APIs**"
      ],
      "metadata": {
        "id": "Q0326udXzHTa"
      }
    },
    {
      "cell_type": "markdown",
      "source": [
        "**Lab - Numpy 1D Arrays**"
      ],
      "metadata": {
        "id": "uMRNCgfVzm5-"
      }
    },
    {
      "cell_type": "code",
      "execution_count": 1,
      "metadata": {
        "colab": {
          "base_uri": "https://localhost:8080/"
        },
        "id": "50-q3scIy-2-",
        "outputId": "022584b5-68fd-4229-db6d-47177731c8cc"
      },
      "outputs": [
        {
          "output_type": "execute_result",
          "data": {
            "text/plain": [
              "array([0, 1, 2, 3, 4])"
            ]
          },
          "metadata": {},
          "execution_count": 1
        }
      ],
      "source": [
        "# Numpy is a library for scientific computing. Numpy is basis for pandas\n",
        "# Creating a Numpy array\n",
        "import numpy as np\n",
        "a = np.array([0, 1, 2, 3, 4])\n",
        "a"
      ]
    },
    {
      "cell_type": "code",
      "source": [
        "# size of the array\n",
        "a.size"
      ],
      "metadata": {
        "colab": {
          "base_uri": "https://localhost:8080/"
        },
        "id": "M7p_srHd1UIm",
        "outputId": "8346a8f2-4333-4a30-a7f2-59f4d1f1a280"
      },
      "execution_count": 2,
      "outputs": [
        {
          "output_type": "execute_result",
          "data": {
            "text/plain": [
              "5"
            ]
          },
          "metadata": {},
          "execution_count": 2
        }
      ]
    },
    {
      "cell_type": "code",
      "source": [
        "# ndim represents the number od array dimensions\n",
        "a.ndim"
      ],
      "metadata": {
        "colab": {
          "base_uri": "https://localhost:8080/"
        },
        "id": "mLb_h8jR1Z2d",
        "outputId": "ecb5446f-ca8a-4c89-d520-f5ac1381eea7"
      },
      "execution_count": 3,
      "outputs": [
        {
          "output_type": "execute_result",
          "data": {
            "text/plain": [
              "1"
            ]
          },
          "metadata": {},
          "execution_count": 3
        }
      ]
    },
    {
      "cell_type": "code",
      "source": [
        "# shape is a tuple od integer indicating the size of the array in eaach dimension\n",
        "a.shape"
      ],
      "metadata": {
        "colab": {
          "base_uri": "https://localhost:8080/"
        },
        "id": "xgZemKY_1idU",
        "outputId": "19842e52-2da8-4259-b76a-520248ca3854"
      },
      "execution_count": 4,
      "outputs": [
        {
          "output_type": "execute_result",
          "data": {
            "text/plain": [
              "(5,)"
            ]
          },
          "metadata": {},
          "execution_count": 4
        }
      ]
    },
    {
      "cell_type": "code",
      "source": [
        "# Slicing th numpy array\n",
        "b = a[1:4]\n",
        "b"
      ],
      "metadata": {
        "colab": {
          "base_uri": "https://localhost:8080/"
        },
        "id": "9CbVf83C1raa",
        "outputId": "d052b0cb-2b6a-4fc7-dc06-4dc25c6dfc89"
      },
      "execution_count": 6,
      "outputs": [
        {
          "output_type": "execute_result",
          "data": {
            "text/plain": [
              "array([1, 2, 3])"
            ]
          },
          "metadata": {},
          "execution_count": 6
        }
      ]
    },
    {
      "cell_type": "code",
      "source": [
        "# Assigning new values\n",
        "b[1:3] = 300, 400\n",
        "b"
      ],
      "metadata": {
        "colab": {
          "base_uri": "https://localhost:8080/"
        },
        "id": "JDeRBpq92AWC",
        "outputId": "9b9abbfa-7d78-4a18-be95-2d4355209185"
      },
      "execution_count": 8,
      "outputs": [
        {
          "output_type": "execute_result",
          "data": {
            "text/plain": [
              "array([  1, 300, 400])"
            ]
          },
          "metadata": {},
          "execution_count": 8
        }
      ]
    },
    {
      "cell_type": "code",
      "source": [
        "# Basic Operations with Numpy\n",
        "# Normal vector addition\n",
        "u = [1, 0]\n",
        "v = [1, 0]\n",
        "z = []\n",
        "for n, m in zip(u, v):\n",
        "  z.append(n+m)\n",
        "z"
      ],
      "metadata": {
        "colab": {
          "base_uri": "https://localhost:8080/"
        },
        "id": "9BDfRFMu2XuH",
        "outputId": "387bf668-b7a5-4f91-e53d-15a670a4242e"
      },
      "execution_count": 9,
      "outputs": [
        {
          "output_type": "execute_result",
          "data": {
            "text/plain": [
              "[2, 0]"
            ]
          },
          "metadata": {},
          "execution_count": 9
        }
      ]
    },
    {
      "cell_type": "code",
      "source": [
        "# Numpy array vector addition\n",
        "u = np.array([1, 0])\n",
        "v = np.array([0, 1])\n",
        "z = u + v\n",
        "z"
      ],
      "metadata": {
        "colab": {
          "base_uri": "https://localhost:8080/"
        },
        "id": "NNhQ1OOk3NFU",
        "outputId": "f0811427-4a3d-4c7a-f874-bf01c43bc38b"
      },
      "execution_count": 11,
      "outputs": [
        {
          "output_type": "execute_result",
          "data": {
            "text/plain": [
              "array([1, 1])"
            ]
          },
          "metadata": {},
          "execution_count": 11
        }
      ]
    },
    {
      "cell_type": "code",
      "source": [
        "# Numpy array vector subtraciton\n",
        "u = np.array([1, 0])\n",
        "v = np.array([0, 1])\n",
        "z = u - v\n",
        "z"
      ],
      "metadata": {
        "colab": {
          "base_uri": "https://localhost:8080/"
        },
        "id": "EyNxFz4d3gQQ",
        "outputId": "c1496b29-965d-467b-d1b0-ea9efefc80e3"
      },
      "execution_count": 12,
      "outputs": [
        {
          "output_type": "execute_result",
          "data": {
            "text/plain": [
              "array([ 1, -1])"
            ]
          },
          "metadata": {},
          "execution_count": 12
        }
      ]
    },
    {
      "cell_type": "code",
      "source": [
        "# Array multiplication with a scalar\n",
        "y = [1, 2]\n",
        "z = []\n",
        "for n in y:\n",
        "  z.append(2*n)\n",
        "z"
      ],
      "metadata": {
        "colab": {
          "base_uri": "https://localhost:8080/"
        },
        "id": "V-uFhA8U3y5o",
        "outputId": "234d0589-acbf-4085-dee2-c4bb1d0ae182"
      },
      "execution_count": 13,
      "outputs": [
        {
          "output_type": "execute_result",
          "data": {
            "text/plain": [
              "[2, 4]"
            ]
          },
          "metadata": {},
          "execution_count": 13
        }
      ]
    },
    {
      "cell_type": "code",
      "source": [
        "# Numpy array vector multiplication\n",
        "y = np.array([1, 2])\n",
        "z = 2 * y\n",
        "z"
      ],
      "metadata": {
        "colab": {
          "base_uri": "https://localhost:8080/"
        },
        "id": "AvZVZea93qzP",
        "outputId": "c3a7e36c-08ec-4b00-a7cd-59099586ceb8"
      },
      "execution_count": 15,
      "outputs": [
        {
          "output_type": "execute_result",
          "data": {
            "text/plain": [
              "array([2, 4])"
            ]
          },
          "metadata": {},
          "execution_count": 15
        }
      ]
    },
    {
      "cell_type": "code",
      "source": [
        "# Product of two Numpy arrays\n",
        "u = np.array([1, 2])\n",
        "v = np.array([3, 2])\n",
        "z = u * v\n",
        "z"
      ],
      "metadata": {
        "colab": {
          "base_uri": "https://localhost:8080/"
        },
        "id": "EcZcgygF4TgK",
        "outputId": "270687ea-2012-4e85-c260-122f508740bc"
      },
      "execution_count": 16,
      "outputs": [
        {
          "output_type": "execute_result",
          "data": {
            "text/plain": [
              "array([3, 4])"
            ]
          },
          "metadata": {},
          "execution_count": 16
        }
      ]
    },
    {
      "cell_type": "code",
      "source": [
        "# Dot Product Numpy arrays\n",
        "u = np.array([1, 2])\n",
        "v = np.array([3, 1])\n",
        "result = np.dot(u, v)\n",
        "result"
      ],
      "metadata": {
        "colab": {
          "base_uri": "https://localhost:8080/"
        },
        "id": "jtP2J6hz4j_Y",
        "outputId": "cecf9744-11d5-47eb-feab-1aa71d088d5e"
      },
      "execution_count": 17,
      "outputs": [
        {
          "output_type": "execute_result",
          "data": {
            "text/plain": [
              "5"
            ]
          },
          "metadata": {},
          "execution_count": 17
        }
      ]
    },
    {
      "cell_type": "code",
      "source": [
        "# Adding constant to an numpy array\n",
        "u = np.array([1, 2, 3, -1])\n",
        "z = u + 1\n",
        "z"
      ],
      "metadata": {
        "colab": {
          "base_uri": "https://localhost:8080/"
        },
        "id": "jMBivDzU401H",
        "outputId": "8b48b90d-e8d1-44d8-9b4e-9394d76efee2"
      },
      "execution_count": 18,
      "outputs": [
        {
          "output_type": "execute_result",
          "data": {
            "text/plain": [
              "array([2, 3, 4, 0])"
            ]
          },
          "metadata": {},
          "execution_count": 18
        }
      ]
    },
    {
      "cell_type": "code",
      "source": [
        "# Universal Functions on Numpy\n",
        "# Mean\n",
        "a = np.array([1, -1, 1, -1])\n",
        "mean_a = a.mean()\n",
        "mean_a"
      ],
      "metadata": {
        "colab": {
          "base_uri": "https://localhost:8080/"
        },
        "id": "UNMSVkSW4_K_",
        "outputId": "13f8de7b-4628-417d-89ea-a4cb4369c4c7"
      },
      "execution_count": 19,
      "outputs": [
        {
          "output_type": "execute_result",
          "data": {
            "text/plain": [
              "0.0"
            ]
          },
          "metadata": {},
          "execution_count": 19
        }
      ]
    },
    {
      "cell_type": "code",
      "source": [
        "# Find max value\n",
        "b = np.array([1, -2, 3, 4, 5])\n",
        "max_b = b.max()\n",
        "max_b"
      ],
      "metadata": {
        "colab": {
          "base_uri": "https://localhost:8080/"
        },
        "id": "Zz4Wi2Hk5R9M",
        "outputId": "0c04231a-7f77-49a6-97a7-f4a75f95833c"
      },
      "execution_count": 20,
      "outputs": [
        {
          "output_type": "execute_result",
          "data": {
            "text/plain": [
              "5"
            ]
          },
          "metadata": {},
          "execution_count": 20
        }
      ]
    },
    {
      "cell_type": "code",
      "source": [
        "# Standard deviation\n",
        "std_b = b.std()\n",
        "std_b"
      ],
      "metadata": {
        "colab": {
          "base_uri": "https://localhost:8080/"
        },
        "id": "nSntbq4B7dwM",
        "outputId": "904c884a-69db-4f78-8535-4215dbe3a5fe"
      },
      "execution_count": 25,
      "outputs": [
        {
          "output_type": "execute_result",
          "data": {
            "text/plain": [
              "2.4819347291981715"
            ]
          },
          "metadata": {},
          "execution_count": 25
        }
      ]
    },
    {
      "cell_type": "code",
      "source": [
        "# Plotting Mathematical Functions\n",
        "import matplotlib.pyplot as plt\n",
        "\n",
        "x = np.linspace(0, 2 * np.pi, 100)\n",
        "y = np.sin(x)\n",
        "%matplotlib inline\n",
        "plt.plot(x, y)"
      ],
      "metadata": {
        "colab": {
          "base_uri": "https://localhost:8080/",
          "height": 283
        },
        "id": "iK868RKS5eWU",
        "outputId": "43f80ec2-107e-4b11-8d0a-4b11d135eb89"
      },
      "execution_count": 21,
      "outputs": [
        {
          "output_type": "execute_result",
          "data": {
            "text/plain": [
              "[<matplotlib.lines.Line2D at 0x7fbe8ae68c10>]"
            ]
          },
          "metadata": {},
          "execution_count": 21
        },
        {
          "output_type": "display_data",
          "data": {
            "text/plain": [
              "<Figure size 432x288 with 1 Axes>"
            ],
            "image/png": "[encoded data removed]"
          },
          "metadata": {
            "needs_background": "light"
          }
        }
      ]
    },
    {
      "cell_type": "code",
      "source": [
        "import time \n",
        "import sys\n",
        "import numpy as np \n",
        "\n",
        "import matplotlib.pyplot as plt\n",
        "%matplotlib inline\n",
        "\n",
        "u = np.array([1, 0])\n",
        "v = np.array([0, 1])\n",
        "z = np.add(u, v)\n",
        "\n",
        "def Plotvec1(u, z, v):\n",
        "    \n",
        "    ax = plt.axes() # to generate the full window axes\n",
        "    ax.arrow(0, 0, *u, head_width=0.05, color='r', head_length=0.1)# Add an arrow to the  U Axes with arrow head width 0.05, color red and arrow head length 0.1\n",
        "    plt.text(*(u + 0.1), 'u')#Adds the text u to the Axes \n",
        "    \n",
        "    ax.arrow(0, 0, *v, head_width=0.05, color='b', head_length=0.1)# Add an arrow to the  v Axes with arrow head width 0.05, color red and arrow head length 0.1\n",
        "    plt.text(*(v + 0.1), 'v')#Adds the text v to the Axes \n",
        "    \n",
        "    ax.arrow(0, 0, *z, head_width=0.05, head_length=0.1)\n",
        "    plt.text(*(z + 0.1), 'z')#Adds the text z to the Axes \n",
        "    plt.ylim(-2, 2)#set the ylim to bottom(-2), top(2)\n",
        "    plt.xlim(-2, 2)#set the xlim to left(-2), right(2)\n",
        "# Plot numpy arrays\n",
        "Plotvec1(u, z, v)"
      ],
      "metadata": {
        "colab": {
          "base_uri": "https://localhost:8080/",
          "height": 269
        },
        "id": "szb2EP-p7q5i",
        "outputId": "c463b301-b646-408a-e9dd-1aaf014ccdfe"
      },
      "execution_count": 27,
      "outputs": [
        {
          "output_type": "display_data",
          "data": {
            "text/plain": [
              "<Figure size 432x288 with 1 Axes>"
            ],
            "image/png": "[encoded data removed]"
          },
          "metadata": {
            "needs_background": "light"
          }
        }
      ]
    },
    {
      "cell_type": "markdown",
      "source": [
        "**Numpy 2D Arrays**"
      ],
      "metadata": {
        "id": "q4dI3cdR_aMA"
      }
    },
    {
      "cell_type": "code",
      "source": [
        "# Numpy 2D Arrays\n",
        "a = [[11, 12, 13], [21, 22, 23], [31, 32, 33]]\n",
        "A = np.array(a)\n",
        "A"
      ],
      "metadata": {
        "colab": {
          "base_uri": "https://localhost:8080/"
        },
        "id": "cM2VhQU-_Z70",
        "outputId": "40535127-c62a-4779-979e-5bac8795c0f1"
      },
      "execution_count": 52,
      "outputs": [
        {
          "output_type": "execute_result",
          "data": {
            "text/plain": [
              "array([[11, 12, 13],\n",
              "       [21, 22, 23],\n",
              "       [31, 32, 33]])"
            ]
          },
          "metadata": {},
          "execution_count": 52
        }
      ]
    },
    {
      "cell_type": "code",
      "source": [
        "# Access the element on the second row and third column\n",
        "A[1, 2]"
      ],
      "metadata": {
        "colab": {
          "base_uri": "https://localhost:8080/"
        },
        "id": "hPguEeYjDGE8",
        "outputId": "b12fc4bb-fe34-42a0-b6d9-9ebd0cb5c236"
      },
      "execution_count": 53,
      "outputs": [
        {
          "output_type": "execute_result",
          "data": {
            "text/plain": [
              "23"
            ]
          },
          "metadata": {},
          "execution_count": 53
        }
      ]
    },
    {
      "cell_type": "code",
      "source": [
        "# Access the element on the second row and third column\n",
        "A[1][2]"
      ],
      "metadata": {
        "colab": {
          "base_uri": "https://localhost:8080/"
        },
        "id": "QotUGrJ9EEZ9",
        "outputId": "4e4c17b8-cbb6-4749-dda7-d8ec7900ed6f"
      },
      "execution_count": 54,
      "outputs": [
        {
          "output_type": "execute_result",
          "data": {
            "text/plain": [
              "23"
            ]
          },
          "metadata": {},
          "execution_count": 54
        }
      ]
    },
    {
      "cell_type": "code",
      "source": [
        "# Access the element on the first row and first and second columns\n",
        "A[0][0:2]"
      ],
      "metadata": {
        "colab": {
          "base_uri": "https://localhost:8080/"
        },
        "id": "dTl3L0pyEItb",
        "outputId": "e652d9d1-f6af-4c66-e06f-bf0ded7b83f1"
      },
      "execution_count": 55,
      "outputs": [
        {
          "output_type": "execute_result",
          "data": {
            "text/plain": [
              "array([11, 12])"
            ]
          },
          "metadata": {},
          "execution_count": 55
        }
      ]
    },
    {
      "cell_type": "code",
      "source": [
        "# Access the element on the first and second rows and third column\n",
        "A[0:2, 2]"
      ],
      "metadata": {
        "colab": {
          "base_uri": "https://localhost:8080/"
        },
        "id": "3H97PNZZEKFy",
        "outputId": "679ab6c4-f5da-42ad-ca94-927de6bd019f"
      },
      "execution_count": 56,
      "outputs": [
        {
          "output_type": "execute_result",
          "data": {
            "text/plain": [
              "array([13, 23])"
            ]
          },
          "metadata": {},
          "execution_count": 56
        }
      ]
    },
    {
      "cell_type": "code",
      "source": [
        "# ndim to obtain the number of aex or dimensions referred\n",
        "A.ndim"
      ],
      "metadata": {
        "colab": {
          "base_uri": "https://localhost:8080/"
        },
        "id": "dC25QEa6_7NY",
        "outputId": "4aae276b-1ba3-4c77-986f-98fe64079256"
      },
      "execution_count": 39,
      "outputs": [
        {
          "output_type": "execute_result",
          "data": {
            "text/plain": [
              "2"
            ]
          },
          "metadata": {},
          "execution_count": 39
        }
      ]
    },
    {
      "cell_type": "code",
      "source": [
        "# Shape return a tuple, first element represents the number of rows the second element corresponds to the size of aech of the nested lists\n",
        "A.shape"
      ],
      "metadata": {
        "colab": {
          "base_uri": "https://localhost:8080/"
        },
        "id": "4F9pidFsAEqJ",
        "outputId": "0d9ad2b8-73f9-4e53-8b9b-f48e55c6a9f2"
      },
      "execution_count": 40,
      "outputs": [
        {
          "output_type": "execute_result",
          "data": {
            "text/plain": [
              "(3, 3)"
            ]
          },
          "metadata": {},
          "execution_count": 40
        }
      ]
    },
    {
      "cell_type": "code",
      "source": [
        "# Size to get the number of elements\n",
        "A.size"
      ],
      "metadata": {
        "colab": {
          "base_uri": "https://localhost:8080/"
        },
        "id": "IcymWUwPANzo",
        "outputId": "80d28764-d7b8-4b54-9a47-19ae5545e241"
      },
      "execution_count": 41,
      "outputs": [
        {
          "output_type": "execute_result",
          "data": {
            "text/plain": [
              "9"
            ]
          },
          "metadata": {},
          "execution_count": 41
        }
      ]
    },
    {
      "cell_type": "code",
      "source": [
        "# Addition of two matrix\n",
        "X = np.array([[1, 0], [0, 1]])\n",
        "Y = np.array([[2, 1], [1, 2]])\n",
        "Z = X + Y\n",
        "Z"
      ],
      "metadata": {
        "colab": {
          "base_uri": "https://localhost:8080/"
        },
        "id": "W86__vQIAguY",
        "outputId": "82819f79-42f9-4326-d2b7-9a4f588fbb50"
      },
      "execution_count": 44,
      "outputs": [
        {
          "output_type": "execute_result",
          "data": {
            "text/plain": [
              "array([[3, 1],\n",
              "       [1, 3]])"
            ]
          },
          "metadata": {},
          "execution_count": 44
        }
      ]
    },
    {
      "cell_type": "code",
      "source": [
        "# Multiply a matrix by the scalar 2\n",
        "Y = np.array([[2, 1], [1, 2]])\n",
        "z = 2 * Y\n",
        "z"
      ],
      "metadata": {
        "colab": {
          "base_uri": "https://localhost:8080/"
        },
        "id": "XCvhjvWdBI-3",
        "outputId": "30b83adf-37a0-471a-f806-6d43f0f0b3e9"
      },
      "execution_count": 45,
      "outputs": [
        {
          "output_type": "execute_result",
          "data": {
            "text/plain": [
              "array([[4, 2],\n",
              "       [2, 4]])"
            ]
          },
          "metadata": {},
          "execution_count": 45
        }
      ]
    },
    {
      "cell_type": "code",
      "source": [
        "# Multiply a matrix by other matrix same size\n",
        "X = np.array([[1, 0], [0, 1]])\n",
        "Y = np.array([[2, 1], [1, 2]])\n",
        "Z = X * Y\n",
        "Z"
      ],
      "metadata": {
        "colab": {
          "base_uri": "https://localhost:8080/"
        },
        "id": "KC0MpCmfBkea",
        "outputId": "37c34191-2242-4358-bfd4-ad9778d6d2f7"
      },
      "execution_count": 46,
      "outputs": [
        {
          "output_type": "execute_result",
          "data": {
            "text/plain": [
              "array([[2, 0],\n",
              "       [0, 2]])"
            ]
          },
          "metadata": {},
          "execution_count": 46
        }
      ]
    },
    {
      "cell_type": "code",
      "source": [
        "# Multiply a matrix by other matrix different size\n",
        "A = np.array([[0, 1, 1], [1, 0, 1]])\n",
        "B = np.array([[1, 1], [1, 1], [-1, 1]])\n",
        "c = np.dot(A, B)\n",
        "c"
      ],
      "metadata": {
        "colab": {
          "base_uri": "https://localhost:8080/"
        },
        "id": "Su7eaRt7BuEn",
        "outputId": "97112d11-be9d-4995-8d01-a1ca5f03d320"
      },
      "execution_count": 47,
      "outputs": [
        {
          "output_type": "execute_result",
          "data": {
            "text/plain": [
              "array([[0, 2],\n",
              "       [0, 2]])"
            ]
          },
          "metadata": {},
          "execution_count": 47
        }
      ]
    },
    {
      "cell_type": "markdown",
      "source": [
        "**Simple APIs**"
      ],
      "metadata": {
        "id": "7cYlFlA8EsAb"
      }
    },
    {
      "cell_type": "code",
      "source": [
        "!pip install nba_api"
      ],
      "metadata": {
        "colab": {
          "base_uri": "https://localhost:8080/"
        },
        "id": "hHh1LwJ8FyEq",
        "outputId": "75a0fbc1-c7c5-490e-9fe4-b6c6ec863943"
      },
      "execution_count": 63,
      "outputs": [
        {
          "output_type": "stream",
          "name": "stdout",
          "text": [
            "Looking in indexes: https://pypi.org/simple, https://us-python.pkg.dev/colab-wheels/public/simple/\n",
            "Collecting nba_api\n",
            "  Downloading nba_api-1.1.11.tar.gz (125 kB)\n",
            "\u001b[K     |████████████████████████████████| 125 kB 9.9 MB/s \n",
            "\u001b[?25hRequirement already satisfied: requests in /usr/local/lib/python3.7/dist-packages (from nba_api) (2.23.0)\n",
            "Requirement already satisfied: chardet<4,>=3.0.2 in /usr/local/lib/python3.7/dist-packages (from requests->nba_api) (3.0.4)\n",
            "Requirement already satisfied: urllib3!=1.25.0,!=1.25.1,<1.26,>=1.21.1 in /usr/local/lib/python3.7/dist-packages (from requests->nba_api) (1.24.3)\n",
            "Requirement already satisfied: certifi>=2017.4.17 in /usr/local/lib/python3.7/dist-packages (from requests->nba_api) (2022.6.15)\n",
            "Requirement already satisfied: idna<3,>=2.5 in /usr/local/lib/python3.7/dist-packages (from requests->nba_api) (2.10)\n",
            "Building wheels for collected packages: nba-api\n",
            "  Building wheel for nba-api (setup.py) ... \u001b[?25l\u001b[?25hdone\n",
            "  Created wheel for nba-api: filename=nba_api-1.1.11-py3-none-any.whl size=251504 sha256=5739e81c427ed020035e09b233ded52bd2929e8376881160fa619ec4d0fabb83\n",
            "  Stored in directory: /root/.cache/pip/wheels/e3/f4/46/996128675381abc175e306642bae575d372dcf7efc4683e551\n",
            "Successfully built nba-api\n",
            "Installing collected packages: nba-api\n",
            "Successfully installed nba-api-1.1.11\n"
          ]
        }
      ]
    },
    {
      "cell_type": "code",
      "source": [
        "from nba_api.stats.static import teams\n",
        "nba_teams = teams.get_teams()\n",
        "nba_teams[:5]"
      ],
      "metadata": {
        "colab": {
          "base_uri": "https://localhost:8080/"
        },
        "id": "LinsTvZ9EuwN",
        "outputId": "009a6def-159e-403d-de49-2801c430a917"
      },
      "execution_count": 64,
      "outputs": [
        {
          "output_type": "execute_result",
          "data": {
            "text/plain": [
              "[{'id': 1610612737,\n",
              "  'full_name': 'Atlanta Hawks',\n",
              "  'abbreviation': 'ATL',\n",
              "  'nickname': 'Hawks',\n",
              "  'city': 'Atlanta',\n",
              "  'state': 'Atlanta',\n",
              "  'year_founded': 1949},\n",
              " {'id': 1610612738,\n",
              "  'full_name': 'Boston Celtics',\n",
              "  'abbreviation': 'BOS',\n",
              "  'nickname': 'Celtics',\n",
              "  'city': 'Boston',\n",
              "  'state': 'Massachusetts',\n",
              "  'year_founded': 1946},\n",
              " {'id': 1610612739,\n",
              "  'full_name': 'Cleveland Cavaliers',\n",
              "  'abbreviation': 'CLE',\n",
              "  'nickname': 'Cavaliers',\n",
              "  'city': 'Cleveland',\n",
              "  'state': 'Ohio',\n",
              "  'year_founded': 1970},\n",
              " {'id': 1610612740,\n",
              "  'full_name': 'New Orleans Pelicans',\n",
              "  'abbreviation': 'NOP',\n",
              "  'nickname': 'Pelicans',\n",
              "  'city': 'New Orleans',\n",
              "  'state': 'Louisiana',\n",
              "  'year_founded': 2002},\n",
              " {'id': 1610612741,\n",
              "  'full_name': 'Chicago Bulls',\n",
              "  'abbreviation': 'CHI',\n",
              "  'nickname': 'Bulls',\n",
              "  'city': 'Chicago',\n",
              "  'state': 'Illinois',\n",
              "  'year_founded': 1966}]"
            ]
          },
          "metadata": {},
          "execution_count": 64
        }
      ]
    },
    {
      "cell_type": "code",
      "source": [
        "def one_dict(list_dict):\n",
        "  keys = list_dict[0].keys()\n",
        "  out_dict = {key: [] for key in keys}\n",
        "  for dict_ in list_dict:\n",
        "    for key, value in dict_.items():\n",
        "      out_dict[key].append(value)\n",
        "  return out_dict\n",
        "\n",
        "dict_nba_team = one_dict(nba_teams)\n",
        "dict_nba_team"
      ],
      "metadata": {
        "colab": {
          "base_uri": "https://localhost:8080/"
        },
        "id": "73aXNvpIF65e",
        "outputId": "8badb38b-67bc-4605-e533-eb16b67ad9ee"
      },
      "execution_count": 66,
      "outputs": [
        {
          "output_type": "execute_result",
          "data": {
            "text/plain": [
              "{'id': [1610612737,\n",
              "  1610612738,\n",
              "  1610612739,\n",
              "  1610612740,\n",
              "  1610612741,\n",
              "  1610612742,\n",
              "  1610612743,\n",
              "  1610612744,\n",
              "  1610612745,\n",
              "  1610612746,\n",
              "  1610612747,\n",
              "  1610612748,\n",
              "  1610612749,\n",
              "  1610612750,\n",
              "  1610612751,\n",
              "  1610612752,\n",
              "  1610612753,\n",
              "  1610612754,\n",
              "  1610612755,\n",
              "  1610612756,\n",
              "  1610612757,\n",
              "  1610612758,\n",
              "  1610612759,\n",
              "  1610612760,\n",
              "  1610612761,\n",
              "  1610612762,\n",
              "  1610612763,\n",
              "  1610612764,\n",
              "  1610612765,\n",
              "  1610612766],\n",
              " 'full_name': ['Atlanta Hawks',\n",
              "  'Boston Celtics',\n",
              "  'Cleveland Cavaliers',\n",
              "  'New Orleans Pelicans',\n",
              "  'Chicago Bulls',\n",
              "  'Dallas Mavericks',\n",
              "  'Denver Nuggets',\n",
              "  'Golden State Warriors',\n",
              "  'Houston Rockets',\n",
              "  'Los Angeles Clippers',\n",
              "  'Los Angeles Lakers',\n",
              "  'Miami Heat',\n",
              "  'Milwaukee Bucks',\n",
              "  'Minnesota Timberwolves',\n",
              "  'Brooklyn Nets',\n",
              "  'New York Knicks',\n",
              "  'Orlando Magic',\n",
              "  'Indiana Pacers',\n",
              "  'Philadelphia 76ers',\n",
              "  'Phoenix Suns',\n",
              "  'Portland Trail Blazers',\n",
              "  'Sacramento Kings',\n",
              "  'San Antonio Spurs',\n",
              "  'Oklahoma City Thunder',\n",
              "  'Toronto Raptors',\n",
              "  'Utah Jazz',\n",
              "  'Memphis Grizzlies',\n",
              "  'Washington Wizards',\n",
              "  'Detroit Pistons',\n",
              "  'Charlotte Hornets'],\n",
              " 'abbreviation': ['ATL',\n",
              "  'BOS',\n",
              "  'CLE',\n",
              "  'NOP',\n",
              "  'CHI',\n",
              "  'DAL',\n",
              "  'DEN',\n",
              "  'GSW',\n",
              "  'HOU',\n",
              "  'LAC',\n",
              "  'LAL',\n",
              "  'MIA',\n",
              "  'MIL',\n",
              "  'MIN',\n",
              "  'BKN',\n",
              "  'NYK',\n",
              "  'ORL',\n",
              "  'IND',\n",
              "  'PHI',\n",
              "  'PHX',\n",
              "  'POR',\n",
              "  'SAC',\n",
              "  'SAS',\n",
              "  'OKC',\n",
              "  'TOR',\n",
              "  'UTA',\n",
              "  'MEM',\n",
              "  'WAS',\n",
              "  'DET',\n",
              "  'CHA'],\n",
              " 'nickname': ['Hawks',\n",
              "  'Celtics',\n",
              "  'Cavaliers',\n",
              "  'Pelicans',\n",
              "  'Bulls',\n",
              "  'Mavericks',\n",
              "  'Nuggets',\n",
              "  'Warriors',\n",
              "  'Rockets',\n",
              "  'Clippers',\n",
              "  'Lakers',\n",
              "  'Heat',\n",
              "  'Bucks',\n",
              "  'Timberwolves',\n",
              "  'Nets',\n",
              "  'Knicks',\n",
              "  'Magic',\n",
              "  'Pacers',\n",
              "  '76ers',\n",
              "  'Suns',\n",
              "  'Trail Blazers',\n",
              "  'Kings',\n",
              "  'Spurs',\n",
              "  'Thunder',\n",
              "  'Raptors',\n",
              "  'Jazz',\n",
              "  'Grizzlies',\n",
              "  'Wizards',\n",
              "  'Pistons',\n",
              "  'Hornets'],\n",
              " 'city': ['Atlanta',\n",
              "  'Boston',\n",
              "  'Cleveland',\n",
              "  'New Orleans',\n",
              "  'Chicago',\n",
              "  'Dallas',\n",
              "  'Denver',\n",
              "  'Golden State',\n",
              "  'Houston',\n",
              "  'Los Angeles',\n",
              "  'Los Angeles',\n",
              "  'Miami',\n",
              "  'Milwaukee',\n",
              "  'Minnesota',\n",
              "  'Brooklyn',\n",
              "  'New York',\n",
              "  'Orlando',\n",
              "  'Indiana',\n",
              "  'Philadelphia',\n",
              "  'Phoenix',\n",
              "  'Portland',\n",
              "  'Sacramento',\n",
              "  'San Antonio',\n",
              "  'Oklahoma City',\n",
              "  'Toronto',\n",
              "  'Utah',\n",
              "  'Memphis',\n",
              "  'Washington',\n",
              "  'Detroit',\n",
              "  'Charlotte'],\n",
              " 'state': ['Atlanta',\n",
              "  'Massachusetts',\n",
              "  'Ohio',\n",
              "  'Louisiana',\n",
              "  'Illinois',\n",
              "  'Texas',\n",
              "  'Colorado',\n",
              "  'California',\n",
              "  'Texas',\n",
              "  'California',\n",
              "  'California',\n",
              "  'Florida',\n",
              "  'Wisconsin',\n",
              "  'Minnesota',\n",
              "  'New York',\n",
              "  'New York',\n",
              "  'Florida',\n",
              "  'Indiana',\n",
              "  'Pennsylvania',\n",
              "  'Arizona',\n",
              "  'Oregon',\n",
              "  'California',\n",
              "  'Texas',\n",
              "  'Oklahoma',\n",
              "  'Ontario',\n",
              "  'Utah',\n",
              "  'Tennessee',\n",
              "  'District of Columbia',\n",
              "  'Michigan',\n",
              "  'North Carolina'],\n",
              " 'year_founded': [1949,\n",
              "  1946,\n",
              "  1970,\n",
              "  2002,\n",
              "  1966,\n",
              "  1980,\n",
              "  1976,\n",
              "  1946,\n",
              "  1967,\n",
              "  1970,\n",
              "  1948,\n",
              "  1988,\n",
              "  1968,\n",
              "  1989,\n",
              "  1976,\n",
              "  1946,\n",
              "  1989,\n",
              "  1976,\n",
              "  1949,\n",
              "  1968,\n",
              "  1970,\n",
              "  1948,\n",
              "  1976,\n",
              "  1967,\n",
              "  1995,\n",
              "  1974,\n",
              "  1995,\n",
              "  1961,\n",
              "  1948,\n",
              "  1988]}"
            ]
          },
          "metadata": {},
          "execution_count": 66
        }
      ]
    },
    {
      "cell_type": "code",
      "source": [
        "import pandas as pd\n",
        "df_teams = pd.DataFrame(dict_nba_team)\n",
        "df_teams.head()"
      ],
      "metadata": {
        "colab": {
          "base_uri": "https://localhost:8080/",
          "height": 206
        },
        "id": "Tfn8QD10Gg2Q",
        "outputId": "0d4c2af0-a3f6-4300-943d-b4f9ccf7831c"
      },
      "execution_count": 67,
      "outputs": [
        {
          "output_type": "execute_result",
          "data": {
            "text/plain": [
              "           id             full_name abbreviation   nickname         city  \\\n",
              "0  1610612737         Atlanta Hawks          ATL      Hawks      Atlanta   \n",
              "1  1610612738        Boston Celtics          BOS    Celtics       Boston   \n",
              "2  1610612739   Cleveland Cavaliers          CLE  Cavaliers    Cleveland   \n",
              "3  1610612740  New Orleans Pelicans          NOP   Pelicans  New Orleans   \n",
              "4  1610612741         Chicago Bulls          CHI      Bulls      Chicago   \n",
              "\n",
              "           state  year_founded  \n",
              "0        Atlanta          1949  \n",
              "1  Massachusetts          1946  \n",
              "2           Ohio          1970  \n",
              "3      Louisiana          2002  \n",
              "4       Illinois          1966  "
            ],
            "text/html": [
              "\n",
              "  <div id=\"df-c0bfd953-cb4c-44a2-9844-4f3cf0f3b007\">\n",
              "    <div class=\"colab-df-container\">\n",
              "      <div>\n",
              "<style scoped>\n",
              "    .dataframe tbody tr th:only-of-type {\n",
              "        vertical-align: middle;\n",
              "    }\n",
              "\n",
              "    .dataframe tbody tr th {\n",
              "        vertical-align: top;\n",
              "    }\n",
              "\n",
              "    .dataframe thead th {\n",
              "        text-align: right;\n",
              "    }\n",
              "</style>\n",
              "<table border=\"1\" class=\"dataframe\">\n",
              "  <thead>\n",
              "    <tr style=\"text-align: right;\">\n",
              "      <th></th>\n",
              "      <th>id</th>\n",
              "      <th>full_name</th>\n",
              "      <th>abbreviation</th>\n",
              "      <th>nickname</th>\n",
              "      <th>city</th>\n",
              "      <th>state</th>\n",
              "      <th>year_founded</th>\n",
              "    </tr>\n",
              "  </thead>\n",
              "  <tbody>\n",
              "    <tr>\n",
              "      <th>0</th>\n",
              "      <td>1610612737</td>\n",
              "      <td>Atlanta Hawks</td>\n",
              "      <td>ATL</td>\n",
              "      <td>Hawks</td>\n",
              "      <td>Atlanta</td>\n",
              "      <td>Atlanta</td>\n",
              "      <td>1949</td>\n",
              "    </tr>\n",
              "    <tr>\n",
              "      <th>1</th>\n",
              "      <td>1610612738</td>\n",
              "      <td>Boston Celtics</td>\n",
              "      <td>BOS</td>\n",
              "      <td>Celtics</td>\n",
              "      <td>Boston</td>\n",
              "      <td>Massachusetts</td>\n",
              "      <td>1946</td>\n",
              "    </tr>\n",
              "    <tr>\n",
              "      <th>2</th>\n",
              "      <td>1610612739</td>\n",
              "      <td>Cleveland Cavaliers</td>\n",
              "      <td>CLE</td>\n",
              "      <td>Cavaliers</td>\n",
              "      <td>Cleveland</td>\n",
              "      <td>Ohio</td>\n",
              "      <td>1970</td>\n",
              "    </tr>\n",
              "    <tr>\n",
              "      <th>3</th>\n",
              "      <td>1610612740</td>\n",
              "      <td>New Orleans Pelicans</td>\n",
              "      <td>NOP</td>\n",
              "      <td>Pelicans</td>\n",
              "      <td>New Orleans</td>\n",
              "      <td>Louisiana</td>\n",
              "      <td>2002</td>\n",
              "    </tr>\n",
              "    <tr>\n",
              "      <th>4</th>\n",
              "      <td>1610612741</td>\n",
              "      <td>Chicago Bulls</td>\n",
              "      <td>CHI</td>\n",
              "      <td>Bulls</td>\n",
              "      <td>Chicago</td>\n",
              "      <td>Illinois</td>\n",
              "      <td>1966</td>\n",
              "    </tr>\n",
              "  </tbody>\n",
              "</table>\n",
              "</div>\n",
              "      <button class=\"colab-df-convert\" onclick=\"convertToInteractive('df-c0bfd953-cb4c-44a2-9844-4f3cf0f3b007')\"\n",
              "              title=\"Convert this dataframe to an interactive table.\"\n",
              "              style=\"display:none;\">\n",
              "        \n",
              "  <svg xmlns=\"http://www.w3.org/2000/svg\" height=\"24px\"viewBox=\"0 0 24 24\"\n",
              "       width=\"24px\">\n",
              "    <path d=\"M0 0h24v24H0V0z\" fill=\"none\"/>\n",
              "    <path d=\"M18.56 5.44l.94 2.06.94-2.06 2.06-.94-2.06-.94-.94-2.06-.94 2.06-2.06.94zm-11 1L8.5 8.5l.94-2.06 2.06-.94-2.06-.94L8.5 2.5l-.94 2.06-2.06.94zm10 10l.94 2.06.94-2.06 2.06-.94-2.06-.94-.94-2.06-.94 2.06-2.06.94z\"/><path d=\"M17.41 7.96l-1.37-1.37c-.4-.4-.92-.59-1.43-.59-.52 0-1.04.2-1.43.59L10.3 9.45l-7.72 7.72c-.78.78-.78 2.05 0 2.83L4 21.41c.39.39.9.59 1.41.59.51 0 1.02-.2 1.41-.59l7.78-7.78 2.81-2.81c.8-.78.8-2.07 0-2.86zM5.41 20L4 18.59l7.72-7.72 1.47 1.35L5.41 20z\"/>\n",
              "  </svg>\n",
              "      </button>\n",
              "      \n",
              "  <style>\n",
              "    .colab-df-container {\n",
              "      display:flex;\n",
              "      flex-wrap:wrap;\n",
              "      gap: 12px;\n",
              "    }\n",
              "\n",
              "    .colab-df-convert {\n",
              "      background-color: #E8F0FE;\n",
              "      border: none;\n",
              "      border-radius: 50%;\n",
              "      cursor: pointer;\n",
              "      display: none;\n",
              "      fill: #1967D2;\n",
              "      height: 32px;\n",
              "      padding: 0 0 0 0;\n",
              "      width: 32px;\n",
              "    }\n",
              "\n",
              "    .colab-df-convert:hover {\n",
              "      background-color: #E2EBFA;\n",
              "      box-shadow: 0px 1px 2px rgba(60, 64, 67, 0.3), 0px 1px 3px 1px rgba(60, 64, 67, 0.15);\n",
              "      fill: #174EA6;\n",
              "    }\n",
              "\n",
              "    [theme=dark] .colab-df-convert {\n",
              "      background-color: #3B4455;\n",
              "      fill: #D2E3FC;\n",
              "    }\n",
              "\n",
              "    [theme=dark] .colab-df-convert:hover {\n",
              "      background-color: #434B5C;\n",
              "      box-shadow: 0px 1px 3px 1px rgba(0, 0, 0, 0.15);\n",
              "      filter: drop-shadow(0px 1px 2px rgba(0, 0, 0, 0.3));\n",
              "      fill: #FFFFFF;\n",
              "    }\n",
              "  </style>\n",
              "\n",
              "      <script>\n",
              "        const buttonEl =\n",
              "          document.querySelector('#df-c0bfd953-cb4c-44a2-9844-4f3cf0f3b007 button.colab-df-convert');\n",
              "        buttonEl.style.display =\n",
              "          google.colab.kernel.accessAllowed ? 'block' : 'none';\n",
              "\n",
              "        async function convertToInteractive(key) {\n",
              "          const element = document.querySelector('#df-c0bfd953-cb4c-44a2-9844-4f3cf0f3b007');\n",
              "          const dataTable =\n",
              "            await google.colab.kernel.invokeFunction('convertToInteractive',\n",
              "                                                     [key], {});\n",
              "          if (!dataTable) return;\n",
              "\n",
              "          const docLinkHtml = 'Like what you see? Visit the ' +\n",
              "            '<a target=\"_blank\" href=https://colab.research.google.com/notebooks/data_table.ipynb>data table notebook</a>'\n",
              "            + ' to learn more about interactive tables.';\n",
              "          element.innerHTML = '';\n",
              "          dataTable['output_type'] = 'display_data';\n",
              "          await google.colab.output.renderOutput(dataTable, element);\n",
              "          const docLink = document.createElement('div');\n",
              "          docLink.innerHTML = docLinkHtml;\n",
              "          element.appendChild(docLink);\n",
              "        }\n",
              "      </script>\n",
              "    </div>\n",
              "  </div>\n",
              "  "
            ]
          },
          "metadata": {},
          "execution_count": 67
        }
      ]
    },
    {
      "cell_type": "code",
      "source": [
        "df_teams"
      ],
      "metadata": {
        "colab": {
          "base_uri": "https://localhost:8080/",
          "height": 990
        },
        "id": "ByYxYeAXG68h",
        "outputId": "9aa46dec-dc16-47df-e5c1-cd18a43fd56d"
      },
      "execution_count": 69,
      "outputs": [
        {
          "output_type": "execute_result",
          "data": {
            "text/plain": [
              "            id               full_name abbreviation       nickname  \\\n",
              "0   1610612737           Atlanta Hawks          ATL          Hawks   \n",
              "1   1610612738          Boston Celtics          BOS        Celtics   \n",
              "2   1610612739     Cleveland Cavaliers          CLE      Cavaliers   \n",
              "3   1610612740    New Orleans Pelicans          NOP       Pelicans   \n",
              "4   1610612741           Chicago Bulls          CHI          Bulls   \n",
              "5   1610612742        Dallas Mavericks          DAL      Mavericks   \n",
              "6   1610612743          Denver Nuggets          DEN        Nuggets   \n",
              "7   1610612744   Golden State Warriors          GSW       Warriors   \n",
              "8   1610612745         Houston Rockets          HOU        Rockets   \n",
              "9   1610612746    Los Angeles Clippers          LAC       Clippers   \n",
              "10  1610612747      Los Angeles Lakers          LAL         Lakers   \n",
              "11  1610612748              Miami Heat          MIA           Heat   \n",
              "12  1610612749         Milwaukee Bucks          MIL          Bucks   \n",
              "13  1610612750  Minnesota Timberwolves          MIN   Timberwolves   \n",
              "14  1610612751           Brooklyn Nets          BKN           Nets   \n",
              "15  1610612752         New York Knicks          NYK         Knicks   \n",
              "16  1610612753           Orlando Magic          ORL          Magic   \n",
              "17  1610612754          Indiana Pacers          IND         Pacers   \n",
              "18  1610612755      Philadelphia 76ers          PHI          76ers   \n",
              "19  1610612756            Phoenix Suns          PHX           Suns   \n",
              "20  1610612757  Portland Trail Blazers          POR  Trail Blazers   \n",
              "21  1610612758        Sacramento Kings          SAC          Kings   \n",
              "22  1610612759       San Antonio Spurs          SAS          Spurs   \n",
              "23  1610612760   Oklahoma City Thunder          OKC        Thunder   \n",
              "24  1610612761         Toronto Raptors          TOR        Raptors   \n",
              "25  1610612762               Utah Jazz          UTA           Jazz   \n",
              "26  1610612763       Memphis Grizzlies          MEM      Grizzlies   \n",
              "27  1610612764      Washington Wizards          WAS        Wizards   \n",
              "28  1610612765         Detroit Pistons          DET        Pistons   \n",
              "29  1610612766       Charlotte Hornets          CHA        Hornets   \n",
              "\n",
              "             city                 state  year_founded  \n",
              "0         Atlanta               Atlanta          1949  \n",
              "1          Boston         Massachusetts          1946  \n",
              "2       Cleveland                  Ohio          1970  \n",
              "3     New Orleans             Louisiana          2002  \n",
              "4         Chicago              Illinois          1966  \n",
              "5          Dallas                 Texas          1980  \n",
              "6          Denver              Colorado          1976  \n",
              "7    Golden State            California          1946  \n",
              "8         Houston                 Texas          1967  \n",
              "9     Los Angeles            California          1970  \n",
              "10    Los Angeles            California          1948  \n",
              "11          Miami               Florida          1988  \n",
              "12      Milwaukee             Wisconsin          1968  \n",
              "13      Minnesota             Minnesota          1989  \n",
              "14       Brooklyn              New York          1976  \n",
              "15       New York              New York          1946  \n",
              "16        Orlando               Florida          1989  \n",
              "17        Indiana               Indiana          1976  \n",
              "18   Philadelphia          Pennsylvania          1949  \n",
              "19        Phoenix               Arizona          1968  \n",
              "20       Portland                Oregon          1970  \n",
              "21     Sacramento            California          1948  \n",
              "22    San Antonio                 Texas          1976  \n",
              "23  Oklahoma City              Oklahoma          1967  \n",
              "24        Toronto               Ontario          1995  \n",
              "25           Utah                  Utah          1974  \n",
              "26        Memphis             Tennessee          1995  \n",
              "27     Washington  District of Columbia          1961  \n",
              "28        Detroit              Michigan          1948  \n",
              "29      Charlotte        North Carolina          1988  "
            ],
            "text/html": [
              "\n",
              "  <div id=\"df-7dabf9ac-c842-43a7-9011-2da86a099931\">\n",
              "    <div class=\"colab-df-container\">\n",
              "      <div>\n",
              "<style scoped>\n",
              "    .dataframe tbody tr th:only-of-type {\n",
              "        vertical-align: middle;\n",
              "    }\n",
              "\n",
              "    .dataframe tbody tr th {\n",
              "        vertical-align: top;\n",
              "    }\n",
              "\n",
              "    .dataframe thead th {\n",
              "        text-align: right;\n",
              "    }\n",
              "</style>\n",
              "<table border=\"1\" class=\"dataframe\">\n",
              "  <thead>\n",
              "    <tr style=\"text-align: right;\">\n",
              "      <th></th>\n",
              "      <th>id</th>\n",
              "      <th>full_name</th>\n",
              "      <th>abbreviation</th>\n",
              "      <th>nickname</th>\n",
              "      <th>city</th>\n",
              "      <th>state</th>\n",
              "      <th>year_founded</th>\n",
              "    </tr>\n",
              "  </thead>\n",
              "  <tbody>\n",
              "    <tr>\n",
              "      <th>0</th>\n",
              "      <td>1610612737</td>\n",
              "      <td>Atlanta Hawks</td>\n",
              "      <td>ATL</td>\n",
              "      <td>Hawks</td>\n",
              "      <td>Atlanta</td>\n",
              "      <td>Atlanta</td>\n",
              "      <td>1949</td>\n",
              "    </tr>\n",
              "    <tr>\n",
              "      <th>1</th>\n",
              "      <td>1610612738</td>\n",
              "      <td>Boston Celtics</td>\n",
              "      <td>BOS</td>\n",
              "      <td>Celtics</td>\n",
              "      <td>Boston</td>\n",
              "      <td>Massachusetts</td>\n",
              "      <td>1946</td>\n",
              "    </tr>\n",
              "    <tr>\n",
              "      <th>2</th>\n",
              "      <td>1610612739</td>\n",
              "      <td>Cleveland Cavaliers</td>\n",
              "      <td>CLE</td>\n",
              "      <td>Cavaliers</td>\n",
              "      <td>Cleveland</td>\n",
              "      <td>Ohio</td>\n",
              "      <td>1970</td>\n",
              "    </tr>\n",
              "    <tr>\n",
              "      <th>3</th>\n",
              "      <td>1610612740</td>\n",
              "      <td>New Orleans Pelicans</td>\n",
              "      <td>NOP</td>\n",
              "      <td>Pelicans</td>\n",
              "      <td>New Orleans</td>\n",
              "      <td>Louisiana</td>\n",
              "      <td>2002</td>\n",
              "    </tr>\n",
              "    <tr>\n",
              "      <th>4</th>\n",
              "      <td>1610612741</td>\n",
              "      <td>Chicago Bulls</td>\n",
              "      <td>CHI</td>\n",
              "      <td>Bulls</td>\n",
              "      <td>Chicago</td>\n",
              "      <td>Illinois</td>\n",
              "      <td>1966</td>\n",
              "    </tr>\n",
              "    <tr>\n",
              "      <th>5</th>\n",
              "      <td>1610612742</td>\n",
              "      <td>Dallas Mavericks</td>\n",
              "      <td>DAL</td>\n",
              "      <td>Mavericks</td>\n",
              "      <td>Dallas</td>\n",
              "      <td>Texas</td>\n",
              "      <td>1980</td>\n",
              "    </tr>\n",
              "    <tr>\n",
              "      <th>6</th>\n",
              "      <td>1610612743</td>\n",
              "      <td>Denver Nuggets</td>\n",
              "      <td>DEN</td>\n",
              "      <td>Nuggets</td>\n",
              "      <td>Denver</td>\n",
              "      <td>Colorado</td>\n",
              "      <td>1976</td>\n",
              "    </tr>\n",
              "    <tr>\n",
              "      <th>7</th>\n",
              "      <td>1610612744</td>\n",
              "      <td>Golden State Warriors</td>\n",
              "      <td>GSW</td>\n",
              "      <td>Warriors</td>\n",
              "      <td>Golden State</td>\n",
              "      <td>California</td>\n",
              "      <td>1946</td>\n",
              "    </tr>\n",
              "    <tr>\n",
              "      <th>8</th>\n",
              "      <td>1610612745</td>\n",
              "      <td>Houston Rockets</td>\n",
              "      <td>HOU</td>\n",
              "      <td>Rockets</td>\n",
              "      <td>Houston</td>\n",
              "      <td>Texas</td>\n",
              "      <td>1967</td>\n",
              "    </tr>\n",
              "    <tr>\n",
              "      <th>9</th>\n",
              "      <td>1610612746</td>\n",
              "      <td>Los Angeles Clippers</td>\n",
              "      <td>LAC</td>\n",
              "      <td>Clippers</td>\n",
              "      <td>Los Angeles</td>\n",
              "      <td>California</td>\n",
              "      <td>1970</td>\n",
              "    </tr>\n",
              "    <tr>\n",
              "      <th>10</th>\n",
              "      <td>1610612747</td>\n",
              "      <td>Los Angeles Lakers</td>\n",
              "      <td>LAL</td>\n",
              "      <td>Lakers</td>\n",
              "      <td>Los Angeles</td>\n",
              "      <td>California</td>\n",
              "      <td>1948</td>\n",
              "    </tr>\n",
              "    <tr>\n",
              "      <th>11</th>\n",
              "      <td>1610612748</td>\n",
              "      <td>Miami Heat</td>\n",
              "      <td>MIA</td>\n",
              "      <td>Heat</td>\n",
              "      <td>Miami</td>\n",
              "      <td>Florida</td>\n",
              "      <td>1988</td>\n",
              "    </tr>\n",
              "    <tr>\n",
              "      <th>12</th>\n",
              "      <td>1610612749</td>\n",
              "      <td>Milwaukee Bucks</td>\n",
              "      <td>MIL</td>\n",
              "      <td>Bucks</td>\n",
              "      <td>Milwaukee</td>\n",
              "      <td>Wisconsin</td>\n",
              "      <td>1968</td>\n",
              "    </tr>\n",
              "    <tr>\n",
              "      <th>13</th>\n",
              "      <td>1610612750</td>\n",
              "      <td>Minnesota Timberwolves</td>\n",
              "      <td>MIN</td>\n",
              "      <td>Timberwolves</td>\n",
              "      <td>Minnesota</td>\n",
              "      <td>Minnesota</td>\n",
              "      <td>1989</td>\n",
              "    </tr>\n",
              "    <tr>\n",
              "      <th>14</th>\n",
              "      <td>1610612751</td>\n",
              "      <td>Brooklyn Nets</td>\n",
              "      <td>BKN</td>\n",
              "      <td>Nets</td>\n",
              "      <td>Brooklyn</td>\n",
              "      <td>New York</td>\n",
              "      <td>1976</td>\n",
              "    </tr>\n",
              "    <tr>\n",
              "      <th>15</th>\n",
              "      <td>1610612752</td>\n",
              "      <td>New York Knicks</td>\n",
              "      <td>NYK</td>\n",
              "      <td>Knicks</td>\n",
              "      <td>New York</td>\n",
              "      <td>New York</td>\n",
              "      <td>1946</td>\n",
              "    </tr>\n",
              "    <tr>\n",
              "      <th>16</th>\n",
              "      <td>1610612753</td>\n",
              "      <td>Orlando Magic</td>\n",
              "      <td>ORL</td>\n",
              "      <td>Magic</td>\n",
              "      <td>Orlando</td>\n",
              "      <td>Florida</td>\n",
              "      <td>1989</td>\n",
              "    </tr>\n",
              "    <tr>\n",
              "      <th>17</th>\n",
              "      <td>1610612754</td>\n",
              "      <td>Indiana Pacers</td>\n",
              "      <td>IND</td>\n",
              "      <td>Pacers</td>\n",
              "      <td>Indiana</td>\n",
              "      <td>Indiana</td>\n",
              "      <td>1976</td>\n",
              "    </tr>\n",
              "    <tr>\n",
              "      <th>18</th>\n",
              "      <td>1610612755</td>\n",
              "      <td>Philadelphia 76ers</td>\n",
              "      <td>PHI</td>\n",
              "      <td>76ers</td>\n",
              "      <td>Philadelphia</td>\n",
              "      <td>Pennsylvania</td>\n",
              "      <td>1949</td>\n",
              "    </tr>\n",
              "    <tr>\n",
              "      <th>19</th>\n",
              "      <td>1610612756</td>\n",
              "      <td>Phoenix Suns</td>\n",
              "      <td>PHX</td>\n",
              "      <td>Suns</td>\n",
              "      <td>Phoenix</td>\n",
              "      <td>Arizona</td>\n",
              "      <td>1968</td>\n",
              "    </tr>\n",
              "    <tr>\n",
              "      <th>20</th>\n",
              "      <td>1610612757</td>\n",
              "      <td>Portland Trail Blazers</td>\n",
              "      <td>POR</td>\n",
              "      <td>Trail Blazers</td>\n",
              "      <td>Portland</td>\n",
              "      <td>Oregon</td>\n",
              "      <td>1970</td>\n",
              "    </tr>\n",
              "    <tr>\n",
              "      <th>21</th>\n",
              "      <td>1610612758</td>\n",
              "      <td>Sacramento Kings</td>\n",
              "      <td>SAC</td>\n",
              "      <td>Kings</td>\n",
              "      <td>Sacramento</td>\n",
              "      <td>California</td>\n",
              "      <td>1948</td>\n",
              "    </tr>\n",
              "    <tr>\n",
              "      <th>22</th>\n",
              "      <td>1610612759</td>\n",
              "      <td>San Antonio Spurs</td>\n",
              "      <td>SAS</td>\n",
              "      <td>Spurs</td>\n",
              "      <td>San Antonio</td>\n",
              "      <td>Texas</td>\n",
              "      <td>1976</td>\n",
              "    </tr>\n",
              "    <tr>\n",
              "      <th>23</th>\n",
              "      <td>1610612760</td>\n",
              "      <td>Oklahoma City Thunder</td>\n",
              "      <td>OKC</td>\n",
              "      <td>Thunder</td>\n",
              "      <td>Oklahoma City</td>\n",
              "      <td>Oklahoma</td>\n",
              "      <td>1967</td>\n",
              "    </tr>\n",
              "    <tr>\n",
              "      <th>24</th>\n",
              "      <td>1610612761</td>\n",
              "      <td>Toronto Raptors</td>\n",
              "      <td>TOR</td>\n",
              "      <td>Raptors</td>\n",
              "      <td>Toronto</td>\n",
              "      <td>Ontario</td>\n",
              "      <td>1995</td>\n",
              "    </tr>\n",
              "    <tr>\n",
              "      <th>25</th>\n",
              "      <td>1610612762</td>\n",
              "      <td>Utah Jazz</td>\n",
              "      <td>UTA</td>\n",
              "      <td>Jazz</td>\n",
              "      <td>Utah</td>\n",
              "      <td>Utah</td>\n",
              "      <td>1974</td>\n",
              "    </tr>\n",
              "    <tr>\n",
              "      <th>26</th>\n",
              "      <td>1610612763</td>\n",
              "      <td>Memphis Grizzlies</td>\n",
              "      <td>MEM</td>\n",
              "      <td>Grizzlies</td>\n",
              "      <td>Memphis</td>\n",
              "      <td>Tennessee</td>\n",
              "      <td>1995</td>\n",
              "    </tr>\n",
              "    <tr>\n",
              "      <th>27</th>\n",
              "      <td>1610612764</td>\n",
              "      <td>Washington Wizards</td>\n",
              "      <td>WAS</td>\n",
              "      <td>Wizards</td>\n",
              "      <td>Washington</td>\n",
              "      <td>District of Columbia</td>\n",
              "      <td>1961</td>\n",
              "    </tr>\n",
              "    <tr>\n",
              "      <th>28</th>\n",
              "      <td>1610612765</td>\n",
              "      <td>Detroit Pistons</td>\n",
              "      <td>DET</td>\n",
              "      <td>Pistons</td>\n",
              "      <td>Detroit</td>\n",
              "      <td>Michigan</td>\n",
              "      <td>1948</td>\n",
              "    </tr>\n",
              "    <tr>\n",
              "      <th>29</th>\n",
              "      <td>1610612766</td>\n",
              "      <td>Charlotte Hornets</td>\n",
              "      <td>CHA</td>\n",
              "      <td>Hornets</td>\n",
              "      <td>Charlotte</td>\n",
              "      <td>North Carolina</td>\n",
              "      <td>1988</td>\n",
              "    </tr>\n",
              "  </tbody>\n",
              "</table>\n",
              "</div>\n",
              "      <button class=\"colab-df-convert\" onclick=\"convertToInteractive('df-7dabf9ac-c842-43a7-9011-2da86a099931')\"\n",
              "              title=\"Convert this dataframe to an interactive table.\"\n",
              "              style=\"display:none;\">\n",
              "        \n",
              "  <svg xmlns=\"http://www.w3.org/2000/svg\" height=\"24px\"viewBox=\"0 0 24 24\"\n",
              "       width=\"24px\">\n",
              "    <path d=\"M0 0h24v24H0V0z\" fill=\"none\"/>\n",
              "    <path d=\"M18.56 5.44l.94 2.06.94-2.06 2.06-.94-2.06-.94-.94-2.06-.94 2.06-2.06.94zm-11 1L8.5 8.5l.94-2.06 2.06-.94-2.06-.94L8.5 2.5l-.94 2.06-2.06.94zm10 10l.94 2.06.94-2.06 2.06-.94-2.06-.94-.94-2.06-.94 2.06-2.06.94z\"/><path d=\"M17.41 7.96l-1.37-1.37c-.4-.4-.92-.59-1.43-.59-.52 0-1.04.2-1.43.59L10.3 9.45l-7.72 7.72c-.78.78-.78 2.05 0 2.83L4 21.41c.39.39.9.59 1.41.59.51 0 1.02-.2 1.41-.59l7.78-7.78 2.81-2.81c.8-.78.8-2.07 0-2.86zM5.41 20L4 18.59l7.72-7.72 1.47 1.35L5.41 20z\"/>\n",
              "  </svg>\n",
              "      </button>\n",
              "      \n",
              "  <style>\n",
              "    .colab-df-container {\n",
              "      display:flex;\n",
              "      flex-wrap:wrap;\n",
              "      gap: 12px;\n",
              "    }\n",
              "\n",
              "    .colab-df-convert {\n",
              "      background-color: #E8F0FE;\n",
              "      border: none;\n",
              "      border-radius: 50%;\n",
              "      cursor: pointer;\n",
              "      display: none;\n",
              "      fill: #1967D2;\n",
              "      height: 32px;\n",
              "      padding: 0 0 0 0;\n",
              "      width: 32px;\n",
              "    }\n",
              "\n",
              "    .colab-df-convert:hover {\n",
              "      background-color: #E2EBFA;\n",
              "      box-shadow: 0px 1px 2px rgba(60, 64, 67, 0.3), 0px 1px 3px 1px rgba(60, 64, 67, 0.15);\n",
              "      fill: #174EA6;\n",
              "    }\n",
              "\n",
              "    [theme=dark] .colab-df-convert {\n",
              "      background-color: #3B4455;\n",
              "      fill: #D2E3FC;\n",
              "    }\n",
              "\n",
              "    [theme=dark] .colab-df-convert:hover {\n",
              "      background-color: #434B5C;\n",
              "      box-shadow: 0px 1px 3px 1px rgba(0, 0, 0, 0.15);\n",
              "      filter: drop-shadow(0px 1px 2px rgba(0, 0, 0, 0.3));\n",
              "      fill: #FFFFFF;\n",
              "    }\n",
              "  </style>\n",
              "\n",
              "      <script>\n",
              "        const buttonEl =\n",
              "          document.querySelector('#df-7dabf9ac-c842-43a7-9011-2da86a099931 button.colab-df-convert');\n",
              "        buttonEl.style.display =\n",
              "          google.colab.kernel.accessAllowed ? 'block' : 'none';\n",
              "\n",
              "        async function convertToInteractive(key) {\n",
              "          const element = document.querySelector('#df-7dabf9ac-c842-43a7-9011-2da86a099931');\n",
              "          const dataTable =\n",
              "            await google.colab.kernel.invokeFunction('convertToInteractive',\n",
              "                                                     [key], {});\n",
              "          if (!dataTable) return;\n",
              "\n",
              "          const docLinkHtml = 'Like what you see? Visit the ' +\n",
              "            '<a target=\"_blank\" href=https://colab.research.google.com/notebooks/data_table.ipynb>data table notebook</a>'\n",
              "            + ' to learn more about interactive tables.';\n",
              "          element.innerHTML = '';\n",
              "          dataTable['output_type'] = 'display_data';\n",
              "          await google.colab.output.renderOutput(dataTable, element);\n",
              "          const docLink = document.createElement('div');\n",
              "          docLink.innerHTML = docLinkHtml;\n",
              "          element.appendChild(docLink);\n",
              "        }\n",
              "      </script>\n",
              "    </div>\n",
              "  </div>\n",
              "  "
            ]
          },
          "metadata": {},
          "execution_count": 69
        }
      ]
    },
    {
      "cell_type": "code",
      "source": [
        "df_lakers = df_teams[df_teams['nickname'] == 'Lakers']\n",
        "df_lakers"
      ],
      "metadata": {
        "colab": {
          "base_uri": "https://localhost:8080/",
          "height": 81
        },
        "id": "u2gZM_v7GtSM",
        "outputId": "2d759769-28c9-4937-9947-358d264f8da1"
      },
      "execution_count": 70,
      "outputs": [
        {
          "output_type": "execute_result",
          "data": {
            "text/plain": [
              "            id           full_name abbreviation nickname         city  \\\n",
              "10  1610612747  Los Angeles Lakers          LAL   Lakers  Los Angeles   \n",
              "\n",
              "         state  year_founded  \n",
              "10  California          1948  "
            ],
            "text/html": [
              "\n",
              "  <div id=\"df-5c2ec637-0450-49ad-a958-91b26a74a67a\">\n",
              "    <div class=\"colab-df-container\">\n",
              "      <div>\n",
              "<style scoped>\n",
              "    .dataframe tbody tr th:only-of-type {\n",
              "        vertical-align: middle;\n",
              "    }\n",
              "\n",
              "    .dataframe tbody tr th {\n",
              "        vertical-align: top;\n",
              "    }\n",
              "\n",
              "    .dataframe thead th {\n",
              "        text-align: right;\n",
              "    }\n",
              "</style>\n",
              "<table border=\"1\" class=\"dataframe\">\n",
              "  <thead>\n",
              "    <tr style=\"text-align: right;\">\n",
              "      <th></th>\n",
              "      <th>id</th>\n",
              "      <th>full_name</th>\n",
              "      <th>abbreviation</th>\n",
              "      <th>nickname</th>\n",
              "      <th>city</th>\n",
              "      <th>state</th>\n",
              "      <th>year_founded</th>\n",
              "    </tr>\n",
              "  </thead>\n",
              "  <tbody>\n",
              "    <tr>\n",
              "      <th>10</th>\n",
              "      <td>1610612747</td>\n",
              "      <td>Los Angeles Lakers</td>\n",
              "      <td>LAL</td>\n",
              "      <td>Lakers</td>\n",
              "      <td>Los Angeles</td>\n",
              "      <td>California</td>\n",
              "      <td>1948</td>\n",
              "    </tr>\n",
              "  </tbody>\n",
              "</table>\n",
              "</div>\n",
              "      <button class=\"colab-df-convert\" onclick=\"convertToInteractive('df-5c2ec637-0450-49ad-a958-91b26a74a67a')\"\n",
              "              title=\"Convert this dataframe to an interactive table.\"\n",
              "              style=\"display:none;\">\n",
              "        \n",
              "  <svg xmlns=\"http://www.w3.org/2000/svg\" height=\"24px\"viewBox=\"0 0 24 24\"\n",
              "       width=\"24px\">\n",
              "    <path d=\"M0 0h24v24H0V0z\" fill=\"none\"/>\n",
              "    <path d=\"M18.56 5.44l.94 2.06.94-2.06 2.06-.94-2.06-.94-.94-2.06-.94 2.06-2.06.94zm-11 1L8.5 8.5l.94-2.06 2.06-.94-2.06-.94L8.5 2.5l-.94 2.06-2.06.94zm10 10l.94 2.06.94-2.06 2.06-.94-2.06-.94-.94-2.06-.94 2.06-2.06.94z\"/><path d=\"M17.41 7.96l-1.37-1.37c-.4-.4-.92-.59-1.43-.59-.52 0-1.04.2-1.43.59L10.3 9.45l-7.72 7.72c-.78.78-.78 2.05 0 2.83L4 21.41c.39.39.9.59 1.41.59.51 0 1.02-.2 1.41-.59l7.78-7.78 2.81-2.81c.8-.78.8-2.07 0-2.86zM5.41 20L4 18.59l7.72-7.72 1.47 1.35L5.41 20z\"/>\n",
              "  </svg>\n",
              "      </button>\n",
              "      \n",
              "  <style>\n",
              "    .colab-df-container {\n",
              "      display:flex;\n",
              "      flex-wrap:wrap;\n",
              "      gap: 12px;\n",
              "    }\n",
              "\n",
              "    .colab-df-convert {\n",
              "      background-color: #E8F0FE;\n",
              "      border: none;\n",
              "      border-radius: 50%;\n",
              "      cursor: pointer;\n",
              "      display: none;\n",
              "      fill: #1967D2;\n",
              "      height: 32px;\n",
              "      padding: 0 0 0 0;\n",
              "      width: 32px;\n",
              "    }\n",
              "\n",
              "    .colab-df-convert:hover {\n",
              "      background-color: #E2EBFA;\n",
              "      box-shadow: 0px 1px 2px rgba(60, 64, 67, 0.3), 0px 1px 3px 1px rgba(60, 64, 67, 0.15);\n",
              "      fill: #174EA6;\n",
              "    }\n",
              "\n",
              "    [theme=dark] .colab-df-convert {\n",
              "      background-color: #3B4455;\n",
              "      fill: #D2E3FC;\n",
              "    }\n",
              "\n",
              "    [theme=dark] .colab-df-convert:hover {\n",
              "      background-color: #434B5C;\n",
              "      box-shadow: 0px 1px 3px 1px rgba(0, 0, 0, 0.15);\n",
              "      filter: drop-shadow(0px 1px 2px rgba(0, 0, 0, 0.3));\n",
              "      fill: #FFFFFF;\n",
              "    }\n",
              "  </style>\n",
              "\n",
              "      <script>\n",
              "        const buttonEl =\n",
              "          document.querySelector('#df-5c2ec637-0450-49ad-a958-91b26a74a67a button.colab-df-convert');\n",
              "        buttonEl.style.display =\n",
              "          google.colab.kernel.accessAllowed ? 'block' : 'none';\n",
              "\n",
              "        async function convertToInteractive(key) {\n",
              "          const element = document.querySelector('#df-5c2ec637-0450-49ad-a958-91b26a74a67a');\n",
              "          const dataTable =\n",
              "            await google.colab.kernel.invokeFunction('convertToInteractive',\n",
              "                                                     [key], {});\n",
              "          if (!dataTable) return;\n",
              "\n",
              "          const docLinkHtml = 'Like what you see? Visit the ' +\n",
              "            '<a target=\"_blank\" href=https://colab.research.google.com/notebooks/data_table.ipynb>data table notebook</a>'\n",
              "            + ' to learn more about interactive tables.';\n",
              "          element.innerHTML = '';\n",
              "          dataTable['output_type'] = 'display_data';\n",
              "          await google.colab.output.renderOutput(dataTable, element);\n",
              "          const docLink = document.createElement('div');\n",
              "          docLink.innerHTML = docLinkHtml;\n",
              "          element.appendChild(docLink);\n",
              "        }\n",
              "      </script>\n",
              "    </div>\n",
              "  </div>\n",
              "  "
            ]
          },
          "metadata": {},
          "execution_count": 70
        }
      ]
    },
    {
      "cell_type": "markdown",
      "source": [
        "**Lab - HTTP and Requests**"
      ],
      "metadata": {
        "id": "4w-O5fneHgav"
      }
    },
    {
      "cell_type": "code",
      "source": [
        "import requests\n",
        "import os \n",
        "from PIL import Image\n",
        "from IPython.display import IFrame\n",
        "\n",
        "url = 'https://www.ibm.com/'\n",
        "r = requests.get(url)\n",
        "\n",
        "# We have the response object r, this has information about the request, like the status of the request. We can view the status code using the attribute status_code.\n",
        "r.status_code"
      ],
      "metadata": {
        "colab": {
          "base_uri": "https://localhost:8080/"
        },
        "id": "IUkyvqJ3KVV-",
        "outputId": "68a26dc4-f1ce-47c6-8912-4c0cdaac0e91"
      },
      "execution_count": 3,
      "outputs": [
        {
          "output_type": "execute_result",
          "data": {
            "text/plain": [
              "200"
            ]
          },
          "metadata": {},
          "execution_count": 3
        }
      ]
    },
    {
      "cell_type": "code",
      "source": [
        "# Request Headers\n",
        "r.request.headers"
      ],
      "metadata": {
        "colab": {
          "base_uri": "https://localhost:8080/"
        },
        "id": "lqWCxpR0Kd3R",
        "outputId": "2fecaf06-73d2-4593-b3eb-1a9461803b27"
      },
      "execution_count": 4,
      "outputs": [
        {
          "output_type": "execute_result",
          "data": {
            "text/plain": [
              "{'User-Agent': 'python-requests/2.28.1', 'Accept-Encoding': 'gzip, deflate', 'Accept': '*/*', 'Connection': 'keep-alive', 'Cookie': '_abck=332A483FDB998E2C903D0D141AEE80F3~-1~YAAQvg8kF1Mzgl2DAQAAA9Ypmwivy3iMFjh2MD4nVMJpD54qx+LNQ2vXTTpoOeZDv2bYyBK+r5YfjKC1c/eFSqDJvlwiMdiarvwHEr8cmFY7UU9o23BduPtAxLxG2OOSsVoGZ/pxZCJbjO6P3ZlOl0VW7+FIDYMC9czcGlzRD6njyU+oPbU+S4dgYj7fI7EvuiXvsNUuGLLFXJ7hMgCky+xL9OkfUfoafqUBS1c0vJDYfBtLdcVVQUBOQnNI95i4doqpKXjaT9efv/eUcJQ75Lfi36kyRVKim2Vh4extdBPKOCK1doSquJvDieq4r92riLT3RsI9Ayq3+Cgvu3V3YnoTeztYDTz5FM4gJ4udk0JDDSIHrRo=~-1~-1~-1; bm_sz=A0FCC8AEAC8FEE8B2AA0B49786E09E72~YAAQvg8kF1Qzgl2DAQAAA9YpmxFI8Imk+E7nMgMUiIrH/MSc2ugbZXH4bPghvh5pXX24gpv82PFiNGibsGBL6wEh03oz3Knen1Ey/hcBanWVnqgVzuh4bu15HuGjwvjqDlfAmmFoq77SF4G1iqhel6Y0kM5FUluh3OXF6MK43mm19i3u7LUWYYix+P/gGcDRywlidjNZsGDnQpryH85y+Gt5Q1nUDa8ncnM3rCwFIFxYE/eK3C75j2uzVGgKofGzrESmMD+ESKkgBJgX3ESy+CFCYJBVc4t8kWu978rFDos=~4539191~4600624'}"
            ]
          },
          "metadata": {},
          "execution_count": 4
        }
      ]
    },
    {
      "cell_type": "code",
      "source": [
        "# Request body\n",
        "print(\"request body:\", r.request.body)"
      ],
      "metadata": {
        "colab": {
          "base_uri": "https://localhost:8080/"
        },
        "id": "OSB6ESxbKnQd",
        "outputId": "bf54b6f5-4bba-4799-f83a-7d43ad0d0815"
      },
      "execution_count": 6,
      "outputs": [
        {
          "output_type": "stream",
          "name": "stdout",
          "text": [
            "request body: None\n"
          ]
        }
      ]
    },
    {
      "cell_type": "code",
      "source": [
        "# View the HTTP response header using the attribute headers\n",
        "header = r.headers\n",
        "print(r.headers)"
      ],
      "metadata": {
        "colab": {
          "base_uri": "https://localhost:8080/"
        },
        "id": "dFpuIizcKuvx",
        "outputId": "cb4b2d86-5f8b-419e-f75f-7b53d9413952"
      },
      "execution_count": 7,
      "outputs": [
        {
          "output_type": "stream",
          "name": "stdout",
          "text": [
            "{'Server': 'Apache', 'Last-Modified': 'Mon, 26 Sep 2022 12:10:36 GMT', 'ETag': '\"182c6-5e9936a544ba1-gzip\"', 'Accept-Ranges': 'bytes', 'Content-Encoding': 'gzip', 'Content-Type': 'text/html', 'Cache-Control': 'max-age=3600', 'Expires': 'Mon, 03 Oct 2022 01:05:53 GMT', 'X-Akamai-Transformed': '9 21429 0 pmb=mTOE,2', 'Date': 'Mon, 03 Oct 2022 00:05:53 GMT', 'Content-Length': '21624', 'Connection': 'keep-alive', 'Vary': 'Accept-Encoding', 'x-content-type-options': 'nosniff', 'X-XSS-Protection': '1; mode=block', 'Content-Security-Policy': 'upgrade-insecure-requests', 'Strict-Transport-Security': 'max-age=31536000'}\n"
          ]
        }
      ]
    },
    {
      "cell_type": "code",
      "source": [
        "# Get header date\n",
        "header['date']"
      ],
      "metadata": {
        "colab": {
          "base_uri": "https://localhost:8080/",
          "height": 36
        },
        "id": "4fPxM4XRK9Ua",
        "outputId": "7c2e48f2-7f84-436a-e63a-e39d2ade892f"
      },
      "execution_count": 8,
      "outputs": [
        {
          "output_type": "execute_result",
          "data": {
            "text/plain": [
              "'Mon, 03 Oct 2022 00:05:53 GMT'"
            ],
            "application/vnd.google.colaboratory.intrinsic+json": {
              "type": "string"
            }
          },
          "metadata": {},
          "execution_count": 8
        }
      ]
    },
    {
      "cell_type": "code",
      "source": [
        "# Content-Type\n",
        "header['Content-Type']"
      ],
      "metadata": {
        "colab": {
          "base_uri": "https://localhost:8080/",
          "height": 36
        },
        "id": "Y3CiOXl-LBlb",
        "outputId": "e5c806d9-19bc-4f92-bb4f-b7bf75f63c62"
      },
      "execution_count": 9,
      "outputs": [
        {
          "output_type": "execute_result",
          "data": {
            "text/plain": [
              "'text/html'"
            ],
            "application/vnd.google.colaboratory.intrinsic+json": {
              "type": "string"
            }
          },
          "metadata": {},
          "execution_count": 9
        }
      ]
    },
    {
      "cell_type": "code",
      "source": [
        "url = 'https://cf-courses-data.s3.us.cloud-object-storage.appdomain.cloud/IBMDeveloperSkillsNetwork-PY0101EN-SkillsNetwork/IDSNlogo.png'\n",
        "r = requests.get(url)\n",
        "print(r.headers)"
      ],
      "metadata": {
        "colab": {
          "base_uri": "https://localhost:8080/"
        },
        "id": "_Uh_SKjcLJSl",
        "outputId": "3d195966-892f-42f8-ab6d-9251107892e6"
      },
      "execution_count": 10,
      "outputs": [
        {
          "output_type": "stream",
          "name": "stdout",
          "text": [
            "{'Date': 'Mon, 03 Oct 2022 00:09:14 GMT', 'X-Clv-Request-Id': 'ba27c806-05ba-429e-8be4-e958c1aaa96b', 'Server': 'Cleversafe', 'X-Clv-S3-Version': '2.5', 'Accept-Ranges': 'bytes', 'x-amz-request-id': 'ba27c806-05ba-429e-8be4-e958c1aaa96b', 'Cache-Control': 'max-age=0,public', 'ETag': '\"a831e767d02efd21b904ec485ac0c769\"', 'Content-Type': 'image/png', 'Last-Modified': 'Wed, 14 Sep 2022 05:47:46 GMT', 'Content-Length': '21590'}\n"
          ]
        }
      ]
    },
    {
      "cell_type": "code",
      "source": [
        "path = os.path.join(os.getcwd(),'image.png')\n",
        "path"
      ],
      "metadata": {
        "colab": {
          "base_uri": "https://localhost:8080/",
          "height": 36
        },
        "id": "wLeXmYeALJKH",
        "outputId": "1ce967dd-c933-4af9-9c6e-954e75893431"
      },
      "execution_count": 11,
      "outputs": [
        {
          "output_type": "execute_result",
          "data": {
            "text/plain": [
              "'/content/image.png'"
            ],
            "application/vnd.google.colaboratory.intrinsic+json": {
              "type": "string"
            }
          },
          "metadata": {},
          "execution_count": 11
        }
      ]
    },
    {
      "cell_type": "code",
      "source": [
        "with open(path,'wb') as f:\n",
        "    f.write(r.content)\n",
        "Image.open(path)"
      ],
      "metadata": {
        "colab": {
          "base_uri": "https://localhost:8080/",
          "height": 817
        },
        "id": "gMAABH0BLRzq",
        "outputId": "b3a68779-44a6-4e1a-8492-ec671d5d9274"
      },
      "execution_count": 12,
      "outputs": [
        {
          "output_type": "execute_result",
          "data": {
            "text/plain": [
              "<PIL.PngImagePlugin.PngImageFile image mode=P size=800x800 at 0x7F5BDFE0FBD0>"
            ],
            "image/png": "[encoded data removed]"
          },
          "metadata": {},
          "execution_count": 12
        }
      ]
    },
    {
      "cell_type": "markdown",
      "source": [
        "**Lab - Simple APIs**"
      ],
      "metadata": {
        "id": "P9hzWzduMh_d"
      }
    },
    {
      "cell_type": "code",
      "source": [
        "!pip install randomuser"
      ],
      "metadata": {
        "colab": {
          "base_uri": "https://localhost:8080/"
        },
        "id": "Gv4F1yr7MidA",
        "outputId": "2c374078-ad3a-4099-847e-a9585e8df720"
      },
      "execution_count": 21,
      "outputs": [
        {
          "output_type": "stream",
          "name": "stdout",
          "text": [
            "Looking in indexes: https://pypi.org/simple, https://us-python.pkg.dev/colab-wheels/public/simple/\n",
            "Collecting randomuser\n",
            "  Downloading randomuser-1.6.tar.gz (5.0 kB)\n",
            "Building wheels for collected packages: randomuser\n",
            "  Building wheel for randomuser (setup.py) ... \u001b[?25l\u001b[?25hdone\n",
            "  Created wheel for randomuser: filename=randomuser-1.6-py3-none-any.whl size=5084 sha256=629e1b804c7fd2e7dd2ca3c1a2d394797d3148dc7bc2a884ad0eee4d68cb85d2\n",
            "  Stored in directory: /root/.cache/pip/wheels/21/10/7b/c13bc3e24a3c1000a34554802ad8aa0ff27df56366998a0473\n",
            "Successfully built randomuser\n",
            "Installing collected packages: randomuser\n",
            "Successfully installed randomuser-1.6\n"
          ]
        }
      ]
    },
    {
      "cell_type": "code",
      "source": [
        "from randomuser import RandomUser\n",
        "import pandas as pd"
      ],
      "metadata": {
        "id": "ZrgBhtHbMlxn"
      },
      "execution_count": 22,
      "outputs": []
    },
    {
      "cell_type": "code",
      "source": [
        "r = RandomUser()\n",
        "r"
      ],
      "metadata": {
        "colab": {
          "base_uri": "https://localhost:8080/"
        },
        "id": "CH9mPSunMnho",
        "outputId": "84213c09-1a89-40f2-b504-fe77dbe04e8a"
      },
      "execution_count": 23,
      "outputs": [
        {
          "output_type": "execute_result",
          "data": {
            "text/plain": [
              "<randomuser.RandomUser at 0x7f5bd84fe890>"
            ]
          },
          "metadata": {},
          "execution_count": 23
        }
      ]
    },
    {
      "cell_type": "code",
      "source": [
        "some_list = r.generate_users(10)\n",
        "some_list"
      ],
      "metadata": {
        "colab": {
          "base_uri": "https://localhost:8080/"
        },
        "id": "q6nhPhJLMqMG",
        "outputId": "afe3351b-5ebc-49b4-b0fa-85b27f099924"
      },
      "execution_count": 24,
      "outputs": [
        {
          "output_type": "execute_result",
          "data": {
            "text/plain": [
              "[<randomuser.RandomUser at 0x7f5bd84769d0>,\n",
              " <randomuser.RandomUser at 0x7f5bd8476a10>,\n",
              " <randomuser.RandomUser at 0x7f5bd8476a50>,\n",
              " <randomuser.RandomUser at 0x7f5bd8476a90>,\n",
              " <randomuser.RandomUser at 0x7f5bd8476ad0>,\n",
              " <randomuser.RandomUser at 0x7f5bd8476b50>,\n",
              " <randomuser.RandomUser at 0x7f5bd8476b90>,\n",
              " <randomuser.RandomUser at 0x7f5bd8476bd0>,\n",
              " <randomuser.RandomUser at 0x7f5bd8476c10>,\n",
              " <randomuser.RandomUser at 0x7f5bd8476b10>]"
            ]
          },
          "metadata": {},
          "execution_count": 24
        }
      ]
    },
    {
      "cell_type": "code",
      "source": [
        "name = r.get_full_name()\n",
        "name"
      ],
      "metadata": {
        "colab": {
          "base_uri": "https://localhost:8080/",
          "height": 36
        },
        "id": "mMAKoatPMvRO",
        "outputId": "17d8cb8a-1f6d-42e9-871f-15d1539e5bad"
      },
      "execution_count": 26,
      "outputs": [
        {
          "output_type": "execute_result",
          "data": {
            "text/plain": [
              "'Requerino Caldeira'"
            ],
            "application/vnd.google.colaboratory.intrinsic+json": {
              "type": "string"
            }
          },
          "metadata": {},
          "execution_count": 26
        }
      ]
    },
    {
      "cell_type": "code",
      "source": [
        "for user in some_list:\n",
        "    print (user.get_full_name(),\" \",user.get_email())"
      ],
      "metadata": {
        "colab": {
          "base_uri": "https://localhost:8080/"
        },
        "id": "7dS7pEGwMyrp",
        "outputId": "c1be15d2-b734-41e1-e763-c4ad206f8fa0"
      },
      "execution_count": 27,
      "outputs": [
        {
          "output_type": "stream",
          "name": "stdout",
          "text": [
            "Kristupas Norland   kristupas.norland@example.com\n",
            "Margarita Robin   margarita.robin@example.com\n",
            "Olga Nieto   olga.nieto@example.com\n",
            "Yanis Rolland   yanis.rolland@example.com\n",
            "Megan Banks   megan.banks@example.com\n",
            "سام گلشن   sm.glshn@example.com\n",
            "Alan Dean   alan.dean@example.com\n",
            "نيما محمدخان   nym.mhmdkhn@example.com\n",
            "Susanne Raith   susanne.raith@example.com\n",
            "Eugenio Prieto   eugenio.prieto@example.com\n"
          ]
        }
      ]
    },
    {
      "cell_type": "markdown",
      "source": [
        "# **Quizzes & Exercises**"
      ],
      "metadata": {
        "id": "HJvqXVHDzpbV"
      }
    },
    {
      "cell_type": "markdown",
      "source": [
        "**Numpy 1D Arrays**"
      ],
      "metadata": {
        "id": "49P-jqNGz8xm"
      }
    },
    {
      "cell_type": "code",
      "source": [
        "# QUESTION 1 - What is the result of the following operation: np.array([1,-1])*np.array([1,1])? SOL: array([ 1, -1]) \n",
        "\n",
        "result = np.array([1,-1])*np.array([1,1])\n",
        "result"
      ],
      "metadata": {
        "colab": {
          "base_uri": "https://localhost:8080/"
        },
        "id": "PQpOkL_Oz9ak",
        "outputId": "6cd1eb72-1b47-4775-bfaf-63a06d510a67"
      },
      "execution_count": 23,
      "outputs": [
        {
          "output_type": "execute_result",
          "data": {
            "text/plain": [
              "array([ 1, -1])"
            ]
          },
          "metadata": {},
          "execution_count": 23
        }
      ]
    },
    {
      "cell_type": "code",
      "source": [
        "# QUESTION 2 - What is the result of the following operation: np.dot(np.array([1,-1]),np.array([1,1]))? SOL: 0\n",
        "\n",
        "result = np.dot(np.array([1,-1]),np.array([1,1]))\n",
        "result"
      ],
      "metadata": {
        "colab": {
          "base_uri": "https://localhost:8080/"
        },
        "id": "tcMCgAdg0FKa",
        "outputId": "35f42e5f-48c1-4f0c-f321-41b23d1bf887"
      },
      "execution_count": 24,
      "outputs": [
        {
          "output_type": "execute_result",
          "data": {
            "text/plain": [
              "0"
            ]
          },
          "metadata": {},
          "execution_count": 24
        }
      ]
    },
    {
      "cell_type": "markdown",
      "source": [
        "**Lab - Quiz on 1D Numpy Array**"
      ],
      "metadata": {
        "id": "UDihHyE78CR2"
      }
    },
    {
      "cell_type": "code",
      "source": [
        "# Implement the following vector subtraction in numpy: u-v\n",
        "u = np.array([1, 0])\n",
        "v = np.array([0, 1])\n",
        "z = u - v\n",
        "z"
      ],
      "metadata": {
        "colab": {
          "base_uri": "https://localhost:8080/"
        },
        "id": "dSl15r8l6-SY",
        "outputId": "679302b2-fd6b-4068-eb76-bf8d1aa56405"
      },
      "execution_count": 37,
      "outputs": [
        {
          "output_type": "execute_result",
          "data": {
            "text/plain": [
              "array([ 1, -1])"
            ]
          },
          "metadata": {},
          "execution_count": 37
        }
      ]
    },
    {
      "cell_type": "code",
      "source": [
        "# Multiply the numpy array z with -2:\n",
        "z = np.array([2, 4])\n",
        "result = -2 * 2\n",
        "result"
      ],
      "metadata": {
        "colab": {
          "base_uri": "https://localhost:8080/"
        },
        "id": "_tl-mvnV8KVF",
        "outputId": "c62a4a66-7ce7-467f-a9bb-eab96751a0ad"
      },
      "execution_count": 29,
      "outputs": [
        {
          "output_type": "execute_result",
          "data": {
            "text/plain": [
              "-4"
            ]
          },
          "metadata": {},
          "execution_count": 29
        }
      ]
    },
    {
      "cell_type": "code",
      "source": [
        "# Consider the list [1, 2, 3, 4, 5] and [1, 0, 1, 0, 1]. Cast both lists to a numpy array then multiply them together:\n",
        "a = np.array([1, 2, 3, 4, 5])\n",
        "b = np.array([1, 0, 1, 0, 1])\n",
        "result = a * b\n",
        "result"
      ],
      "metadata": {
        "colab": {
          "base_uri": "https://localhost:8080/"
        },
        "id": "NeqpaObZ8Trb",
        "outputId": "5b269e1f-537c-49f8-f4ff-105f5552901e"
      },
      "execution_count": 30,
      "outputs": [
        {
          "output_type": "execute_result",
          "data": {
            "text/plain": [
              "array([1, 0, 3, 0, 5])"
            ]
          },
          "metadata": {},
          "execution_count": 30
        }
      ]
    },
    {
      "cell_type": "code",
      "source": [
        "# Convert the list [-1, 1] and [1, 1] to numpy arrays a and b. Then, plot the arrays as vectors using the fuction Plotvec2 and find their dot product:\n",
        "import time \n",
        "import sys\n",
        "import numpy as np \n",
        "\n",
        "import matplotlib.pyplot as plt\n",
        "%matplotlib inline  \n",
        "\n",
        "def Plotvec2(a,b):\n",
        "    ax = plt.axes()# to generate the full window axes\n",
        "    ax.arrow(0, 0, *a, head_width=0.05, color ='r', head_length=0.1)#Add an arrow to the  a Axes with arrow head width 0.05, color red and arrow head length 0.1\n",
        "    plt.text(*(a + 0.1), 'a')\n",
        "    ax.arrow(0, 0, *b, head_width=0.05, color ='b', head_length=0.1)#Add an arrow to the  b Axes with arrow head width 0.05, color blue and arrow head length 0.1\n",
        "    plt.text(*(b + 0.1), 'b')\n",
        "    plt.ylim(-2, 2)#set the ylim to bottom(-2), top(2)\n",
        "    plt.xlim(-2, 2)#set the xlim to left(-2), right(2)\n",
        "\n",
        "a = np.array([-1, 1])\n",
        "b = np.array([1, 1])\n",
        "Plotvec2(a, b)\n",
        "print(\"The dot product is\", np.dot(a,b))"
      ],
      "metadata": {
        "colab": {
          "base_uri": "https://localhost:8080/",
          "height": 287
        },
        "id": "mqIhP2W28bTW",
        "outputId": "25bfa788-631d-4edb-862c-cccc1513bdc1"
      },
      "execution_count": 32,
      "outputs": [
        {
          "output_type": "stream",
          "name": "stdout",
          "text": [
            "The dot product is 0\n"
          ]
        },
        {
          "output_type": "display_data",
          "data": {
            "text/plain": [
              "<Figure size 432x288 with 1 Axes>"
            ],
            "image/png": "[encoded data removed]"
          },
          "metadata": {
            "needs_background": "light"
          }
        }
      ]
    },
    {
      "cell_type": "code",
      "source": [
        "# Convert the list [1, 0] and [0, 1] to numpy arrays a and b. Then, plot the arrays as vectors using the function Plotvec2 and find their dot product:\n",
        "a = np.array([1, 0])\n",
        "b = np.array([0, 1])\n",
        "Plotvec2(a, b)\n",
        "print(\"The dot product is\", np.dot(a, b))"
      ],
      "metadata": {
        "colab": {
          "base_uri": "https://localhost:8080/",
          "height": 287
        },
        "id": "_kbNVst_8fmD",
        "outputId": "d77fc885-f68d-42d1-b409-8738bdf9f5a1"
      },
      "execution_count": 33,
      "outputs": [
        {
          "output_type": "stream",
          "name": "stdout",
          "text": [
            "The dot product is 0\n"
          ]
        },
        {
          "output_type": "display_data",
          "data": {
            "text/plain": [
              "<Figure size 432x288 with 1 Axes>"
            ],
            "image/png": "[encoded data removed]"
          },
          "metadata": {
            "needs_background": "light"
          }
        }
      ]
    },
    {
      "cell_type": "code",
      "source": [
        "# Convert the list [1, 1] and [0, 1] to numpy arrays a and b. Then plot the arrays as vectors using the fuction Plotvec2 and find their dot product:\n",
        "a = np.array([1, 1])\n",
        "b = np.array([0, 1])\n",
        "Plotvec2(a, b)\n",
        "print(\"The dot product is\", np.dot(a, b))"
      ],
      "metadata": {
        "colab": {
          "base_uri": "https://localhost:8080/",
          "height": 287
        },
        "id": "GMN2M6vK8rSg",
        "outputId": "b8fc1eb8-a8e1-481f-e59f-0414104272da"
      },
      "execution_count": 34,
      "outputs": [
        {
          "output_type": "stream",
          "name": "stdout",
          "text": [
            "The dot product is 1\n"
          ]
        },
        {
          "output_type": "display_data",
          "data": {
            "text/plain": [
              "<Figure size 432x288 with 1 Axes>"
            ],
            "image/png": "[encoded data removed]"
          },
          "metadata": {
            "needs_background": "light"
          }
        }
      ]
    },
    {
      "cell_type": "code",
      "source": [
        "# Convert the list [1, 2, 3] and [8, 9, 10] to numpy arrays arr1 and arr2. Then perform Addition , Subtraction , Multiplication , Division and Dot Operation on the arr1 and arr2.\n",
        "arr1 = np.array([1, 2, 3])\n",
        "arr2 = np.array([8, 9, 10])\n",
        "\n",
        "arr3 = np.add(arr1, arr2)\n",
        "arr3\n",
        "\n",
        "arr4 = np.subtract(arr1, arr2)\n",
        "arr4\n",
        "\n",
        "arr5 = np.multiply(arr1, arr2)\n",
        "arr5\n",
        "\n",
        "\n",
        "arr6 = np.divide(arr1, arr2)\n",
        "arr6\n",
        "\n",
        "arr7 = np.dot(arr1, arr2)\n",
        "arr7"
      ],
      "metadata": {
        "colab": {
          "base_uri": "https://localhost:8080/"
        },
        "id": "61AWzC4L9Ixs",
        "outputId": "220dcb3b-f650-42f9-ea9c-eb0a5b11e83f"
      },
      "execution_count": 35,
      "outputs": [
        {
          "output_type": "execute_result",
          "data": {
            "text/plain": [
              "56"
            ]
          },
          "metadata": {},
          "execution_count": 35
        }
      ]
    },
    {
      "cell_type": "code",
      "source": [
        "# Convert the list [1, 2, 3, 4, 5] and [6, 7, 8, 9, 10] to numpy arrays arr1 and arr2. Then find the even and odd numbers from arr1 and arr2.\n",
        "arr1 = np.array([1, 2, 3, 4, 5])\n",
        "arr2 = np.array([6, 7, 8, 9, 10])\n",
        "\n",
        "x = arr1[1:8:2]\n",
        "x\n",
        "   \n",
        "y = arr2[0:8:2]\n",
        "y   \n"
      ],
      "metadata": {
        "colab": {
          "base_uri": "https://localhost:8080/"
        },
        "id": "yicEr-X59OA4",
        "outputId": "0ac5a9f8-0e63-43c8-fbd5-750c0af94c22"
      },
      "execution_count": 36,
      "outputs": [
        {
          "output_type": "execute_result",
          "data": {
            "text/plain": [
              "array([ 6,  8, 10])"
            ]
          },
          "metadata": {},
          "execution_count": 36
        }
      ]
    },
    {
      "cell_type": "markdown",
      "source": [
        "**Numpy 2D Arrays**"
      ],
      "metadata": {
        "id": "DR6uP8D0-5I1"
      }
    },
    {
      "cell_type": "code",
      "source": [
        "# QUESTION 1 - How many rows are in the following numpy array? SOL: 4 rows\n",
        "A = np.array([[1, 2], [3, 4], [5, 6], [7, 8]])\n",
        "A.shape"
      ],
      "metadata": {
        "colab": {
          "base_uri": "https://localhost:8080/"
        },
        "id": "Ukznra7Y9WD_",
        "outputId": "3e37dc39-4e2e-4d85-b456-e702801d236e"
      },
      "execution_count": 49,
      "outputs": [
        {
          "output_type": "execute_result",
          "data": {
            "text/plain": [
              "(4, 2)"
            ]
          },
          "metadata": {},
          "execution_count": 49
        }
      ]
    },
    {
      "cell_type": "code",
      "source": [
        "# QUESTION 2 - Is it possible to perform the following operation? SOL: NO\n",
        "A = np.array([[1, 2], [3, 4], [5, 6], [7, 8]])\n",
        "B = np.array([[1, 2, 3], [4, 5, 6], [7, 8, 9]])\n",
        "result = np.dot(A, B)\n",
        "result"
      ],
      "metadata": {
        "id": "X5RX8KWL_P74"
      },
      "execution_count": null,
      "outputs": []
    },
    {
      "cell_type": "markdown",
      "source": [
        "**Quiz on 2D Numpy Array**"
      ],
      "metadata": {
        "id": "PsMm0M5A_IDZ"
      }
    },
    {
      "cell_type": "code",
      "source": [
        "# Consider the following list a, convert it to Numpy Array.\n",
        "a = [[1, 2, 3, 4], [5, 6, 7, 8], [9, 10, 11, 12]]\n",
        "A = np.array(a)\n",
        "A"
      ],
      "metadata": {
        "colab": {
          "base_uri": "https://localhost:8080/"
        },
        "id": "R7umBhPrEQEL",
        "outputId": "c2cf0745-f4c9-47d6-cfd5-35c55cc68563"
      },
      "execution_count": 57,
      "outputs": [
        {
          "output_type": "execute_result",
          "data": {
            "text/plain": [
              "array([[ 1,  2,  3,  4],\n",
              "       [ 5,  6,  7,  8],\n",
              "       [ 9, 10, 11, 12]])"
            ]
          },
          "metadata": {},
          "execution_count": 57
        }
      ]
    },
    {
      "cell_type": "code",
      "source": [
        "# Calculate the numpy array size.\n",
        "A.size"
      ],
      "metadata": {
        "colab": {
          "base_uri": "https://localhost:8080/"
        },
        "id": "4JFR9A5yEU9S",
        "outputId": "6b0fa24c-ca39-472d-c601-dc105d1dd142"
      },
      "execution_count": 58,
      "outputs": [
        {
          "output_type": "execute_result",
          "data": {
            "text/plain": [
              "12"
            ]
          },
          "metadata": {},
          "execution_count": 58
        }
      ]
    },
    {
      "cell_type": "code",
      "source": [
        "# Access the element on the first row and first and second columns.\n",
        "A[0][0:2]"
      ],
      "metadata": {
        "colab": {
          "base_uri": "https://localhost:8080/"
        },
        "id": "tl3cEEw9EZOQ",
        "outputId": "cc5aead4-e08f-4ab8-c9a4-549d0ff42a21"
      },
      "execution_count": 59,
      "outputs": [
        {
          "output_type": "execute_result",
          "data": {
            "text/plain": [
              "array([1, 2])"
            ]
          },
          "metadata": {},
          "execution_count": 59
        }
      ]
    },
    {
      "cell_type": "code",
      "source": [
        "# Perform matrix multiplication with the numpy arrays A and B.\n",
        "B = np.array([[0, 1], [1, 0], [1, 1], [-1, 0]])\n",
        "X = np.dot(A,B)\n",
        "X"
      ],
      "metadata": {
        "colab": {
          "base_uri": "https://localhost:8080/"
        },
        "id": "6bNlWI2cEc6x",
        "outputId": "7bfd5f19-4d26-4be4-fa4b-46b70fedb6c4"
      },
      "execution_count": 60,
      "outputs": [
        {
          "output_type": "execute_result",
          "data": {
            "text/plain": [
              "array([[ 1,  4],\n",
              "       [ 5, 12],\n",
              "       [ 9, 20]])"
            ]
          },
          "metadata": {},
          "execution_count": 60
        }
      ]
    },
    {
      "cell_type": "markdown",
      "source": [
        "**Lab - HTTP and Requests**"
      ],
      "metadata": {
        "id": "01w3nZr0Eirl"
      }
    },
    {
      "cell_type": "code",
      "source": [
        "'''\n",
        "  Question 1: write  wget \n",
        "  In the previous section, we used the wget function to retrieve content from the web server as shown below. \n",
        "  Write the python code to perform the same task. The code should be the same as the one used to download the image, but the file name should be 'Example1.txt'.\n",
        "'''\n",
        "url = 'https://cf-courses-data.s3.us.cloud-object-storage.appdomain.cloud/IBMDeveloperSkillsNetwork-PY0101EN-SkillsNetwork/labs/Module%205/data/Example1.txt'\n",
        "path = os.path.join(os.getcwd(), 'example1.txt')\n",
        "r = requests.get(url)\n",
        "with open(path, 'wb') as f:\n",
        "    f.write(r.content)"
      ],
      "metadata": {
        "id": "m0fpk3scEh4Y"
      },
      "execution_count": 14,
      "outputs": []
    },
    {
      "cell_type": "code",
      "source": [
        "# Get Request with URL Parameters \n",
        "url_get = 'http://httpbin.org/get'\n",
        "payload = {\"name\": \"Joseph\", \"ID\": \"123\"}\n",
        "r = requests.get(url_get, params = payload)\n",
        "r.url\n",
        "print(\"request body:\", r.request.body)"
      ],
      "metadata": {
        "colab": {
          "base_uri": "https://localhost:8080/"
        },
        "id": "EAsTmYtWLuB0",
        "outputId": "bf979588-7c87-404c-e381-02c6da1a320c"
      },
      "execution_count": 15,
      "outputs": [
        {
          "output_type": "stream",
          "name": "stdout",
          "text": [
            "request body: None\n"
          ]
        }
      ]
    },
    {
      "cell_type": "code",
      "source": [
        "print(r.status_code)"
      ],
      "metadata": {
        "colab": {
          "base_uri": "https://localhost:8080/"
        },
        "id": "AWL3UdW8ME_J",
        "outputId": "bc918df9-6adc-4db0-84fb-616770a98403"
      },
      "execution_count": 16,
      "outputs": [
        {
          "output_type": "stream",
          "name": "stdout",
          "text": [
            "200\n"
          ]
        }
      ]
    },
    {
      "cell_type": "code",
      "source": [
        "print(r.text)"
      ],
      "metadata": {
        "colab": {
          "base_uri": "https://localhost:8080/"
        },
        "id": "_sCbSSoHMHLH",
        "outputId": "0e255ea4-1286-4742-9d7f-9833987e2f56"
      },
      "execution_count": 17,
      "outputs": [
        {
          "output_type": "stream",
          "name": "stdout",
          "text": [
            "{\n",
            "  \"args\": {\n",
            "    \"ID\": \"123\", \n",
            "    \"name\": \"Joseph\"\n",
            "  }, \n",
            "  \"headers\": {\n",
            "    \"Accept\": \"*/*\", \n",
            "    \"Accept-Encoding\": \"gzip, deflate\", \n",
            "    \"Host\": \"httpbin.org\", \n",
            "    \"User-Agent\": \"python-requests/2.28.1\", \n",
            "    \"X-Amzn-Trace-Id\": \"Root=1-633a290b-6fd3bc4d120b09b4427ca736\"\n",
            "  }, \n",
            "  \"origin\": \"34.125.249.156\", \n",
            "  \"url\": \"http://httpbin.org/get?name=Joseph&ID=123\"\n",
            "}\n",
            "\n"
          ]
        }
      ]
    },
    {
      "cell_type": "code",
      "source": [
        "# Post Requests\n",
        "url_post = 'http://httpbin.org/post'\n",
        "r_post = requests.post(url_post, data = payload)\n",
        "print(\"POST request URL:\", r_post.url )\n",
        "print(\"GET request URL:\", r.url)"
      ],
      "metadata": {
        "colab": {
          "base_uri": "https://localhost:8080/"
        },
        "id": "jWNNUAwTMGqq",
        "outputId": "3748bc6f-b513-4bb3-b6e3-ae71dc183932"
      },
      "execution_count": 18,
      "outputs": [
        {
          "output_type": "stream",
          "name": "stdout",
          "text": [
            "POST request URL: http://httpbin.org/post\n",
            "GET request URL: http://httpbin.org/get?name=Joseph&ID=123\n"
          ]
        }
      ]
    },
    {
      "cell_type": "code",
      "source": [
        "print(\"POST request body:\", r_post.request.body)\n",
        "print(\"GET request body:\", r.request.body)"
      ],
      "metadata": {
        "colab": {
          "base_uri": "https://localhost:8080/"
        },
        "id": "C9JSk1_VMRAs",
        "outputId": "604834a3-8c2f-4502-a990-0ab0b88eab6b"
      },
      "execution_count": 19,
      "outputs": [
        {
          "output_type": "stream",
          "name": "stdout",
          "text": [
            "POST request body: name=Joseph&ID=123\n",
            "GET request body: None\n"
          ]
        }
      ]
    },
    {
      "cell_type": "code",
      "source": [
        "r_post.json()['form']"
      ],
      "metadata": {
        "colab": {
          "base_uri": "https://localhost:8080/"
        },
        "id": "wyfbtWgvMV4R",
        "outputId": "d4d38cd1-d334-4211-e432-178fed97f502"
      },
      "execution_count": 20,
      "outputs": [
        {
          "output_type": "execute_result",
          "data": {
            "text/plain": [
              "{'ID': '123', 'name': 'Joseph'}"
            ]
          },
          "metadata": {},
          "execution_count": 20
        }
      ]
    },
    {
      "cell_type": "markdown",
      "source": [
        "**Lab - Simple APIs**"
      ],
      "metadata": {
        "id": "6Nu-uCHQMcJr"
      }
    },
    {
      "cell_type": "code",
      "source": [
        "from randomuser import RandomUser\n",
        "import pandas as pd"
      ],
      "metadata": {
        "id": "mcHVN2uSMZbM"
      },
      "execution_count": 28,
      "outputs": []
    },
    {
      "cell_type": "code",
      "source": [
        "# Exercise 1 - In this Exercise, generate photos of the random 5 users.\n",
        "for user in some_list:\n",
        "    print (user.get_picture())"
      ],
      "metadata": {
        "colab": {
          "base_uri": "https://localhost:8080/"
        },
        "id": "zUUm0XuXM4Oy",
        "outputId": "b1da1650-4da7-4c74-bd19-9c027d92f0f8"
      },
      "execution_count": 29,
      "outputs": [
        {
          "output_type": "stream",
          "name": "stdout",
          "text": [
            "https://randomuser.me/api/portraits/men/37.jpg\n",
            "https://randomuser.me/api/portraits/women/19.jpg\n",
            "https://randomuser.me/api/portraits/women/66.jpg\n",
            "https://randomuser.me/api/portraits/men/40.jpg\n",
            "https://randomuser.me/api/portraits/women/63.jpg\n",
            "https://randomuser.me/api/portraits/men/68.jpg\n",
            "https://randomuser.me/api/portraits/men/15.jpg\n",
            "https://randomuser.me/api/portraits/men/40.jpg\n",
            "https://randomuser.me/api/portraits/women/19.jpg\n",
            "https://randomuser.me/api/portraits/men/24.jpg\n"
          ]
        }
      ]
    },
    {
      "cell_type": "code",
      "source": [
        "# generate a table with information about the users\n",
        "def get_users():\n",
        "    users =[]\n",
        "     \n",
        "    for user in RandomUser.generate_users(10):\n",
        "        users.append({\"Name\":user.get_full_name(),\"Gender\":user.get_gender(),\"City\":user.get_city(),\"State\":user.get_state(),\"Email\":user.get_email(), \"DOB\":user.get_dob(),\"Picture\":user.get_picture()})\n",
        "      \n",
        "    return pd.DataFrame(users)  \n",
        "\n",
        "get_users()"
      ],
      "metadata": {
        "colab": {
          "base_uri": "https://localhost:8080/",
          "height": 363
        },
        "id": "8cLQyBw5M_mk",
        "outputId": "e6575fde-194c-4c86-ab75-5007d197b480"
      },
      "execution_count": 30,
      "outputs": [
        {
          "output_type": "execute_result",
          "data": {
            "text/plain": [
              "               Name  Gender           City                State  \\\n",
              "0      Ndrea da Paz  female      Boa Vista              Alagoas   \n",
              "1       Nete Farias  female       Marituba  Rio Grande do Norte   \n",
              "2       پرنیا پارسا  female          کاشان                کرمان   \n",
              "3     Xavier Martin    male         Sidney        New Brunswick   \n",
              "4        Aada Lauri  female    Kontiolahti            Pirkanmaa   \n",
              "5         Sune Mjøs    male           Malm      Møre og Romsdal   \n",
              "6  Gertrud Gauthier  female  Stocken-Höfen              Thurgau   \n",
              "7        Quinn Chen    male       Gisborne             Gisborne   \n",
              "8     Tinius Lystad    male       Verdalen           Aust-Agder   \n",
              "9      Rita Morales  female          Perth   Northern Territory   \n",
              "\n",
              "                          Email                       DOB  \\\n",
              "0       ndrea.dapaz@example.com  1962-01-13T05:18:51.135Z   \n",
              "1       nete.farias@example.com  1946-02-11T07:10:37.932Z   \n",
              "2          prny.prs@example.com  1963-05-03T08:55:19.124Z   \n",
              "3     xavier.martin@example.com  1972-06-30T22:50:34.532Z   \n",
              "4        aada.lauri@example.com  1977-12-05T10:53:12.409Z   \n",
              "5         sune.mjos@example.com  1984-07-06T13:30:15.028Z   \n",
              "6  gertrud.gauthier@example.com  1952-04-25T15:36:46.029Z   \n",
              "7        quinn.chen@example.com  1953-03-02T04:39:02.355Z   \n",
              "8     tinius.lystad@example.com  1976-07-03T07:02:28.714Z   \n",
              "9      rita.morales@example.com  1954-07-22T16:07:18.943Z   \n",
              "\n",
              "                                            Picture  \n",
              "0  https://randomuser.me/api/portraits/women/40.jpg  \n",
              "1  https://randomuser.me/api/portraits/women/53.jpg  \n",
              "2  https://randomuser.me/api/portraits/women/32.jpg  \n",
              "3    https://randomuser.me/api/portraits/men/17.jpg  \n",
              "4  https://randomuser.me/api/portraits/women/15.jpg  \n",
              "5    https://randomuser.me/api/portraits/men/10.jpg  \n",
              "6  https://randomuser.me/api/portraits/women/40.jpg  \n",
              "7    https://randomuser.me/api/portraits/men/30.jpg  \n",
              "8    https://randomuser.me/api/portraits/men/63.jpg  \n",
              "9  https://randomuser.me/api/portraits/women/57.jpg  "
            ],
            "text/html": [
              "\n",
              "  <div id=\"df-2e077bbe-f6c7-478a-bdf9-1e878ad006c5\">\n",
              "    <div class=\"colab-df-container\">\n",
              "      <div>\n",
              "<style scoped>\n",
              "    .dataframe tbody tr th:only-of-type {\n",
              "        vertical-align: middle;\n",
              "    }\n",
              "\n",
              "    .dataframe tbody tr th {\n",
              "        vertical-align: top;\n",
              "    }\n",
              "\n",
              "    .dataframe thead th {\n",
              "        text-align: right;\n",
              "    }\n",
              "</style>\n",
              "<table border=\"1\" class=\"dataframe\">\n",
              "  <thead>\n",
              "    <tr style=\"text-align: right;\">\n",
              "      <th></th>\n",
              "      <th>Name</th>\n",
              "      <th>Gender</th>\n",
              "      <th>City</th>\n",
              "      <th>State</th>\n",
              "      <th>Email</th>\n",
              "      <th>DOB</th>\n",
              "      <th>Picture</th>\n",
              "    </tr>\n",
              "  </thead>\n",
              "  <tbody>\n",
              "    <tr>\n",
              "      <th>0</th>\n",
              "      <td>Ndrea da Paz</td>\n",
              "      <td>female</td>\n",
              "      <td>Boa Vista</td>\n",
              "      <td>Alagoas</td>\n",
              "      <td>ndrea.dapaz@example.com</td>\n",
              "      <td>1962-01-13T05:18:51.135Z</td>\n",
              "      <td>https://randomuser.me/api/portraits/women/40.jpg</td>\n",
              "    </tr>\n",
              "    <tr>\n",
              "      <th>1</th>\n",
              "      <td>Nete Farias</td>\n",
              "      <td>female</td>\n",
              "      <td>Marituba</td>\n",
              "      <td>Rio Grande do Norte</td>\n",
              "      <td>nete.farias@example.com</td>\n",
              "      <td>1946-02-11T07:10:37.932Z</td>\n",
              "      <td>https://randomuser.me/api/portraits/women/53.jpg</td>\n",
              "    </tr>\n",
              "    <tr>\n",
              "      <th>2</th>\n",
              "      <td>پرنیا پارسا</td>\n",
              "      <td>female</td>\n",
              "      <td>کاشان</td>\n",
              "      <td>کرمان</td>\n",
              "      <td>prny.prs@example.com</td>\n",
              "      <td>1963-05-03T08:55:19.124Z</td>\n",
              "      <td>https://randomuser.me/api/portraits/women/32.jpg</td>\n",
              "    </tr>\n",
              "    <tr>\n",
              "      <th>3</th>\n",
              "      <td>Xavier Martin</td>\n",
              "      <td>male</td>\n",
              "      <td>Sidney</td>\n",
              "      <td>New Brunswick</td>\n",
              "      <td>xavier.martin@example.com</td>\n",
              "      <td>1972-06-30T22:50:34.532Z</td>\n",
              "      <td>https://randomuser.me/api/portraits/men/17.jpg</td>\n",
              "    </tr>\n",
              "    <tr>\n",
              "      <th>4</th>\n",
              "      <td>Aada Lauri</td>\n",
              "      <td>female</td>\n",
              "      <td>Kontiolahti</td>\n",
              "      <td>Pirkanmaa</td>\n",
              "      <td>aada.lauri@example.com</td>\n",
              "      <td>1977-12-05T10:53:12.409Z</td>\n",
              "      <td>https://randomuser.me/api/portraits/women/15.jpg</td>\n",
              "    </tr>\n",
              "    <tr>\n",
              "      <th>5</th>\n",
              "      <td>Sune Mjøs</td>\n",
              "      <td>male</td>\n",
              "      <td>Malm</td>\n",
              "      <td>Møre og Romsdal</td>\n",
              "      <td>sune.mjos@example.com</td>\n",
              "      <td>1984-07-06T13:30:15.028Z</td>\n",
              "      <td>https://randomuser.me/api/portraits/men/10.jpg</td>\n",
              "    </tr>\n",
              "    <tr>\n",
              "      <th>6</th>\n",
              "      <td>Gertrud Gauthier</td>\n",
              "      <td>female</td>\n",
              "      <td>Stocken-Höfen</td>\n",
              "      <td>Thurgau</td>\n",
              "      <td>gertrud.gauthier@example.com</td>\n",
              "      <td>1952-04-25T15:36:46.029Z</td>\n",
              "      <td>https://randomuser.me/api/portraits/women/40.jpg</td>\n",
              "    </tr>\n",
              "    <tr>\n",
              "      <th>7</th>\n",
              "      <td>Quinn Chen</td>\n",
              "      <td>male</td>\n",
              "      <td>Gisborne</td>\n",
              "      <td>Gisborne</td>\n",
              "      <td>quinn.chen@example.com</td>\n",
              "      <td>1953-03-02T04:39:02.355Z</td>\n",
              "      <td>https://randomuser.me/api/portraits/men/30.jpg</td>\n",
              "    </tr>\n",
              "    <tr>\n",
              "      <th>8</th>\n",
              "      <td>Tinius Lystad</td>\n",
              "      <td>male</td>\n",
              "      <td>Verdalen</td>\n",
              "      <td>Aust-Agder</td>\n",
              "      <td>tinius.lystad@example.com</td>\n",
              "      <td>1976-07-03T07:02:28.714Z</td>\n",
              "      <td>https://randomuser.me/api/portraits/men/63.jpg</td>\n",
              "    </tr>\n",
              "    <tr>\n",
              "      <th>9</th>\n",
              "      <td>Rita Morales</td>\n",
              "      <td>female</td>\n",
              "      <td>Perth</td>\n",
              "      <td>Northern Territory</td>\n",
              "      <td>rita.morales@example.com</td>\n",
              "      <td>1954-07-22T16:07:18.943Z</td>\n",
              "      <td>https://randomuser.me/api/portraits/women/57.jpg</td>\n",
              "    </tr>\n",
              "  </tbody>\n",
              "</table>\n",
              "</div>\n",
              "      <button class=\"colab-df-convert\" onclick=\"convertToInteractive('df-2e077bbe-f6c7-478a-bdf9-1e878ad006c5')\"\n",
              "              title=\"Convert this dataframe to an interactive table.\"\n",
              "              style=\"display:none;\">\n",
              "        \n",
              "  <svg xmlns=\"http://www.w3.org/2000/svg\" height=\"24px\"viewBox=\"0 0 24 24\"\n",
              "       width=\"24px\">\n",
              "    <path d=\"M0 0h24v24H0V0z\" fill=\"none\"/>\n",
              "    <path d=\"M18.56 5.44l.94 2.06.94-2.06 2.06-.94-2.06-.94-.94-2.06-.94 2.06-2.06.94zm-11 1L8.5 8.5l.94-2.06 2.06-.94-2.06-.94L8.5 2.5l-.94 2.06-2.06.94zm10 10l.94 2.06.94-2.06 2.06-.94-2.06-.94-.94-2.06-.94 2.06-2.06.94z\"/><path d=\"M17.41 7.96l-1.37-1.37c-.4-.4-.92-.59-1.43-.59-.52 0-1.04.2-1.43.59L10.3 9.45l-7.72 7.72c-.78.78-.78 2.05 0 2.83L4 21.41c.39.39.9.59 1.41.59.51 0 1.02-.2 1.41-.59l7.78-7.78 2.81-2.81c.8-.78.8-2.07 0-2.86zM5.41 20L4 18.59l7.72-7.72 1.47 1.35L5.41 20z\"/>\n",
              "  </svg>\n",
              "      </button>\n",
              "      \n",
              "  <style>\n",
              "    .colab-df-container {\n",
              "      display:flex;\n",
              "      flex-wrap:wrap;\n",
              "      gap: 12px;\n",
              "    }\n",
              "\n",
              "    .colab-df-convert {\n",
              "      background-color: #E8F0FE;\n",
              "      border: none;\n",
              "      border-radius: 50%;\n",
              "      cursor: pointer;\n",
              "      display: none;\n",
              "      fill: #1967D2;\n",
              "      height: 32px;\n",
              "      padding: 0 0 0 0;\n",
              "      width: 32px;\n",
              "    }\n",
              "\n",
              "    .colab-df-convert:hover {\n",
              "      background-color: #E2EBFA;\n",
              "      box-shadow: 0px 1px 2px rgba(60, 64, 67, 0.3), 0px 1px 3px 1px rgba(60, 64, 67, 0.15);\n",
              "      fill: #174EA6;\n",
              "    }\n",
              "\n",
              "    [theme=dark] .colab-df-convert {\n",
              "      background-color: #3B4455;\n",
              "      fill: #D2E3FC;\n",
              "    }\n",
              "\n",
              "    [theme=dark] .colab-df-convert:hover {\n",
              "      background-color: #434B5C;\n",
              "      box-shadow: 0px 1px 3px 1px rgba(0, 0, 0, 0.15);\n",
              "      filter: drop-shadow(0px 1px 2px rgba(0, 0, 0, 0.3));\n",
              "      fill: #FFFFFF;\n",
              "    }\n",
              "  </style>\n",
              "\n",
              "      <script>\n",
              "        const buttonEl =\n",
              "          document.querySelector('#df-2e077bbe-f6c7-478a-bdf9-1e878ad006c5 button.colab-df-convert');\n",
              "        buttonEl.style.display =\n",
              "          google.colab.kernel.accessAllowed ? 'block' : 'none';\n",
              "\n",
              "        async function convertToInteractive(key) {\n",
              "          const element = document.querySelector('#df-2e077bbe-f6c7-478a-bdf9-1e878ad006c5');\n",
              "          const dataTable =\n",
              "            await google.colab.kernel.invokeFunction('convertToInteractive',\n",
              "                                                     [key], {});\n",
              "          if (!dataTable) return;\n",
              "\n",
              "          const docLinkHtml = 'Like what you see? Visit the ' +\n",
              "            '<a target=\"_blank\" href=https://colab.research.google.com/notebooks/data_table.ipynb>data table notebook</a>'\n",
              "            + ' to learn more about interactive tables.';\n",
              "          element.innerHTML = '';\n",
              "          dataTable['output_type'] = 'display_data';\n",
              "          await google.colab.output.renderOutput(dataTable, element);\n",
              "          const docLink = document.createElement('div');\n",
              "          docLink.innerHTML = docLinkHtml;\n",
              "          element.appendChild(docLink);\n",
              "        }\n",
              "      </script>\n",
              "    </div>\n",
              "  </div>\n",
              "  "
            ]
          },
          "metadata": {},
          "execution_count": 30
        }
      ]
    },
    {
      "cell_type": "code",
      "source": [
        "# Create a Pandas DataFrame\n",
        "df1 = pd.DataFrame(get_users())\n",
        "df1"
      ],
      "metadata": {
        "colab": {
          "base_uri": "https://localhost:8080/",
          "height": 363
        },
        "id": "9hgPpfhmNDpf",
        "outputId": "f35b83df-fe9f-4ade-9062-77c57bd4f90d"
      },
      "execution_count": 32,
      "outputs": [
        {
          "output_type": "execute_result",
          "data": {
            "text/plain": [
              "               Name  Gender          City              State  \\\n",
              "0  Beatriz Castillo  female    Torrevieja          Cantabria   \n",
              "1        یلدا پارسا  female        سیرجان             لرستان   \n",
              "2   Samuel Da Silva    male       Créteil           Morbihan   \n",
              "3      Norman Peitz    male   Unterallgäu  Baden-Württemberg   \n",
              "4   Yasemin Toraman  female       Karabük             Bartın   \n",
              "5      Lilly Morris  female       Porirua           Auckland   \n",
              "6     Joel Manninen    male   Kangasniemi             Kainuu   \n",
              "7       Lowie Emmen    male  Idskenhuizen         Gelderland   \n",
              "8    Jessica Clarke  female     Whanganui              Otago   \n",
              "9  Mathias Johansen    male         Gjern            Danmark   \n",
              "\n",
              "                          Email                       DOB  \\\n",
              "0  beatriz.castillo@example.com  1982-09-03T02:31:36.966Z   \n",
              "1           yld.prs@example.com  1975-11-24T20:23:46.809Z   \n",
              "2    samuel.dasilva@example.com  1958-03-05T16:00:37.615Z   \n",
              "3      norman.peitz@example.com  1980-02-21T22:57:42.982Z   \n",
              "4   yasemin.toraman@example.com  1946-05-18T03:39:06.104Z   \n",
              "5      lilly.morris@example.com  1963-10-20T20:35:40.824Z   \n",
              "6     joel.manninen@example.com  1962-02-10T15:29:51.933Z   \n",
              "7       lowie.emmen@example.com  1968-01-14T11:34:22.284Z   \n",
              "8    jessica.clarke@example.com  1969-03-24T07:54:32.208Z   \n",
              "9  mathias.johansen@example.com  1959-05-07T05:28:08.231Z   \n",
              "\n",
              "                                            Picture  \n",
              "0  https://randomuser.me/api/portraits/women/92.jpg  \n",
              "1  https://randomuser.me/api/portraits/women/88.jpg  \n",
              "2    https://randomuser.me/api/portraits/men/72.jpg  \n",
              "3    https://randomuser.me/api/portraits/men/68.jpg  \n",
              "4   https://randomuser.me/api/portraits/women/0.jpg  \n",
              "5  https://randomuser.me/api/portraits/women/60.jpg  \n",
              "6    https://randomuser.me/api/portraits/men/49.jpg  \n",
              "7    https://randomuser.me/api/portraits/men/72.jpg  \n",
              "8  https://randomuser.me/api/portraits/women/31.jpg  \n",
              "9    https://randomuser.me/api/portraits/men/56.jpg  "
            ],
            "text/html": [
              "\n",
              "  <div id=\"df-578d6de0-0eb2-40d5-8b1f-5e47c24cee66\">\n",
              "    <div class=\"colab-df-container\">\n",
              "      <div>\n",
              "<style scoped>\n",
              "    .dataframe tbody tr th:only-of-type {\n",
              "        vertical-align: middle;\n",
              "    }\n",
              "\n",
              "    .dataframe tbody tr th {\n",
              "        vertical-align: top;\n",
              "    }\n",
              "\n",
              "    .dataframe thead th {\n",
              "        text-align: right;\n",
              "    }\n",
              "</style>\n",
              "<table border=\"1\" class=\"dataframe\">\n",
              "  <thead>\n",
              "    <tr style=\"text-align: right;\">\n",
              "      <th></th>\n",
              "      <th>Name</th>\n",
              "      <th>Gender</th>\n",
              "      <th>City</th>\n",
              "      <th>State</th>\n",
              "      <th>Email</th>\n",
              "      <th>DOB</th>\n",
              "      <th>Picture</th>\n",
              "    </tr>\n",
              "  </thead>\n",
              "  <tbody>\n",
              "    <tr>\n",
              "      <th>0</th>\n",
              "      <td>Beatriz Castillo</td>\n",
              "      <td>female</td>\n",
              "      <td>Torrevieja</td>\n",
              "      <td>Cantabria</td>\n",
              "      <td>beatriz.castillo@example.com</td>\n",
              "      <td>1982-09-03T02:31:36.966Z</td>\n",
              "      <td>https://randomuser.me/api/portraits/women/92.jpg</td>\n",
              "    </tr>\n",
              "    <tr>\n",
              "      <th>1</th>\n",
              "      <td>یلدا پارسا</td>\n",
              "      <td>female</td>\n",
              "      <td>سیرجان</td>\n",
              "      <td>لرستان</td>\n",
              "      <td>yld.prs@example.com</td>\n",
              "      <td>1975-11-24T20:23:46.809Z</td>\n",
              "      <td>https://randomuser.me/api/portraits/women/88.jpg</td>\n",
              "    </tr>\n",
              "    <tr>\n",
              "      <th>2</th>\n",
              "      <td>Samuel Da Silva</td>\n",
              "      <td>male</td>\n",
              "      <td>Créteil</td>\n",
              "      <td>Morbihan</td>\n",
              "      <td>samuel.dasilva@example.com</td>\n",
              "      <td>1958-03-05T16:00:37.615Z</td>\n",
              "      <td>https://randomuser.me/api/portraits/men/72.jpg</td>\n",
              "    </tr>\n",
              "    <tr>\n",
              "      <th>3</th>\n",
              "      <td>Norman Peitz</td>\n",
              "      <td>male</td>\n",
              "      <td>Unterallgäu</td>\n",
              "      <td>Baden-Württemberg</td>\n",
              "      <td>norman.peitz@example.com</td>\n",
              "      <td>1980-02-21T22:57:42.982Z</td>\n",
              "      <td>https://randomuser.me/api/portraits/men/68.jpg</td>\n",
              "    </tr>\n",
              "    <tr>\n",
              "      <th>4</th>\n",
              "      <td>Yasemin Toraman</td>\n",
              "      <td>female</td>\n",
              "      <td>Karabük</td>\n",
              "      <td>Bartın</td>\n",
              "      <td>yasemin.toraman@example.com</td>\n",
              "      <td>1946-05-18T03:39:06.104Z</td>\n",
              "      <td>https://randomuser.me/api/portraits/women/0.jpg</td>\n",
              "    </tr>\n",
              "    <tr>\n",
              "      <th>5</th>\n",
              "      <td>Lilly Morris</td>\n",
              "      <td>female</td>\n",
              "      <td>Porirua</td>\n",
              "      <td>Auckland</td>\n",
              "      <td>lilly.morris@example.com</td>\n",
              "      <td>1963-10-20T20:35:40.824Z</td>\n",
              "      <td>https://randomuser.me/api/portraits/women/60.jpg</td>\n",
              "    </tr>\n",
              "    <tr>\n",
              "      <th>6</th>\n",
              "      <td>Joel Manninen</td>\n",
              "      <td>male</td>\n",
              "      <td>Kangasniemi</td>\n",
              "      <td>Kainuu</td>\n",
              "      <td>joel.manninen@example.com</td>\n",
              "      <td>1962-02-10T15:29:51.933Z</td>\n",
              "      <td>https://randomuser.me/api/portraits/men/49.jpg</td>\n",
              "    </tr>\n",
              "    <tr>\n",
              "      <th>7</th>\n",
              "      <td>Lowie Emmen</td>\n",
              "      <td>male</td>\n",
              "      <td>Idskenhuizen</td>\n",
              "      <td>Gelderland</td>\n",
              "      <td>lowie.emmen@example.com</td>\n",
              "      <td>1968-01-14T11:34:22.284Z</td>\n",
              "      <td>https://randomuser.me/api/portraits/men/72.jpg</td>\n",
              "    </tr>\n",
              "    <tr>\n",
              "      <th>8</th>\n",
              "      <td>Jessica Clarke</td>\n",
              "      <td>female</td>\n",
              "      <td>Whanganui</td>\n",
              "      <td>Otago</td>\n",
              "      <td>jessica.clarke@example.com</td>\n",
              "      <td>1969-03-24T07:54:32.208Z</td>\n",
              "      <td>https://randomuser.me/api/portraits/women/31.jpg</td>\n",
              "    </tr>\n",
              "    <tr>\n",
              "      <th>9</th>\n",
              "      <td>Mathias Johansen</td>\n",
              "      <td>male</td>\n",
              "      <td>Gjern</td>\n",
              "      <td>Danmark</td>\n",
              "      <td>mathias.johansen@example.com</td>\n",
              "      <td>1959-05-07T05:28:08.231Z</td>\n",
              "      <td>https://randomuser.me/api/portraits/men/56.jpg</td>\n",
              "    </tr>\n",
              "  </tbody>\n",
              "</table>\n",
              "</div>\n",
              "      <button class=\"colab-df-convert\" onclick=\"convertToInteractive('df-578d6de0-0eb2-40d5-8b1f-5e47c24cee66')\"\n",
              "              title=\"Convert this dataframe to an interactive table.\"\n",
              "              style=\"display:none;\">\n",
              "        \n",
              "  <svg xmlns=\"http://www.w3.org/2000/svg\" height=\"24px\"viewBox=\"0 0 24 24\"\n",
              "       width=\"24px\">\n",
              "    <path d=\"M0 0h24v24H0V0z\" fill=\"none\"/>\n",
              "    <path d=\"M18.56 5.44l.94 2.06.94-2.06 2.06-.94-2.06-.94-.94-2.06-.94 2.06-2.06.94zm-11 1L8.5 8.5l.94-2.06 2.06-.94-2.06-.94L8.5 2.5l-.94 2.06-2.06.94zm10 10l.94 2.06.94-2.06 2.06-.94-2.06-.94-.94-2.06-.94 2.06-2.06.94z\"/><path d=\"M17.41 7.96l-1.37-1.37c-.4-.4-.92-.59-1.43-.59-.52 0-1.04.2-1.43.59L10.3 9.45l-7.72 7.72c-.78.78-.78 2.05 0 2.83L4 21.41c.39.39.9.59 1.41.59.51 0 1.02-.2 1.41-.59l7.78-7.78 2.81-2.81c.8-.78.8-2.07 0-2.86zM5.41 20L4 18.59l7.72-7.72 1.47 1.35L5.41 20z\"/>\n",
              "  </svg>\n",
              "      </button>\n",
              "      \n",
              "  <style>\n",
              "    .colab-df-container {\n",
              "      display:flex;\n",
              "      flex-wrap:wrap;\n",
              "      gap: 12px;\n",
              "    }\n",
              "\n",
              "    .colab-df-convert {\n",
              "      background-color: #E8F0FE;\n",
              "      border: none;\n",
              "      border-radius: 50%;\n",
              "      cursor: pointer;\n",
              "      display: none;\n",
              "      fill: #1967D2;\n",
              "      height: 32px;\n",
              "      padding: 0 0 0 0;\n",
              "      width: 32px;\n",
              "    }\n",
              "\n",
              "    .colab-df-convert:hover {\n",
              "      background-color: #E2EBFA;\n",
              "      box-shadow: 0px 1px 2px rgba(60, 64, 67, 0.3), 0px 1px 3px 1px rgba(60, 64, 67, 0.15);\n",
              "      fill: #174EA6;\n",
              "    }\n",
              "\n",
              "    [theme=dark] .colab-df-convert {\n",
              "      background-color: #3B4455;\n",
              "      fill: #D2E3FC;\n",
              "    }\n",
              "\n",
              "    [theme=dark] .colab-df-convert:hover {\n",
              "      background-color: #434B5C;\n",
              "      box-shadow: 0px 1px 3px 1px rgba(0, 0, 0, 0.15);\n",
              "      filter: drop-shadow(0px 1px 2px rgba(0, 0, 0, 0.3));\n",
              "      fill: #FFFFFF;\n",
              "    }\n",
              "  </style>\n",
              "\n",
              "      <script>\n",
              "        const buttonEl =\n",
              "          document.querySelector('#df-578d6de0-0eb2-40d5-8b1f-5e47c24cee66 button.colab-df-convert');\n",
              "        buttonEl.style.display =\n",
              "          google.colab.kernel.accessAllowed ? 'block' : 'none';\n",
              "\n",
              "        async function convertToInteractive(key) {\n",
              "          const element = document.querySelector('#df-578d6de0-0eb2-40d5-8b1f-5e47c24cee66');\n",
              "          const dataTable =\n",
              "            await google.colab.kernel.invokeFunction('convertToInteractive',\n",
              "                                                     [key], {});\n",
              "          if (!dataTable) return;\n",
              "\n",
              "          const docLinkHtml = 'Like what you see? Visit the ' +\n",
              "            '<a target=\"_blank\" href=https://colab.research.google.com/notebooks/data_table.ipynb>data table notebook</a>'\n",
              "            + ' to learn more about interactive tables.';\n",
              "          element.innerHTML = '';\n",
              "          dataTable['output_type'] = 'display_data';\n",
              "          await google.colab.output.renderOutput(dataTable, element);\n",
              "          const docLink = document.createElement('div');\n",
              "          docLink.innerHTML = docLinkHtml;\n",
              "          element.appendChild(docLink);\n",
              "        }\n",
              "      </script>\n",
              "    </div>\n",
              "  </div>\n",
              "  "
            ]
          },
          "metadata": {},
          "execution_count": 32
        }
      ]
    },
    {
      "cell_type": "code",
      "source": [
        "# Example 2: Fruitvice API\n",
        "# Another, more common way to use APIs, is through requests library. The next lab, Requests and HTTP, will contain more information about requests.\n",
        "import requests\n",
        "import json\n",
        "\n",
        "data = requests.get(\"https://www.fruityvice.com/api/fruit/all\")\n",
        "\n",
        "results = json.loads(data.text)"
      ],
      "metadata": {
        "id": "5-MQhAc5NNvv"
      },
      "execution_count": 33,
      "outputs": []
    },
    {
      "cell_type": "code",
      "source": [
        "pd.DataFrame(results)"
      ],
      "metadata": {
        "colab": {
          "base_uri": "https://localhost:8080/",
          "height": 1000
        },
        "id": "XCP9BbgtNZ2Y",
        "outputId": "955adf16-2e66-4b6d-beb8-89895fbb649e"
      },
      "execution_count": 34,
      "outputs": [
        {
          "output_type": "execute_result",
          "data": {
            "text/plain": [
              "         genus          name  id           family             order  \\\n",
              "0        Malus         Apple   6         Rosaceae           Rosales   \n",
              "1       Prunus       Apricot  35         Rosaceae           Rosales   \n",
              "2         Musa        Banana   1         Musaceae      Zingiberales   \n",
              "3        Rubus    Blackberry  64         Rosaceae           Rosales   \n",
              "4     Fragaria     Blueberry  33         Rosaceae           Rosales   \n",
              "5       Prunus        Cherry   9         Rosaceae              None   \n",
              "6        Durio        Durian  60        Malvaceae          Malvales   \n",
              "7        Ficus           Fig  68         Moraceae           Rosales   \n",
              "8        Ribes    Gooseberry  69  Grossulariaceae      Saxifragales   \n",
              "9        Vitis        Grapes  47         Vitaceae           Vitales   \n",
              "10       Malus    GreenApple  72         Rosaceae           Rosales   \n",
              "11     Psidium         Guava  37        Myrtaceae          Myrtales   \n",
              "12     Apteryx          Kiwi  66    Actinidiaceae  Struthioniformes   \n",
              "13      Citrus         Lemon  26         Rutaceae        Sapindales   \n",
              "14      Citrus          Lime  44         Rutaceae        Sapindales   \n",
              "15   Vaccinium   Lingonberry  65        Ericaceae          Ericales   \n",
              "16      Litchi        Lychee  67      Sapindaceae        Sapindales   \n",
              "17   Mangifera         Mango  27    Anacardiaceae        Sapindales   \n",
              "18     Cucumis         Melon  41    Cucurbitaceae     Cucurbitaceae   \n",
              "19      Citrus        Orange   2         Rutaceae        Sapindales   \n",
              "20      Carica        Papaya  42       Caricaceae         Caricacea   \n",
              "21  Passiflora  Passionfruit  70   Passifloraceae      Malpighiales   \n",
              "22       Pyrus          Pear   4         Rosaceae           Rosales   \n",
              "23   Diospyros     Persimmon  52        Ebenaceae           Rosales   \n",
              "24      Ananas     Pineapple  10     Bromeliaceae            Poales   \n",
              "25      Prunus          Plum  71         Rosaceae           Rosales   \n",
              "26       Rubus     Raspberry  23         Rosaceae           Rosales   \n",
              "27    Fragaria    Strawberry   3         Rosaceae           Rosales   \n",
              "28     Solanum        Tomato   5       Solanaceae         Solanales   \n",
              "29    Spondias          Umbu  73    Anacardiaceae                 0   \n",
              "30   Citrullus    Watermelon  25    Cucurbitaceae      Cucurbitales   \n",
              "\n",
              "                                           nutritions  \n",
              "0   {'carbohydrates': 11.4, 'protein': 0.3, 'fat':...  \n",
              "1   {'carbohydrates': 3.9, 'protein': 0.5, 'fat': ...  \n",
              "2   {'carbohydrates': 22, 'protein': 1, 'fat': 0.2...  \n",
              "3   {'carbohydrates': 9, 'protein': 1.3, 'fat': 0....  \n",
              "4   {'carbohydrates': 5.5, 'protein': 0, 'fat': 0....  \n",
              "5   {'carbohydrates': 12, 'protein': 1, 'fat': 0.3...  \n",
              "6   {'carbohydrates': 27.1, 'protein': 1.5, 'fat':...  \n",
              "7   {'carbohydrates': 19, 'protein': 0.8, 'fat': 0...  \n",
              "8   {'carbohydrates': 10, 'protein': 0.9, 'fat': 0...  \n",
              "9   {'carbohydrates': 18.1, 'protein': 0.72, 'fat'...  \n",
              "10  {'carbohydrates': 3.1, 'protein': 0.4, 'fat': ...  \n",
              "11  {'carbohydrates': 14, 'protein': 2.6, 'fat': 1...  \n",
              "12  {'carbohydrates': 15, 'protein': 1.1, 'fat': 0...  \n",
              "13  {'carbohydrates': 9, 'protein': 1.1, 'fat': 0....  \n",
              "14  {'carbohydrates': 8.4, 'protein': 0.3, 'fat': ...  \n",
              "15  {'carbohydrates': 11.3, 'protein': 0.75, 'fat'...  \n",
              "16  {'carbohydrates': 17, 'protein': 0.8, 'fat': 0...  \n",
              "17  {'carbohydrates': 15, 'protein': 0.82, 'fat': ...  \n",
              "18  {'carbohydrates': 8, 'protein': 0, 'fat': 0, '...  \n",
              "19  {'carbohydrates': 8.3, 'protein': 1, 'fat': 0....  \n",
              "20  {'carbohydrates': 11, 'protein': 0, 'fat': 0.4...  \n",
              "21  {'carbohydrates': 22.4, 'protein': 2.2, 'fat':...  \n",
              "22  {'carbohydrates': 15, 'protein': 0.4, 'fat': 0...  \n",
              "23  {'carbohydrates': 18, 'protein': 0, 'fat': 0, ...  \n",
              "24  {'carbohydrates': 13.12, 'protein': 0.54, 'fat...  \n",
              "25  {'carbohydrates': 11.4, 'protein': 0.7, 'fat':...  \n",
              "26  {'carbohydrates': 12, 'protein': 1.2, 'fat': 0...  \n",
              "27  {'carbohydrates': 5.5, 'protein': 0.8, 'fat': ...  \n",
              "28  {'carbohydrates': 3.9, 'protein': 0.9, 'fat': ...  \n",
              "29  {'carbohydrates': 0, 'protein': 0, 'fat': 0, '...  \n",
              "30  {'carbohydrates': 8, 'protein': 0.6, 'fat': 0....  "
            ],
            "text/html": [
              "\n",
              "  <div id=\"df-5b4e3979-a7ca-4ae9-84ba-fa1721fb16f5\">\n",
              "    <div class=\"colab-df-container\">\n",
              "      <div>\n",
              "<style scoped>\n",
              "    .dataframe tbody tr th:only-of-type {\n",
              "        vertical-align: middle;\n",
              "    }\n",
              "\n",
              "    .dataframe tbody tr th {\n",
              "        vertical-align: top;\n",
              "    }\n",
              "\n",
              "    .dataframe thead th {\n",
              "        text-align: right;\n",
              "    }\n",
              "</style>\n",
              "<table border=\"1\" class=\"dataframe\">\n",
              "  <thead>\n",
              "    <tr style=\"text-align: right;\">\n",
              "      <th></th>\n",
              "      <th>genus</th>\n",
              "      <th>name</th>\n",
              "      <th>id</th>\n",
              "      <th>family</th>\n",
              "      <th>order</th>\n",
              "      <th>nutritions</th>\n",
              "    </tr>\n",
              "  </thead>\n",
              "  <tbody>\n",
              "    <tr>\n",
              "      <th>0</th>\n",
              "      <td>Malus</td>\n",
              "      <td>Apple</td>\n",
              "      <td>6</td>\n",
              "      <td>Rosaceae</td>\n",
              "      <td>Rosales</td>\n",
              "      <td>{'carbohydrates': 11.4, 'protein': 0.3, 'fat':...</td>\n",
              "    </tr>\n",
              "    <tr>\n",
              "      <th>1</th>\n",
              "      <td>Prunus</td>\n",
              "      <td>Apricot</td>\n",
              "      <td>35</td>\n",
              "      <td>Rosaceae</td>\n",
              "      <td>Rosales</td>\n",
              "      <td>{'carbohydrates': 3.9, 'protein': 0.5, 'fat': ...</td>\n",
              "    </tr>\n",
              "    <tr>\n",
              "      <th>2</th>\n",
              "      <td>Musa</td>\n",
              "      <td>Banana</td>\n",
              "      <td>1</td>\n",
              "      <td>Musaceae</td>\n",
              "      <td>Zingiberales</td>\n",
              "      <td>{'carbohydrates': 22, 'protein': 1, 'fat': 0.2...</td>\n",
              "    </tr>\n",
              "    <tr>\n",
              "      <th>3</th>\n",
              "      <td>Rubus</td>\n",
              "      <td>Blackberry</td>\n",
              "      <td>64</td>\n",
              "      <td>Rosaceae</td>\n",
              "      <td>Rosales</td>\n",
              "      <td>{'carbohydrates': 9, 'protein': 1.3, 'fat': 0....</td>\n",
              "    </tr>\n",
              "    <tr>\n",
              "      <th>4</th>\n",
              "      <td>Fragaria</td>\n",
              "      <td>Blueberry</td>\n",
              "      <td>33</td>\n",
              "      <td>Rosaceae</td>\n",
              "      <td>Rosales</td>\n",
              "      <td>{'carbohydrates': 5.5, 'protein': 0, 'fat': 0....</td>\n",
              "    </tr>\n",
              "    <tr>\n",
              "      <th>5</th>\n",
              "      <td>Prunus</td>\n",
              "      <td>Cherry</td>\n",
              "      <td>9</td>\n",
              "      <td>Rosaceae</td>\n",
              "      <td>None</td>\n",
              "      <td>{'carbohydrates': 12, 'protein': 1, 'fat': 0.3...</td>\n",
              "    </tr>\n",
              "    <tr>\n",
              "      <th>6</th>\n",
              "      <td>Durio</td>\n",
              "      <td>Durian</td>\n",
              "      <td>60</td>\n",
              "      <td>Malvaceae</td>\n",
              "      <td>Malvales</td>\n",
              "      <td>{'carbohydrates': 27.1, 'protein': 1.5, 'fat':...</td>\n",
              "    </tr>\n",
              "    <tr>\n",
              "      <th>7</th>\n",
              "      <td>Ficus</td>\n",
              "      <td>Fig</td>\n",
              "      <td>68</td>\n",
              "      <td>Moraceae</td>\n",
              "      <td>Rosales</td>\n",
              "      <td>{'carbohydrates': 19, 'protein': 0.8, 'fat': 0...</td>\n",
              "    </tr>\n",
              "    <tr>\n",
              "      <th>8</th>\n",
              "      <td>Ribes</td>\n",
              "      <td>Gooseberry</td>\n",
              "      <td>69</td>\n",
              "      <td>Grossulariaceae</td>\n",
              "      <td>Saxifragales</td>\n",
              "      <td>{'carbohydrates': 10, 'protein': 0.9, 'fat': 0...</td>\n",
              "    </tr>\n",
              "    <tr>\n",
              "      <th>9</th>\n",
              "      <td>Vitis</td>\n",
              "      <td>Grapes</td>\n",
              "      <td>47</td>\n",
              "      <td>Vitaceae</td>\n",
              "      <td>Vitales</td>\n",
              "      <td>{'carbohydrates': 18.1, 'protein': 0.72, 'fat'...</td>\n",
              "    </tr>\n",
              "    <tr>\n",
              "      <th>10</th>\n",
              "      <td>Malus</td>\n",
              "      <td>GreenApple</td>\n",
              "      <td>72</td>\n",
              "      <td>Rosaceae</td>\n",
              "      <td>Rosales</td>\n",
              "      <td>{'carbohydrates': 3.1, 'protein': 0.4, 'fat': ...</td>\n",
              "    </tr>\n",
              "    <tr>\n",
              "      <th>11</th>\n",
              "      <td>Psidium</td>\n",
              "      <td>Guava</td>\n",
              "      <td>37</td>\n",
              "      <td>Myrtaceae</td>\n",
              "      <td>Myrtales</td>\n",
              "      <td>{'carbohydrates': 14, 'protein': 2.6, 'fat': 1...</td>\n",
              "    </tr>\n",
              "    <tr>\n",
              "      <th>12</th>\n",
              "      <td>Apteryx</td>\n",
              "      <td>Kiwi</td>\n",
              "      <td>66</td>\n",
              "      <td>Actinidiaceae</td>\n",
              "      <td>Struthioniformes</td>\n",
              "      <td>{'carbohydrates': 15, 'protein': 1.1, 'fat': 0...</td>\n",
              "    </tr>\n",
              "    <tr>\n",
              "      <th>13</th>\n",
              "      <td>Citrus</td>\n",
              "      <td>Lemon</td>\n",
              "      <td>26</td>\n",
              "      <td>Rutaceae</td>\n",
              "      <td>Sapindales</td>\n",
              "      <td>{'carbohydrates': 9, 'protein': 1.1, 'fat': 0....</td>\n",
              "    </tr>\n",
              "    <tr>\n",
              "      <th>14</th>\n",
              "      <td>Citrus</td>\n",
              "      <td>Lime</td>\n",
              "      <td>44</td>\n",
              "      <td>Rutaceae</td>\n",
              "      <td>Sapindales</td>\n",
              "      <td>{'carbohydrates': 8.4, 'protein': 0.3, 'fat': ...</td>\n",
              "    </tr>\n",
              "    <tr>\n",
              "      <th>15</th>\n",
              "      <td>Vaccinium</td>\n",
              "      <td>Lingonberry</td>\n",
              "      <td>65</td>\n",
              "      <td>Ericaceae</td>\n",
              "      <td>Ericales</td>\n",
              "      <td>{'carbohydrates': 11.3, 'protein': 0.75, 'fat'...</td>\n",
              "    </tr>\n",
              "    <tr>\n",
              "      <th>16</th>\n",
              "      <td>Litchi</td>\n",
              "      <td>Lychee</td>\n",
              "      <td>67</td>\n",
              "      <td>Sapindaceae</td>\n",
              "      <td>Sapindales</td>\n",
              "      <td>{'carbohydrates': 17, 'protein': 0.8, 'fat': 0...</td>\n",
              "    </tr>\n",
              "    <tr>\n",
              "      <th>17</th>\n",
              "      <td>Mangifera</td>\n",
              "      <td>Mango</td>\n",
              "      <td>27</td>\n",
              "      <td>Anacardiaceae</td>\n",
              "      <td>Sapindales</td>\n",
              "      <td>{'carbohydrates': 15, 'protein': 0.82, 'fat': ...</td>\n",
              "    </tr>\n",
              "    <tr>\n",
              "      <th>18</th>\n",
              "      <td>Cucumis</td>\n",
              "      <td>Melon</td>\n",
              "      <td>41</td>\n",
              "      <td>Cucurbitaceae</td>\n",
              "      <td>Cucurbitaceae</td>\n",
              "      <td>{'carbohydrates': 8, 'protein': 0, 'fat': 0, '...</td>\n",
              "    </tr>\n",
              "    <tr>\n",
              "      <th>19</th>\n",
              "      <td>Citrus</td>\n",
              "      <td>Orange</td>\n",
              "      <td>2</td>\n",
              "      <td>Rutaceae</td>\n",
              "      <td>Sapindales</td>\n",
              "      <td>{'carbohydrates': 8.3, 'protein': 1, 'fat': 0....</td>\n",
              "    </tr>\n",
              "    <tr>\n",
              "      <th>20</th>\n",
              "      <td>Carica</td>\n",
              "      <td>Papaya</td>\n",
              "      <td>42</td>\n",
              "      <td>Caricaceae</td>\n",
              "      <td>Caricacea</td>\n",
              "      <td>{'carbohydrates': 11, 'protein': 0, 'fat': 0.4...</td>\n",
              "    </tr>\n",
              "    <tr>\n",
              "      <th>21</th>\n",
              "      <td>Passiflora</td>\n",
              "      <td>Passionfruit</td>\n",
              "      <td>70</td>\n",
              "      <td>Passifloraceae</td>\n",
              "      <td>Malpighiales</td>\n",
              "      <td>{'carbohydrates': 22.4, 'protein': 2.2, 'fat':...</td>\n",
              "    </tr>\n",
              "    <tr>\n",
              "      <th>22</th>\n",
              "      <td>Pyrus</td>\n",
              "      <td>Pear</td>\n",
              "      <td>4</td>\n",
              "      <td>Rosaceae</td>\n",
              "      <td>Rosales</td>\n",
              "      <td>{'carbohydrates': 15, 'protein': 0.4, 'fat': 0...</td>\n",
              "    </tr>\n",
              "    <tr>\n",
              "      <th>23</th>\n",
              "      <td>Diospyros</td>\n",
              "      <td>Persimmon</td>\n",
              "      <td>52</td>\n",
              "      <td>Ebenaceae</td>\n",
              "      <td>Rosales</td>\n",
              "      <td>{'carbohydrates': 18, 'protein': 0, 'fat': 0, ...</td>\n",
              "    </tr>\n",
              "    <tr>\n",
              "      <th>24</th>\n",
              "      <td>Ananas</td>\n",
              "      <td>Pineapple</td>\n",
              "      <td>10</td>\n",
              "      <td>Bromeliaceae</td>\n",
              "      <td>Poales</td>\n",
              "      <td>{'carbohydrates': 13.12, 'protein': 0.54, 'fat...</td>\n",
              "    </tr>\n",
              "    <tr>\n",
              "      <th>25</th>\n",
              "      <td>Prunus</td>\n",
              "      <td>Plum</td>\n",
              "      <td>71</td>\n",
              "      <td>Rosaceae</td>\n",
              "      <td>Rosales</td>\n",
              "      <td>{'carbohydrates': 11.4, 'protein': 0.7, 'fat':...</td>\n",
              "    </tr>\n",
              "    <tr>\n",
              "      <th>26</th>\n",
              "      <td>Rubus</td>\n",
              "      <td>Raspberry</td>\n",
              "      <td>23</td>\n",
              "      <td>Rosaceae</td>\n",
              "      <td>Rosales</td>\n",
              "      <td>{'carbohydrates': 12, 'protein': 1.2, 'fat': 0...</td>\n",
              "    </tr>\n",
              "    <tr>\n",
              "      <th>27</th>\n",
              "      <td>Fragaria</td>\n",
              "      <td>Strawberry</td>\n",
              "      <td>3</td>\n",
              "      <td>Rosaceae</td>\n",
              "      <td>Rosales</td>\n",
              "      <td>{'carbohydrates': 5.5, 'protein': 0.8, 'fat': ...</td>\n",
              "    </tr>\n",
              "    <tr>\n",
              "      <th>28</th>\n",
              "      <td>Solanum</td>\n",
              "      <td>Tomato</td>\n",
              "      <td>5</td>\n",
              "      <td>Solanaceae</td>\n",
              "      <td>Solanales</td>\n",
              "      <td>{'carbohydrates': 3.9, 'protein': 0.9, 'fat': ...</td>\n",
              "    </tr>\n",
              "    <tr>\n",
              "      <th>29</th>\n",
              "      <td>Spondias</td>\n",
              "      <td>Umbu</td>\n",
              "      <td>73</td>\n",
              "      <td>Anacardiaceae</td>\n",
              "      <td>0</td>\n",
              "      <td>{'carbohydrates': 0, 'protein': 0, 'fat': 0, '...</td>\n",
              "    </tr>\n",
              "    <tr>\n",
              "      <th>30</th>\n",
              "      <td>Citrullus</td>\n",
              "      <td>Watermelon</td>\n",
              "      <td>25</td>\n",
              "      <td>Cucurbitaceae</td>\n",
              "      <td>Cucurbitales</td>\n",
              "      <td>{'carbohydrates': 8, 'protein': 0.6, 'fat': 0....</td>\n",
              "    </tr>\n",
              "  </tbody>\n",
              "</table>\n",
              "</div>\n",
              "      <button class=\"colab-df-convert\" onclick=\"convertToInteractive('df-5b4e3979-a7ca-4ae9-84ba-fa1721fb16f5')\"\n",
              "              title=\"Convert this dataframe to an interactive table.\"\n",
              "              style=\"display:none;\">\n",
              "        \n",
              "  <svg xmlns=\"http://www.w3.org/2000/svg\" height=\"24px\"viewBox=\"0 0 24 24\"\n",
              "       width=\"24px\">\n",
              "    <path d=\"M0 0h24v24H0V0z\" fill=\"none\"/>\n",
              "    <path d=\"M18.56 5.44l.94 2.06.94-2.06 2.06-.94-2.06-.94-.94-2.06-.94 2.06-2.06.94zm-11 1L8.5 8.5l.94-2.06 2.06-.94-2.06-.94L8.5 2.5l-.94 2.06-2.06.94zm10 10l.94 2.06.94-2.06 2.06-.94-2.06-.94-.94-2.06-.94 2.06-2.06.94z\"/><path d=\"M17.41 7.96l-1.37-1.37c-.4-.4-.92-.59-1.43-.59-.52 0-1.04.2-1.43.59L10.3 9.45l-7.72 7.72c-.78.78-.78 2.05 0 2.83L4 21.41c.39.39.9.59 1.41.59.51 0 1.02-.2 1.41-.59l7.78-7.78 2.81-2.81c.8-.78.8-2.07 0-2.86zM5.41 20L4 18.59l7.72-7.72 1.47 1.35L5.41 20z\"/>\n",
              "  </svg>\n",
              "      </button>\n",
              "      \n",
              "  <style>\n",
              "    .colab-df-container {\n",
              "      display:flex;\n",
              "      flex-wrap:wrap;\n",
              "      gap: 12px;\n",
              "    }\n",
              "\n",
              "    .colab-df-convert {\n",
              "      background-color: #E8F0FE;\n",
              "      border: none;\n",
              "      border-radius: 50%;\n",
              "      cursor: pointer;\n",
              "      display: none;\n",
              "      fill: #1967D2;\n",
              "      height: 32px;\n",
              "      padding: 0 0 0 0;\n",
              "      width: 32px;\n",
              "    }\n",
              "\n",
              "    .colab-df-convert:hover {\n",
              "      background-color: #E2EBFA;\n",
              "      box-shadow: 0px 1px 2px rgba(60, 64, 67, 0.3), 0px 1px 3px 1px rgba(60, 64, 67, 0.15);\n",
              "      fill: #174EA6;\n",
              "    }\n",
              "\n",
              "    [theme=dark] .colab-df-convert {\n",
              "      background-color: #3B4455;\n",
              "      fill: #D2E3FC;\n",
              "    }\n",
              "\n",
              "    [theme=dark] .colab-df-convert:hover {\n",
              "      background-color: #434B5C;\n",
              "      box-shadow: 0px 1px 3px 1px rgba(0, 0, 0, 0.15);\n",
              "      filter: drop-shadow(0px 1px 2px rgba(0, 0, 0, 0.3));\n",
              "      fill: #FFFFFF;\n",
              "    }\n",
              "  </style>\n",
              "\n",
              "      <script>\n",
              "        const buttonEl =\n",
              "          document.querySelector('#df-5b4e3979-a7ca-4ae9-84ba-fa1721fb16f5 button.colab-df-convert');\n",
              "        buttonEl.style.display =\n",
              "          google.colab.kernel.accessAllowed ? 'block' : 'none';\n",
              "\n",
              "        async function convertToInteractive(key) {\n",
              "          const element = document.querySelector('#df-5b4e3979-a7ca-4ae9-84ba-fa1721fb16f5');\n",
              "          const dataTable =\n",
              "            await google.colab.kernel.invokeFunction('convertToInteractive',\n",
              "                                                     [key], {});\n",
              "          if (!dataTable) return;\n",
              "\n",
              "          const docLinkHtml = 'Like what you see? Visit the ' +\n",
              "            '<a target=\"_blank\" href=https://colab.research.google.com/notebooks/data_table.ipynb>data table notebook</a>'\n",
              "            + ' to learn more about interactive tables.';\n",
              "          element.innerHTML = '';\n",
              "          dataTable['output_type'] = 'display_data';\n",
              "          await google.colab.output.renderOutput(dataTable, element);\n",
              "          const docLink = document.createElement('div');\n",
              "          docLink.innerHTML = docLinkHtml;\n",
              "          element.appendChild(docLink);\n",
              "        }\n",
              "      </script>\n",
              "    </div>\n",
              "  </div>\n",
              "  "
            ]
          },
          "metadata": {},
          "execution_count": 34
        }
      ]
    },
    {
      "cell_type": "code",
      "source": [
        "df2 = pd.json_normalize(results)\n",
        "df2"
      ],
      "metadata": {
        "colab": {
          "base_uri": "https://localhost:8080/",
          "height": 1000
        },
        "id": "xs9TdblxNbZW",
        "outputId": "38c29e89-0327-4db9-8394-de0b5a28b12e"
      },
      "execution_count": 35,
      "outputs": [
        {
          "output_type": "execute_result",
          "data": {
            "text/plain": [
              "         genus          name  id           family             order  \\\n",
              "0        Malus         Apple   6         Rosaceae           Rosales   \n",
              "1       Prunus       Apricot  35         Rosaceae           Rosales   \n",
              "2         Musa        Banana   1         Musaceae      Zingiberales   \n",
              "3        Rubus    Blackberry  64         Rosaceae           Rosales   \n",
              "4     Fragaria     Blueberry  33         Rosaceae           Rosales   \n",
              "5       Prunus        Cherry   9         Rosaceae              None   \n",
              "6        Durio        Durian  60        Malvaceae          Malvales   \n",
              "7        Ficus           Fig  68         Moraceae           Rosales   \n",
              "8        Ribes    Gooseberry  69  Grossulariaceae      Saxifragales   \n",
              "9        Vitis        Grapes  47         Vitaceae           Vitales   \n",
              "10       Malus    GreenApple  72         Rosaceae           Rosales   \n",
              "11     Psidium         Guava  37        Myrtaceae          Myrtales   \n",
              "12     Apteryx          Kiwi  66    Actinidiaceae  Struthioniformes   \n",
              "13      Citrus         Lemon  26         Rutaceae        Sapindales   \n",
              "14      Citrus          Lime  44         Rutaceae        Sapindales   \n",
              "15   Vaccinium   Lingonberry  65        Ericaceae          Ericales   \n",
              "16      Litchi        Lychee  67      Sapindaceae        Sapindales   \n",
              "17   Mangifera         Mango  27    Anacardiaceae        Sapindales   \n",
              "18     Cucumis         Melon  41    Cucurbitaceae     Cucurbitaceae   \n",
              "19      Citrus        Orange   2         Rutaceae        Sapindales   \n",
              "20      Carica        Papaya  42       Caricaceae         Caricacea   \n",
              "21  Passiflora  Passionfruit  70   Passifloraceae      Malpighiales   \n",
              "22       Pyrus          Pear   4         Rosaceae           Rosales   \n",
              "23   Diospyros     Persimmon  52        Ebenaceae           Rosales   \n",
              "24      Ananas     Pineapple  10     Bromeliaceae            Poales   \n",
              "25      Prunus          Plum  71         Rosaceae           Rosales   \n",
              "26       Rubus     Raspberry  23         Rosaceae           Rosales   \n",
              "27    Fragaria    Strawberry   3         Rosaceae           Rosales   \n",
              "28     Solanum        Tomato   5       Solanaceae         Solanales   \n",
              "29    Spondias          Umbu  73    Anacardiaceae                 0   \n",
              "30   Citrullus    Watermelon  25    Cucurbitaceae      Cucurbitales   \n",
              "\n",
              "    nutritions.carbohydrates  nutritions.protein  nutritions.fat  \\\n",
              "0                      11.40                0.30            0.40   \n",
              "1                       3.90                0.50            0.10   \n",
              "2                      22.00                1.00            0.20   \n",
              "3                       9.00                1.30            0.40   \n",
              "4                       5.50                0.00            0.40   \n",
              "5                      12.00                1.00            0.30   \n",
              "6                      27.10                1.50            5.30   \n",
              "7                      19.00                0.80            0.30   \n",
              "8                      10.00                0.90            0.60   \n",
              "9                      18.10                0.72            0.16   \n",
              "10                      3.10                0.40            0.10   \n",
              "11                     14.00                2.60            1.00   \n",
              "12                     15.00                1.10            0.50   \n",
              "13                      9.00                1.10            0.30   \n",
              "14                      8.40                0.30            0.10   \n",
              "15                     11.30                0.75            0.34   \n",
              "16                     17.00                0.80            0.44   \n",
              "17                     15.00                0.82            0.38   \n",
              "18                      8.00                0.00            0.00   \n",
              "19                      8.30                1.00            0.20   \n",
              "20                     11.00                0.00            0.40   \n",
              "21                     22.40                2.20            0.70   \n",
              "22                     15.00                0.40            0.10   \n",
              "23                     18.00                0.00            0.00   \n",
              "24                     13.12                0.54            0.12   \n",
              "25                     11.40                0.70            0.28   \n",
              "26                     12.00                1.20            0.70   \n",
              "27                      5.50                0.80            0.40   \n",
              "28                      3.90                0.90            0.20   \n",
              "29                      0.00                0.00            0.00   \n",
              "30                      8.00                0.60            0.20   \n",
              "\n",
              "    nutritions.calories  nutritions.sugar  \n",
              "0                    52             10.30  \n",
              "1                    15              3.20  \n",
              "2                    96             17.20  \n",
              "3                    40              4.50  \n",
              "4                    29              5.40  \n",
              "5                    50              8.00  \n",
              "6                   147              6.75  \n",
              "7                    74             16.00  \n",
              "8                    44              0.00  \n",
              "9                    69             15.48  \n",
              "10                   21              6.40  \n",
              "11                   68              9.00  \n",
              "12                   61              9.00  \n",
              "13                   29              2.50  \n",
              "14                   25              1.70  \n",
              "15                   50              5.74  \n",
              "16                   66             15.00  \n",
              "17                   60             13.70  \n",
              "18                   34              8.00  \n",
              "19                   43              8.20  \n",
              "20                   43              1.00  \n",
              "21                   97             11.20  \n",
              "22                   57             10.00  \n",
              "23                   81             18.00  \n",
              "24                   50              9.85  \n",
              "25                   46              9.92  \n",
              "26                   53              4.40  \n",
              "27                   29              5.40  \n",
              "28                   74              2.60  \n",
              "29                    0              0.00  \n",
              "30                   30              6.00  "
            ],
            "text/html": [
              "\n",
              "  <div id=\"df-73d96b30-38f6-46f3-92a6-e2fc186e420b\">\n",
              "    <div class=\"colab-df-container\">\n",
              "      <div>\n",
              "<style scoped>\n",
              "    .dataframe tbody tr th:only-of-type {\n",
              "        vertical-align: middle;\n",
              "    }\n",
              "\n",
              "    .dataframe tbody tr th {\n",
              "        vertical-align: top;\n",
              "    }\n",
              "\n",
              "    .dataframe thead th {\n",
              "        text-align: right;\n",
              "    }\n",
              "</style>\n",
              "<table border=\"1\" class=\"dataframe\">\n",
              "  <thead>\n",
              "    <tr style=\"text-align: right;\">\n",
              "      <th></th>\n",
              "      <th>genus</th>\n",
              "      <th>name</th>\n",
              "      <th>id</th>\n",
              "      <th>family</th>\n",
              "      <th>order</th>\n",
              "      <th>nutritions.carbohydrates</th>\n",
              "      <th>nutritions.protein</th>\n",
              "      <th>nutritions.fat</th>\n",
              "      <th>nutritions.calories</th>\n",
              "      <th>nutritions.sugar</th>\n",
              "    </tr>\n",
              "  </thead>\n",
              "  <tbody>\n",
              "    <tr>\n",
              "      <th>0</th>\n",
              "      <td>Malus</td>\n",
              "      <td>Apple</td>\n",
              "      <td>6</td>\n",
              "      <td>Rosaceae</td>\n",
              "      <td>Rosales</td>\n",
              "      <td>11.40</td>\n",
              "      <td>0.30</td>\n",
              "      <td>0.40</td>\n",
              "      <td>52</td>\n",
              "      <td>10.30</td>\n",
              "    </tr>\n",
              "    <tr>\n",
              "      <th>1</th>\n",
              "      <td>Prunus</td>\n",
              "      <td>Apricot</td>\n",
              "      <td>35</td>\n",
              "      <td>Rosaceae</td>\n",
              "      <td>Rosales</td>\n",
              "      <td>3.90</td>\n",
              "      <td>0.50</td>\n",
              "      <td>0.10</td>\n",
              "      <td>15</td>\n",
              "      <td>3.20</td>\n",
              "    </tr>\n",
              "    <tr>\n",
              "      <th>2</th>\n",
              "      <td>Musa</td>\n",
              "      <td>Banana</td>\n",
              "      <td>1</td>\n",
              "      <td>Musaceae</td>\n",
              "      <td>Zingiberales</td>\n",
              "      <td>22.00</td>\n",
              "      <td>1.00</td>\n",
              "      <td>0.20</td>\n",
              "      <td>96</td>\n",
              "      <td>17.20</td>\n",
              "    </tr>\n",
              "    <tr>\n",
              "      <th>3</th>\n",
              "      <td>Rubus</td>\n",
              "      <td>Blackberry</td>\n",
              "      <td>64</td>\n",
              "      <td>Rosaceae</td>\n",
              "      <td>Rosales</td>\n",
              "      <td>9.00</td>\n",
              "      <td>1.30</td>\n",
              "      <td>0.40</td>\n",
              "      <td>40</td>\n",
              "      <td>4.50</td>\n",
              "    </tr>\n",
              "    <tr>\n",
              "      <th>4</th>\n",
              "      <td>Fragaria</td>\n",
              "      <td>Blueberry</td>\n",
              "      <td>33</td>\n",
              "      <td>Rosaceae</td>\n",
              "      <td>Rosales</td>\n",
              "      <td>5.50</td>\n",
              "      <td>0.00</td>\n",
              "      <td>0.40</td>\n",
              "      <td>29</td>\n",
              "      <td>5.40</td>\n",
              "    </tr>\n",
              "    <tr>\n",
              "      <th>5</th>\n",
              "      <td>Prunus</td>\n",
              "      <td>Cherry</td>\n",
              "      <td>9</td>\n",
              "      <td>Rosaceae</td>\n",
              "      <td>None</td>\n",
              "      <td>12.00</td>\n",
              "      <td>1.00</td>\n",
              "      <td>0.30</td>\n",
              "      <td>50</td>\n",
              "      <td>8.00</td>\n",
              "    </tr>\n",
              "    <tr>\n",
              "      <th>6</th>\n",
              "      <td>Durio</td>\n",
              "      <td>Durian</td>\n",
              "      <td>60</td>\n",
              "      <td>Malvaceae</td>\n",
              "      <td>Malvales</td>\n",
              "      <td>27.10</td>\n",
              "      <td>1.50</td>\n",
              "      <td>5.30</td>\n",
              "      <td>147</td>\n",
              "      <td>6.75</td>\n",
              "    </tr>\n",
              "    <tr>\n",
              "      <th>7</th>\n",
              "      <td>Ficus</td>\n",
              "      <td>Fig</td>\n",
              "      <td>68</td>\n",
              "      <td>Moraceae</td>\n",
              "      <td>Rosales</td>\n",
              "      <td>19.00</td>\n",
              "      <td>0.80</td>\n",
              "      <td>0.30</td>\n",
              "      <td>74</td>\n",
              "      <td>16.00</td>\n",
              "    </tr>\n",
              "    <tr>\n",
              "      <th>8</th>\n",
              "      <td>Ribes</td>\n",
              "      <td>Gooseberry</td>\n",
              "      <td>69</td>\n",
              "      <td>Grossulariaceae</td>\n",
              "      <td>Saxifragales</td>\n",
              "      <td>10.00</td>\n",
              "      <td>0.90</td>\n",
              "      <td>0.60</td>\n",
              "      <td>44</td>\n",
              "      <td>0.00</td>\n",
              "    </tr>\n",
              "    <tr>\n",
              "      <th>9</th>\n",
              "      <td>Vitis</td>\n",
              "      <td>Grapes</td>\n",
              "      <td>47</td>\n",
              "      <td>Vitaceae</td>\n",
              "      <td>Vitales</td>\n",
              "      <td>18.10</td>\n",
              "      <td>0.72</td>\n",
              "      <td>0.16</td>\n",
              "      <td>69</td>\n",
              "      <td>15.48</td>\n",
              "    </tr>\n",
              "    <tr>\n",
              "      <th>10</th>\n",
              "      <td>Malus</td>\n",
              "      <td>GreenApple</td>\n",
              "      <td>72</td>\n",
              "      <td>Rosaceae</td>\n",
              "      <td>Rosales</td>\n",
              "      <td>3.10</td>\n",
              "      <td>0.40</td>\n",
              "      <td>0.10</td>\n",
              "      <td>21</td>\n",
              "      <td>6.40</td>\n",
              "    </tr>\n",
              "    <tr>\n",
              "      <th>11</th>\n",
              "      <td>Psidium</td>\n",
              "      <td>Guava</td>\n",
              "      <td>37</td>\n",
              "      <td>Myrtaceae</td>\n",
              "      <td>Myrtales</td>\n",
              "      <td>14.00</td>\n",
              "      <td>2.60</td>\n",
              "      <td>1.00</td>\n",
              "      <td>68</td>\n",
              "      <td>9.00</td>\n",
              "    </tr>\n",
              "    <tr>\n",
              "      <th>12</th>\n",
              "      <td>Apteryx</td>\n",
              "      <td>Kiwi</td>\n",
              "      <td>66</td>\n",
              "      <td>Actinidiaceae</td>\n",
              "      <td>Struthioniformes</td>\n",
              "      <td>15.00</td>\n",
              "      <td>1.10</td>\n",
              "      <td>0.50</td>\n",
              "      <td>61</td>\n",
              "      <td>9.00</td>\n",
              "    </tr>\n",
              "    <tr>\n",
              "      <th>13</th>\n",
              "      <td>Citrus</td>\n",
              "      <td>Lemon</td>\n",
              "      <td>26</td>\n",
              "      <td>Rutaceae</td>\n",
              "      <td>Sapindales</td>\n",
              "      <td>9.00</td>\n",
              "      <td>1.10</td>\n",
              "      <td>0.30</td>\n",
              "      <td>29</td>\n",
              "      <td>2.50</td>\n",
              "    </tr>\n",
              "    <tr>\n",
              "      <th>14</th>\n",
              "      <td>Citrus</td>\n",
              "      <td>Lime</td>\n",
              "      <td>44</td>\n",
              "      <td>Rutaceae</td>\n",
              "      <td>Sapindales</td>\n",
              "      <td>8.40</td>\n",
              "      <td>0.30</td>\n",
              "      <td>0.10</td>\n",
              "      <td>25</td>\n",
              "      <td>1.70</td>\n",
              "    </tr>\n",
              "    <tr>\n",
              "      <th>15</th>\n",
              "      <td>Vaccinium</td>\n",
              "      <td>Lingonberry</td>\n",
              "      <td>65</td>\n",
              "      <td>Ericaceae</td>\n",
              "      <td>Ericales</td>\n",
              "      <td>11.30</td>\n",
              "      <td>0.75</td>\n",
              "      <td>0.34</td>\n",
              "      <td>50</td>\n",
              "      <td>5.74</td>\n",
              "    </tr>\n",
              "    <tr>\n",
              "      <th>16</th>\n",
              "      <td>Litchi</td>\n",
              "      <td>Lychee</td>\n",
              "      <td>67</td>\n",
              "      <td>Sapindaceae</td>\n",
              "      <td>Sapindales</td>\n",
              "      <td>17.00</td>\n",
              "      <td>0.80</td>\n",
              "      <td>0.44</td>\n",
              "      <td>66</td>\n",
              "      <td>15.00</td>\n",
              "    </tr>\n",
              "    <tr>\n",
              "      <th>17</th>\n",
              "      <td>Mangifera</td>\n",
              "      <td>Mango</td>\n",
              "      <td>27</td>\n",
              "      <td>Anacardiaceae</td>\n",
              "      <td>Sapindales</td>\n",
              "      <td>15.00</td>\n",
              "      <td>0.82</td>\n",
              "      <td>0.38</td>\n",
              "      <td>60</td>\n",
              "      <td>13.70</td>\n",
              "    </tr>\n",
              "    <tr>\n",
              "      <th>18</th>\n",
              "      <td>Cucumis</td>\n",
              "      <td>Melon</td>\n",
              "      <td>41</td>\n",
              "      <td>Cucurbitaceae</td>\n",
              "      <td>Cucurbitaceae</td>\n",
              "      <td>8.00</td>\n",
              "      <td>0.00</td>\n",
              "      <td>0.00</td>\n",
              "      <td>34</td>\n",
              "      <td>8.00</td>\n",
              "    </tr>\n",
              "    <tr>\n",
              "      <th>19</th>\n",
              "      <td>Citrus</td>\n",
              "      <td>Orange</td>\n",
              "      <td>2</td>\n",
              "      <td>Rutaceae</td>\n",
              "      <td>Sapindales</td>\n",
              "      <td>8.30</td>\n",
              "      <td>1.00</td>\n",
              "      <td>0.20</td>\n",
              "      <td>43</td>\n",
              "      <td>8.20</td>\n",
              "    </tr>\n",
              "    <tr>\n",
              "      <th>20</th>\n",
              "      <td>Carica</td>\n",
              "      <td>Papaya</td>\n",
              "      <td>42</td>\n",
              "      <td>Caricaceae</td>\n",
              "      <td>Caricacea</td>\n",
              "      <td>11.00</td>\n",
              "      <td>0.00</td>\n",
              "      <td>0.40</td>\n",
              "      <td>43</td>\n",
              "      <td>1.00</td>\n",
              "    </tr>\n",
              "    <tr>\n",
              "      <th>21</th>\n",
              "      <td>Passiflora</td>\n",
              "      <td>Passionfruit</td>\n",
              "      <td>70</td>\n",
              "      <td>Passifloraceae</td>\n",
              "      <td>Malpighiales</td>\n",
              "      <td>22.40</td>\n",
              "      <td>2.20</td>\n",
              "      <td>0.70</td>\n",
              "      <td>97</td>\n",
              "      <td>11.20</td>\n",
              "    </tr>\n",
              "    <tr>\n",
              "      <th>22</th>\n",
              "      <td>Pyrus</td>\n",
              "      <td>Pear</td>\n",
              "      <td>4</td>\n",
              "      <td>Rosaceae</td>\n",
              "      <td>Rosales</td>\n",
              "      <td>15.00</td>\n",
              "      <td>0.40</td>\n",
              "      <td>0.10</td>\n",
              "      <td>57</td>\n",
              "      <td>10.00</td>\n",
              "    </tr>\n",
              "    <tr>\n",
              "      <th>23</th>\n",
              "      <td>Diospyros</td>\n",
              "      <td>Persimmon</td>\n",
              "      <td>52</td>\n",
              "      <td>Ebenaceae</td>\n",
              "      <td>Rosales</td>\n",
              "      <td>18.00</td>\n",
              "      <td>0.00</td>\n",
              "      <td>0.00</td>\n",
              "      <td>81</td>\n",
              "      <td>18.00</td>\n",
              "    </tr>\n",
              "    <tr>\n",
              "      <th>24</th>\n",
              "      <td>Ananas</td>\n",
              "      <td>Pineapple</td>\n",
              "      <td>10</td>\n",
              "      <td>Bromeliaceae</td>\n",
              "      <td>Poales</td>\n",
              "      <td>13.12</td>\n",
              "      <td>0.54</td>\n",
              "      <td>0.12</td>\n",
              "      <td>50</td>\n",
              "      <td>9.85</td>\n",
              "    </tr>\n",
              "    <tr>\n",
              "      <th>25</th>\n",
              "      <td>Prunus</td>\n",
              "      <td>Plum</td>\n",
              "      <td>71</td>\n",
              "      <td>Rosaceae</td>\n",
              "      <td>Rosales</td>\n",
              "      <td>11.40</td>\n",
              "      <td>0.70</td>\n",
              "      <td>0.28</td>\n",
              "      <td>46</td>\n",
              "      <td>9.92</td>\n",
              "    </tr>\n",
              "    <tr>\n",
              "      <th>26</th>\n",
              "      <td>Rubus</td>\n",
              "      <td>Raspberry</td>\n",
              "      <td>23</td>\n",
              "      <td>Rosaceae</td>\n",
              "      <td>Rosales</td>\n",
              "      <td>12.00</td>\n",
              "      <td>1.20</td>\n",
              "      <td>0.70</td>\n",
              "      <td>53</td>\n",
              "      <td>4.40</td>\n",
              "    </tr>\n",
              "    <tr>\n",
              "      <th>27</th>\n",
              "      <td>Fragaria</td>\n",
              "      <td>Strawberry</td>\n",
              "      <td>3</td>\n",
              "      <td>Rosaceae</td>\n",
              "      <td>Rosales</td>\n",
              "      <td>5.50</td>\n",
              "      <td>0.80</td>\n",
              "      <td>0.40</td>\n",
              "      <td>29</td>\n",
              "      <td>5.40</td>\n",
              "    </tr>\n",
              "    <tr>\n",
              "      <th>28</th>\n",
              "      <td>Solanum</td>\n",
              "      <td>Tomato</td>\n",
              "      <td>5</td>\n",
              "      <td>Solanaceae</td>\n",
              "      <td>Solanales</td>\n",
              "      <td>3.90</td>\n",
              "      <td>0.90</td>\n",
              "      <td>0.20</td>\n",
              "      <td>74</td>\n",
              "      <td>2.60</td>\n",
              "    </tr>\n",
              "    <tr>\n",
              "      <th>29</th>\n",
              "      <td>Spondias</td>\n",
              "      <td>Umbu</td>\n",
              "      <td>73</td>\n",
              "      <td>Anacardiaceae</td>\n",
              "      <td>0</td>\n",
              "      <td>0.00</td>\n",
              "      <td>0.00</td>\n",
              "      <td>0.00</td>\n",
              "      <td>0</td>\n",
              "      <td>0.00</td>\n",
              "    </tr>\n",
              "    <tr>\n",
              "      <th>30</th>\n",
              "      <td>Citrullus</td>\n",
              "      <td>Watermelon</td>\n",
              "      <td>25</td>\n",
              "      <td>Cucurbitaceae</td>\n",
              "      <td>Cucurbitales</td>\n",
              "      <td>8.00</td>\n",
              "      <td>0.60</td>\n",
              "      <td>0.20</td>\n",
              "      <td>30</td>\n",
              "      <td>6.00</td>\n",
              "    </tr>\n",
              "  </tbody>\n",
              "</table>\n",
              "</div>\n",
              "      <button class=\"colab-df-convert\" onclick=\"convertToInteractive('df-73d96b30-38f6-46f3-92a6-e2fc186e420b')\"\n",
              "              title=\"Convert this dataframe to an interactive table.\"\n",
              "              style=\"display:none;\">\n",
              "        \n",
              "  <svg xmlns=\"http://www.w3.org/2000/svg\" height=\"24px\"viewBox=\"0 0 24 24\"\n",
              "       width=\"24px\">\n",
              "    <path d=\"M0 0h24v24H0V0z\" fill=\"none\"/>\n",
              "    <path d=\"M18.56 5.44l.94 2.06.94-2.06 2.06-.94-2.06-.94-.94-2.06-.94 2.06-2.06.94zm-11 1L8.5 8.5l.94-2.06 2.06-.94-2.06-.94L8.5 2.5l-.94 2.06-2.06.94zm10 10l.94 2.06.94-2.06 2.06-.94-2.06-.94-.94-2.06-.94 2.06-2.06.94z\"/><path d=\"M17.41 7.96l-1.37-1.37c-.4-.4-.92-.59-1.43-.59-.52 0-1.04.2-1.43.59L10.3 9.45l-7.72 7.72c-.78.78-.78 2.05 0 2.83L4 21.41c.39.39.9.59 1.41.59.51 0 1.02-.2 1.41-.59l7.78-7.78 2.81-2.81c.8-.78.8-2.07 0-2.86zM5.41 20L4 18.59l7.72-7.72 1.47 1.35L5.41 20z\"/>\n",
              "  </svg>\n",
              "      </button>\n",
              "      \n",
              "  <style>\n",
              "    .colab-df-container {\n",
              "      display:flex;\n",
              "      flex-wrap:wrap;\n",
              "      gap: 12px;\n",
              "    }\n",
              "\n",
              "    .colab-df-convert {\n",
              "      background-color: #E8F0FE;\n",
              "      border: none;\n",
              "      border-radius: 50%;\n",
              "      cursor: pointer;\n",
              "      display: none;\n",
              "      fill: #1967D2;\n",
              "      height: 32px;\n",
              "      padding: 0 0 0 0;\n",
              "      width: 32px;\n",
              "    }\n",
              "\n",
              "    .colab-df-convert:hover {\n",
              "      background-color: #E2EBFA;\n",
              "      box-shadow: 0px 1px 2px rgba(60, 64, 67, 0.3), 0px 1px 3px 1px rgba(60, 64, 67, 0.15);\n",
              "      fill: #174EA6;\n",
              "    }\n",
              "\n",
              "    [theme=dark] .colab-df-convert {\n",
              "      background-color: #3B4455;\n",
              "      fill: #D2E3FC;\n",
              "    }\n",
              "\n",
              "    [theme=dark] .colab-df-convert:hover {\n",
              "      background-color: #434B5C;\n",
              "      box-shadow: 0px 1px 3px 1px rgba(0, 0, 0, 0.15);\n",
              "      filter: drop-shadow(0px 1px 2px rgba(0, 0, 0, 0.3));\n",
              "      fill: #FFFFFF;\n",
              "    }\n",
              "  </style>\n",
              "\n",
              "      <script>\n",
              "        const buttonEl =\n",
              "          document.querySelector('#df-73d96b30-38f6-46f3-92a6-e2fc186e420b button.colab-df-convert');\n",
              "        buttonEl.style.display =\n",
              "          google.colab.kernel.accessAllowed ? 'block' : 'none';\n",
              "\n",
              "        async function convertToInteractive(key) {\n",
              "          const element = document.querySelector('#df-73d96b30-38f6-46f3-92a6-e2fc186e420b');\n",
              "          const dataTable =\n",
              "            await google.colab.kernel.invokeFunction('convertToInteractive',\n",
              "                                                     [key], {});\n",
              "          if (!dataTable) return;\n",
              "\n",
              "          const docLinkHtml = 'Like what you see? Visit the ' +\n",
              "            '<a target=\"_blank\" href=https://colab.research.google.com/notebooks/data_table.ipynb>data table notebook</a>'\n",
              "            + ' to learn more about interactive tables.';\n",
              "          element.innerHTML = '';\n",
              "          dataTable['output_type'] = 'display_data';\n",
              "          await google.colab.output.renderOutput(dataTable, element);\n",
              "          const docLink = document.createElement('div');\n",
              "          docLink.innerHTML = docLinkHtml;\n",
              "          element.appendChild(docLink);\n",
              "        }\n",
              "      </script>\n",
              "    </div>\n",
              "  </div>\n",
              "  "
            ]
          },
          "metadata": {},
          "execution_count": 35
        }
      ]
    },
    {
      "cell_type": "code",
      "source": [
        "cherry = df2.loc[df2[\"name\"] == 'Cherry']\n",
        "(cherry.iloc[0]['family']) , (cherry.iloc[0]['genus'])"
      ],
      "metadata": {
        "colab": {
          "base_uri": "https://localhost:8080/"
        },
        "id": "NMJvrRk4NeEn",
        "outputId": "1be47cfd-44f0-48f8-fde3-8b6581f6591f"
      },
      "execution_count": 36,
      "outputs": [
        {
          "output_type": "execute_result",
          "data": {
            "text/plain": [
              "('Rosaceae', 'Prunus')"
            ]
          },
          "metadata": {},
          "execution_count": 36
        }
      ]
    },
    {
      "cell_type": "code",
      "source": [
        "# Exercise 2 - In this Exercise, find out how many calories are contained in a banana.\n",
        "cal_banana = df2.loc[df2[\"name\"] == 'Banana']\n",
        "cal_banana.iloc[0]['nutritions.calories']"
      ],
      "metadata": {
        "colab": {
          "base_uri": "https://localhost:8080/"
        },
        "id": "Dps6_VC-Nf6h",
        "outputId": "c41f075e-7815-4f05-b154-978ec6c95ce6"
      },
      "execution_count": 37,
      "outputs": [
        {
          "output_type": "execute_result",
          "data": {
            "text/plain": [
              "96"
            ]
          },
          "metadata": {},
          "execution_count": 37
        }
      ]
    },
    {
      "cell_type": "code",
      "source": [
        "'''\n",
        "Exercise 3\n",
        "\n",
        "This page contains a list of free public APIs. Choose any API of your interest and use it to load/extract some information, as shown in the example above.\n",
        "\n",
        "    Using requests.get(\"url\") function, load your data.\n",
        "\n",
        "'''\n",
        "\n",
        "# 1. Using requests.get(\"url\") function, load your data.\n",
        "data2 = requests.get(\"https://api.coinstats.app/public/v1/coins?skip=0&limit=10\")"
      ],
      "metadata": {
        "colab": {
          "base_uri": "https://localhost:8080/",
          "height": 110
        },
        "id": "XE03iLa0NluU",
        "outputId": "74c4f6ea-7938-4257-f935-81d87e3d2b03"
      },
      "execution_count": 47,
      "outputs": [
        {
          "output_type": "execute_result",
          "data": {
            "text/plain": [
              "'{\"coins\":[{\"id\":\"bitcoin\",\"icon\":\"https://static.coinstats.app/coins/1650455588819.png\",\"name\":\"Bitcoin\",\"symbol\":\"BTC\",\"rank\":1,\"price\":19122.843422740094,\"priceBtc\":1,\"volume\":24627331590.05804,\"marketCap\":366535533232.2101,\"availableSupply\":19167418,\"totalSupply\":21000000,\"priceChange1h\":0.65,\"priceChange1d\":-1.06,\"priceChange1w\":1.69,\"websiteUrl\":\"http://www.bitcoin.org\",\"twitterUrl\":\"https://twitter.com/bitcoin\",\"exp\":[\"https://blockchair.com/bitcoin/\",\"https://btc.com/\",\"https://btc.tokenview.io/\"]},{\"id\":\"ethereum\",\"icon\":\"https://static.coinstats.app/coins/1650455629727.png\",\"name\":\"Ethereum\",\"symbol\":\"ETH\",\"rank\":2,\"price\":1282.4406121605628,\"priceBtc\":0.0671243505251462,\"volume\":21035764591.36413,\"marketCap\":154890961906.9031,\"availableSupply\":120778272.645276,\"totalSupply\":120778272.645276,\"priceChange1h\":0.29,\"priceChange1d\":-2.6,\"priceChange1w\":-0.92,\"websiteUrl\":\"https://www.ethereum.org/\",\"twitterUrl\":\"https://twitter.com/ethereum\",\"contractAddress\":\"0x2170ed0880ac9a755fd29b2688956bd959f933f8\",\"decimals\":18,\"exp\":[\"https://etherscan.io/\",\"https://ethplorer.io/\",\"https://blockchair.com/ethereum\",\"https://eth.tokenview.io/\"]},{\"id\":\"tether\",\"icon\":\"https://static.coinstats.app/coins/1650455771843.png\",\"name\":\"Tether\",\"symbol\":\"USDT\",\"rank\":3,\"price\":0.9994863028553747,\"priceBtc\":0.000052314211123522094,\"volume\":56401864805.51686,\"marketCap\":67914519012.54634,\"availableSupply\":67949424437.859,\"totalSupply\":67949424437.859,\"priceChange1h\":-0.06,\"priceChange1d\":0.04,\"priceChange1w\":-0.01,\"websiteUrl\":\"https://tether.to/\",\"twitterUrl\":\"https://twitter.com/Tether_to\",\"contractAddress\":\"0xdac17f958d2ee523a2206206994597c13d831ec7\",\"decimals\":18,\"exp\":[\"https://etherscan.io/token/0xdac17f958d2ee523a2206206994597c13d831ec7\",\"https://ethplorer.io/address/0xdac17f958d2ee523a2206206994597c13d831ec7\",\"https://snowtrace.io/token/0x9702230a8ea53601f5cd2dc00fdbc13d4df4a8c7\",\"https://optimistic.etherscan.io/token/0x94b008aa00579c1307b0ef2c499ad98a8ce58e58\",\"https://polygonscan.com/token/0xc2132d05d31c914a87c6611c10748aeb04b58e8f\",\"https://bscscan.com/token/0x55d398326f99059ff775485246999027b3197955\",\"https://usdt.tokenview.com/en\",\"https://cronos-explorer.crypto.org/token/0x66e428c3f67a68878562e79a0234c1f83c208770\",\"https://avascan.info/blockchain/c/address/0x9702230a8ea53601f5cd2dc00fdbc13d4df4a8c7/token\",\"https://evmexplorer.velas.com/address/0xb44a9b6905af7c801311e8f4e76932ee959c663c\"]},{\"id\":\"usd-coin\",\"icon\":\"https://static.coinstats.app/coins/1650455825065.png\",\"name\":\"USD Coin\",\"symbol\":\"USDC\",\"rank\":4,\"price\":1,\"priceBtc\":0.000052472870294940804,\"volume\":2605795138,\"marketCap\":47367347868,\"availableSupply\":47325558825.7905,\"totalSupply\":47325566670.7886,\"priceChange1h\":0.07,\"priceChange1d\":-0.02,\"priceChange1w\":-0.09,\"websiteUrl\":\"https://www.circle.com/en/usdc\",\"twitterUrl\":\"https://twitter.com/circlepay\",\"contractAddress\":\"0xa0b86991c6218b36c1d19d4a2e9eb0ce3606eb48\",\"decimals\":18,\"exp\":[\"https://etherscan.io/token/0xa0b86991c6218b36c1d19d4a2e9eb0ce3606eb48\",\"https://ethplorer.io/address/0xa0b86991c6218b36c1d19d4a2e9eb0ce3606eb48\",\"https://blockchair.com/ethereum/erc-20/token/0xa0b86991c6218b36c1d19d4a2e9eb0ce3606eb48\",\"https://blockscout.com/poa/xdai/tokens/0xDDAfbb505ad214D7b80b1f830fcCc89B60fb7A83/token-transfers\",\"https://polygonscan.com/token/0x2791bca1f2de4661ed88a30c99a7a9449aa84174\",\"https://bscscan.com/token/0x8ac76a51cc950d9822d68b83fe1ad97b32cd580d\",\"https://ftmscan.com/address/0x04068da6c83afcfa0e13ba15a6696662335d5b75\",\"https://arbiscan.io/token/0xff970a61a04b1ca14834a43f5de4533ebddb5cc8\",\"https://evmexplorer.velas.com/address/0x80a16016cc4a2e6a2caca8a4a498b1699ff0f844\",\"https://stepscan.io/token/0xe3f5a90f9cb311505cd691a46596599aa1a0ad7d\"]},{\"id\":\"binance-coin\",\"icon\":\"https://static.coinstats.app/coins/1650455799549.png\",\"name\":\"BNB\",\"symbol\":\"BNB\",\"rank\":5,\"price\":285.8878722995799,\"priceBtc\":0.014963685311552365,\"volume\":2033557652.2626367,\"marketCap\":46678906872.483185,\"availableSupply\":163276974.63,\"totalSupply\":163276974.63,\"priceChange1h\":0.62,\"priceChange1d\":0.91,\"priceChange1w\":4.26,\"websiteUrl\":\"https://www.binance.com/\",\"twitterUrl\":\"https://twitter.com/binance\",\"contractAddress\":\"BNB\",\"decimals\":18,\"exp\":[\"https://binance.mintscan.io/\",\"https://explorer.binance.org/\",\"https://bscscan.com\",\"https://blockscout.com/etc/mainnet/address/0x0dCb0CB0120d355CdE1ce56040be57Add0185BAa\"]},{\"id\":\"ripple\",\"icon\":\"https://static.coinstats.app/coins/XRPdnqGJ.png\",\"name\":\"XRP\",\"symbol\":\"XRP\",\"rank\":6,\"price\":0.45232969199176226,\"priceBtc\":0.000023675433006628047,\"volume\":2841755663.6792808,\"marketCap\":22571553088.226143,\"availableSupply\":49900666456,\"totalSupply\":99989286233,\"priceChange1h\":0.76,\"priceChange1d\":-5.14,\"priceChange1w\":-8.07,\"websiteUrl\":\"https://ripple.com/currency/\",\"twitterUrl\":\"https://twitter.com/Ripple\",\"contractAddress\":\"0x1d2f0da169ceb9fc7b3144628db156f3f6c60dbe\",\"decimals\":18,\"exp\":[\"https://blockchair.com/ripple\",\"https://xrpcharts.ripple.com\",\"https://xrpscan.com/\",\"https://bithomp.com/explorer/\"]},{\"id\":\"binance-usd\",\"icon\":\"https://static.coinstats.app/coins/binance-usdcP4.png\",\"name\":\"Binance USD\",\"symbol\":\"BUSD\",\"rank\":7,\"price\":1.002,\"priceBtc\":0.00005257781603553068,\"volume\":4823277634,\"marketCap\":20945108386,\"availableSupply\":20890678355.9,\"totalSupply\":20890678355.9,\"priceChange1h\":0.7,\"priceChange1d\":0.13,\"priceChange1w\":0,\"websiteUrl\":\"https://www.paxos.com/busd/\",\"twitterUrl\":\"https://twitter.com/PaxosGlobal\",\"contractAddress\":\"0x4Fabb145d64652a948d72533023f6E7A623C7C53\",\"decimals\":18,\"exp\":[\"https://etherscan.io/token/0x4Fabb145d64652a948d72533023f6E7A623C7C53\",\"https://ethplorer.io/address/0x4Fabb145d64652a948d72533023f6E7A623C7C53\",\"https://explorer.binance.org/asset/BUSD-BD1\",\"https://bscscan.com/token/0xe9e7cea3dedca5984780bafc599bd69add087d56\",\"https://polygonscan.com/token/0xdab529f40e671a1d4bf91361c21bf9f0c9712ab7\",\"https://snowtrace.io/token/0x19860ccb0a68fd4213ab9d8266f7bbf05a8dde98\",\"https://moonriver.moonscan.io/token/0x5d9ab5522c64e1f6ef5e3627eccc093f56167818\",\"https://cronos.org/explorer/token/0xC74D59A548ecf7fc1754bb7810D716E9Ac3e3AE5/token-transfers\",\"https://explorer.fuse.io/token/0x6a5f6a8121592becd6747a38d67451b310f7f156\",\"https://scan.meter.io/address/0x24aa189dfaa76c671c279262f94434770f557c35\"]},{\"id\":\"cardano\",\"icon\":\"https://static.coinstats.app/coins/CardanojXddT.png\",\"name\":\"Cardano\",\"symbol\":\"ADA\",\"rank\":8,\"price\":0.4207999056201455,\"priceBtc\":0.00002202512934942727,\"volume\":701939145.4949912,\"marketCap\":14231563286.542704,\"availableSupply\":33820262543.95,\"totalSupply\":45000000000,\"priceChange1h\":0.32,\"priceChange1d\":-2.35,\"priceChange1w\":-5.73,\"websiteUrl\":\"https://www.cardano.org/en/home/\",\"twitterUrl\":\"https://twitter.com/CardanoStiftung\",\"contractAddress\":\"0x3ee2200efb3400fabb9aacf31297cbdd1d435d47\",\"decimals\":18,\"exp\":[\"https://cardanoscan.io/\",\"https://cardanoexplorer.com/\",\"https://blockchair.com/cardano\",\"https://adaex.org/\",\"https://adastat.net/\",\"https://ada.tokenview.io/\"]},{\"id\":\"solana\",\"icon\":\"https://static.coinstats.app/coins/solanambZ.png\",\"name\":\"Solana\",\"symbol\":\"SOL\",\"rank\":9,\"price\":32.11979239779568,\"priceBtc\":0.001681185220789489,\"volume\":1438012006.7007804,\"marketCap\":11415897442.080736,\"availableSupply\":355416289.766063,\"totalSupply\":508180963.57,\"priceChange1h\":0.12,\"priceChange1d\":-2.06,\"priceChange1w\":-0.59,\"websiteUrl\":\"https://solana.com/\",\"twitterUrl\":\"https://twitter.com/solana\",\"contractAddress\":\"0x7dff46370e9ea5f0bad3c4e29711ad50062ea7a4\",\"decimals\":18,\"exp\":[\"https://solscan.io/\",\"https://explorer.solana.com/\",\"https://solanabeach.io/\",\"https://solana.fm/\"]},{\"id\":\"dogecoin\",\"icon\":\"https://static.coinstats.app/coins/DogecoinIZai5.png\",\"name\":\"Dogecoin\",\"symbol\":\"DOGE\",\"rank\":10,\"price\":0.059493000113634474,\"priceBtc\":0.0000031139289847444272,\"volume\":545048955.0975317,\"marketCap\":7892981795.569566,\"availableSupply\":132670764299.894,\"totalSupply\":0,\"priceChange1h\":0.54,\"priceChange1d\":-2.1,\"priceChange1w\":-2.81,\"websiteUrl\":\"http://dogecoin.com/\",\"redditUrl\":\"https://www.reddit.com/r/dogecoin\",\"twitterUrl\":\"https://twitter.com/dogecoin\",\"contractAddress\":\"0xba2ae424d960c26247dd6c32edc70b295c744c43\",\"decimals\":18,\"exp\":[\"https://blockchair.com/dogecoin\",\"https://doge.tokenview.io/\",\"http://dogechain.info/chain/Dogecoin\"]}]}'"
            ],
            "application/vnd.google.colaboratory.intrinsic+json": {
              "type": "string"
            }
          },
          "metadata": {},
          "execution_count": 47
        }
      ]
    },
    {
      "cell_type": "code",
      "source": [
        "data2.json()['coins']"
      ],
      "metadata": {
        "colab": {
          "base_uri": "https://localhost:8080/"
        },
        "id": "HAeMTTwXPOKp",
        "outputId": "ac5fe4ea-0781-49e4-8cd1-2726bd43bca5"
      },
      "execution_count": 53,
      "outputs": [
        {
          "output_type": "execute_result",
          "data": {
            "text/plain": [
              "[{'id': 'bitcoin',\n",
              "  'icon': 'https://static.coinstats.app/coins/1650455588819.png',\n",
              "  'name': 'Bitcoin',\n",
              "  'symbol': 'BTC',\n",
              "  'rank': 1,\n",
              "  'price': 19122.843422740094,\n",
              "  'priceBtc': 1,\n",
              "  'volume': 24627331590.05804,\n",
              "  'marketCap': 366535533232.2101,\n",
              "  'availableSupply': 19167418,\n",
              "  'totalSupply': 21000000,\n",
              "  'priceChange1h': 0.65,\n",
              "  'priceChange1d': -1.06,\n",
              "  'priceChange1w': 1.69,\n",
              "  'websiteUrl': 'http://www.bitcoin.org',\n",
              "  'twitterUrl': 'https://twitter.com/bitcoin',\n",
              "  'exp': ['https://blockchair.com/bitcoin/',\n",
              "   'https://btc.com/',\n",
              "   'https://btc.tokenview.io/']},\n",
              " {'id': 'ethereum',\n",
              "  'icon': 'https://static.coinstats.app/coins/1650455629727.png',\n",
              "  'name': 'Ethereum',\n",
              "  'symbol': 'ETH',\n",
              "  'rank': 2,\n",
              "  'price': 1282.4406121605628,\n",
              "  'priceBtc': 0.0671243505251462,\n",
              "  'volume': 21035764591.36413,\n",
              "  'marketCap': 154890961906.9031,\n",
              "  'availableSupply': 120778272.645276,\n",
              "  'totalSupply': 120778272.645276,\n",
              "  'priceChange1h': 0.29,\n",
              "  'priceChange1d': -2.6,\n",
              "  'priceChange1w': -0.92,\n",
              "  'websiteUrl': 'https://www.ethereum.org/',\n",
              "  'twitterUrl': 'https://twitter.com/ethereum',\n",
              "  'contractAddress': '0x2170ed0880ac9a755fd29b2688956bd959f933f8',\n",
              "  'decimals': 18,\n",
              "  'exp': ['https://etherscan.io/',\n",
              "   'https://ethplorer.io/',\n",
              "   'https://blockchair.com/ethereum',\n",
              "   'https://eth.tokenview.io/']},\n",
              " {'id': 'tether',\n",
              "  'icon': 'https://static.coinstats.app/coins/1650455771843.png',\n",
              "  'name': 'Tether',\n",
              "  'symbol': 'USDT',\n",
              "  'rank': 3,\n",
              "  'price': 0.9994863028553747,\n",
              "  'priceBtc': 5.2314211123522094e-05,\n",
              "  'volume': 56401864805.51686,\n",
              "  'marketCap': 67914519012.54634,\n",
              "  'availableSupply': 67949424437.859,\n",
              "  'totalSupply': 67949424437.859,\n",
              "  'priceChange1h': -0.06,\n",
              "  'priceChange1d': 0.04,\n",
              "  'priceChange1w': -0.01,\n",
              "  'websiteUrl': 'https://tether.to/',\n",
              "  'twitterUrl': 'https://twitter.com/Tether_to',\n",
              "  'contractAddress': '0xdac17f958d2ee523a2206206994597c13d831ec7',\n",
              "  'decimals': 18,\n",
              "  'exp': ['https://etherscan.io/token/0xdac17f958d2ee523a2206206994597c13d831ec7',\n",
              "   'https://ethplorer.io/address/0xdac17f958d2ee523a2206206994597c13d831ec7',\n",
              "   'https://snowtrace.io/token/0x9702230a8ea53601f5cd2dc00fdbc13d4df4a8c7',\n",
              "   'https://optimistic.etherscan.io/token/0x94b008aa00579c1307b0ef2c499ad98a8ce58e58',\n",
              "   'https://polygonscan.com/token/0xc2132d05d31c914a87c6611c10748aeb04b58e8f',\n",
              "   'https://bscscan.com/token/0x55d398326f99059ff775485246999027b3197955',\n",
              "   'https://usdt.tokenview.com/en',\n",
              "   'https://cronos-explorer.crypto.org/token/0x66e428c3f67a68878562e79a0234c1f83c208770',\n",
              "   'https://avascan.info/blockchain/c/address/0x9702230a8ea53601f5cd2dc00fdbc13d4df4a8c7/token',\n",
              "   'https://evmexplorer.velas.com/address/0xb44a9b6905af7c801311e8f4e76932ee959c663c']},\n",
              " {'id': 'usd-coin',\n",
              "  'icon': 'https://static.coinstats.app/coins/1650455825065.png',\n",
              "  'name': 'USD Coin',\n",
              "  'symbol': 'USDC',\n",
              "  'rank': 4,\n",
              "  'price': 1,\n",
              "  'priceBtc': 5.2472870294940804e-05,\n",
              "  'volume': 2605795138,\n",
              "  'marketCap': 47367347868,\n",
              "  'availableSupply': 47325558825.7905,\n",
              "  'totalSupply': 47325566670.7886,\n",
              "  'priceChange1h': 0.07,\n",
              "  'priceChange1d': -0.02,\n",
              "  'priceChange1w': -0.09,\n",
              "  'websiteUrl': 'https://www.circle.com/en/usdc',\n",
              "  'twitterUrl': 'https://twitter.com/circlepay',\n",
              "  'contractAddress': '0xa0b86991c6218b36c1d19d4a2e9eb0ce3606eb48',\n",
              "  'decimals': 18,\n",
              "  'exp': ['https://etherscan.io/token/0xa0b86991c6218b36c1d19d4a2e9eb0ce3606eb48',\n",
              "   'https://ethplorer.io/address/0xa0b86991c6218b36c1d19d4a2e9eb0ce3606eb48',\n",
              "   'https://blockchair.com/ethereum/erc-20/token/0xa0b86991c6218b36c1d19d4a2e9eb0ce3606eb48',\n",
              "   'https://blockscout.com/poa/xdai/tokens/0xDDAfbb505ad214D7b80b1f830fcCc89B60fb7A83/token-transfers',\n",
              "   'https://polygonscan.com/token/0x2791bca1f2de4661ed88a30c99a7a9449aa84174',\n",
              "   'https://bscscan.com/token/0x8ac76a51cc950d9822d68b83fe1ad97b32cd580d',\n",
              "   'https://ftmscan.com/address/0x04068da6c83afcfa0e13ba15a6696662335d5b75',\n",
              "   'https://arbiscan.io/token/0xff970a61a04b1ca14834a43f5de4533ebddb5cc8',\n",
              "   'https://evmexplorer.velas.com/address/0x80a16016cc4a2e6a2caca8a4a498b1699ff0f844',\n",
              "   'https://stepscan.io/token/0xe3f5a90f9cb311505cd691a46596599aa1a0ad7d']},\n",
              " {'id': 'binance-coin',\n",
              "  'icon': 'https://static.coinstats.app/coins/1650455799549.png',\n",
              "  'name': 'BNB',\n",
              "  'symbol': 'BNB',\n",
              "  'rank': 5,\n",
              "  'price': 285.8878722995799,\n",
              "  'priceBtc': 0.014963685311552365,\n",
              "  'volume': 2033557652.2626367,\n",
              "  'marketCap': 46678906872.483185,\n",
              "  'availableSupply': 163276974.63,\n",
              "  'totalSupply': 163276974.63,\n",
              "  'priceChange1h': 0.62,\n",
              "  'priceChange1d': 0.91,\n",
              "  'priceChange1w': 4.26,\n",
              "  'websiteUrl': 'https://www.binance.com/',\n",
              "  'twitterUrl': 'https://twitter.com/binance',\n",
              "  'contractAddress': 'BNB',\n",
              "  'decimals': 18,\n",
              "  'exp': ['https://binance.mintscan.io/',\n",
              "   'https://explorer.binance.org/',\n",
              "   'https://bscscan.com',\n",
              "   'https://blockscout.com/etc/mainnet/address/0x0dCb0CB0120d355CdE1ce56040be57Add0185BAa']},\n",
              " {'id': 'ripple',\n",
              "  'icon': 'https://static.coinstats.app/coins/XRPdnqGJ.png',\n",
              "  'name': 'XRP',\n",
              "  'symbol': 'XRP',\n",
              "  'rank': 6,\n",
              "  'price': 0.45232969199176226,\n",
              "  'priceBtc': 2.3675433006628047e-05,\n",
              "  'volume': 2841755663.6792808,\n",
              "  'marketCap': 22571553088.226143,\n",
              "  'availableSupply': 49900666456,\n",
              "  'totalSupply': 99989286233,\n",
              "  'priceChange1h': 0.76,\n",
              "  'priceChange1d': -5.14,\n",
              "  'priceChange1w': -8.07,\n",
              "  'websiteUrl': 'https://ripple.com/currency/',\n",
              "  'twitterUrl': 'https://twitter.com/Ripple',\n",
              "  'contractAddress': '0x1d2f0da169ceb9fc7b3144628db156f3f6c60dbe',\n",
              "  'decimals': 18,\n",
              "  'exp': ['https://blockchair.com/ripple',\n",
              "   'https://xrpcharts.ripple.com',\n",
              "   'https://xrpscan.com/',\n",
              "   'https://bithomp.com/explorer/']},\n",
              " {'id': 'binance-usd',\n",
              "  'icon': 'https://static.coinstats.app/coins/binance-usdcP4.png',\n",
              "  'name': 'Binance USD',\n",
              "  'symbol': 'BUSD',\n",
              "  'rank': 7,\n",
              "  'price': 1.002,\n",
              "  'priceBtc': 5.257781603553068e-05,\n",
              "  'volume': 4823277634,\n",
              "  'marketCap': 20945108386,\n",
              "  'availableSupply': 20890678355.9,\n",
              "  'totalSupply': 20890678355.9,\n",
              "  'priceChange1h': 0.7,\n",
              "  'priceChange1d': 0.13,\n",
              "  'priceChange1w': 0,\n",
              "  'websiteUrl': 'https://www.paxos.com/busd/',\n",
              "  'twitterUrl': 'https://twitter.com/PaxosGlobal',\n",
              "  'contractAddress': '0x4Fabb145d64652a948d72533023f6E7A623C7C53',\n",
              "  'decimals': 18,\n",
              "  'exp': ['https://etherscan.io/token/0x4Fabb145d64652a948d72533023f6E7A623C7C53',\n",
              "   'https://ethplorer.io/address/0x4Fabb145d64652a948d72533023f6E7A623C7C53',\n",
              "   'https://explorer.binance.org/asset/BUSD-BD1',\n",
              "   'https://bscscan.com/token/0xe9e7cea3dedca5984780bafc599bd69add087d56',\n",
              "   'https://polygonscan.com/token/0xdab529f40e671a1d4bf91361c21bf9f0c9712ab7',\n",
              "   'https://snowtrace.io/token/0x19860ccb0a68fd4213ab9d8266f7bbf05a8dde98',\n",
              "   'https://moonriver.moonscan.io/token/0x5d9ab5522c64e1f6ef5e3627eccc093f56167818',\n",
              "   'https://cronos.org/explorer/token/0xC74D59A548ecf7fc1754bb7810D716E9Ac3e3AE5/token-transfers',\n",
              "   'https://explorer.fuse.io/token/0x6a5f6a8121592becd6747a38d67451b310f7f156',\n",
              "   'https://scan.meter.io/address/0x24aa189dfaa76c671c279262f94434770f557c35']},\n",
              " {'id': 'cardano',\n",
              "  'icon': 'https://static.coinstats.app/coins/CardanojXddT.png',\n",
              "  'name': 'Cardano',\n",
              "  'symbol': 'ADA',\n",
              "  'rank': 8,\n",
              "  'price': 0.4207999056201455,\n",
              "  'priceBtc': 2.202512934942727e-05,\n",
              "  'volume': 701939145.4949912,\n",
              "  'marketCap': 14231563286.542704,\n",
              "  'availableSupply': 33820262543.95,\n",
              "  'totalSupply': 45000000000,\n",
              "  'priceChange1h': 0.32,\n",
              "  'priceChange1d': -2.35,\n",
              "  'priceChange1w': -5.73,\n",
              "  'websiteUrl': 'https://www.cardano.org/en/home/',\n",
              "  'twitterUrl': 'https://twitter.com/CardanoStiftung',\n",
              "  'contractAddress': '0x3ee2200efb3400fabb9aacf31297cbdd1d435d47',\n",
              "  'decimals': 18,\n",
              "  'exp': ['https://cardanoscan.io/',\n",
              "   'https://cardanoexplorer.com/',\n",
              "   'https://blockchair.com/cardano',\n",
              "   'https://adaex.org/',\n",
              "   'https://adastat.net/',\n",
              "   'https://ada.tokenview.io/']},\n",
              " {'id': 'solana',\n",
              "  'icon': 'https://static.coinstats.app/coins/solanambZ.png',\n",
              "  'name': 'Solana',\n",
              "  'symbol': 'SOL',\n",
              "  'rank': 9,\n",
              "  'price': 32.11979239779568,\n",
              "  'priceBtc': 0.001681185220789489,\n",
              "  'volume': 1438012006.7007804,\n",
              "  'marketCap': 11415897442.080736,\n",
              "  'availableSupply': 355416289.766063,\n",
              "  'totalSupply': 508180963.57,\n",
              "  'priceChange1h': 0.12,\n",
              "  'priceChange1d': -2.06,\n",
              "  'priceChange1w': -0.59,\n",
              "  'websiteUrl': 'https://solana.com/',\n",
              "  'twitterUrl': 'https://twitter.com/solana',\n",
              "  'contractAddress': '0x7dff46370e9ea5f0bad3c4e29711ad50062ea7a4',\n",
              "  'decimals': 18,\n",
              "  'exp': ['https://solscan.io/',\n",
              "   'https://explorer.solana.com/',\n",
              "   'https://solanabeach.io/',\n",
              "   'https://solana.fm/']},\n",
              " {'id': 'dogecoin',\n",
              "  'icon': 'https://static.coinstats.app/coins/DogecoinIZai5.png',\n",
              "  'name': 'Dogecoin',\n",
              "  'symbol': 'DOGE',\n",
              "  'rank': 10,\n",
              "  'price': 0.059493000113634474,\n",
              "  'priceBtc': 3.1139289847444272e-06,\n",
              "  'volume': 545048955.0975317,\n",
              "  'marketCap': 7892981795.569566,\n",
              "  'availableSupply': 132670764299.894,\n",
              "  'totalSupply': 0,\n",
              "  'priceChange1h': 0.54,\n",
              "  'priceChange1d': -2.1,\n",
              "  'priceChange1w': -2.81,\n",
              "  'websiteUrl': 'http://dogecoin.com/',\n",
              "  'redditUrl': 'https://www.reddit.com/r/dogecoin',\n",
              "  'twitterUrl': 'https://twitter.com/dogecoin',\n",
              "  'contractAddress': '0xba2ae424d960c26247dd6c32edc70b295c744c43',\n",
              "  'decimals': 18,\n",
              "  'exp': ['https://blockchair.com/dogecoin',\n",
              "   'https://doge.tokenview.io/',\n",
              "   'http://dogechain.info/chain/Dogecoin']}]"
            ]
          },
          "metadata": {},
          "execution_count": 53
        }
      ]
    },
    {
      "cell_type": "code",
      "source": [
        "# 2. Retrieve results using json.loads() function.\n",
        "results2 = json.loads(data2.text)\n",
        "results2"
      ],
      "metadata": {
        "colab": {
          "base_uri": "https://localhost:8080/"
        },
        "id": "sSojDMEgOZod",
        "outputId": "0e7873f4-03dc-496a-e22e-0bf948dd3692"
      },
      "execution_count": 57,
      "outputs": [
        {
          "output_type": "execute_result",
          "data": {
            "text/plain": [
              "{'coins': [{'id': 'bitcoin',\n",
              "   'icon': 'https://static.coinstats.app/coins/1650455588819.png',\n",
              "   'name': 'Bitcoin',\n",
              "   'symbol': 'BTC',\n",
              "   'rank': 1,\n",
              "   'price': 19122.843422740094,\n",
              "   'priceBtc': 1,\n",
              "   'volume': 24627331590.05804,\n",
              "   'marketCap': 366535533232.2101,\n",
              "   'availableSupply': 19167418,\n",
              "   'totalSupply': 21000000,\n",
              "   'priceChange1h': 0.65,\n",
              "   'priceChange1d': -1.06,\n",
              "   'priceChange1w': 1.69,\n",
              "   'websiteUrl': 'http://www.bitcoin.org',\n",
              "   'twitterUrl': 'https://twitter.com/bitcoin',\n",
              "   'exp': ['https://blockchair.com/bitcoin/',\n",
              "    'https://btc.com/',\n",
              "    'https://btc.tokenview.io/']},\n",
              "  {'id': 'ethereum',\n",
              "   'icon': 'https://static.coinstats.app/coins/1650455629727.png',\n",
              "   'name': 'Ethereum',\n",
              "   'symbol': 'ETH',\n",
              "   'rank': 2,\n",
              "   'price': 1282.4406121605628,\n",
              "   'priceBtc': 0.0671243505251462,\n",
              "   'volume': 21035764591.36413,\n",
              "   'marketCap': 154890961906.9031,\n",
              "   'availableSupply': 120778272.645276,\n",
              "   'totalSupply': 120778272.645276,\n",
              "   'priceChange1h': 0.29,\n",
              "   'priceChange1d': -2.6,\n",
              "   'priceChange1w': -0.92,\n",
              "   'websiteUrl': 'https://www.ethereum.org/',\n",
              "   'twitterUrl': 'https://twitter.com/ethereum',\n",
              "   'contractAddress': '0x2170ed0880ac9a755fd29b2688956bd959f933f8',\n",
              "   'decimals': 18,\n",
              "   'exp': ['https://etherscan.io/',\n",
              "    'https://ethplorer.io/',\n",
              "    'https://blockchair.com/ethereum',\n",
              "    'https://eth.tokenview.io/']},\n",
              "  {'id': 'tether',\n",
              "   'icon': 'https://static.coinstats.app/coins/1650455771843.png',\n",
              "   'name': 'Tether',\n",
              "   'symbol': 'USDT',\n",
              "   'rank': 3,\n",
              "   'price': 0.9994863028553747,\n",
              "   'priceBtc': 5.2314211123522094e-05,\n",
              "   'volume': 56401864805.51686,\n",
              "   'marketCap': 67914519012.54634,\n",
              "   'availableSupply': 67949424437.859,\n",
              "   'totalSupply': 67949424437.859,\n",
              "   'priceChange1h': -0.06,\n",
              "   'priceChange1d': 0.04,\n",
              "   'priceChange1w': -0.01,\n",
              "   'websiteUrl': 'https://tether.to/',\n",
              "   'twitterUrl': 'https://twitter.com/Tether_to',\n",
              "   'contractAddress': '0xdac17f958d2ee523a2206206994597c13d831ec7',\n",
              "   'decimals': 18,\n",
              "   'exp': ['https://etherscan.io/token/0xdac17f958d2ee523a2206206994597c13d831ec7',\n",
              "    'https://ethplorer.io/address/0xdac17f958d2ee523a2206206994597c13d831ec7',\n",
              "    'https://snowtrace.io/token/0x9702230a8ea53601f5cd2dc00fdbc13d4df4a8c7',\n",
              "    'https://optimistic.etherscan.io/token/0x94b008aa00579c1307b0ef2c499ad98a8ce58e58',\n",
              "    'https://polygonscan.com/token/0xc2132d05d31c914a87c6611c10748aeb04b58e8f',\n",
              "    'https://bscscan.com/token/0x55d398326f99059ff775485246999027b3197955',\n",
              "    'https://usdt.tokenview.com/en',\n",
              "    'https://cronos-explorer.crypto.org/token/0x66e428c3f67a68878562e79a0234c1f83c208770',\n",
              "    'https://avascan.info/blockchain/c/address/0x9702230a8ea53601f5cd2dc00fdbc13d4df4a8c7/token',\n",
              "    'https://evmexplorer.velas.com/address/0xb44a9b6905af7c801311e8f4e76932ee959c663c']},\n",
              "  {'id': 'usd-coin',\n",
              "   'icon': 'https://static.coinstats.app/coins/1650455825065.png',\n",
              "   'name': 'USD Coin',\n",
              "   'symbol': 'USDC',\n",
              "   'rank': 4,\n",
              "   'price': 1,\n",
              "   'priceBtc': 5.2472870294940804e-05,\n",
              "   'volume': 2605795138,\n",
              "   'marketCap': 47367347868,\n",
              "   'availableSupply': 47325558825.7905,\n",
              "   'totalSupply': 47325566670.7886,\n",
              "   'priceChange1h': 0.07,\n",
              "   'priceChange1d': -0.02,\n",
              "   'priceChange1w': -0.09,\n",
              "   'websiteUrl': 'https://www.circle.com/en/usdc',\n",
              "   'twitterUrl': 'https://twitter.com/circlepay',\n",
              "   'contractAddress': '0xa0b86991c6218b36c1d19d4a2e9eb0ce3606eb48',\n",
              "   'decimals': 18,\n",
              "   'exp': ['https://etherscan.io/token/0xa0b86991c6218b36c1d19d4a2e9eb0ce3606eb48',\n",
              "    'https://ethplorer.io/address/0xa0b86991c6218b36c1d19d4a2e9eb0ce3606eb48',\n",
              "    'https://blockchair.com/ethereum/erc-20/token/0xa0b86991c6218b36c1d19d4a2e9eb0ce3606eb48',\n",
              "    'https://blockscout.com/poa/xdai/tokens/0xDDAfbb505ad214D7b80b1f830fcCc89B60fb7A83/token-transfers',\n",
              "    'https://polygonscan.com/token/0x2791bca1f2de4661ed88a30c99a7a9449aa84174',\n",
              "    'https://bscscan.com/token/0x8ac76a51cc950d9822d68b83fe1ad97b32cd580d',\n",
              "    'https://ftmscan.com/address/0x04068da6c83afcfa0e13ba15a6696662335d5b75',\n",
              "    'https://arbiscan.io/token/0xff970a61a04b1ca14834a43f5de4533ebddb5cc8',\n",
              "    'https://evmexplorer.velas.com/address/0x80a16016cc4a2e6a2caca8a4a498b1699ff0f844',\n",
              "    'https://stepscan.io/token/0xe3f5a90f9cb311505cd691a46596599aa1a0ad7d']},\n",
              "  {'id': 'binance-coin',\n",
              "   'icon': 'https://static.coinstats.app/coins/1650455799549.png',\n",
              "   'name': 'BNB',\n",
              "   'symbol': 'BNB',\n",
              "   'rank': 5,\n",
              "   'price': 285.8878722995799,\n",
              "   'priceBtc': 0.014963685311552365,\n",
              "   'volume': 2033557652.2626367,\n",
              "   'marketCap': 46678906872.483185,\n",
              "   'availableSupply': 163276974.63,\n",
              "   'totalSupply': 163276974.63,\n",
              "   'priceChange1h': 0.62,\n",
              "   'priceChange1d': 0.91,\n",
              "   'priceChange1w': 4.26,\n",
              "   'websiteUrl': 'https://www.binance.com/',\n",
              "   'twitterUrl': 'https://twitter.com/binance',\n",
              "   'contractAddress': 'BNB',\n",
              "   'decimals': 18,\n",
              "   'exp': ['https://binance.mintscan.io/',\n",
              "    'https://explorer.binance.org/',\n",
              "    'https://bscscan.com',\n",
              "    'https://blockscout.com/etc/mainnet/address/0x0dCb0CB0120d355CdE1ce56040be57Add0185BAa']},\n",
              "  {'id': 'ripple',\n",
              "   'icon': 'https://static.coinstats.app/coins/XRPdnqGJ.png',\n",
              "   'name': 'XRP',\n",
              "   'symbol': 'XRP',\n",
              "   'rank': 6,\n",
              "   'price': 0.45232969199176226,\n",
              "   'priceBtc': 2.3675433006628047e-05,\n",
              "   'volume': 2841755663.6792808,\n",
              "   'marketCap': 22571553088.226143,\n",
              "   'availableSupply': 49900666456,\n",
              "   'totalSupply': 99989286233,\n",
              "   'priceChange1h': 0.76,\n",
              "   'priceChange1d': -5.14,\n",
              "   'priceChange1w': -8.07,\n",
              "   'websiteUrl': 'https://ripple.com/currency/',\n",
              "   'twitterUrl': 'https://twitter.com/Ripple',\n",
              "   'contractAddress': '0x1d2f0da169ceb9fc7b3144628db156f3f6c60dbe',\n",
              "   'decimals': 18,\n",
              "   'exp': ['https://blockchair.com/ripple',\n",
              "    'https://xrpcharts.ripple.com',\n",
              "    'https://xrpscan.com/',\n",
              "    'https://bithomp.com/explorer/']},\n",
              "  {'id': 'binance-usd',\n",
              "   'icon': 'https://static.coinstats.app/coins/binance-usdcP4.png',\n",
              "   'name': 'Binance USD',\n",
              "   'symbol': 'BUSD',\n",
              "   'rank': 7,\n",
              "   'price': 1.002,\n",
              "   'priceBtc': 5.257781603553068e-05,\n",
              "   'volume': 4823277634,\n",
              "   'marketCap': 20945108386,\n",
              "   'availableSupply': 20890678355.9,\n",
              "   'totalSupply': 20890678355.9,\n",
              "   'priceChange1h': 0.7,\n",
              "   'priceChange1d': 0.13,\n",
              "   'priceChange1w': 0,\n",
              "   'websiteUrl': 'https://www.paxos.com/busd/',\n",
              "   'twitterUrl': 'https://twitter.com/PaxosGlobal',\n",
              "   'contractAddress': '0x4Fabb145d64652a948d72533023f6E7A623C7C53',\n",
              "   'decimals': 18,\n",
              "   'exp': ['https://etherscan.io/token/0x4Fabb145d64652a948d72533023f6E7A623C7C53',\n",
              "    'https://ethplorer.io/address/0x4Fabb145d64652a948d72533023f6E7A623C7C53',\n",
              "    'https://explorer.binance.org/asset/BUSD-BD1',\n",
              "    'https://bscscan.com/token/0xe9e7cea3dedca5984780bafc599bd69add087d56',\n",
              "    'https://polygonscan.com/token/0xdab529f40e671a1d4bf91361c21bf9f0c9712ab7',\n",
              "    'https://snowtrace.io/token/0x19860ccb0a68fd4213ab9d8266f7bbf05a8dde98',\n",
              "    'https://moonriver.moonscan.io/token/0x5d9ab5522c64e1f6ef5e3627eccc093f56167818',\n",
              "    'https://cronos.org/explorer/token/0xC74D59A548ecf7fc1754bb7810D716E9Ac3e3AE5/token-transfers',\n",
              "    'https://explorer.fuse.io/token/0x6a5f6a8121592becd6747a38d67451b310f7f156',\n",
              "    'https://scan.meter.io/address/0x24aa189dfaa76c671c279262f94434770f557c35']},\n",
              "  {'id': 'cardano',\n",
              "   'icon': 'https://static.coinstats.app/coins/CardanojXddT.png',\n",
              "   'name': 'Cardano',\n",
              "   'symbol': 'ADA',\n",
              "   'rank': 8,\n",
              "   'price': 0.4207999056201455,\n",
              "   'priceBtc': 2.202512934942727e-05,\n",
              "   'volume': 701939145.4949912,\n",
              "   'marketCap': 14231563286.542704,\n",
              "   'availableSupply': 33820262543.95,\n",
              "   'totalSupply': 45000000000,\n",
              "   'priceChange1h': 0.32,\n",
              "   'priceChange1d': -2.35,\n",
              "   'priceChange1w': -5.73,\n",
              "   'websiteUrl': 'https://www.cardano.org/en/home/',\n",
              "   'twitterUrl': 'https://twitter.com/CardanoStiftung',\n",
              "   'contractAddress': '0x3ee2200efb3400fabb9aacf31297cbdd1d435d47',\n",
              "   'decimals': 18,\n",
              "   'exp': ['https://cardanoscan.io/',\n",
              "    'https://cardanoexplorer.com/',\n",
              "    'https://blockchair.com/cardano',\n",
              "    'https://adaex.org/',\n",
              "    'https://adastat.net/',\n",
              "    'https://ada.tokenview.io/']},\n",
              "  {'id': 'solana',\n",
              "   'icon': 'https://static.coinstats.app/coins/solanambZ.png',\n",
              "   'name': 'Solana',\n",
              "   'symbol': 'SOL',\n",
              "   'rank': 9,\n",
              "   'price': 32.11979239779568,\n",
              "   'priceBtc': 0.001681185220789489,\n",
              "   'volume': 1438012006.7007804,\n",
              "   'marketCap': 11415897442.080736,\n",
              "   'availableSupply': 355416289.766063,\n",
              "   'totalSupply': 508180963.57,\n",
              "   'priceChange1h': 0.12,\n",
              "   'priceChange1d': -2.06,\n",
              "   'priceChange1w': -0.59,\n",
              "   'websiteUrl': 'https://solana.com/',\n",
              "   'twitterUrl': 'https://twitter.com/solana',\n",
              "   'contractAddress': '0x7dff46370e9ea5f0bad3c4e29711ad50062ea7a4',\n",
              "   'decimals': 18,\n",
              "   'exp': ['https://solscan.io/',\n",
              "    'https://explorer.solana.com/',\n",
              "    'https://solanabeach.io/',\n",
              "    'https://solana.fm/']},\n",
              "  {'id': 'dogecoin',\n",
              "   'icon': 'https://static.coinstats.app/coins/DogecoinIZai5.png',\n",
              "   'name': 'Dogecoin',\n",
              "   'symbol': 'DOGE',\n",
              "   'rank': 10,\n",
              "   'price': 0.059493000113634474,\n",
              "   'priceBtc': 3.1139289847444272e-06,\n",
              "   'volume': 545048955.0975317,\n",
              "   'marketCap': 7892981795.569566,\n",
              "   'availableSupply': 132670764299.894,\n",
              "   'totalSupply': 0,\n",
              "   'priceChange1h': 0.54,\n",
              "   'priceChange1d': -2.1,\n",
              "   'priceChange1w': -2.81,\n",
              "   'websiteUrl': 'http://dogecoin.com/',\n",
              "   'redditUrl': 'https://www.reddit.com/r/dogecoin',\n",
              "   'twitterUrl': 'https://twitter.com/dogecoin',\n",
              "   'contractAddress': '0xba2ae424d960c26247dd6c32edc70b295c744c43',\n",
              "   'decimals': 18,\n",
              "   'exp': ['https://blockchair.com/dogecoin',\n",
              "    'https://doge.tokenview.io/',\n",
              "    'http://dogechain.info/chain/Dogecoin']}]}"
            ]
          },
          "metadata": {},
          "execution_count": 57
        }
      ]
    },
    {
      "cell_type": "code",
      "source": [
        "results2['coins']"
      ],
      "metadata": {
        "colab": {
          "base_uri": "https://localhost:8080/"
        },
        "id": "Pziw9HcBRE6K",
        "outputId": "357342f3-c31e-49cf-ee13-83667e0d98c3"
      },
      "execution_count": 58,
      "outputs": [
        {
          "output_type": "execute_result",
          "data": {
            "text/plain": [
              "[{'id': 'bitcoin',\n",
              "  'icon': 'https://static.coinstats.app/coins/1650455588819.png',\n",
              "  'name': 'Bitcoin',\n",
              "  'symbol': 'BTC',\n",
              "  'rank': 1,\n",
              "  'price': 19122.843422740094,\n",
              "  'priceBtc': 1,\n",
              "  'volume': 24627331590.05804,\n",
              "  'marketCap': 366535533232.2101,\n",
              "  'availableSupply': 19167418,\n",
              "  'totalSupply': 21000000,\n",
              "  'priceChange1h': 0.65,\n",
              "  'priceChange1d': -1.06,\n",
              "  'priceChange1w': 1.69,\n",
              "  'websiteUrl': 'http://www.bitcoin.org',\n",
              "  'twitterUrl': 'https://twitter.com/bitcoin',\n",
              "  'exp': ['https://blockchair.com/bitcoin/',\n",
              "   'https://btc.com/',\n",
              "   'https://btc.tokenview.io/']},\n",
              " {'id': 'ethereum',\n",
              "  'icon': 'https://static.coinstats.app/coins/1650455629727.png',\n",
              "  'name': 'Ethereum',\n",
              "  'symbol': 'ETH',\n",
              "  'rank': 2,\n",
              "  'price': 1282.4406121605628,\n",
              "  'priceBtc': 0.0671243505251462,\n",
              "  'volume': 21035764591.36413,\n",
              "  'marketCap': 154890961906.9031,\n",
              "  'availableSupply': 120778272.645276,\n",
              "  'totalSupply': 120778272.645276,\n",
              "  'priceChange1h': 0.29,\n",
              "  'priceChange1d': -2.6,\n",
              "  'priceChange1w': -0.92,\n",
              "  'websiteUrl': 'https://www.ethereum.org/',\n",
              "  'twitterUrl': 'https://twitter.com/ethereum',\n",
              "  'contractAddress': '0x2170ed0880ac9a755fd29b2688956bd959f933f8',\n",
              "  'decimals': 18,\n",
              "  'exp': ['https://etherscan.io/',\n",
              "   'https://ethplorer.io/',\n",
              "   'https://blockchair.com/ethereum',\n",
              "   'https://eth.tokenview.io/']},\n",
              " {'id': 'tether',\n",
              "  'icon': 'https://static.coinstats.app/coins/1650455771843.png',\n",
              "  'name': 'Tether',\n",
              "  'symbol': 'USDT',\n",
              "  'rank': 3,\n",
              "  'price': 0.9994863028553747,\n",
              "  'priceBtc': 5.2314211123522094e-05,\n",
              "  'volume': 56401864805.51686,\n",
              "  'marketCap': 67914519012.54634,\n",
              "  'availableSupply': 67949424437.859,\n",
              "  'totalSupply': 67949424437.859,\n",
              "  'priceChange1h': -0.06,\n",
              "  'priceChange1d': 0.04,\n",
              "  'priceChange1w': -0.01,\n",
              "  'websiteUrl': 'https://tether.to/',\n",
              "  'twitterUrl': 'https://twitter.com/Tether_to',\n",
              "  'contractAddress': '0xdac17f958d2ee523a2206206994597c13d831ec7',\n",
              "  'decimals': 18,\n",
              "  'exp': ['https://etherscan.io/token/0xdac17f958d2ee523a2206206994597c13d831ec7',\n",
              "   'https://ethplorer.io/address/0xdac17f958d2ee523a2206206994597c13d831ec7',\n",
              "   'https://snowtrace.io/token/0x9702230a8ea53601f5cd2dc00fdbc13d4df4a8c7',\n",
              "   'https://optimistic.etherscan.io/token/0x94b008aa00579c1307b0ef2c499ad98a8ce58e58',\n",
              "   'https://polygonscan.com/token/0xc2132d05d31c914a87c6611c10748aeb04b58e8f',\n",
              "   'https://bscscan.com/token/0x55d398326f99059ff775485246999027b3197955',\n",
              "   'https://usdt.tokenview.com/en',\n",
              "   'https://cronos-explorer.crypto.org/token/0x66e428c3f67a68878562e79a0234c1f83c208770',\n",
              "   'https://avascan.info/blockchain/c/address/0x9702230a8ea53601f5cd2dc00fdbc13d4df4a8c7/token',\n",
              "   'https://evmexplorer.velas.com/address/0xb44a9b6905af7c801311e8f4e76932ee959c663c']},\n",
              " {'id': 'usd-coin',\n",
              "  'icon': 'https://static.coinstats.app/coins/1650455825065.png',\n",
              "  'name': 'USD Coin',\n",
              "  'symbol': 'USDC',\n",
              "  'rank': 4,\n",
              "  'price': 1,\n",
              "  'priceBtc': 5.2472870294940804e-05,\n",
              "  'volume': 2605795138,\n",
              "  'marketCap': 47367347868,\n",
              "  'availableSupply': 47325558825.7905,\n",
              "  'totalSupply': 47325566670.7886,\n",
              "  'priceChange1h': 0.07,\n",
              "  'priceChange1d': -0.02,\n",
              "  'priceChange1w': -0.09,\n",
              "  'websiteUrl': 'https://www.circle.com/en/usdc',\n",
              "  'twitterUrl': 'https://twitter.com/circlepay',\n",
              "  'contractAddress': '0xa0b86991c6218b36c1d19d4a2e9eb0ce3606eb48',\n",
              "  'decimals': 18,\n",
              "  'exp': ['https://etherscan.io/token/0xa0b86991c6218b36c1d19d4a2e9eb0ce3606eb48',\n",
              "   'https://ethplorer.io/address/0xa0b86991c6218b36c1d19d4a2e9eb0ce3606eb48',\n",
              "   'https://blockchair.com/ethereum/erc-20/token/0xa0b86991c6218b36c1d19d4a2e9eb0ce3606eb48',\n",
              "   'https://blockscout.com/poa/xdai/tokens/0xDDAfbb505ad214D7b80b1f830fcCc89B60fb7A83/token-transfers',\n",
              "   'https://polygonscan.com/token/0x2791bca1f2de4661ed88a30c99a7a9449aa84174',\n",
              "   'https://bscscan.com/token/0x8ac76a51cc950d9822d68b83fe1ad97b32cd580d',\n",
              "   'https://ftmscan.com/address/0x04068da6c83afcfa0e13ba15a6696662335d5b75',\n",
              "   'https://arbiscan.io/token/0xff970a61a04b1ca14834a43f5de4533ebddb5cc8',\n",
              "   'https://evmexplorer.velas.com/address/0x80a16016cc4a2e6a2caca8a4a498b1699ff0f844',\n",
              "   'https://stepscan.io/token/0xe3f5a90f9cb311505cd691a46596599aa1a0ad7d']},\n",
              " {'id': 'binance-coin',\n",
              "  'icon': 'https://static.coinstats.app/coins/1650455799549.png',\n",
              "  'name': 'BNB',\n",
              "  'symbol': 'BNB',\n",
              "  'rank': 5,\n",
              "  'price': 285.8878722995799,\n",
              "  'priceBtc': 0.014963685311552365,\n",
              "  'volume': 2033557652.2626367,\n",
              "  'marketCap': 46678906872.483185,\n",
              "  'availableSupply': 163276974.63,\n",
              "  'totalSupply': 163276974.63,\n",
              "  'priceChange1h': 0.62,\n",
              "  'priceChange1d': 0.91,\n",
              "  'priceChange1w': 4.26,\n",
              "  'websiteUrl': 'https://www.binance.com/',\n",
              "  'twitterUrl': 'https://twitter.com/binance',\n",
              "  'contractAddress': 'BNB',\n",
              "  'decimals': 18,\n",
              "  'exp': ['https://binance.mintscan.io/',\n",
              "   'https://explorer.binance.org/',\n",
              "   'https://bscscan.com',\n",
              "   'https://blockscout.com/etc/mainnet/address/0x0dCb0CB0120d355CdE1ce56040be57Add0185BAa']},\n",
              " {'id': 'ripple',\n",
              "  'icon': 'https://static.coinstats.app/coins/XRPdnqGJ.png',\n",
              "  'name': 'XRP',\n",
              "  'symbol': 'XRP',\n",
              "  'rank': 6,\n",
              "  'price': 0.45232969199176226,\n",
              "  'priceBtc': 2.3675433006628047e-05,\n",
              "  'volume': 2841755663.6792808,\n",
              "  'marketCap': 22571553088.226143,\n",
              "  'availableSupply': 49900666456,\n",
              "  'totalSupply': 99989286233,\n",
              "  'priceChange1h': 0.76,\n",
              "  'priceChange1d': -5.14,\n",
              "  'priceChange1w': -8.07,\n",
              "  'websiteUrl': 'https://ripple.com/currency/',\n",
              "  'twitterUrl': 'https://twitter.com/Ripple',\n",
              "  'contractAddress': '0x1d2f0da169ceb9fc7b3144628db156f3f6c60dbe',\n",
              "  'decimals': 18,\n",
              "  'exp': ['https://blockchair.com/ripple',\n",
              "   'https://xrpcharts.ripple.com',\n",
              "   'https://xrpscan.com/',\n",
              "   'https://bithomp.com/explorer/']},\n",
              " {'id': 'binance-usd',\n",
              "  'icon': 'https://static.coinstats.app/coins/binance-usdcP4.png',\n",
              "  'name': 'Binance USD',\n",
              "  'symbol': 'BUSD',\n",
              "  'rank': 7,\n",
              "  'price': 1.002,\n",
              "  'priceBtc': 5.257781603553068e-05,\n",
              "  'volume': 4823277634,\n",
              "  'marketCap': 20945108386,\n",
              "  'availableSupply': 20890678355.9,\n",
              "  'totalSupply': 20890678355.9,\n",
              "  'priceChange1h': 0.7,\n",
              "  'priceChange1d': 0.13,\n",
              "  'priceChange1w': 0,\n",
              "  'websiteUrl': 'https://www.paxos.com/busd/',\n",
              "  'twitterUrl': 'https://twitter.com/PaxosGlobal',\n",
              "  'contractAddress': '0x4Fabb145d64652a948d72533023f6E7A623C7C53',\n",
              "  'decimals': 18,\n",
              "  'exp': ['https://etherscan.io/token/0x4Fabb145d64652a948d72533023f6E7A623C7C53',\n",
              "   'https://ethplorer.io/address/0x4Fabb145d64652a948d72533023f6E7A623C7C53',\n",
              "   'https://explorer.binance.org/asset/BUSD-BD1',\n",
              "   'https://bscscan.com/token/0xe9e7cea3dedca5984780bafc599bd69add087d56',\n",
              "   'https://polygonscan.com/token/0xdab529f40e671a1d4bf91361c21bf9f0c9712ab7',\n",
              "   'https://snowtrace.io/token/0x19860ccb0a68fd4213ab9d8266f7bbf05a8dde98',\n",
              "   'https://moonriver.moonscan.io/token/0x5d9ab5522c64e1f6ef5e3627eccc093f56167818',\n",
              "   'https://cronos.org/explorer/token/0xC74D59A548ecf7fc1754bb7810D716E9Ac3e3AE5/token-transfers',\n",
              "   'https://explorer.fuse.io/token/0x6a5f6a8121592becd6747a38d67451b310f7f156',\n",
              "   'https://scan.meter.io/address/0x24aa189dfaa76c671c279262f94434770f557c35']},\n",
              " {'id': 'cardano',\n",
              "  'icon': 'https://static.coinstats.app/coins/CardanojXddT.png',\n",
              "  'name': 'Cardano',\n",
              "  'symbol': 'ADA',\n",
              "  'rank': 8,\n",
              "  'price': 0.4207999056201455,\n",
              "  'priceBtc': 2.202512934942727e-05,\n",
              "  'volume': 701939145.4949912,\n",
              "  'marketCap': 14231563286.542704,\n",
              "  'availableSupply': 33820262543.95,\n",
              "  'totalSupply': 45000000000,\n",
              "  'priceChange1h': 0.32,\n",
              "  'priceChange1d': -2.35,\n",
              "  'priceChange1w': -5.73,\n",
              "  'websiteUrl': 'https://www.cardano.org/en/home/',\n",
              "  'twitterUrl': 'https://twitter.com/CardanoStiftung',\n",
              "  'contractAddress': '0x3ee2200efb3400fabb9aacf31297cbdd1d435d47',\n",
              "  'decimals': 18,\n",
              "  'exp': ['https://cardanoscan.io/',\n",
              "   'https://cardanoexplorer.com/',\n",
              "   'https://blockchair.com/cardano',\n",
              "   'https://adaex.org/',\n",
              "   'https://adastat.net/',\n",
              "   'https://ada.tokenview.io/']},\n",
              " {'id': 'solana',\n",
              "  'icon': 'https://static.coinstats.app/coins/solanambZ.png',\n",
              "  'name': 'Solana',\n",
              "  'symbol': 'SOL',\n",
              "  'rank': 9,\n",
              "  'price': 32.11979239779568,\n",
              "  'priceBtc': 0.001681185220789489,\n",
              "  'volume': 1438012006.7007804,\n",
              "  'marketCap': 11415897442.080736,\n",
              "  'availableSupply': 355416289.766063,\n",
              "  'totalSupply': 508180963.57,\n",
              "  'priceChange1h': 0.12,\n",
              "  'priceChange1d': -2.06,\n",
              "  'priceChange1w': -0.59,\n",
              "  'websiteUrl': 'https://solana.com/',\n",
              "  'twitterUrl': 'https://twitter.com/solana',\n",
              "  'contractAddress': '0x7dff46370e9ea5f0bad3c4e29711ad50062ea7a4',\n",
              "  'decimals': 18,\n",
              "  'exp': ['https://solscan.io/',\n",
              "   'https://explorer.solana.com/',\n",
              "   'https://solanabeach.io/',\n",
              "   'https://solana.fm/']},\n",
              " {'id': 'dogecoin',\n",
              "  'icon': 'https://static.coinstats.app/coins/DogecoinIZai5.png',\n",
              "  'name': 'Dogecoin',\n",
              "  'symbol': 'DOGE',\n",
              "  'rank': 10,\n",
              "  'price': 0.059493000113634474,\n",
              "  'priceBtc': 3.1139289847444272e-06,\n",
              "  'volume': 545048955.0975317,\n",
              "  'marketCap': 7892981795.569566,\n",
              "  'availableSupply': 132670764299.894,\n",
              "  'totalSupply': 0,\n",
              "  'priceChange1h': 0.54,\n",
              "  'priceChange1d': -2.1,\n",
              "  'priceChange1w': -2.81,\n",
              "  'websiteUrl': 'http://dogecoin.com/',\n",
              "  'redditUrl': 'https://www.reddit.com/r/dogecoin',\n",
              "  'twitterUrl': 'https://twitter.com/dogecoin',\n",
              "  'contractAddress': '0xba2ae424d960c26247dd6c32edc70b295c744c43',\n",
              "  'decimals': 18,\n",
              "  'exp': ['https://blockchair.com/dogecoin',\n",
              "   'https://doge.tokenview.io/',\n",
              "   'http://dogechain.info/chain/Dogecoin']}]"
            ]
          },
          "metadata": {},
          "execution_count": 58
        }
      ]
    },
    {
      "cell_type": "code",
      "source": [
        "# 3. Convert json data into pandas data frame.\n",
        "df3 = pd.DataFrame(results2['coins'])\n",
        "df3"
      ],
      "metadata": {
        "colab": {
          "base_uri": "https://localhost:8080/",
          "height": 601
        },
        "id": "cIlq488MOhQX",
        "outputId": "c82da60c-4abf-4e33-f7fa-6379fc5055d1"
      },
      "execution_count": 59,
      "outputs": [
        {
          "output_type": "execute_result",
          "data": {
            "text/plain": [
              "             id                                               icon  \\\n",
              "0       bitcoin  https://static.coinstats.app/coins/16504555888...   \n",
              "1      ethereum  https://static.coinstats.app/coins/16504556297...   \n",
              "2        tether  https://static.coinstats.app/coins/16504557718...   \n",
              "3      usd-coin  https://static.coinstats.app/coins/16504558250...   \n",
              "4  binance-coin  https://static.coinstats.app/coins/16504557995...   \n",
              "5        ripple    https://static.coinstats.app/coins/XRPdnqGJ.png   \n",
              "6   binance-usd  https://static.coinstats.app/coins/binance-usd...   \n",
              "7       cardano  https://static.coinstats.app/coins/CardanojXdd...   \n",
              "8        solana   https://static.coinstats.app/coins/solanambZ.png   \n",
              "9      dogecoin  https://static.coinstats.app/coins/DogecoinIZa...   \n",
              "\n",
              "          name symbol  rank         price  priceBtc        volume  \\\n",
              "0      Bitcoin    BTC     1  19122.843423  1.000000  2.462733e+10   \n",
              "1     Ethereum    ETH     2   1282.440612  0.067124  2.103576e+10   \n",
              "2       Tether   USDT     3      0.999486  0.000052  5.640186e+10   \n",
              "3     USD Coin   USDC     4      1.000000  0.000052  2.605795e+09   \n",
              "4          BNB    BNB     5    285.887872  0.014964  2.033558e+09   \n",
              "5          XRP    XRP     6      0.452330  0.000024  2.841756e+09   \n",
              "6  Binance USD   BUSD     7      1.002000  0.000053  4.823278e+09   \n",
              "7      Cardano    ADA     8      0.420800  0.000022  7.019391e+08   \n",
              "8       Solana    SOL     9     32.119792  0.001681  1.438012e+09   \n",
              "9     Dogecoin   DOGE    10      0.059493  0.000003  5.450490e+08   \n",
              "\n",
              "      marketCap  availableSupply   totalSupply  priceChange1h  priceChange1d  \\\n",
              "0  3.665355e+11     1.916742e+07  2.100000e+07           0.65          -1.06   \n",
              "1  1.548910e+11     1.207783e+08  1.207783e+08           0.29          -2.60   \n",
              "2  6.791452e+10     6.794942e+10  6.794942e+10          -0.06           0.04   \n",
              "3  4.736735e+10     4.732556e+10  4.732557e+10           0.07          -0.02   \n",
              "4  4.667891e+10     1.632770e+08  1.632770e+08           0.62           0.91   \n",
              "5  2.257155e+10     4.990067e+10  9.998929e+10           0.76          -5.14   \n",
              "6  2.094511e+10     2.089068e+10  2.089068e+10           0.70           0.13   \n",
              "7  1.423156e+10     3.382026e+10  4.500000e+10           0.32          -2.35   \n",
              "8  1.141590e+10     3.554163e+08  5.081810e+08           0.12          -2.06   \n",
              "9  7.892982e+09     1.326708e+11  0.000000e+00           0.54          -2.10   \n",
              "\n",
              "   priceChange1w                        websiteUrl  \\\n",
              "0           1.69            http://www.bitcoin.org   \n",
              "1          -0.92         https://www.ethereum.org/   \n",
              "2          -0.01                https://tether.to/   \n",
              "3          -0.09    https://www.circle.com/en/usdc   \n",
              "4           4.26          https://www.binance.com/   \n",
              "5          -8.07      https://ripple.com/currency/   \n",
              "6           0.00       https://www.paxos.com/busd/   \n",
              "7          -5.73  https://www.cardano.org/en/home/   \n",
              "8          -0.59               https://solana.com/   \n",
              "9          -2.81              http://dogecoin.com/   \n",
              "\n",
              "                            twitterUrl  \\\n",
              "0          https://twitter.com/bitcoin   \n",
              "1         https://twitter.com/ethereum   \n",
              "2        https://twitter.com/Tether_to   \n",
              "3        https://twitter.com/circlepay   \n",
              "4          https://twitter.com/binance   \n",
              "5           https://twitter.com/Ripple   \n",
              "6      https://twitter.com/PaxosGlobal   \n",
              "7  https://twitter.com/CardanoStiftung   \n",
              "8           https://twitter.com/solana   \n",
              "9         https://twitter.com/dogecoin   \n",
              "\n",
              "                                                 exp  \\\n",
              "0  [https://blockchair.com/bitcoin/, https://btc....   \n",
              "1  [https://etherscan.io/, https://ethplorer.io/,...   \n",
              "2  [https://etherscan.io/token/0xdac17f958d2ee523...   \n",
              "3  [https://etherscan.io/token/0xa0b86991c6218b36...   \n",
              "4  [https://binance.mintscan.io/, https://explore...   \n",
              "5  [https://blockchair.com/ripple, https://xrpcha...   \n",
              "6  [https://etherscan.io/token/0x4Fabb145d64652a9...   \n",
              "7  [https://cardanoscan.io/, https://cardanoexplo...   \n",
              "8  [https://solscan.io/, https://explorer.solana....   \n",
              "9  [https://blockchair.com/dogecoin, https://doge...   \n",
              "\n",
              "                              contractAddress  decimals  \\\n",
              "0                                         NaN       NaN   \n",
              "1  0x2170ed0880ac9a755fd29b2688956bd959f933f8      18.0   \n",
              "2  0xdac17f958d2ee523a2206206994597c13d831ec7      18.0   \n",
              "3  0xa0b86991c6218b36c1d19d4a2e9eb0ce3606eb48      18.0   \n",
              "4                                         BNB      18.0   \n",
              "5  0x1d2f0da169ceb9fc7b3144628db156f3f6c60dbe      18.0   \n",
              "6  0x4Fabb145d64652a948d72533023f6E7A623C7C53      18.0   \n",
              "7  0x3ee2200efb3400fabb9aacf31297cbdd1d435d47      18.0   \n",
              "8  0x7dff46370e9ea5f0bad3c4e29711ad50062ea7a4      18.0   \n",
              "9  0xba2ae424d960c26247dd6c32edc70b295c744c43      18.0   \n",
              "\n",
              "                           redditUrl  \n",
              "0                                NaN  \n",
              "1                                NaN  \n",
              "2                                NaN  \n",
              "3                                NaN  \n",
              "4                                NaN  \n",
              "5                                NaN  \n",
              "6                                NaN  \n",
              "7                                NaN  \n",
              "8                                NaN  \n",
              "9  https://www.reddit.com/r/dogecoin  "
            ],
            "text/html": [
              "\n",
              "  <div id=\"df-12a95924-cbe6-45ba-a32d-996734e4dfda\">\n",
              "    <div class=\"colab-df-container\">\n",
              "      <div>\n",
              "<style scoped>\n",
              "    .dataframe tbody tr th:only-of-type {\n",
              "        vertical-align: middle;\n",
              "    }\n",
              "\n",
              "    .dataframe tbody tr th {\n",
              "        vertical-align: top;\n",
              "    }\n",
              "\n",
              "    .dataframe thead th {\n",
              "        text-align: right;\n",
              "    }\n",
              "</style>\n",
              "<table border=\"1\" class=\"dataframe\">\n",
              "  <thead>\n",
              "    <tr style=\"text-align: right;\">\n",
              "      <th></th>\n",
              "      <th>id</th>\n",
              "      <th>icon</th>\n",
              "      <th>name</th>\n",
              "      <th>symbol</th>\n",
              "      <th>rank</th>\n",
              "      <th>price</th>\n",
              "      <th>priceBtc</th>\n",
              "      <th>volume</th>\n",
              "      <th>marketCap</th>\n",
              "      <th>availableSupply</th>\n",
              "      <th>totalSupply</th>\n",
              "      <th>priceChange1h</th>\n",
              "      <th>priceChange1d</th>\n",
              "      <th>priceChange1w</th>\n",
              "      <th>websiteUrl</th>\n",
              "      <th>twitterUrl</th>\n",
              "      <th>exp</th>\n",
              "      <th>contractAddress</th>\n",
              "      <th>decimals</th>\n",
              "      <th>redditUrl</th>\n",
              "    </tr>\n",
              "  </thead>\n",
              "  <tbody>\n",
              "    <tr>\n",
              "      <th>0</th>\n",
              "      <td>bitcoin</td>\n",
              "      <td>https://static.coinstats.app/coins/16504555888...</td>\n",
              "      <td>Bitcoin</td>\n",
              "      <td>BTC</td>\n",
              "      <td>1</td>\n",
              "      <td>19122.843423</td>\n",
              "      <td>1.000000</td>\n",
              "      <td>2.462733e+10</td>\n",
              "      <td>3.665355e+11</td>\n",
              "      <td>1.916742e+07</td>\n",
              "      <td>2.100000e+07</td>\n",
              "      <td>0.65</td>\n",
              "      <td>-1.06</td>\n",
              "      <td>1.69</td>\n",
              "      <td>http://www.bitcoin.org</td>\n",
              "      <td>https://twitter.com/bitcoin</td>\n",
              "      <td>[https://blockchair.com/bitcoin/, https://btc....</td>\n",
              "      <td>NaN</td>\n",
              "      <td>NaN</td>\n",
              "      <td>NaN</td>\n",
              "    </tr>\n",
              "    <tr>\n",
              "      <th>1</th>\n",
              "      <td>ethereum</td>\n",
              "      <td>https://static.coinstats.app/coins/16504556297...</td>\n",
              "      <td>Ethereum</td>\n",
              "      <td>ETH</td>\n",
              "      <td>2</td>\n",
              "      <td>1282.440612</td>\n",
              "      <td>0.067124</td>\n",
              "      <td>2.103576e+10</td>\n",
              "      <td>1.548910e+11</td>\n",
              "      <td>1.207783e+08</td>\n",
              "      <td>1.207783e+08</td>\n",
              "      <td>0.29</td>\n",
              "      <td>-2.60</td>\n",
              "      <td>-0.92</td>\n",
              "      <td>https://www.ethereum.org/</td>\n",
              "      <td>https://twitter.com/ethereum</td>\n",
              "      <td>[https://etherscan.io/, https://ethplorer.io/,...</td>\n",
              "      <td>0x2170ed0880ac9a755fd29b2688956bd959f933f8</td>\n",
              "      <td>18.0</td>\n",
              "      <td>NaN</td>\n",
              "    </tr>\n",
              "    <tr>\n",
              "      <th>2</th>\n",
              "      <td>tether</td>\n",
              "      <td>https://static.coinstats.app/coins/16504557718...</td>\n",
              "      <td>Tether</td>\n",
              "      <td>USDT</td>\n",
              "      <td>3</td>\n",
              "      <td>0.999486</td>\n",
              "      <td>0.000052</td>\n",
              "      <td>5.640186e+10</td>\n",
              "      <td>6.791452e+10</td>\n",
              "      <td>6.794942e+10</td>\n",
              "      <td>6.794942e+10</td>\n",
              "      <td>-0.06</td>\n",
              "      <td>0.04</td>\n",
              "      <td>-0.01</td>\n",
              "      <td>https://tether.to/</td>\n",
              "      <td>https://twitter.com/Tether_to</td>\n",
              "      <td>[https://etherscan.io/token/0xdac17f958d2ee523...</td>\n",
              "      <td>0xdac17f958d2ee523a2206206994597c13d831ec7</td>\n",
              "      <td>18.0</td>\n",
              "      <td>NaN</td>\n",
              "    </tr>\n",
              "    <tr>\n",
              "      <th>3</th>\n",
              "      <td>usd-coin</td>\n",
              "      <td>https://static.coinstats.app/coins/16504558250...</td>\n",
              "      <td>USD Coin</td>\n",
              "      <td>USDC</td>\n",
              "      <td>4</td>\n",
              "      <td>1.000000</td>\n",
              "      <td>0.000052</td>\n",
              "      <td>2.605795e+09</td>\n",
              "      <td>4.736735e+10</td>\n",
              "      <td>4.732556e+10</td>\n",
              "      <td>4.732557e+10</td>\n",
              "      <td>0.07</td>\n",
              "      <td>-0.02</td>\n",
              "      <td>-0.09</td>\n",
              "      <td>https://www.circle.com/en/usdc</td>\n",
              "      <td>https://twitter.com/circlepay</td>\n",
              "      <td>[https://etherscan.io/token/0xa0b86991c6218b36...</td>\n",
              "      <td>0xa0b86991c6218b36c1d19d4a2e9eb0ce3606eb48</td>\n",
              "      <td>18.0</td>\n",
              "      <td>NaN</td>\n",
              "    </tr>\n",
              "    <tr>\n",
              "      <th>4</th>\n",
              "      <td>binance-coin</td>\n",
              "      <td>https://static.coinstats.app/coins/16504557995...</td>\n",
              "      <td>BNB</td>\n",
              "      <td>BNB</td>\n",
              "      <td>5</td>\n",
              "      <td>285.887872</td>\n",
              "      <td>0.014964</td>\n",
              "      <td>2.033558e+09</td>\n",
              "      <td>4.667891e+10</td>\n",
              "      <td>1.632770e+08</td>\n",
              "      <td>1.632770e+08</td>\n",
              "      <td>0.62</td>\n",
              "      <td>0.91</td>\n",
              "      <td>4.26</td>\n",
              "      <td>https://www.binance.com/</td>\n",
              "      <td>https://twitter.com/binance</td>\n",
              "      <td>[https://binance.mintscan.io/, https://explore...</td>\n",
              "      <td>BNB</td>\n",
              "      <td>18.0</td>\n",
              "      <td>NaN</td>\n",
              "    </tr>\n",
              "    <tr>\n",
              "      <th>5</th>\n",
              "      <td>ripple</td>\n",
              "      <td>https://static.coinstats.app/coins/XRPdnqGJ.png</td>\n",
              "      <td>XRP</td>\n",
              "      <td>XRP</td>\n",
              "      <td>6</td>\n",
              "      <td>0.452330</td>\n",
              "      <td>0.000024</td>\n",
              "      <td>2.841756e+09</td>\n",
              "      <td>2.257155e+10</td>\n",
              "      <td>4.990067e+10</td>\n",
              "      <td>9.998929e+10</td>\n",
              "      <td>0.76</td>\n",
              "      <td>-5.14</td>\n",
              "      <td>-8.07</td>\n",
              "      <td>https://ripple.com/currency/</td>\n",
              "      <td>https://twitter.com/Ripple</td>\n",
              "      <td>[https://blockchair.com/ripple, https://xrpcha...</td>\n",
              "      <td>0x1d2f0da169ceb9fc7b3144628db156f3f6c60dbe</td>\n",
              "      <td>18.0</td>\n",
              "      <td>NaN</td>\n",
              "    </tr>\n",
              "    <tr>\n",
              "      <th>6</th>\n",
              "      <td>binance-usd</td>\n",
              "      <td>https://static.coinstats.app/coins/binance-usd...</td>\n",
              "      <td>Binance USD</td>\n",
              "      <td>BUSD</td>\n",
              "      <td>7</td>\n",
              "      <td>1.002000</td>\n",
              "      <td>0.000053</td>\n",
              "      <td>4.823278e+09</td>\n",
              "      <td>2.094511e+10</td>\n",
              "      <td>2.089068e+10</td>\n",
              "      <td>2.089068e+10</td>\n",
              "      <td>0.70</td>\n",
              "      <td>0.13</td>\n",
              "      <td>0.00</td>\n",
              "      <td>https://www.paxos.com/busd/</td>\n",
              "      <td>https://twitter.com/PaxosGlobal</td>\n",
              "      <td>[https://etherscan.io/token/0x4Fabb145d64652a9...</td>\n",
              "      <td>0x4Fabb145d64652a948d72533023f6E7A623C7C53</td>\n",
              "      <td>18.0</td>\n",
              "      <td>NaN</td>\n",
              "    </tr>\n",
              "    <tr>\n",
              "      <th>7</th>\n",
              "      <td>cardano</td>\n",
              "      <td>https://static.coinstats.app/coins/CardanojXdd...</td>\n",
              "      <td>Cardano</td>\n",
              "      <td>ADA</td>\n",
              "      <td>8</td>\n",
              "      <td>0.420800</td>\n",
              "      <td>0.000022</td>\n",
              "      <td>7.019391e+08</td>\n",
              "      <td>1.423156e+10</td>\n",
              "      <td>3.382026e+10</td>\n",
              "      <td>4.500000e+10</td>\n",
              "      <td>0.32</td>\n",
              "      <td>-2.35</td>\n",
              "      <td>-5.73</td>\n",
              "      <td>https://www.cardano.org/en/home/</td>\n",
              "      <td>https://twitter.com/CardanoStiftung</td>\n",
              "      <td>[https://cardanoscan.io/, https://cardanoexplo...</td>\n",
              "      <td>0x3ee2200efb3400fabb9aacf31297cbdd1d435d47</td>\n",
              "      <td>18.0</td>\n",
              "      <td>NaN</td>\n",
              "    </tr>\n",
              "    <tr>\n",
              "      <th>8</th>\n",
              "      <td>solana</td>\n",
              "      <td>https://static.coinstats.app/coins/solanambZ.png</td>\n",
              "      <td>Solana</td>\n",
              "      <td>SOL</td>\n",
              "      <td>9</td>\n",
              "      <td>32.119792</td>\n",
              "      <td>0.001681</td>\n",
              "      <td>1.438012e+09</td>\n",
              "      <td>1.141590e+10</td>\n",
              "      <td>3.554163e+08</td>\n",
              "      <td>5.081810e+08</td>\n",
              "      <td>0.12</td>\n",
              "      <td>-2.06</td>\n",
              "      <td>-0.59</td>\n",
              "      <td>https://solana.com/</td>\n",
              "      <td>https://twitter.com/solana</td>\n",
              "      <td>[https://solscan.io/, https://explorer.solana....</td>\n",
              "      <td>0x7dff46370e9ea5f0bad3c4e29711ad50062ea7a4</td>\n",
              "      <td>18.0</td>\n",
              "      <td>NaN</td>\n",
              "    </tr>\n",
              "    <tr>\n",
              "      <th>9</th>\n",
              "      <td>dogecoin</td>\n",
              "      <td>https://static.coinstats.app/coins/DogecoinIZa...</td>\n",
              "      <td>Dogecoin</td>\n",
              "      <td>DOGE</td>\n",
              "      <td>10</td>\n",
              "      <td>0.059493</td>\n",
              "      <td>0.000003</td>\n",
              "      <td>5.450490e+08</td>\n",
              "      <td>7.892982e+09</td>\n",
              "      <td>1.326708e+11</td>\n",
              "      <td>0.000000e+00</td>\n",
              "      <td>0.54</td>\n",
              "      <td>-2.10</td>\n",
              "      <td>-2.81</td>\n",
              "      <td>http://dogecoin.com/</td>\n",
              "      <td>https://twitter.com/dogecoin</td>\n",
              "      <td>[https://blockchair.com/dogecoin, https://doge...</td>\n",
              "      <td>0xba2ae424d960c26247dd6c32edc70b295c744c43</td>\n",
              "      <td>18.0</td>\n",
              "      <td>https://www.reddit.com/r/dogecoin</td>\n",
              "    </tr>\n",
              "  </tbody>\n",
              "</table>\n",
              "</div>\n",
              "      <button class=\"colab-df-convert\" onclick=\"convertToInteractive('df-12a95924-cbe6-45ba-a32d-996734e4dfda')\"\n",
              "              title=\"Convert this dataframe to an interactive table.\"\n",
              "              style=\"display:none;\">\n",
              "        \n",
              "  <svg xmlns=\"http://www.w3.org/2000/svg\" height=\"24px\"viewBox=\"0 0 24 24\"\n",
              "       width=\"24px\">\n",
              "    <path d=\"M0 0h24v24H0V0z\" fill=\"none\"/>\n",
              "    <path d=\"M18.56 5.44l.94 2.06.94-2.06 2.06-.94-2.06-.94-.94-2.06-.94 2.06-2.06.94zm-11 1L8.5 8.5l.94-2.06 2.06-.94-2.06-.94L8.5 2.5l-.94 2.06-2.06.94zm10 10l.94 2.06.94-2.06 2.06-.94-2.06-.94-.94-2.06-.94 2.06-2.06.94z\"/><path d=\"M17.41 7.96l-1.37-1.37c-.4-.4-.92-.59-1.43-.59-.52 0-1.04.2-1.43.59L10.3 9.45l-7.72 7.72c-.78.78-.78 2.05 0 2.83L4 21.41c.39.39.9.59 1.41.59.51 0 1.02-.2 1.41-.59l7.78-7.78 2.81-2.81c.8-.78.8-2.07 0-2.86zM5.41 20L4 18.59l7.72-7.72 1.47 1.35L5.41 20z\"/>\n",
              "  </svg>\n",
              "      </button>\n",
              "      \n",
              "  <style>\n",
              "    .colab-df-container {\n",
              "      display:flex;\n",
              "      flex-wrap:wrap;\n",
              "      gap: 12px;\n",
              "    }\n",
              "\n",
              "    .colab-df-convert {\n",
              "      background-color: #E8F0FE;\n",
              "      border: none;\n",
              "      border-radius: 50%;\n",
              "      cursor: pointer;\n",
              "      display: none;\n",
              "      fill: #1967D2;\n",
              "      height: 32px;\n",
              "      padding: 0 0 0 0;\n",
              "      width: 32px;\n",
              "    }\n",
              "\n",
              "    .colab-df-convert:hover {\n",
              "      background-color: #E2EBFA;\n",
              "      box-shadow: 0px 1px 2px rgba(60, 64, 67, 0.3), 0px 1px 3px 1px rgba(60, 64, 67, 0.15);\n",
              "      fill: #174EA6;\n",
              "    }\n",
              "\n",
              "    [theme=dark] .colab-df-convert {\n",
              "      background-color: #3B4455;\n",
              "      fill: #D2E3FC;\n",
              "    }\n",
              "\n",
              "    [theme=dark] .colab-df-convert:hover {\n",
              "      background-color: #434B5C;\n",
              "      box-shadow: 0px 1px 3px 1px rgba(0, 0, 0, 0.15);\n",
              "      filter: drop-shadow(0px 1px 2px rgba(0, 0, 0, 0.3));\n",
              "      fill: #FFFFFF;\n",
              "    }\n",
              "  </style>\n",
              "\n",
              "      <script>\n",
              "        const buttonEl =\n",
              "          document.querySelector('#df-12a95924-cbe6-45ba-a32d-996734e4dfda button.colab-df-convert');\n",
              "        buttonEl.style.display =\n",
              "          google.colab.kernel.accessAllowed ? 'block' : 'none';\n",
              "\n",
              "        async function convertToInteractive(key) {\n",
              "          const element = document.querySelector('#df-12a95924-cbe6-45ba-a32d-996734e4dfda');\n",
              "          const dataTable =\n",
              "            await google.colab.kernel.invokeFunction('convertToInteractive',\n",
              "                                                     [key], {});\n",
              "          if (!dataTable) return;\n",
              "\n",
              "          const docLinkHtml = 'Like what you see? Visit the ' +\n",
              "            '<a target=\"_blank\" href=https://colab.research.google.com/notebooks/data_table.ipynb>data table notebook</a>'\n",
              "            + ' to learn more about interactive tables.';\n",
              "          element.innerHTML = '';\n",
              "          dataTable['output_type'] = 'display_data';\n",
              "          await google.colab.output.renderOutput(dataTable, element);\n",
              "          const docLink = document.createElement('div');\n",
              "          docLink.innerHTML = docLinkHtml;\n",
              "          element.appendChild(docLink);\n",
              "        }\n",
              "      </script>\n",
              "    </div>\n",
              "  </div>\n",
              "  "
            ]
          },
          "metadata": {},
          "execution_count": 59
        }
      ]
    },
    {
      "cell_type": "markdown",
      "source": [
        "# **Review Questions**"
      ],
      "metadata": {
        "id": "2tvU7VX2RLSv"
      }
    },
    {
      "cell_type": "code",
      "source": [
        "# What is the result of the following lines of code:\n",
        "import numpy as np\n",
        "a = np.array([0, 1, 0, 1, 0])\n",
        "b = np.array([1, 0, 1, 0, 1])\n",
        "z = a * b\n",
        "z"
      ],
      "metadata": {
        "colab": {
          "base_uri": "https://localhost:8080/"
        },
        "id": "Vt4SEMTpOnp1",
        "outputId": "64548f1e-adbb-45d0-8d22-0cf7d478ca17"
      },
      "execution_count": 61,
      "outputs": [
        {
          "output_type": "execute_result",
          "data": {
            "text/plain": [
              "array([0, 0, 0, 0, 0])"
            ]
          },
          "metadata": {},
          "execution_count": 61
        }
      ]
    },
    {
      "cell_type": "code",
      "source": [
        "# What is the result of the following lines of code:\n",
        "a = np.array([0, 1])\n",
        "b = np.array([1, 0])\n",
        "result = np.dot(a, b)\n",
        "result "
      ],
      "metadata": {
        "colab": {
          "base_uri": "https://localhost:8080/"
        },
        "id": "41nSPpPNRUPv",
        "outputId": "edc8bcd9-9e55-41f8-a4ff-1e1e80163883"
      },
      "execution_count": 62,
      "outputs": [
        {
          "output_type": "execute_result",
          "data": {
            "text/plain": [
              "0"
            ]
          },
          "metadata": {},
          "execution_count": 62
        }
      ]
    },
    {
      "cell_type": "code",
      "source": [
        "# What is the result of the following lines of code:\n",
        "a = np.array([1, 1, 1, 1, 1])\n",
        "result = a + 10\n",
        "result "
      ],
      "metadata": {
        "colab": {
          "base_uri": "https://localhost:8080/"
        },
        "id": "YkeHs45iRkYK",
        "outputId": "7682043b-69d1-4f3e-963d-6e6cd32ec857"
      },
      "execution_count": 63,
      "outputs": [
        {
          "output_type": "execute_result",
          "data": {
            "text/plain": [
              "array([11, 11, 11, 11, 11])"
            ]
          },
          "metadata": {},
          "execution_count": 63
        }
      ]
    },
    {
      "cell_type": "code",
      "source": [
        "# What is the correct code to perform matrix multiplication on the matrix A and B? SOL: np.dot(A,B) "
      ],
      "metadata": {
        "id": "tZjs4wRiRssq"
      },
      "execution_count": null,
      "outputs": []
    }
  ]
}