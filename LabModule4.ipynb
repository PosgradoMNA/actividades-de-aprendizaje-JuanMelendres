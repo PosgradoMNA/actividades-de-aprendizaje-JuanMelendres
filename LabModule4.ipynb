{
  "nbformat": 4,
  "nbformat_minor": 0,
  "metadata": {
    "colab": {
      "provenance": [],
      "collapsed_sections": [],
      "authorship_tag": "ABX9TyN1YriJA6pyE0z85yiC2Y41",
      "include_colab_link": true
    },
    "kernelspec": {
      "name": "python3",
      "display_name": "Python 3"
    },
    "language_info": {
      "name": "python"
    }
  },
  "cells": [
    {
      "cell_type": "markdown",
      "metadata": {
        "id": "view-in-github",
        "colab_type": "text"
      },
      "source": [
        "<a href=\"https://colab.research.google.com/github/PosgradoMNA/actividades-de-aprendizaje-JuanMelendres/blob/main/LabModule4.ipynb\" target=\"_parent\"><img src=\"https://colab.research.google.com/assets/colab-badge.svg\" alt=\"Open In Colab\"/></a>"
      ]
    },
    {
      "cell_type": "markdown",
      "source": [
        "# **Juan Melendres - A00369017**"
      ],
      "metadata": {
        "id": "E3i5fd-Dxv7R"
      }
    },
    {
      "cell_type": "markdown",
      "source": [
        "# **Objecte Oriented Programing in Pyhton (Youtube Video)**"
      ],
      "metadata": {
        "id": "vTuSVLFLxWYi"
      }
    },
    {
      "cell_type": "code",
      "execution_count": null,
      "metadata": {
        "id": "t4894vu8xEl_"
      },
      "outputs": [],
      "source": [
        "# Create a Class\n",
        "class Dog:\n",
        "  \"\"\"\n",
        "    __init__ method is for instance the class\n",
        "  \"\"\"\n",
        "  def __init__(self, name, age):\n",
        "    self.name = name # Set New attribute (Dog Name)\n",
        "    self.age = age # Set New attribute (Dog Age)\n",
        "\n",
        "  def get_dog_name(self):\n",
        "    return \"Dog Name: \" + self.name\n",
        "\n",
        "  def get_dog_age(self):\n",
        "    return \"Dog Age: \" + str(self.age)\n",
        "\n",
        "  def set_dog_name(self, name):\n",
        "    self.name = name\n",
        "\n",
        "  def set_dog_age(self, age):\n",
        "    self.age = age\n",
        "\n",
        "  def bark(self):\n",
        "    print(\"bark\")\n",
        "\n",
        "  def sleep(self):\n",
        "    print(\"Dog sleeping\")\n",
        "\n",
        "  def add_one(self, x):\n",
        "    return x + 1\n",
        "\n",
        "d = Dog(\"Doge\", 2)\n",
        "print(d.get_dog_name() + \"\\n\" + d.get_dog_age())\n",
        "d2 = Dog(\"Cheems\", 4)\n",
        "print(d2.get_dog_name())\n",
        "print(type(d))"
      ]
    },
    {
      "cell_type": "code",
      "source": [
        "d.bark()"
      ],
      "metadata": {
        "id": "MlscULQfzIde"
      },
      "execution_count": null,
      "outputs": []
    },
    {
      "cell_type": "code",
      "source": [
        "d.sleep()"
      ],
      "metadata": {
        "id": "aBrqsAwNzYVG"
      },
      "execution_count": null,
      "outputs": []
    },
    {
      "cell_type": "code",
      "source": [
        "print(d.add_one(10))"
      ],
      "metadata": {
        "id": "DY7QWNWAzq1s"
      },
      "execution_count": null,
      "outputs": []
    },
    {
      "cell_type": "code",
      "source": [
        "d.set_dog_age(6)\n",
        "print(d.get_dog_age())"
      ],
      "metadata": {
        "id": "CBQ0EoZ920QZ"
      },
      "execution_count": null,
      "outputs": []
    },
    {
      "cell_type": "code",
      "source": [
        "class Student:\n",
        "\n",
        "  def __init__(self, name, age, grade):\n",
        "    self.name = name\n",
        "    self.age = age\n",
        "    self.grade = grade\n",
        "\n",
        "  def get_grade(self):\n",
        "    return self.grade\n",
        "\n",
        "class Course:\n",
        "\n",
        "  def __init__(self, name, max_students):\n",
        "    self.name = name\n",
        "    self.max_students = max_students\n",
        "    self.students = []\n",
        "    self.is_active = False\n",
        "\n",
        "  def add_student(self, student):\n",
        "    if len(self.students) < self.max_students:\n",
        "      self.students.append(student)\n",
        "      return True\n",
        "    return False\n",
        "  \n",
        "  def get_average_grade(self):\n",
        "    value = 0\n",
        "    for student in self.students:\n",
        "      value += student.get_grade()\n",
        "\n",
        "    return value / len(self.students)\n",
        "\n",
        "s1 = Student(\"Juan\", 25, 90)\n",
        "s2 = Student(\"Karen\", 25, 100)\n",
        "s3 = Student(\"Luis\", 25, 70)\n",
        "\n",
        "course = Course(\"Python 101\", 2)\n",
        "\n",
        "course.add_student(s1)\n",
        "course.add_student(s2)\n",
        "\n",
        "print(course.get_average_grade())\n",
        "print(course.add_student(s3))\n"
      ],
      "metadata": {
        "id": "z0iXUryl3aBx"
      },
      "execution_count": null,
      "outputs": []
    },
    {
      "cell_type": "code",
      "source": [
        "# Inheritance\n",
        "class Pet:\n",
        "\n",
        "  def __init__(self, name, age):\n",
        "    self.name = name\n",
        "    self.age = age\n",
        "\n",
        "  def show(self):\n",
        "    print(f\"I am {self.name} and I am {self.age} years old\")\n",
        "\n",
        "  def speak(self):\n",
        "    print(\"I Dont't know what I say\")\n",
        "\n",
        "class Cat(Pet):\n",
        "\n",
        "  def __init__(self, name, age, color):\n",
        "    super().__init__(name, age)\n",
        "    self.color = color\n",
        "  \n",
        "  def speak(self):\n",
        "    print(\"Meow\")\n",
        "\n",
        "  def show(self):\n",
        "    print(f\"I am {self.name}, I am {self.age} years old and I am {self.color}\")\n",
        "\n",
        "class Dog(Pet):\n",
        "\n",
        "  def speak(self):\n",
        "    print(\"bark\")\n",
        "\n",
        "class Fish(Pet):\n",
        "  pass\n",
        "\n",
        "pet = Pet(\"Noge\", 12)\n",
        "pet.show()\n",
        "pet.speak()\n",
        "\n",
        "cat = Cat(\"Mishi Mishi\", 12, \"Orange\")\n",
        "cat.show()\n",
        "cat.speak()\n",
        "\n",
        "dog = Dog(\"Cheems\", 4)\n",
        "dog.show()\n",
        "dog.speak()\n",
        "\n",
        "fish = Fish(\"Tim\", 4)\n",
        "fish.show()\n",
        "fish.speak()"
      ],
      "metadata": {
        "id": "lb3D1xij_why"
      },
      "execution_count": null,
      "outputs": []
    },
    {
      "cell_type": "markdown",
      "source": [
        "# **Module 4 - Working with Data in Python**"
      ],
      "metadata": {
        "id": "ymsFIPaOxgno"
      }
    },
    {
      "cell_type": "markdown",
      "source": [
        "**Lab - Reading Files with Open**"
      ],
      "metadata": {
        "id": "_nMRsGuB21aN"
      }
    },
    {
      "cell_type": "code",
      "source": [
        "# To read files in Python we have to use the open function, we have to pass the path of the file and the mode (common modes 'r' for reading and 'w' for writing)\n",
        "# To read a single line readline(), to read all the lines we ca usea readlines() or a for. All these functions return a string\n",
        "# Alway we have to close the stream."
      ],
      "metadata": {
        "id": "f2pcam3I5Mrr"
      },
      "execution_count": null,
      "outputs": []
    },
    {
      "cell_type": "code",
      "source": [
        "## Uncomment these if working locally, else let the following code cell run.\n",
        "\n",
        "import urllib.request\n",
        "url = 'https://cf-courses-data.s3.us.cloud-object-storage.appdomain.cloud/IBMDeveloperSkillsNetwork-PY0101EN-SkillsNetwork/labs/Module%204/data/example1.txt'\n",
        "filename = 'Example1.txt'\n",
        "urllib.request.urlretrieve(url, filename)\n",
        "\n",
        "## Download Example file\n",
        "# !wget -O /resources/data/Example1.txt https://cf-courses-data.s3.us.cloud-object-storage.appdomain.cloud/IBMDeveloperSkillsNetwork-PY0101EN-SkillsNetwork/labs/Module%204/data/example1.txt"
      ],
      "metadata": {
        "id": "qDTEMaPU6Bu6"
      },
      "execution_count": null,
      "outputs": []
    },
    {
      "cell_type": "code",
      "source": [
        "# Read the Example1.txt\n",
        "example1 = \"Example1.txt\"\n",
        "file1 = open(example1, \"r\")"
      ],
      "metadata": {
        "id": "KkMURxKz745u"
      },
      "execution_count": 7,
      "outputs": []
    },
    {
      "cell_type": "code",
      "source": [
        "# Print the path of file . It return the path of the file. \n",
        "file1.name"
      ],
      "metadata": {
        "id": "xVWtgYZK79r8"
      },
      "execution_count": null,
      "outputs": []
    },
    {
      "cell_type": "code",
      "source": [
        "# Print the mode of file, either 'r' or 'w'. These two are the most common modes for the files\n",
        "file1.mode"
      ],
      "metadata": {
        "id": "OBxn54zu8JCe"
      },
      "execution_count": null,
      "outputs": []
    },
    {
      "cell_type": "code",
      "source": [
        "# To read the entire file we can use the read() function \n",
        "FileContent = file1.read()\n",
        "FileContent"
      ],
      "metadata": {
        "id": "ys_VgtPg8Kz0"
      },
      "execution_count": null,
      "outputs": []
    },
    {
      "cell_type": "code",
      "source": [
        "# Print the file with '\\n' as a new line\n",
        "print(FileContent)"
      ],
      "metadata": {
        "id": "sVQUfvWp8-a2"
      },
      "execution_count": null,
      "outputs": []
    },
    {
      "cell_type": "code",
      "source": [
        "# Type of file content, as I say on the first line the file is returned as a string\n",
        "type(FileContent) # str"
      ],
      "metadata": {
        "id": "IvJYLzFA9CVd"
      },
      "execution_count": null,
      "outputs": []
    },
    {
      "cell_type": "code",
      "source": [
        "# Close file after finish. It is very important that we always close the reading of the file, since it occupies resources that it is better to free that space from now on.\n",
        "file1.close()"
      ],
      "metadata": {
        "id": "sp17Kei19Z7-"
      },
      "execution_count": 16,
      "outputs": []
    },
    {
      "cell_type": "code",
      "source": [
        "# These is an example of how to read a file in a better way\n",
        "with open(example1, \"r\") as file1:\n",
        "    FileContent = file1.read()\n",
        "    print(FileContent)\n",
        "file1.closed # Remember to check if the file was closed"
      ],
      "metadata": {
        "id": "6lExC3mY9uun"
      },
      "execution_count": null,
      "outputs": []
    },
    {
      "cell_type": "code",
      "source": [
        "print(FileContent) # Print the file content"
      ],
      "metadata": {
        "id": "MTKuJvxv-86e"
      },
      "execution_count": null,
      "outputs": []
    },
    {
      "cell_type": "code",
      "source": [
        "# To read the first four or another number of characters in the file we can do the following.\n",
        "with open(example1, \"r\") as file1:\n",
        "    print(file1.read(4))"
      ],
      "metadata": {
        "id": "Blxskv_3_C8Y"
      },
      "execution_count": null,
      "outputs": []
    },
    {
      "cell_type": "code",
      "source": [
        "# To read a certain amount of characters in the file. This can help us clean up the file a bit\n",
        "with open(example1, \"r\") as file1:\n",
        "    print(file1.read(4))\n",
        "    print(file1.read(4))\n",
        "    print(file1.read(7))\n",
        "    print(file1.read(15))"
      ],
      "metadata": {
        "id": "FgKpcq2W_V4V"
      },
      "execution_count": null,
      "outputs": []
    },
    {
      "cell_type": "code",
      "source": [
        "# To read a single line we can use readline\n",
        "with open(example1, \"r\") as file1:\n",
        "    print(\"first line: \" + file1.readline())"
      ],
      "metadata": {
        "id": "Pni_-UbU_493"
      },
      "execution_count": null,
      "outputs": []
    },
    {
      "cell_type": "code",
      "source": [
        "# To iterate through the lines we ca do the following.\n",
        "with open(example1,\"r\") as file1:\n",
        "        i = 0;\n",
        "        for line in file1:\n",
        "            print(\"Iteration\", str(i), \": \", line)\n",
        "            i = i + 1"
      ],
      "metadata": {
        "id": "a1kxCl5DAAHM"
      },
      "execution_count": null,
      "outputs": []
    },
    {
      "cell_type": "code",
      "source": [
        "# To read all lines and save as a list\n",
        "with open(example1, \"r\") as file1:\n",
        "    FileasList = file1.readlines()\n",
        "FileasList[0] # Printing the first element of the list"
      ],
      "metadata": {
        "id": "cX5E9VztAL35"
      },
      "execution_count": null,
      "outputs": []
    },
    {
      "cell_type": "markdown",
      "source": [
        "Lab - Writing Files with Open"
      ],
      "metadata": {
        "id": "iSj3Zg7tAriV"
      }
    },
    {
      "cell_type": "code",
      "source": [
        "# To write data to the file we use a the write function.\n",
        "# We can iterate to write more lines in the file or only use write to add a single line.\n",
        "# we Can copy files using the read mode and then the write mode.\n",
        "\n",
        "# Write a single line to a new file\n",
        "exmp2 = 'Example2.txt'\n",
        "with open(exmp2, 'w') as writefile:\n",
        "    writefile.write(\"This is the first line\")\n",
        "# Read the new file to check if it works\n",
        "with open(exmp2, 'r') as testwritefile:\n",
        "    print(testwritefile.read())"
      ],
      "metadata": {
        "id": "mlYZz0xlAv77"
      },
      "execution_count": null,
      "outputs": []
    },
    {
      "cell_type": "code",
      "source": [
        "# Write lines in the file.\n",
        "with open(exmp2, 'w') as writefile:\n",
        "    writefile.write(\"This is line A\\n\")\n",
        "    writefile.write(\"This is line B\\n\")"
      ],
      "metadata": {
        "id": "Bn5nyw1GEf1U"
      },
      "execution_count": 26,
      "outputs": []
    },
    {
      "cell_type": "code",
      "source": [
        "# Check the new lines in the file.\n",
        "with open(exmp2, 'r') as testwritefile:\n",
        "    print(testwritefile.read())"
      ],
      "metadata": {
        "id": "lEOaTY43EkMz"
      },
      "execution_count": null,
      "outputs": []
    },
    {
      "cell_type": "code",
      "source": [
        "# If we have a list and we want to create a file from the list we ca do it.\n",
        "Lines = [\"This is line A\\n\", \"This is line B\\n\", \"This is line C\\n\"] # list object\n",
        "\n",
        "with open('Example2.txt', 'w') as writefile:\n",
        "    for line in Lines:\n",
        "        print(line)\n",
        "        writefile.write(line)"
      ],
      "metadata": {
        "id": "uHNdMEOyFcAN"
      },
      "execution_count": null,
      "outputs": []
    },
    {
      "cell_type": "code",
      "source": [
        "# Verify if writing to file is successfully executed\n",
        "with open('Example2.txt', 'r') as testwritefile:\n",
        "    print(testwritefile.read())"
      ],
      "metadata": {
        "id": "ov-ibMVPFvSb"
      },
      "execution_count": null,
      "outputs": []
    },
    {
      "cell_type": "code",
      "source": [
        "# To append more lines to the files we can usea the 'a' mode.\n",
        "with open('Example2.txt', 'a') as testwritefile:\n",
        "    testwritefile.write(\"This is line C\\n\")\n",
        "    testwritefile.write(\"This is line D\\n\")"
      ],
      "metadata": {
        "id": "6z4fyATIF0wu"
      },
      "execution_count": 30,
      "outputs": []
    },
    {
      "cell_type": "code",
      "source": [
        "# Verify if the new lines are in the text file\n",
        "with open('Example2.txt', 'r') as testwritefile:\n",
        "    print(testwritefile.read())"
      ],
      "metadata": {
        "id": "_U8SbHlVF9XS"
      },
      "execution_count": null,
      "outputs": []
    },
    {
      "cell_type": "code",
      "source": [
        "# To copy a file.\n",
        "with open('Example2.txt','r') as readfile:\n",
        "    with open('Example3.txt','w') as writefile:\n",
        "          for line in readfile:\n",
        "                writefile.write(line)"
      ],
      "metadata": {
        "id": "VpmRC7jOGWQc"
      },
      "execution_count": 32,
      "outputs": []
    },
    {
      "cell_type": "code",
      "source": [
        "# Check if the new file has the same data.\n",
        "with open('Example3.txt','r') as testwritefile:\n",
        "    print(testwritefile.read())"
      ],
      "metadata": {
        "id": "BkPAJCDgGcr8"
      },
      "execution_count": null,
      "outputs": []
    },
    {
      "cell_type": "markdown",
      "source": [
        "Lab - Loading Data with Pandas"
      ],
      "metadata": {
        "id": "EdLWTU10LmDU"
      }
    },
    {
      "cell_type": "code",
      "source": [
        "# Pandas is a library use to manipulate and analyze data\n",
        "# First we have to impor the pandas Library\n",
        "import pandas as pd\n",
        "# Once we have imported the library we can create a new data frame\n",
        "df = pd.DataFrame({'a':[11,21,31],'b':[21,22,23]})\n",
        "df.head(3) # DIsplayi9ng the first three rows of the data frame"
      ],
      "metadata": {
        "id": "HaPi_7MAEILx"
      },
      "execution_count": null,
      "outputs": []
    },
    {
      "cell_type": "code",
      "source": [
        "# To obtain a column in this case 'a'\n",
        "df['a']"
      ],
      "metadata": {
        "id": "RALj6ij2GDt7"
      },
      "execution_count": null,
      "outputs": []
    },
    {
      "cell_type": "code",
      "source": [
        "a = {'Student':['David', 'Samuel', 'Terry', 'Evan'],\n",
        "     'Age':['27', '24', '22', '32'],\n",
        "     'Country':['UK', 'Canada', 'China', 'USA'],\n",
        "     'Course':['Python','Data Structures','Machine Learning','Web Development'],\n",
        "     'Marks':['85','72','89','76']}\n",
        "df1 = pd.DataFrame(a)\n",
        "df1"
      ],
      "metadata": {
        "id": "7YVclrVbHZ5D"
      },
      "execution_count": null,
      "outputs": []
    },
    {
      "cell_type": "code",
      "source": [
        "# Retrieve the Marks column and assign it to a variable b\n",
        "b = df1[['Marks']]\n",
        "b"
      ],
      "metadata": {
        "id": "JXdPMXxSHmEr"
      },
      "execution_count": null,
      "outputs": []
    },
    {
      "cell_type": "code",
      "source": [
        "# Retrieve the Country and Course columns and assign it to a variable c\n",
        "c = df1[['Country','Course']]\n",
        "c"
      ],
      "metadata": {
        "id": "tvX3a5vdHuOx"
      },
      "execution_count": null,
      "outputs": []
    },
    {
      "cell_type": "code",
      "source": [
        "# To view the column as a series, just use one bracket:\n",
        "x = df['Name']\n",
        "x"
      ],
      "metadata": {
        "id": "QPVjaJIYH9w3"
      },
      "execution_count": null,
      "outputs": []
    },
    {
      "cell_type": "code",
      "source": [
        "# loc() is a label-based data selecting method which means that we have to pass the name of the row or column that we want to select. \n",
        "# iloc() is an indexed-based selecting method which means that we have to pass integer index in the method to select a specific row/column.\n",
        "# Use the loc() function,to get the Department of Jane in the newly created dataframe df2.\n",
        "df2.loc['Jane', 'Department']"
      ],
      "metadata": {
        "id": "MqDbU_3JI_S3"
      },
      "execution_count": null,
      "outputs": []
    },
    {
      "cell_type": "code",
      "source": [
        "# Use the iloc() function,to get the Salary of Mary in the newly created dataframe df2.\n",
        "df2.iloc[3,2]"
      ],
      "metadata": {
        "id": "5BPHfColJCR6"
      },
      "execution_count": null,
      "outputs": []
    },
    {
      "cell_type": "markdown",
      "source": [
        "Lab - Working with and Saving Data with Pandas"
      ],
      "metadata": {
        "id": "Uaw6ZmKBKUmR"
      }
    },
    {
      "cell_type": "code",
      "source": [
        "import pandas as pd\n",
        "\n",
        "df3 = pd.DataFrame({'a':[1,2,1],'b':[1,1,1]})"
      ],
      "metadata": {
        "id": "AvlNohrQKX4r"
      },
      "execution_count": 24,
      "outputs": []
    },
    {
      "cell_type": "code",
      "source": [
        "# Find the unique values in column 'a' :\n",
        "df3['a'].unique()"
      ],
      "metadata": {
        "id": "lFzt6KMFKpwK"
      },
      "execution_count": null,
      "outputs": []
    },
    {
      "cell_type": "code",
      "source": [
        "# Return a dataframe with only the rows where column a is less than two:\n",
        "df3[df3['a'] < 2]"
      ],
      "metadata": {
        "id": "-dPOCiyyKzoH"
      },
      "execution_count": null,
      "outputs": []
    },
    {
      "cell_type": "markdown",
      "source": [
        "**Quizzes & Exercises from labs**"
      ],
      "metadata": {
        "id": "q3tEom4xGq5i"
      }
    },
    {
      "cell_type": "markdown",
      "source": [
        "Lab - Writing Files with Open"
      ],
      "metadata": {
        "id": "64GpOtw4Gz9M"
      }
    },
    {
      "cell_type": "code",
      "source": [
        "from random import randint as rnd\n",
        "\n",
        "memReg = 'members.txt'\n",
        "exReg = 'inactive.txt'\n",
        "fee =('yes','no')\n",
        "\n",
        "def genFiles(current,old):\n",
        "    with open(current,'w+') as writefile: \n",
        "        writefile.write('Membership No  Date Joined  Active  \\n')\n",
        "        data = \"{:^13}  {:<11}  {:<6}\\n\"\n",
        "\n",
        "        for rowno in range(20):\n",
        "            date = str(rnd(2015,2020))+ '-' + str(rnd(1,12))+'-'+str(rnd(1,25))\n",
        "            writefile.write(data.format(rnd(10000,99999),date,fee[rnd(0,1)]))\n",
        "\n",
        "\n",
        "    with open(old,'w+') as writefile: \n",
        "        writefile.write('Membership No  Date Joined  Active  \\n')\n",
        "        data = \"{:^13}  {:<11}  {:<6}\\n\"\n",
        "        for rowno in range(3):\n",
        "            date = str(rnd(2015,2020))+ '-' + str(rnd(1,12))+'-'+str(rnd(1,25))\n",
        "            writefile.write(data.format(rnd(10000,99999),date,fee[1]))\n",
        "\n",
        "\n",
        "genFiles(memReg,exReg)"
      ],
      "metadata": {
        "id": "bfi71hdFG3UX"
      },
      "execution_count": 34,
      "outputs": []
    },
    {
      "cell_type": "code",
      "source": [
        "# Exercise: Implement the cleanFiles function in the code cell below.\n",
        "'''\n",
        "The two arguments for this function are the files:\n",
        "    - currentMem: File containing list of current members\n",
        "    - exMem: File containing list of old members\n",
        "    \n",
        "    This function should remove all rows from currentMem containing 'no' \n",
        "    in the 'Active' column and appends them to exMem.\n",
        "'''\n",
        "def cleanFiles(currentMem, exMem):\n",
        "    # Open the currentMem file as in r+ mode\n",
        "    with open(currentMem, 'r+') as writeFile: \n",
        "        # Open the exMem file in a+ mode\n",
        "        with open(exMem,'a+') as appendFile:\n",
        "        # Read each member in the currentMem (1 member per row) file into a list.\n",
        "        # Hint: Recall that the first line in the file is the header.\n",
        "          writeFile.seek(0)\n",
        "          members = writeFile.readlines()\n",
        "          header = members[0]\n",
        "          members.pop(0)\n",
        "          # Iterate through the members and create a new list of the innactive members\n",
        "          inactive = []\n",
        "          for member in members:\n",
        "            if 'no' in member:\n",
        "                inactive.append(member)\n",
        "        \n",
        "          # Go to the beginning of the currentMem file\n",
        "          # Iterate through the members list. \n",
        "          # If a member is inactive, add them to exMem, otherwise write them into currentMem\n",
        "          writeFile.seek(0) \n",
        "          writeFile.write(header)\n",
        "          for member in members:\n",
        "            if(member in  inactive):\n",
        "              appendFile.write(member)\n",
        "            else:\n",
        "              writeFile.write(member)  \n",
        "          writeFile.truncate()\n",
        "\n",
        "# The code below is to help you view the files.\n",
        "# Do not modify this code for this exercise.\n",
        "memReg = 'members.txt'\n",
        "exReg = 'inactive.txt'\n",
        "cleanFiles(memReg,exReg)\n",
        "\n",
        "headers = \"Membership No  Date Joined  Active  \\n\"\n",
        "with open(memReg,'r') as readFile:\n",
        "    print(\"Active Members: \\n\\n\")\n",
        "    print(readFile.read())\n",
        "    \n",
        "with open(exReg,'r') as readFile:\n",
        "    print(\"Inactive Members: \\n\\n\")\n",
        "    print(readFile.read())"
      ],
      "metadata": {
        "id": "Pu7FvjP9LTTI"
      },
      "execution_count": null,
      "outputs": []
    },
    {
      "cell_type": "code",
      "source": [
        "def testMsg(passed):\n",
        "    if passed:\n",
        "       return 'Test Passed'\n",
        "    else :\n",
        "       return 'Test Failed'\n",
        "\n",
        "testWrite = \"testWrite.txt\"\n",
        "testAppend = \"testAppend.txt\" \n",
        "passed = True\n",
        "\n",
        "genFiles(testWrite,testAppend)\n",
        "\n",
        "with open(testWrite,'r') as file:\n",
        "    ogWrite = file.readlines()\n",
        "\n",
        "with open(testAppend,'r') as file:\n",
        "    ogAppend = file.readlines()\n",
        "\n",
        "try:\n",
        "    cleanFiles(testWrite,testAppend)\n",
        "except:\n",
        "    print('Error')\n",
        "\n",
        "with open(testWrite,'r') as file:\n",
        "    clWrite = file.readlines()\n",
        "\n",
        "with open(testAppend,'r') as file:\n",
        "    clAppend = file.readlines()\n",
        "        \n",
        "# checking if total no of rows is same, including headers\n",
        "\n",
        "if (len(ogWrite) + len(ogAppend) != len(clWrite) + len(clAppend)):\n",
        "    print(\"The number of rows do not add up. Make sure your final files have the same header and format.\")\n",
        "    passed = False\n",
        "    \n",
        "for line in clWrite:\n",
        "    if  'no' in line:\n",
        "        passed = False\n",
        "        print(\"Inactive members in file\")\n",
        "        break\n",
        "    else:\n",
        "        if line not in ogWrite:\n",
        "            print(\"Data in file does not match original file\")\n",
        "            passed = False\n",
        "print (\"{}\".format(testMsg(passed)))"
      ],
      "metadata": {
        "id": "moppvYdxKa3p"
      },
      "execution_count": null,
      "outputs": []
    },
    {
      "cell_type": "markdown",
      "source": [
        "Lab - Loading Data with Pandas"
      ],
      "metadata": {
        "id": "7j0bF2I3LvwM"
      }
    },
    {
      "cell_type": "code",
      "source": [
        "# QUESTION 1 - Consider the dataframe df. How would you find the element in the second row and first column? SOL: df.ix[1,0] or df.iloc[1,0] "
      ],
      "metadata": {
        "id": "nBFHC8w-FJps"
      },
      "execution_count": null,
      "outputs": []
    },
    {
      "cell_type": "code",
      "source": [
        "# QUESTION 2 - Will the following code run? YES\n",
        "import pandas as banana\n",
        "\n",
        "df = banana.DataFrame({'a':[11,21,31],'b':[21,22,23]})\n",
        "\n",
        "df.head()"
      ],
      "metadata": {
        "id": "ZnWFORJVFbWG"
      },
      "execution_count": null,
      "outputs": []
    },
    {
      "cell_type": "markdown",
      "source": [
        "Exercise 1: Pandas: DataFrame and Series"
      ],
      "metadata": {
        "id": "EbycR72EHSH9"
      }
    },
    {
      "cell_type": "code",
      "source": [
        "# Define a dictionary 'dctry'\n",
        "dctry = {'Name': ['Rose','John', 'Jane', 'Mary'], 'ID': [1, 2, 3, 4], 'Department': ['Architect Group', 'Software Group', 'Design Team', 'Infrastructure'], \n",
        "      'Salary':[100000, 80000, 50000, 60000]}\n",
        "\n",
        "# Casting the dictionary to a DataFrame\n",
        "df = pd.DataFrame(dctry)\n",
        "\n",
        "# Display the DataFrame\n",
        "df"
      ],
      "metadata": {
        "id": "tIJlyFnmGbVh"
      },
      "execution_count": null,
      "outputs": []
    },
    {
      "cell_type": "code",
      "source": [
        "# Retrieving the \"ID\" column and assigning it to a variable 'columnID'\n",
        "columnID = df[['ID']]\n",
        "columnID"
      ],
      "metadata": {
        "id": "onFrgM95GnJn"
      },
      "execution_count": null,
      "outputs": []
    },
    {
      "cell_type": "code",
      "source": [
        "# Retrieving the Department, Salary and ID columns and assigning it to a variable 'columns'\n",
        "columns = df[['Department','Salary','ID']]\n",
        "columns"
      ],
      "metadata": {
        "id": "sUsySHukGsg6"
      },
      "execution_count": null,
      "outputs": []
    },
    {
      "cell_type": "markdown",
      "source": [
        "Exercise 2: loc() and iloc() functions"
      ],
      "metadata": {
        "id": "S5C5SQURIJYv"
      }
    },
    {
      "cell_type": "code",
      "source": [
        "# To access the value on the first row and the first column\n",
        "df.iloc[0, 0]"
      ],
      "metadata": {
        "id": "jM8DatoBILfB"
      },
      "execution_count": null,
      "outputs": []
    },
    {
      "cell_type": "code",
      "source": [
        "# To access the value on the first row and the third column\n",
        "df.iloc[0,2]"
      ],
      "metadata": {
        "id": "NzXbUsV7IgiQ"
      },
      "execution_count": null,
      "outputs": []
    },
    {
      "cell_type": "code",
      "source": [
        "# To access the column using the name\n",
        "df.loc[0, 'Salary']"
      ],
      "metadata": {
        "id": "9VglkHPmInvq"
      },
      "execution_count": null,
      "outputs": []
    },
    {
      "cell_type": "code",
      "source": [
        "df2 = df\n",
        "df2 = df2.set_index(\"Name\")"
      ],
      "metadata": {
        "id": "SGtm9iaAIqbP"
      },
      "execution_count": 15,
      "outputs": []
    },
    {
      "cell_type": "code",
      "source": [
        "# To display the first 5 rows of new dataframe\n",
        "df2.head()"
      ],
      "metadata": {
        "id": "ijkbgPVzIvjl"
      },
      "execution_count": null,
      "outputs": []
    },
    {
      "cell_type": "code",
      "source": [
        "# let us access the column using the name\n",
        "df2.loc['Jane', 'Salary']"
      ],
      "metadata": {
        "id": "umEcOLE6IyNT"
      },
      "execution_count": null,
      "outputs": []
    },
    {
      "cell_type": "markdown",
      "source": [
        "Exercise 3: Slicing"
      ],
      "metadata": {
        "id": "j0Cfoks5JL7_"
      }
    },
    {
      "cell_type": "code",
      "source": [
        "# Slicing using dataframe df\n",
        "df.iloc[0:2, 0:3]"
      ],
      "metadata": {
        "id": "5X6FM5LuJLps"
      },
      "execution_count": null,
      "outputs": []
    },
    {
      "cell_type": "code",
      "source": [
        "# Slicing using loc() function on dataframe df where index column is having labels as 0, 1, 2\n",
        "df.loc[0:2,'ID':'Department']"
      ],
      "metadata": {
        "id": "1yZFSG8_Jzv1"
      },
      "execution_count": null,
      "outputs": []
    },
    {
      "cell_type": "code",
      "source": [
        "# Slicing using loc() function on dataframe df2 where index column is Name having labels: Rose, John and Jane\n",
        "df2.loc['Rose':'Jane', 'ID':'Department']"
      ],
      "metadata": {
        "id": "jT3j4Z7zJ55C"
      },
      "execution_count": null,
      "outputs": []
    },
    {
      "cell_type": "code",
      "source": [
        "# Using loc() function, do slicing on old dataframe df to retrieve the Name, ID and department of index column having labels as 2, 3\n",
        "df.loc[2:3,'Name':'Department']"
      ],
      "metadata": {
        "id": "oXw0NMp0KBMX"
      },
      "execution_count": null,
      "outputs": []
    },
    {
      "cell_type": "markdown",
      "source": [
        "Lab - Working with and Saving Data with Pandas"
      ],
      "metadata": {
        "id": "_zhnX_wAKYvh"
      }
    },
    {
      "cell_type": "code",
      "source": [
        "# QUESTION 1 - Consider the dataframe: df=pd.DataFrame({'a':[1,2,1],'b':[1,1,1]}) What type does the following return: df['a']==1 ?\n",
        "df4 = pd.DataFrame({'a':[1,2,1],'b':[1,1,1]})\n",
        "df4['a'] == 1"
      ],
      "metadata": {
        "id": "gPMdHfHVKi4N"
      },
      "execution_count": null,
      "outputs": []
    },
    {
      "cell_type": "code",
      "source": [
        "# QUESTION 2 - What task does the following method perform: df.to_csv(\"file.csv\")? SOL: Save a dataframe to a csv file. "
      ],
      "metadata": {
        "id": "H3RvXra0LURf"
      },
      "execution_count": null,
      "outputs": []
    },
    {
      "cell_type": "code",
      "source": [
        "import urllib.request\n",
        "\n",
        "url = \"https://cf-courses-data.s3.us.cloud-object-storage.appdomain.cloud/IBMDeveloperSkillsNetwork-PY0101EN-SkillsNetwork/labs/Module%204/data/TopSellingAlbums.csv\"\n",
        "filename = 'TopSellingAlbums.csv'\n",
        "urllib.request.urlretrieve(url, filename)"
      ],
      "metadata": {
        "id": "dlnAmcFHM_wt"
      },
      "execution_count": null,
      "outputs": []
    },
    {
      "cell_type": "code",
      "source": [
        "import pandas as pd\n",
        "df = pd.read_csv(filename)"
      ],
      "metadata": {
        "id": "4iS33QG_MsB3"
      },
      "execution_count": 40,
      "outputs": []
    },
    {
      "cell_type": "code",
      "source": [
        "# Print first five rows of the dataframe\n",
        "df.head()"
      ],
      "metadata": {
        "id": "PTzgWrMvNKId"
      },
      "execution_count": null,
      "outputs": []
    },
    {
      "cell_type": "code",
      "source": [
        "url2 = \"https://s3-api.us-geo.objectstorage.softlayer.net/cf-courses-data/CognitiveClass/PY0101EN/Chapter%204/Datasets/TopSellingAlbums.xlsx\"\n",
        "filename2 = 'TopSellingAlbums2.csv'\n",
        "urllib.request.urlretrieve(url2, filename2)"
      ],
      "metadata": {
        "id": "iCwhB7WgNR3N"
      },
      "execution_count": null,
      "outputs": []
    },
    {
      "cell_type": "code",
      "source": [
        "# Read data from Excel File and print the first five rows\n",
        "df = pd.read_excel(filename2)\n",
        "df.head()"
      ],
      "metadata": {
        "colab": {
          "base_uri": "https://localhost:8080/",
          "height": 206
        },
        "id": "gXJmEKbMNMwr",
        "outputId": "cb71b19c-384a-4375-9b6d-4b58c773669c"
      },
      "execution_count": 44,
      "outputs": [
        {
          "output_type": "execute_result",
          "data": {
            "text/plain": [
              "            Artist                      Album  Released    Length  \\\n",
              "0  Michael Jackson                   Thriller      1982  00:42:19   \n",
              "1            AC/DC              Back in Black      1980  00:42:11   \n",
              "2       Pink Floyd  The Dark Side of the Moon      1973  00:42:49   \n",
              "3  Whitney Houston              The Bodyguard      1992  00:57:44   \n",
              "4        Meat Loaf            Bat Out of Hell      1977  00:46:33   \n",
              "\n",
              "                         Genre  Music Recording Sales (millions)  \\\n",
              "0               pop, rock, R&B                              46.0   \n",
              "1                    hard rock                              26.1   \n",
              "2             progressive rock                              24.2   \n",
              "3               R&B, soul, pop                              27.4   \n",
              "4  hard rock, progressive rock                              20.6   \n",
              "\n",
              "   Claimed Sales (millions) Released.1 Soundtrack  Rating  \n",
              "0                        65 1982-11-30        NaN    10.0  \n",
              "1                        50 1980-07-25        NaN     9.5  \n",
              "2                        45 1973-03-01        NaN     9.0  \n",
              "3                        44 1992-11-17          Y     8.5  \n",
              "4                        43 1977-10-21        NaN     8.0  "
            ],
            "text/html": [
              "\n",
              "  <div id=\"df-7d1006b1-bf3b-4eba-b74f-483b42d4c09f\">\n",
              "    <div class=\"colab-df-container\">\n",
              "      <div>\n",
              "<style scoped>\n",
              "    .dataframe tbody tr th:only-of-type {\n",
              "        vertical-align: middle;\n",
              "    }\n",
              "\n",
              "    .dataframe tbody tr th {\n",
              "        vertical-align: top;\n",
              "    }\n",
              "\n",
              "    .dataframe thead th {\n",
              "        text-align: right;\n",
              "    }\n",
              "</style>\n",
              "<table border=\"1\" class=\"dataframe\">\n",
              "  <thead>\n",
              "    <tr style=\"text-align: right;\">\n",
              "      <th></th>\n",
              "      <th>Artist</th>\n",
              "      <th>Album</th>\n",
              "      <th>Released</th>\n",
              "      <th>Length</th>\n",
              "      <th>Genre</th>\n",
              "      <th>Music Recording Sales (millions)</th>\n",
              "      <th>Claimed Sales (millions)</th>\n",
              "      <th>Released.1</th>\n",
              "      <th>Soundtrack</th>\n",
              "      <th>Rating</th>\n",
              "    </tr>\n",
              "  </thead>\n",
              "  <tbody>\n",
              "    <tr>\n",
              "      <th>0</th>\n",
              "      <td>Michael Jackson</td>\n",
              "      <td>Thriller</td>\n",
              "      <td>1982</td>\n",
              "      <td>00:42:19</td>\n",
              "      <td>pop, rock, R&amp;B</td>\n",
              "      <td>46.0</td>\n",
              "      <td>65</td>\n",
              "      <td>1982-11-30</td>\n",
              "      <td>NaN</td>\n",
              "      <td>10.0</td>\n",
              "    </tr>\n",
              "    <tr>\n",
              "      <th>1</th>\n",
              "      <td>AC/DC</td>\n",
              "      <td>Back in Black</td>\n",
              "      <td>1980</td>\n",
              "      <td>00:42:11</td>\n",
              "      <td>hard rock</td>\n",
              "      <td>26.1</td>\n",
              "      <td>50</td>\n",
              "      <td>1980-07-25</td>\n",
              "      <td>NaN</td>\n",
              "      <td>9.5</td>\n",
              "    </tr>\n",
              "    <tr>\n",
              "      <th>2</th>\n",
              "      <td>Pink Floyd</td>\n",
              "      <td>The Dark Side of the Moon</td>\n",
              "      <td>1973</td>\n",
              "      <td>00:42:49</td>\n",
              "      <td>progressive rock</td>\n",
              "      <td>24.2</td>\n",
              "      <td>45</td>\n",
              "      <td>1973-03-01</td>\n",
              "      <td>NaN</td>\n",
              "      <td>9.0</td>\n",
              "    </tr>\n",
              "    <tr>\n",
              "      <th>3</th>\n",
              "      <td>Whitney Houston</td>\n",
              "      <td>The Bodyguard</td>\n",
              "      <td>1992</td>\n",
              "      <td>00:57:44</td>\n",
              "      <td>R&amp;B, soul, pop</td>\n",
              "      <td>27.4</td>\n",
              "      <td>44</td>\n",
              "      <td>1992-11-17</td>\n",
              "      <td>Y</td>\n",
              "      <td>8.5</td>\n",
              "    </tr>\n",
              "    <tr>\n",
              "      <th>4</th>\n",
              "      <td>Meat Loaf</td>\n",
              "      <td>Bat Out of Hell</td>\n",
              "      <td>1977</td>\n",
              "      <td>00:46:33</td>\n",
              "      <td>hard rock, progressive rock</td>\n",
              "      <td>20.6</td>\n",
              "      <td>43</td>\n",
              "      <td>1977-10-21</td>\n",
              "      <td>NaN</td>\n",
              "      <td>8.0</td>\n",
              "    </tr>\n",
              "  </tbody>\n",
              "</table>\n",
              "</div>\n",
              "      <button class=\"colab-df-convert\" onclick=\"convertToInteractive('df-7d1006b1-bf3b-4eba-b74f-483b42d4c09f')\"\n",
              "              title=\"Convert this dataframe to an interactive table.\"\n",
              "              style=\"display:none;\">\n",
              "        \n",
              "  <svg xmlns=\"http://www.w3.org/2000/svg\" height=\"24px\"viewBox=\"0 0 24 24\"\n",
              "       width=\"24px\">\n",
              "    <path d=\"M0 0h24v24H0V0z\" fill=\"none\"/>\n",
              "    <path d=\"M18.56 5.44l.94 2.06.94-2.06 2.06-.94-2.06-.94-.94-2.06-.94 2.06-2.06.94zm-11 1L8.5 8.5l.94-2.06 2.06-.94-2.06-.94L8.5 2.5l-.94 2.06-2.06.94zm10 10l.94 2.06.94-2.06 2.06-.94-2.06-.94-.94-2.06-.94 2.06-2.06.94z\"/><path d=\"M17.41 7.96l-1.37-1.37c-.4-.4-.92-.59-1.43-.59-.52 0-1.04.2-1.43.59L10.3 9.45l-7.72 7.72c-.78.78-.78 2.05 0 2.83L4 21.41c.39.39.9.59 1.41.59.51 0 1.02-.2 1.41-.59l7.78-7.78 2.81-2.81c.8-.78.8-2.07 0-2.86zM5.41 20L4 18.59l7.72-7.72 1.47 1.35L5.41 20z\"/>\n",
              "  </svg>\n",
              "      </button>\n",
              "      \n",
              "  <style>\n",
              "    .colab-df-container {\n",
              "      display:flex;\n",
              "      flex-wrap:wrap;\n",
              "      gap: 12px;\n",
              "    }\n",
              "\n",
              "    .colab-df-convert {\n",
              "      background-color: #E8F0FE;\n",
              "      border: none;\n",
              "      border-radius: 50%;\n",
              "      cursor: pointer;\n",
              "      display: none;\n",
              "      fill: #1967D2;\n",
              "      height: 32px;\n",
              "      padding: 0 0 0 0;\n",
              "      width: 32px;\n",
              "    }\n",
              "\n",
              "    .colab-df-convert:hover {\n",
              "      background-color: #E2EBFA;\n",
              "      box-shadow: 0px 1px 2px rgba(60, 64, 67, 0.3), 0px 1px 3px 1px rgba(60, 64, 67, 0.15);\n",
              "      fill: #174EA6;\n",
              "    }\n",
              "\n",
              "    [theme=dark] .colab-df-convert {\n",
              "      background-color: #3B4455;\n",
              "      fill: #D2E3FC;\n",
              "    }\n",
              "\n",
              "    [theme=dark] .colab-df-convert:hover {\n",
              "      background-color: #434B5C;\n",
              "      box-shadow: 0px 1px 3px 1px rgba(0, 0, 0, 0.15);\n",
              "      filter: drop-shadow(0px 1px 2px rgba(0, 0, 0, 0.3));\n",
              "      fill: #FFFFFF;\n",
              "    }\n",
              "  </style>\n",
              "\n",
              "      <script>\n",
              "        const buttonEl =\n",
              "          document.querySelector('#df-7d1006b1-bf3b-4eba-b74f-483b42d4c09f button.colab-df-convert');\n",
              "        buttonEl.style.display =\n",
              "          google.colab.kernel.accessAllowed ? 'block' : 'none';\n",
              "\n",
              "        async function convertToInteractive(key) {\n",
              "          const element = document.querySelector('#df-7d1006b1-bf3b-4eba-b74f-483b42d4c09f');\n",
              "          const dataTable =\n",
              "            await google.colab.kernel.invokeFunction('convertToInteractive',\n",
              "                                                     [key], {});\n",
              "          if (!dataTable) return;\n",
              "\n",
              "          const docLinkHtml = 'Like what you see? Visit the ' +\n",
              "            '<a target=\"_blank\" href=https://colab.research.google.com/notebooks/data_table.ipynb>data table notebook</a>'\n",
              "            + ' to learn more about interactive tables.';\n",
              "          element.innerHTML = '';\n",
              "          dataTable['output_type'] = 'display_data';\n",
              "          await google.colab.output.renderOutput(dataTable, element);\n",
              "          const docLink = document.createElement('div');\n",
              "          docLink.innerHTML = docLinkHtml;\n",
              "          element.appendChild(docLink);\n",
              "        }\n",
              "      </script>\n",
              "    </div>\n",
              "  </div>\n",
              "  "
            ]
          },
          "metadata": {},
          "execution_count": 44
        }
      ]
    },
    {
      "cell_type": "code",
      "source": [
        "# Access to the column Length\n",
        "x = df[['Length']]\n",
        "x"
      ],
      "metadata": {
        "id": "Ejtx20WaNgT6"
      },
      "execution_count": null,
      "outputs": []
    },
    {
      "cell_type": "code",
      "source": [
        "# Get the column as a dataframe\n",
        "x = df[['Artist']]\n",
        "type(x)"
      ],
      "metadata": {
        "colab": {
          "base_uri": "https://localhost:8080/"
        },
        "id": "akFIPxBxNmjw",
        "outputId": "4f614ba3-6973-44ca-f3d8-0dfc1a219040"
      },
      "execution_count": 46,
      "outputs": [
        {
          "output_type": "execute_result",
          "data": {
            "text/plain": [
              "pandas.core.frame.DataFrame"
            ]
          },
          "metadata": {},
          "execution_count": 46
        }
      ]
    },
    {
      "cell_type": "code",
      "source": [
        "# Access to multiple columns\n",
        "y = df[['Artist','Length','Genre']]\n",
        "y"
      ],
      "metadata": {
        "id": "DdtVDn7CNpRt"
      },
      "execution_count": null,
      "outputs": []
    },
    {
      "cell_type": "code",
      "source": [
        "# Access the value on the first row and the first column\n",
        "df.iloc[0, 0]"
      ],
      "metadata": {
        "id": "b-GFVX0QNsXI"
      },
      "execution_count": null,
      "outputs": []
    },
    {
      "cell_type": "code",
      "source": [
        "# Access the value on the second row and the first column\n",
        "df.iloc[1,0]"
      ],
      "metadata": {
        "id": "GeRB3xTaNu9D"
      },
      "execution_count": null,
      "outputs": []
    },
    {
      "cell_type": "code",
      "source": [
        "# Access the column using the name\n",
        "df.loc[1, 'Artist']"
      ],
      "metadata": {
        "id": "9blklnhRNvpO"
      },
      "execution_count": null,
      "outputs": []
    },
    {
      "cell_type": "code",
      "source": [
        "# Slicing the dataframe\n",
        "df.iloc[0:2, 0:3]"
      ],
      "metadata": {
        "id": "DUyEBgScNzvQ"
      },
      "execution_count": null,
      "outputs": []
    },
    {
      "cell_type": "code",
      "source": [
        "# Quiz on DataFrame\n",
        "# Use a variable q to store the column Rating as a dataframe\n",
        "q = df[['Rating']]\n",
        "q"
      ],
      "metadata": {
        "id": "JjpVImotN2ms"
      },
      "execution_count": null,
      "outputs": []
    },
    {
      "cell_type": "code",
      "source": [
        "# Assign the variable q to the dataframe that is made up of the column Released and Artist:\n",
        "q = df[['Released', 'Artist']]\n",
        "q"
      ],
      "metadata": {
        "id": "Wq6kMUoaOAaV"
      },
      "execution_count": null,
      "outputs": []
    },
    {
      "cell_type": "code",
      "source": [
        "# Access the 2nd row and the 3rd column of df:\n",
        "df.iloc[1, 2]"
      ],
      "metadata": {
        "id": "icyheAXwOGaG"
      },
      "execution_count": null,
      "outputs": []
    },
    {
      "cell_type": "code",
      "source": [
        "# Use the following list to convert the dataframe index df to characters and assign it to df_new; find the element corresponding to the row index a and column 'Artist'. \n",
        "# Then select the rows a through d for the column 'Artist'\n",
        "new_index = ['a','b','c','d','e','f','g','h']\n",
        "df_new = df\n",
        "df_new.index = new_index\n",
        "df_new.loc['a', 'Artist']\n",
        "df_new.loc['a':'d', 'Artist']\n"
      ],
      "metadata": {
        "id": "ZltegztKONN2"
      },
      "execution_count": null,
      "outputs": []
    },
    {
      "cell_type": "markdown",
      "source": [
        "**Review Questions**"
      ],
      "metadata": {
        "id": "Qn9Tuh86cwDl"
      }
    },
    {
      "cell_type": "code",
      "source": [
        "# Question 1 - What do the following lines of code do? SOL: Read the file \"Example1.txt\". \n",
        "\n",
        "with open(\"Example1.txt\",\"r\") as file1:\n",
        "  FileContent = file1.readlines()\n",
        "  print(FileContent)"
      ],
      "metadata": {
        "id": "W4BooF0EOV0q"
      },
      "execution_count": null,
      "outputs": []
    },
    {
      "cell_type": "code",
      "source": [
        "# Question 2 - What do the following lines of code do? SOL: Write to the file \"Example2.txt\". \n",
        "\n",
        "with open(\"Example2.txt\",\"w\") as writefile:\n",
        "  writefile.write(\"This is line A\\n\")\n",
        "  writefile.write(\"This is line B\\n\")"
      ],
      "metadata": {
        "id": "7hN3x_jic7oR"
      },
      "execution_count": null,
      "outputs": []
    },
    {
      "cell_type": "code",
      "source": [
        "# Question 3 - What do the following lines of code do? SOL: Append the file \"Example3.txt\". \n",
        "\n",
        "with open(\"Example3.txt\",\"a\") as file1:\n",
        "  file1.write(\"This is line C\\n\")"
      ],
      "metadata": {
        "id": "UQuTqRrAdDuH"
      },
      "execution_count": null,
      "outputs": []
    },
    {
      "cell_type": "code",
      "source": [
        "# Question 4 - What is the result of applying the following method df.head() to the dataframe \"df\"? SOL: Prints the first 5 rows of the dataframe. "
      ],
      "metadata": {
        "id": "6XJ3bsUYdLqY"
      },
      "execution_count": null,
      "outputs": []
    }
  ]
}