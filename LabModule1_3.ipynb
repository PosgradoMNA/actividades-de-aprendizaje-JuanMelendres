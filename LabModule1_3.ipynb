{
  "nbformat": 4,
  "nbformat_minor": 0,
  "metadata": {
    "colab": {
      "provenance": [],
      "collapsed_sections": [],
      "authorship_tag": "ABX9TyMf17Gp6zXNeFOe0tyUwHwT",
      "include_colab_link": true
    },
    "kernelspec": {
      "name": "python3",
      "display_name": "Python 3"
    },
    "language_info": {
      "name": "python"
    }
  },
  "cells": [
    {
      "cell_type": "markdown",
      "metadata": {
        "id": "view-in-github",
        "colab_type": "text"
      },
      "source": [
        "<a href=\"https://colab.research.google.com/github/PosgradoMNA/actividades-de-aprendizaje-JuanMelendres/blob/main/LabModule1_3.ipynb\" target=\"_parent\"><img src=\"https://colab.research.google.com/assets/colab-badge.svg\" alt=\"Open In Colab\"/></a>"
      ]
    },
    {
      "cell_type": "markdown",
      "source": [
        "# **Juan Melendres - A00369017**"
      ],
      "metadata": {
        "id": "yfZ3Y6-1Vhka"
      }
    },
    {
      "cell_type": "markdown",
      "source": [
        "# **Module 1 - Python Basics**"
      ],
      "metadata": {
        "id": "P6_cjUGZY-Jw"
      }
    },
    {
      "cell_type": "markdown",
      "source": [
        "**First Python output**"
      ],
      "metadata": {
        "id": "USUQf2Q3V_fT"
      }
    },
    {
      "cell_type": "code",
      "execution_count": null,
      "metadata": {
        "id": "8rTZ-y6qU7kj"
      },
      "outputs": [],
      "source": [
        "# Try your first Python output\n",
        "print('Hello, Python!')\n",
        "print('Hello, Juan Melendres!')"
      ]
    },
    {
      "cell_type": "markdown",
      "source": [
        "**Check the Python Version**"
      ],
      "metadata": {
        "id": "ttDb5vxXV1W0"
      }
    },
    {
      "cell_type": "code",
      "source": [
        "import sys\n",
        "# Check the Python Version\n",
        "print(sys.version)\n",
        "print(\"Python version = \" + sys.version)"
      ],
      "metadata": {
        "colab": {
          "base_uri": "https://localhost:8080/"
        },
        "id": "khCWCH9wV7cO",
        "outputId": "ab2b16a3-059d-4aea-8308-784de6e0d685"
      },
      "execution_count": 1,
      "outputs": [
        {
          "output_type": "stream",
          "name": "stdout",
          "text": [
            "3.7.14 (default, Sep  8 2022, 00:06:44) \n",
            "[GCC 7.5.0]\n",
            "Python version = 3.7.14 (default, Sep  8 2022, 00:06:44) \n",
            "[GCC 7.5.0]\n"
          ]
        }
      ]
    },
    {
      "cell_type": "markdown",
      "source": [
        "**Comments**"
      ],
      "metadata": {
        "id": "uhCeYgk4WSYc"
      }
    },
    {
      "cell_type": "code",
      "source": [
        "# Practice on writing comments\n",
        "print('Hello, Python!')  # This line prints a string\n",
        "# print('Hi')\n",
        "# print('Hi comments')"
      ],
      "metadata": {
        "id": "4CEo3lG4WuTK"
      },
      "execution_count": null,
      "outputs": []
    },
    {
      "cell_type": "markdown",
      "source": [
        "**Exercise: Your First Program**"
      ],
      "metadata": {
        "id": "DBQJIx5gW1df"
      }
    },
    {
      "cell_type": "code",
      "source": [
        "# Write your code below.\n",
        "print(\"Hello, wolrd!\")\n",
        "# Write your code below.\n",
        "print(\"Hello, wolrd!\")  # Print the traditional hello world"
      ],
      "metadata": {
        "id": "D9PNw4r5W2TK"
      },
      "execution_count": null,
      "outputs": []
    },
    {
      "cell_type": "markdown",
      "source": [
        "**Types**"
      ],
      "metadata": {
        "id": "13noHn4PW5B6"
      }
    },
    {
      "cell_type": "code",
      "source": [
        "num = 11 # Integer\n",
        "num_2 = 2.14 # Float\n",
        "str = \"Hello, Python 101!\"\n",
        "# Write your code below.\n",
        "type(12.0)\n",
        "# Integer in Python\n",
        "# Print the type of -1\n",
        "type(-1)\n",
        "# Print the type of 4\n",
        "type(4)\n",
        "# Print the type of 0\n",
        "type(0)\n",
        "# Floats in Python\n",
        "# Print the type of 1.0\n",
        "type(1.0)\n",
        "# Print the type of 0.5\n",
        "type(0.5)\n",
        "# Print the type of 0.56\n",
        "type(0.56)\n",
        "# Converting from one object type to a different object type\n",
        "# Verify that this is an integer\n",
        "type(2)\n",
        "# Convert 2 to a float\n",
        "float(2)\n",
        "# Convert integer 2 to a float and check its type\n",
        "type(float(2))\n",
        "# Casting 1.1 to integer will result in loss of information\n",
        "int(1.1)\n",
        "# Convert a string into an integer\n",
        "int('1')\n",
        "# Convert a string into an integer with error\n",
        "# int('1 or 2 people') # We can not convert string with letters to a string\n",
        "# Convert the string \"1.2\" into a float\n",
        "float('1.2')\n",
        "# Type of True\n",
        "type(True)\n",
        "# Type of False\n",
        "type(False)\n",
        "# Convert True to int\n",
        "int(True)\n",
        "# Convert 1 to boolean\n",
        "bool(1)\n",
        "# Convert 0 to boolean\n",
        "bool(0)\n",
        "# Convert True to float\n",
        "float(True)"
      ],
      "metadata": {
        "id": "GzYZiRO9W9vL"
      },
      "execution_count": null,
      "outputs": []
    },
    {
      "cell_type": "markdown",
      "source": [
        "**Exercise: Types**"
      ],
      "metadata": {
        "id": "zMr-lXXZXRJs"
      }
    },
    {
      "cell_type": "code",
      "source": [
        "# What is the data type of the result of: 6 / 2?\n",
        "# Write your code below. \n",
        "type(6/2) # Float\n",
        "# Write your code below.\n",
        "# What is the type of the result of: 6 // 2? (Note the double slash //.)\n",
        "type(6//2)  # int, as the double slashes stand for integer division"
      ],
      "metadata": {
        "id": "T9i9hzT5XT9G"
      },
      "execution_count": null,
      "outputs": []
    },
    {
      "cell_type": "markdown",
      "source": [
        "**Expression and Variables**"
      ],
      "metadata": {
        "id": "684vZc_eXXbC"
      }
    },
    {
      "cell_type": "code",
      "source": [
        "# Addition operation expression\n",
        "print(43 + 60 + 16 + 41)\n",
        "# Subtraction operation expression\n",
        "print(50 - 60)\n",
        "# Multiplication operation expression\n",
        "print(5 * 5)\n",
        "# Division operation expression\n",
        "print(25 / 5)\n",
        "# Integer division operation expression\n",
        "print(25 // 6)"
      ],
      "metadata": {
        "id": "JeR1t3HHXad0"
      },
      "execution_count": null,
      "outputs": []
    },
    {
      "cell_type": "markdown",
      "source": [
        "**Exercise: Expression**"
      ],
      "metadata": {
        "id": "cnCVW02zXdDS"
      }
    },
    {
      "cell_type": "code",
      "source": [
        "# Let's write an expression that calculates how many hours there are in 160 minutes:\n",
        "print(160/60) # OR 160//60\n",
        "# Mathematical expression\n",
        "print(30 + 2 * 60)\n",
        "# OR\n",
        "print((30 + 2) * 60)"
      ],
      "metadata": {
        "id": "3zMvd1dmXftM"
      },
      "execution_count": null,
      "outputs": []
    },
    {
      "cell_type": "markdown",
      "source": [
        "**Variables**"
      ],
      "metadata": {
        "id": "2hkMNqTuXiLR"
      }
    },
    {
      "cell_type": "code",
      "source": [
        "# Store value into variable\n",
        "x = 43 + 60 + 16 + 41\n",
        "print(x)\n",
        "# Use another variable to store the result of the operation between variable and value\n",
        "y = x / 60\n",
        "print(x)\n",
        "# Overwrite variable with new value\n",
        "x = x / 60\n",
        "print(x)"
      ],
      "metadata": {
        "id": "JXQUPF8IXkCl"
      },
      "execution_count": null,
      "outputs": []
    },
    {
      "cell_type": "code",
      "source": [
        "# Name the variables meaningfully\n",
        "total_min = 43 + 42 + 57\n",
        "print(total_min)\n",
        "total_hours = total_min / 60 \n",
        "print(total_hours)"
      ],
      "metadata": {
        "id": "geOJoZJjajqM"
      },
      "execution_count": null,
      "outputs": []
    },
    {
      "cell_type": "code",
      "source": [
        "# Complicate expression\n",
        "total_hours = (43 + 42 + 57) / 60  # Total hours in a single expression\n",
        "print(total_hours)"
      ],
      "metadata": {
        "id": "a9JtBwWnahDQ"
      },
      "execution_count": null,
      "outputs": []
    },
    {
      "cell_type": "markdown",
      "source": [
        "**Exercise: Expression and Variables in Python**"
      ],
      "metadata": {
        "id": "7iQsg12OX4E8"
      }
    },
    {
      "cell_type": "code",
      "source": [
        "# What is the value of x where x = 3 + 2 * 2\n",
        "x = 3 + 2 * 2\n",
        "print(x)\n",
        "# What is the value of y where y = (3 + 2) * 2?\n",
        "y = (3 + 2) * 2\n",
        "print(y)\n",
        "# What is the value of z where z = x + y?\n",
        "z = x + y\n",
        "print(z)"
      ],
      "metadata": {
        "id": "3JNa9h57X9MA"
      },
      "execution_count": null,
      "outputs": []
    },
    {
      "cell_type": "markdown",
      "source": [
        "**Quizzes & Quizzes from labs**"
      ],
      "metadata": {
        "id": "5oHbJHX3ao58"
      }
    },
    {
      "cell_type": "code",
      "source": [
        "#  Question 1\n",
        "# Using the Practice Lab, find the result of executing print(\"Hello\\nWorld!\") statement.\n",
        "print(\"Hello\\nWorld!\")\n",
        "# Answer:\n",
        "# Hello\n",
        "# World"
      ],
      "metadata": {
        "id": "Sa2IlDnVawhk"
      },
      "execution_count": null,
      "outputs": []
    },
    {
      "cell_type": "code",
      "source": [
        "#  Question 2\n",
        "# What is the output of executing the following statement: # print('Hello World!')?\n",
        "# print('Hello World!')\n",
        "# Answer: There is no output as it is a comment."
      ],
      "metadata": {
        "id": "paJ2pMOFazQS"
      },
      "execution_count": null,
      "outputs": []
    },
    {
      "cell_type": "code",
      "source": [
        "#  Question 1\n",
        "# What is the type of the following: int(1.0)?\n",
        "int(1.0) # int"
      ],
      "metadata": {
        "id": "am6B91_Ja4Mz"
      },
      "execution_count": null,
      "outputs": []
    },
    {
      "cell_type": "code",
      "source": [
        "#  Question 2\n",
        "# Enter the code to convert the number 1 to a Boolean.\n",
        "bool(1)"
      ],
      "metadata": {
        "id": "RSjBP3iva47p"
      },
      "execution_count": null,
      "outputs": []
    },
    {
      "cell_type": "markdown",
      "source": [
        "# **Lab 2 Strings (Module 1)**"
      ],
      "metadata": {
        "id": "8dJ8Q_d2X-IB"
      }
    },
    {
      "cell_type": "markdown",
      "source": [
        "**Strings**"
      ],
      "metadata": {
        "id": "iqU_KC7HYLXm"
      }
    },
    {
      "cell_type": "code",
      "source": [
        "# Use quotation marks for defining string\n",
        "print(\"Juan Melendres\") \n",
        "# Also working with single quotation marks\n",
        "print('Juan Melendres')\n",
        "# Assign string to variable\n",
        "name = \"Juan Melendres\"\n",
        "print(name)"
      ],
      "metadata": {
        "id": "H9KXAUN3YO0-"
      },
      "execution_count": null,
      "outputs": []
    },
    {
      "cell_type": "markdown",
      "source": [
        "**Indexing strings**"
      ],
      "metadata": {
        "id": "2z-2KpySYQWH"
      }
    },
    {
      "cell_type": "code",
      "source": [
        "name = \"Juan Melendres\"\n",
        "# Print the first element in the string\n",
        "print(name[0])"
      ],
      "metadata": {
        "id": "QII9Bf5EYTu6"
      },
      "execution_count": null,
      "outputs": []
    },
    {
      "cell_type": "code",
      "source": [
        "# Print the element on index 6 in the string\n",
        "print(name[6])"
      ],
      "metadata": {
        "id": "WkqZxZgMaZH8"
      },
      "execution_count": null,
      "outputs": []
    },
    {
      "cell_type": "code",
      "source": [
        "# Print the element on the 13th index in the string\n",
        "print(name[13])"
      ],
      "metadata": {
        "id": "i3Cx1hItaXot"
      },
      "execution_count": null,
      "outputs": []
    },
    {
      "cell_type": "markdown",
      "source": [
        "**Negative Indexing**"
      ],
      "metadata": {
        "id": "yek7LkK7YZfH"
      }
    },
    {
      "cell_type": "code",
      "source": [
        "name = \"Juan Melendres\"\n",
        "# Print the last element in the string\n",
        "print(name[-1])"
      ],
      "metadata": {
        "id": "BxhDYkMIYclv"
      },
      "execution_count": null,
      "outputs": []
    },
    {
      "cell_type": "code",
      "source": [
        "# Print the first element in the string\n",
        "print(name[-10])"
      ],
      "metadata": {
        "id": "pskTxxyaaWPH"
      },
      "execution_count": null,
      "outputs": []
    },
    {
      "cell_type": "code",
      "source": [
        "# Find the length of string\n",
        "len(name)"
      ],
      "metadata": {
        "id": "FCRLfp9naUo0"
      },
      "execution_count": null,
      "outputs": []
    },
    {
      "cell_type": "markdown",
      "source": [
        "**Slicing**"
      ],
      "metadata": {
        "id": "Ibaq9y8dZXcN"
      }
    },
    {
      "cell_type": "code",
      "source": [
        "name = \"Juan Melendres\"\n",
        "# Take the slice on variable name with only index 0 to index 3\n",
        "name[0:4]\n"
      ],
      "metadata": {
        "id": "gUBTzGA5ZYbg"
      },
      "execution_count": null,
      "outputs": []
    },
    {
      "cell_type": "code",
      "source": [
        "# Take the slice on variable name with only index 8 to index 11\n",
        "name[8:12]"
      ],
      "metadata": {
        "id": "YlRcYsZqaS6q"
      },
      "execution_count": null,
      "outputs": []
    },
    {
      "cell_type": "markdown",
      "source": [
        "**Stride**"
      ],
      "metadata": {
        "id": "Wci9rHF8Znq9"
      }
    },
    {
      "cell_type": "code",
      "source": [
        "name = \"Juan Melendres\"\n",
        "# Get every second element. The elments on index 1, 3, 5 ...\n",
        "name[::2]"
      ],
      "metadata": {
        "id": "sZgfutg_Zo5V"
      },
      "execution_count": null,
      "outputs": []
    },
    {
      "cell_type": "code",
      "source": [
        "# Get every second element in the range from index 0 to index 4\n",
        "name[0:5:2]"
      ],
      "metadata": {
        "id": "MhLw36P6aNsV"
      },
      "execution_count": null,
      "outputs": []
    },
    {
      "cell_type": "markdown",
      "source": [
        "**Concatenate Strings**"
      ],
      "metadata": {
        "id": "ot_E6Qx5Z0is"
      }
    },
    {
      "cell_type": "code",
      "source": [
        "name = \"Juan Melendres\"\n",
        "# Concatenate two strings\n",
        "statement = name + \"is the best\"\n",
        "statement\n"
      ],
      "metadata": {
        "id": "EiWn8eiRZ1jk"
      },
      "execution_count": null,
      "outputs": []
    },
    {
      "cell_type": "code",
      "source": [
        "name = \"Juan Melendres\"\n",
        "# Print the string for 3 times\n",
        "3 * name"
      ],
      "metadata": {
        "id": "4pNe7O5VaBjg"
      },
      "execution_count": null,
      "outputs": []
    },
    {
      "cell_type": "code",
      "source": [
        "# Concatenate strings\n",
        "name = \"Juan Melendres\"\n",
        "name = name + \" is the best\"\n",
        "name"
      ],
      "metadata": {
        "id": "jCjCNSAqaI5N"
      },
      "execution_count": null,
      "outputs": []
    },
    {
      "cell_type": "markdown",
      "source": [
        "**Escape Sequences**"
      ],
      "metadata": {
        "id": "J4Rp4GfibM3n"
      }
    },
    {
      "cell_type": "code",
      "source": [
        "# New line escape sequence\n",
        "print(\"Juan Melendres \\n is the best\" )"
      ],
      "metadata": {
        "id": "eRkfoslJbPJA"
      },
      "execution_count": null,
      "outputs": []
    },
    {
      "cell_type": "code",
      "source": [
        "# Tab escape sequence\n",
        "print(\"Juan Melendres \\t is the best\" )"
      ],
      "metadata": {
        "id": "nWCi6u6WbUnb"
      },
      "execution_count": null,
      "outputs": []
    },
    {
      "cell_type": "code",
      "source": [
        "# Include back slash in string\n",
        "print(\"Juan Melendres \\\\ is the best\" )"
      ],
      "metadata": {
        "id": "RsuiLUW2bbEf"
      },
      "execution_count": null,
      "outputs": []
    },
    {
      "cell_type": "code",
      "source": [
        "# r will tell python that string will be display as raw string\n",
        "print(r\"Juan Melendres \\ is the best\" )"
      ],
      "metadata": {
        "id": "9ktXntm3bfCD"
      },
      "execution_count": null,
      "outputs": []
    },
    {
      "cell_type": "markdown",
      "source": [
        "**String Operations**"
      ],
      "metadata": {
        "id": "w06AhWWSbteF"
      }
    },
    {
      "cell_type": "code",
      "source": [
        "# Convert all the characters in string to upper case\n",
        "a = \"Thriller is the sixth studio album\"\n",
        "print(\"before upper:\", a)\n",
        "b = a.upper()\n",
        "print(\"After upper:\", b)"
      ],
      "metadata": {
        "colab": {
          "base_uri": "https://localhost:8080/"
        },
        "id": "rfDSgXWsbygW",
        "outputId": "46e37a8f-d17b-4fd1-860f-d96f811835a2"
      },
      "execution_count": 15,
      "outputs": [
        {
          "output_type": "stream",
          "name": "stdout",
          "text": [
            "before upper: Thriller is the sixth studio album\n",
            "After upper: THRILLER IS THE SIXTH STUDIO ALBUM\n"
          ]
        }
      ]
    },
    {
      "cell_type": "code",
      "source": [
        "# Replace the old substring with the new target substring is the segment has been found in the string\n",
        "a = \"Juan Melendres is the best\"\n",
        "b = a.replace('Michael', 'Janet')\n",
        "b"
      ],
      "metadata": {
        "id": "BljCBg46b2mp"
      },
      "execution_count": null,
      "outputs": []
    },
    {
      "cell_type": "code",
      "source": [
        "# Find the substring in the string. Only the index of the first elment of substring in string will be the output\n",
        "name = \"Juan Melendres\"\n",
        "name.find('el')"
      ],
      "metadata": {
        "id": "pMEa8klxcLQI"
      },
      "execution_count": null,
      "outputs": []
    },
    {
      "cell_type": "code",
      "source": [
        "# Find the substring in the string.\n",
        "name.find('Juan')"
      ],
      "metadata": {
        "id": "kjcQ3vNKcR2l"
      },
      "execution_count": null,
      "outputs": []
    },
    {
      "cell_type": "markdown",
      "source": [
        "**Quizzes & Quizzes from labs**"
      ],
      "metadata": {
        "id": "A5QH3fCNYBix"
      }
    },
    {
      "cell_type": "code",
      "source": [
        "# Question 1\n",
        "# Consider the following string: Numbers = \"0123456\" How would you obtain the even elements?\n",
        "Numbers = \"0123456\"\n",
        "Numbers[::2]"
      ],
      "metadata": {
        "id": "OkkXqlqMYFUq"
      },
      "execution_count": null,
      "outputs": []
    },
    {
      "cell_type": "code",
      "source": [
        "# Question 2\n",
        "# What is the result of the following line of code: \"0123456\".find('1')\n",
        "print(\"0123456\".find('1')) # Output = 1"
      ],
      "metadata": {
        "id": "WfLU66Inad6Y"
      },
      "execution_count": null,
      "outputs": []
    },
    {
      "cell_type": "code",
      "source": [
        "# What is the value of the variable a after the following code is executed?\n",
        "a = \"1\" # \"1\""
      ],
      "metadata": {
        "id": "eXVxSF8tcxA5"
      },
      "execution_count": null,
      "outputs": []
    },
    {
      "cell_type": "code",
      "source": [
        "# What is the value of the variable b after the following code is executed?\n",
        "b = \"2\" # \"2\""
      ],
      "metadata": {
        "id": "Brto2x85da12"
      },
      "execution_count": null,
      "outputs": []
    },
    {
      "cell_type": "code",
      "source": [
        "# What is the value of the variable c after the following code is executed?\n",
        "c = a + b # \"12\""
      ],
      "metadata": {
        "id": "hedQYVXPdcKA"
      },
      "execution_count": null,
      "outputs": []
    },
    {
      "cell_type": "code",
      "source": [
        "# Consider the variable d use slicing to print out the first three elements\n",
        "d = \"ABCDEFG\"\n",
        "print(d[0:3]) "
      ],
      "metadata": {
        "id": "U2NwWFocddiz"
      },
      "execution_count": null,
      "outputs": []
    },
    {
      "cell_type": "code",
      "source": [
        "# Use a stride value of 2 to print out every second character of the string e:\n",
        "e = 'clocrkr1e1c1t'\n",
        "print(e[::2]) "
      ],
      "metadata": {
        "id": "3amHce9HdeF9"
      },
      "execution_count": null,
      "outputs": []
    },
    {
      "cell_type": "code",
      "source": [
        "# Print out a backslash\n",
        "print(\"\\\\\\\\\\\\\") # OR print(r\"\\ \")"
      ],
      "metadata": {
        "id": "w2rgKkX4dpc3"
      },
      "execution_count": null,
      "outputs": []
    },
    {
      "cell_type": "code",
      "source": [
        "# Convert the variable f to uppercase:\n",
        "f = \"You are wrong\"\n",
        "f.upper()"
      ],
      "metadata": {
        "id": "O34jo5Yud24k"
      },
      "execution_count": null,
      "outputs": []
    },
    {
      "cell_type": "code",
      "source": [
        "# Consider the variable g, and find the first index of the sub-string snow\n",
        "g = \"Mary had a little lamb Little lamb, little lamb Mary had a little lamb \\\n",
        "Its fleece was white as snow And everywhere that Mary went Mary went, Mary went \\\n",
        "Everywhere that Mary went The lamb was sure to go\"\n",
        "g.find(\"snow\")"
      ],
      "metadata": {
        "id": "DvGkF2sCd_hF"
      },
      "execution_count": null,
      "outputs": []
    },
    {
      "cell_type": "code",
      "source": [
        "# In the variable g, replace the sub-string Mary with Bob\n",
        "g.replace(\"Mary\", \"Bob\")"
      ],
      "metadata": {
        "id": "nP7nz0nFeHNP"
      },
      "execution_count": null,
      "outputs": []
    },
    {
      "cell_type": "markdown",
      "source": [
        "**Review Questions**"
      ],
      "metadata": {
        "id": "DD7VJ2qwehys"
      }
    },
    {
      "cell_type": "markdown",
      "source": [
        "Question 1 What is the result of the following operation in Python: 3 + 2 * 2 "
      ],
      "metadata": {
        "id": "OrlBBtANeqMA"
      }
    },
    {
      "cell_type": "code",
      "source": [
        "3 + 2 * 2 # 7"
      ],
      "metadata": {
        "id": "Nv7Tew4cekAO"
      },
      "execution_count": null,
      "outputs": []
    },
    {
      "cell_type": "markdown",
      "source": [
        "Question 2\n",
        "In Python, if you executed name = 'Lizz', what would be the output of print(name[0:2])?"
      ],
      "metadata": {
        "id": "WUYr-MeDewRi"
      }
    },
    {
      "cell_type": "code",
      "source": [
        "name = 'Lizz'\n",
        "print(name[0:2])"
      ],
      "metadata": {
        "id": "tJ1jkjnGey9_"
      },
      "execution_count": null,
      "outputs": []
    },
    {
      "cell_type": "markdown",
      "source": [
        "Question 3 In Python, if you executed var = '01234567', what would be the result of print(var[::2])? "
      ],
      "metadata": {
        "id": "rUxBHZ3ce4zt"
      }
    },
    {
      "cell_type": "code",
      "source": [
        "var = '01234567'\n",
        "print(var[::2])"
      ],
      "metadata": {
        "id": "dngmUr3Ae8CL"
      },
      "execution_count": null,
      "outputs": []
    },
    {
      "cell_type": "markdown",
      "source": [
        "Question 4 In Python, what is the result of the following operation '1'+'2'?"
      ],
      "metadata": {
        "id": "-ZMkajHWfDmw"
      }
    },
    {
      "cell_type": "code",
      "source": [
        "'1'+'2'"
      ],
      "metadata": {
        "id": "pkRSPqNzfGzP"
      },
      "execution_count": null,
      "outputs": []
    },
    {
      "cell_type": "markdown",
      "source": [
        "Question 5 Given myvar = 'hello', how would you convert myvar into uppercase?"
      ],
      "metadata": {
        "id": "vRp98wuZfKAF"
      }
    },
    {
      "cell_type": "code",
      "source": [
        "myvar = 'hello'\n",
        "myvar.upper()"
      ],
      "metadata": {
        "id": "ZqfSA5ZJfMwy"
      },
      "execution_count": null,
      "outputs": []
    },
    {
      "cell_type": "markdown",
      "source": [
        "# **Module 2 - Python Data Structures**"
      ],
      "metadata": {
        "id": "nD8ESjnZfUsl"
      }
    },
    {
      "cell_type": "markdown",
      "source": [
        "**Lists and Tuples**"
      ],
      "metadata": {
        "id": "SuHlZVOnfiVO"
      }
    },
    {
      "cell_type": "code",
      "source": [
        "# Tuples are an ordered sequence.\n",
        "ratings = (10,9,6,5,10,8,9,6,2)\n",
        "ratings"
      ],
      "metadata": {
        "id": "n7o7mTUbgAoq"
      },
      "execution_count": null,
      "outputs": []
    },
    {
      "cell_type": "code",
      "source": [
        "# indexing for tuples\n",
        "ratings[3]"
      ],
      "metadata": {
        "id": "NURZqsE9hkIN"
      },
      "execution_count": null,
      "outputs": []
    },
    {
      "cell_type": "code",
      "source": [
        "# Sorted tuples\n",
        "ratingsSorted = sorted(ratings)\n",
        "ratingsSorted"
      ],
      "metadata": {
        "id": "SRztAr6fhZhR"
      },
      "execution_count": null,
      "outputs": []
    },
    {
      "cell_type": "code",
      "source": [
        "# List are an ordered sequence. (We can nest list inside a list and also nest tuples)\n",
        "lst = (\"Juan Melendres\", 10.1, 17)\n",
        "lst"
      ],
      "metadata": {
        "id": "0R6Bfa2JiLM0"
      },
      "execution_count": null,
      "outputs": []
    },
    {
      "cell_type": "markdown",
      "source": [
        "**Lab - Tuples**"
      ],
      "metadata": {
        "id": "z5OPHQSwjLe4"
      }
    },
    {
      "cell_type": "code",
      "source": [
        "# Nested Tuple\n",
        "# Creating a nest tuple\n",
        "NestedT = (1, 2, (\"pop\", \"rock\") ,(3,4),(\"disco\",(1,2)))\n",
        "NestedT"
      ],
      "metadata": {
        "id": "XEGk_CfTjKh8"
      },
      "execution_count": null,
      "outputs": []
    },
    {
      "cell_type": "code",
      "source": [
        "# Printing element on each index\n",
        "print(\"Element 0 of Tuple: \", NestedT[0])\n",
        "print(\"Element 1 of Tuple: \", NestedT[1])\n",
        "print(\"Element 2 of Tuple: \", NestedT[2])\n",
        "print(\"Element 3 of Tuple: \", NestedT[3])\n",
        "print(\"Element 4 of Tuple: \", NestedT[4])"
      ],
      "metadata": {
        "id": "Eh-EWzZHj9f4"
      },
      "execution_count": null,
      "outputs": []
    },
    {
      "cell_type": "code",
      "source": [
        "# Printing element on each index, including nest indexes\n",
        "print(\"Element 2, 0 of Tuple: \",   NestedT[2][0])\n",
        "print(\"Element 2, 1 of Tuple: \",   NestedT[2][1])\n",
        "print(\"Element 3, 0 of Tuple: \",   NestedT[3][0])\n",
        "print(\"Element 3, 1 of Tuple: \",   NestedT[3][1])\n",
        "print(\"Element 4, 0 of Tuple: \",   NestedT[4][0])\n",
        "print(\"Element 4, 1 of Tuple: \",   NestedT[4][1])"
      ],
      "metadata": {
        "id": "5Ijw2CugkAn8"
      },
      "execution_count": null,
      "outputs": []
    },
    {
      "cell_type": "markdown",
      "source": [
        "**Lab - List**"
      ],
      "metadata": {
        "id": "ok7_XI1alZja"
      }
    },
    {
      "cell_type": "code",
      "source": [
        "# Sample List\n",
        "L = [\"Juan Melendres\", 10.1,1982,\"MJ\",1]\n",
        "L"
      ],
      "metadata": {
        "id": "uxxmvFAjlbqk"
      },
      "execution_count": null,
      "outputs": []
    },
    {
      "cell_type": "code",
      "source": [
        "# List slicing\n",
        "L[3:5]"
      ],
      "metadata": {
        "id": "4w9QTk5oliwn"
      },
      "execution_count": null,
      "outputs": []
    },
    {
      "cell_type": "code",
      "source": [
        "# Use append to add elements to list\n",
        "L = [\"Juan Melendres\", 10.2]\n",
        "L.append(['pop', 10])\n",
        "L"
      ],
      "metadata": {
        "id": "C8tE0bJ5lk7V"
      },
      "execution_count": null,
      "outputs": []
    },
    {
      "cell_type": "code",
      "source": [
        "# Change the element based on the index\n",
        "A = [\"disco\", 10, 1.2]\n",
        "print('Before change:', A)\n",
        "A[0] = 'hard rock'\n",
        "print('After change:', A)"
      ],
      "metadata": {
        "id": "hinXuxjXlx3I"
      },
      "execution_count": null,
      "outputs": []
    },
    {
      "cell_type": "code",
      "source": [
        "# Delete the element based on the index\n",
        "print('Before change:', A)\n",
        "del(A[0])\n",
        "print('After change:', A)"
      ],
      "metadata": {
        "id": "_ygWkt_XlytN"
      },
      "execution_count": null,
      "outputs": []
    },
    {
      "cell_type": "code",
      "source": [
        "# Split the string, default is by space\n",
        "'Juan Melendres'.split()"
      ],
      "metadata": {
        "id": "uUsvAzSNl0Yy"
      },
      "execution_count": null,
      "outputs": []
    },
    {
      "cell_type": "code",
      "source": [
        "# Split the string by comma\n",
        "'A,B,C,D'.split(',')"
      ],
      "metadata": {
        "id": "f4XzeJCEl5Jy"
      },
      "execution_count": null,
      "outputs": []
    },
    {
      "cell_type": "markdown",
      "source": [
        "**Lab - Sets**"
      ],
      "metadata": {
        "id": "0JBw0Lk3nj3-"
      }
    },
    {
      "cell_type": "code",
      "source": [
        "# Convert list to set\n",
        "music_genres = set([\"pop\", \"pop\", \"rock\", \"folk rock\", \"hard rock\", \"soul\", \\\n",
        "                    \"progressive rock\", \"soft rock\", \"R&B\", \"disco\"])\n",
        "music_genres"
      ],
      "metadata": {
        "id": "r0lnGM-_nlyl"
      },
      "execution_count": null,
      "outputs": []
    },
    {
      "cell_type": "code",
      "source": [
        "# Sample Sets\n",
        "album_set1 = set([\"Thriller\", 'AC/DC', 'Back in Black'])\n",
        "album_set2 = set([ \"AC/DC\", \"Back in Black\", \"The Dark Side of the Moon\"])"
      ],
      "metadata": {
        "id": "bTtuu-9zntzd"
      },
      "execution_count": 47,
      "outputs": []
    },
    {
      "cell_type": "code",
      "source": [
        "# Find the intersections\n",
        "intersection = album_set1 & album_set2\n",
        "intersection"
      ],
      "metadata": {
        "id": "dQ2XRtyznusO"
      },
      "execution_count": null,
      "outputs": []
    },
    {
      "cell_type": "code",
      "source": [
        "# Find the difference in set1 but not set2\n",
        "album_set1.difference(album_set2)  "
      ],
      "metadata": {
        "id": "P4uBhMmCnw3-"
      },
      "execution_count": null,
      "outputs": []
    },
    {
      "cell_type": "code",
      "source": [
        "# Use intersection method to find the intersection of album_list1 and album_list2\n",
        "album_set1.intersection(album_set2)"
      ],
      "metadata": {
        "id": "qwuil4SnnzAj"
      },
      "execution_count": null,
      "outputs": []
    },
    {
      "cell_type": "markdown",
      "source": [
        "**Lab - Dictionaries**"
      ],
      "metadata": {
        "id": "sisIzCSLodKR"
      }
    },
    {
      "cell_type": "code",
      "source": [
        "# Create the dictionary\n",
        "Dict = {\"key1\": 1, \"key2\": \"2\", \"key3\": [3, 3, 3], \"key4\": (4, 4, 4), ('key5'): 5, (0, 1): 6}\n",
        "Dict"
      ],
      "metadata": {
        "id": "T-hKwxTHofu-"
      },
      "execution_count": null,
      "outputs": []
    },
    {
      "cell_type": "code",
      "source": [
        "# Access to the value by the key\n",
        "Dict[\"key1\"]"
      ],
      "metadata": {
        "id": "erven3AvpTiQ"
      },
      "execution_count": null,
      "outputs": []
    },
    {
      "cell_type": "code",
      "source": [
        "# Access to the value by the key\n",
        "Dict[(0, 1)]"
      ],
      "metadata": {
        "id": "_L27OTT6pQWr"
      },
      "execution_count": null,
      "outputs": []
    },
    {
      "cell_type": "markdown",
      "source": [
        "**Quizzes & Quizzes from labs**"
      ],
      "metadata": {
        "id": "5aJIsGvbgFc-"
      }
    },
    {
      "cell_type": "code",
      "source": [
        "# QUESTION 1\n",
        "# How do you access the last element of the following tuple: A=(0,1,2,3)?\n",
        "A = (0,1,2,3)\n",
        "A[3] # AND A[-1]"
      ],
      "metadata": {
        "id": "R2sIRLMWgHvt"
      },
      "execution_count": null,
      "outputs": []
    },
    {
      "cell_type": "code",
      "source": [
        "# QUESTION 2 \n",
        "# Consider the list: B=[\"a\",\"b\",\"c\"]\n",
        "# What is the result of the following B[1:]?\n",
        "B = [\"a\",\"b\",\"c\"]\n",
        "B[1:]"
      ],
      "metadata": {
        "id": "FAFU5Ra9huzS"
      },
      "execution_count": null,
      "outputs": []
    },
    {
      "cell_type": "markdown",
      "source": [
        "**Tuples Quiz**"
      ],
      "metadata": {
        "id": "3ZdBDY1IkH0c"
      }
    },
    {
      "cell_type": "code",
      "source": [
        "# sample tuple\n",
        "genres_tuple = (\"pop\", \"rock\", \"soul\", \"hard rock\", \"soft rock\", \\\n",
        "                \"R&B\", \"progressive rock\", \"disco\") \n",
        "genres_tuple"
      ],
      "metadata": {
        "id": "9IIueIQSkI8j"
      },
      "execution_count": null,
      "outputs": []
    },
    {
      "cell_type": "code",
      "source": [
        "# Find the length of the tuple, genres_tuple:\n",
        "len(genres_tuple)"
      ],
      "metadata": {
        "id": "PkNdeQE_kYHl"
      },
      "execution_count": null,
      "outputs": []
    },
    {
      "cell_type": "code",
      "source": [
        "# Access the element, with respect to index 3:\n",
        "genres_tuple[3]"
      ],
      "metadata": {
        "id": "_Xff2zVxki6M"
      },
      "execution_count": null,
      "outputs": []
    },
    {
      "cell_type": "code",
      "source": [
        "# Use slicing to obtain indexes 3, 4 and 5\n",
        "genres_tuple[3:6]"
      ],
      "metadata": {
        "id": "PctmNKdjknt1"
      },
      "execution_count": null,
      "outputs": []
    },
    {
      "cell_type": "code",
      "source": [
        "# Find the first two elements of the tuple genres_tuple:\n",
        "genres_tuple[0:2]"
      ],
      "metadata": {
        "id": "AQbMtU3kks_V"
      },
      "execution_count": null,
      "outputs": []
    },
    {
      "cell_type": "code",
      "source": [
        "# Find the first index of \"disco\":\n",
        "genres_tuple.index(\"disco\")"
      ],
      "metadata": {
        "id": "wLx_3Iu3kxMe"
      },
      "execution_count": null,
      "outputs": []
    },
    {
      "cell_type": "code",
      "source": [
        "# Generate a sorted List from the Tuple C_tuple=(-5, 1, -3):\n",
        "C_tuple = (-5, 1, -3)\n",
        "C_list = sorted(C_tuple)\n",
        "C_list"
      ],
      "metadata": {
        "id": "kJTiau8yk2aS"
      },
      "execution_count": null,
      "outputs": []
    },
    {
      "cell_type": "markdown",
      "source": [
        "**List Quiz**"
      ],
      "metadata": {
        "id": "xUGT5W1rlTsz"
      }
    },
    {
      "cell_type": "code",
      "source": [
        "# Create a list a_list, with the following elements 1, hello, [1,2,3] and True.\n",
        "a_list = [1, 'hello', [1, 2, 3] , True]\n",
        "a_list"
      ],
      "metadata": {
        "id": "EzSQC3L8lVS7"
      },
      "execution_count": null,
      "outputs": []
    },
    {
      "cell_type": "code",
      "source": [
        "# Find the value stored at index 1 of a_list\n",
        "a_list[1]"
      ],
      "metadata": {
        "id": "CXPXD6fkmETS"
      },
      "execution_count": null,
      "outputs": []
    },
    {
      "cell_type": "code",
      "source": [
        "# Retrieve the elements stored at index 1, 2 and 3 of a_list.\n",
        "a_list[1:4]"
      ],
      "metadata": {
        "id": "zEv1rHL1mIq8"
      },
      "execution_count": null,
      "outputs": []
    },
    {
      "cell_type": "code",
      "source": [
        "# Concatenate the following lists A = [1, 'a'] and B = [2, 1, 'd']:\n",
        "A = [1, 'a'] \n",
        "B = [2, 1, 'd']\n",
        "A + B"
      ],
      "metadata": {
        "id": "IjfNNrcmmMhC"
      },
      "execution_count": null,
      "outputs": []
    },
    {
      "cell_type": "markdown",
      "source": [
        "**Quizz - Sets**"
      ],
      "metadata": {
        "id": "Lrq7LXpumbV-"
      }
    },
    {
      "cell_type": "code",
      "source": [
        "# QUESTION 1 - What is the result of the following lines of code: S={'A','B','C'} U={'A','Z','C'} U.union(S)\n",
        "S = {'A','B','C'}\n",
        "U = {'A','Z','C'}\n",
        "U.union(S) # {'A', 'B', 'C', 'Z'}"
      ],
      "metadata": {
        "id": "5lZKE5xNmgXx"
      },
      "execution_count": null,
      "outputs": []
    },
    {
      "cell_type": "code",
      "source": [
        "# QUESTION 2 - What is the intersection of set S and U?\n",
        "S = {'A','B','C'}\n",
        "U = {'A','Z','C'}\n",
        "z = S & U\n",
        "z # {'A', 'C'}"
      ],
      "metadata": {
        "id": "b-wyzmFomwxM"
      },
      "execution_count": null,
      "outputs": []
    },
    {
      "cell_type": "code",
      "source": [
        "# Convert the list ['rap','house','electronic music', 'rap'] to a set:\n",
        "set(['rap','house','electronic music','rap'])"
      ],
      "metadata": {
        "id": "jnAbWLwpn9AD"
      },
      "execution_count": null,
      "outputs": []
    },
    {
      "cell_type": "code",
      "source": [
        "# set(['rap','house','electronic music','rap'])\n",
        "A = [1, 2, 2, 1]  \n",
        "B = set([1, 2, 2, 1])\n",
        "print(\"the sum of A is:\", sum(A))\n",
        "print(\"the sum of B is:\", sum(B))"
      ],
      "metadata": {
        "id": "AK3RRNVxoADU"
      },
      "execution_count": null,
      "outputs": []
    },
    {
      "cell_type": "code",
      "source": [
        "# Create a new set album_set3 that is the union of album_set1 and album_set2:\n",
        "album_set1 = set([\"Thriller\", 'AC/DC', 'Back in Black'])\n",
        "album_set2 = set([ \"AC/DC\", \"Back in Black\", \"The Dark Side of the Moon\"])\n",
        "album_set3 = album_set1.union(album_set2)\n",
        "album_set3"
      ],
      "metadata": {
        "id": "RVjzplA0oFiN"
      },
      "execution_count": null,
      "outputs": []
    },
    {
      "cell_type": "code",
      "source": [
        "# Find out if album_set1 is a subset of album_set3\n",
        "album_set1.issubset(album_set3)"
      ],
      "metadata": {
        "id": "VHlnLqfUoLFn"
      },
      "execution_count": null,
      "outputs": []
    },
    {
      "cell_type": "markdown",
      "source": [
        "**Quizz - Dictionaries**"
      ],
      "metadata": {
        "id": "4xiMke2poUKl"
      }
    },
    {
      "cell_type": "code",
      "source": [
        "# QUESTION 1 - Consider the following dictionary: D = {'a':0,'b':1,'c':2} What is the result of the following: D.values()?\n",
        "D = {'a':0,'b':1,'c':2}\n",
        "D.values()"
      ],
      "metadata": {
        "id": "d2sxz-k4oih9"
      },
      "execution_count": null,
      "outputs": []
    },
    {
      "cell_type": "code",
      "source": [
        "# QUESTION 2 - Consider the following dictionary: D = {'a':0,'b':1,'c':2} What is the output of the following D['b']?\n",
        "D = {'a':0,'b':1,'c':2}\n",
        "D['b']"
      ],
      "metadata": {
        "id": "FCrdcqCEotis"
      },
      "execution_count": null,
      "outputs": []
    },
    {
      "cell_type": "code",
      "source": [
        "# Question sample dictionary\n",
        "soundtrack_dic = {\"The Bodyguard\":\"1992\", \"Saturday Night Fever\":\"1977\"}\n",
        "soundtrack_dic"
      ],
      "metadata": {
        "id": "_qKkcRYppakb"
      },
      "execution_count": null,
      "outputs": []
    },
    {
      "cell_type": "code",
      "source": [
        "# a) In the dictionary soundtrack_dic what are the keys ?\n",
        "soundtrack_dic.keys() # The Keys \"The Bodyguard\" and \"Saturday Night Fever\" "
      ],
      "metadata": {
        "id": "V1Br5RQFpdsT"
      },
      "execution_count": null,
      "outputs": []
    },
    {
      "cell_type": "code",
      "source": [
        "# b) In the dictionary soundtrack_dic what are the values ?\n",
        "soundtrack_dic.values() # The values are \"1992\" and \"1977\""
      ],
      "metadata": {
        "id": "S4y8khkNph5a"
      },
      "execution_count": null,
      "outputs": []
    },
    {
      "cell_type": "code",
      "source": [
        "# a) Create a dictionary album_sales_dict where the keys are the album name and the sales in millions are the values.\n",
        "album_sales_dict = {\"The Bodyguard\":50, \"Back in Black\":50, \"Thriller\":65}"
      ],
      "metadata": {
        "id": "FHuyMJyvpofT"
      },
      "execution_count": 58,
      "outputs": []
    },
    {
      "cell_type": "code",
      "source": [
        "# b) Use the dictionary to find the total sales of Thriller:\n",
        "album_sales_dict[\"Thriller\"]"
      ],
      "metadata": {
        "id": "hi33VmPFpvJY"
      },
      "execution_count": null,
      "outputs": []
    },
    {
      "cell_type": "code",
      "source": [
        "# c) Find the names of the albums from the dictionary using the method keys():\n",
        "album_sales_dict.keys()"
      ],
      "metadata": {
        "id": "GN8emwhHqDRt"
      },
      "execution_count": null,
      "outputs": []
    },
    {
      "cell_type": "code",
      "source": [
        "# d) Find the values of the recording sales from the dictionary using the method values:\n",
        "album_sales_dict.values()"
      ],
      "metadata": {
        "id": "Vbs8QAm3qJD5"
      },
      "execution_count": null,
      "outputs": []
    },
    {
      "cell_type": "markdown",
      "source": [
        "**Review Questions**"
      ],
      "metadata": {
        "id": "0i6VFwFGqR-L"
      }
    },
    {
      "cell_type": "code",
      "source": [
        "# Question 1 - What is the syntax used to obtain the first element of the tuple:\n",
        "A = ('a','b','c')\n",
        "A[0] # 'a'"
      ],
      "metadata": {
        "id": "Bk3nNvhoqW5q"
      },
      "execution_count": null,
      "outputs": []
    },
    {
      "cell_type": "code",
      "source": [
        "# Question 2 - After applying the following method, L.append(['a','b']), the following list will only be one element longer. True"
      ],
      "metadata": {
        "id": "n52B8oqFqhpV"
      },
      "execution_count": null,
      "outputs": []
    },
    {
      "cell_type": "code",
      "source": [
        "# Question 3 - How many duplicate elements can you have in a set? 0"
      ],
      "metadata": {
        "id": "9Z61DEYDqvfH"
      },
      "execution_count": null,
      "outputs": []
    },
    {
      "cell_type": "code",
      "source": [
        "# Question 4 - Consider the following Python dictionary: Dict={\"A\":1,\"B\":\"2\",\"C\":[3,3,3],\"D\":(4,4,4),'E':5,'F':6} What is the result of the following operation: Dict[\"D\"]?\n",
        "Dict = {\"A\":1,\"B\":\"2\",\"C\":[3,3,3],\"D\":(4,4,4),'E':5,'F':6}\n",
        "Dict[\"D\"]"
      ],
      "metadata": {
        "colab": {
          "base_uri": "https://localhost:8080/"
        },
        "id": "WjMoQgUPq4hy",
        "outputId": "fd1bc281-1306-49ed-832d-7b7d11ad330c"
      },
      "execution_count": 76,
      "outputs": [
        {
          "output_type": "execute_result",
          "data": {
            "text/plain": [
              "(4, 4, 4)"
            ]
          },
          "metadata": {},
          "execution_count": 76
        }
      ]
    },
    {
      "cell_type": "code",
      "source": [
        "# Question 5 - What is an important difference between lists and tuples?\n",
        "# Lists are mutable, tuples are not. "
      ],
      "metadata": {
        "id": "L_8swyJfrFqi"
      },
      "execution_count": null,
      "outputs": []
    },
    {
      "cell_type": "markdown",
      "source": [
        "# **Module 3 - Python Programming Fundamentals**"
      ],
      "metadata": {
        "id": "QXdBrPwUrP6l"
      }
    },
    {
      "cell_type": "markdown",
      "source": [
        "**Conditions and Branching**"
      ],
      "metadata": {
        "id": "Y3QzhYAarYQE"
      }
    },
    {
      "cell_type": "code",
      "source": [
        "# Condition Equal\n",
        "a = 5\n",
        "a == 6"
      ],
      "metadata": {
        "id": "FRMkNZktrY1m"
      },
      "execution_count": null,
      "outputs": []
    },
    {
      "cell_type": "code",
      "source": [
        "# Greater than Sign\n",
        "\n",
        "i = 2\n",
        "i > 5"
      ],
      "metadata": {
        "id": "Qeba4LVUtT88"
      },
      "execution_count": null,
      "outputs": []
    },
    {
      "cell_type": "code",
      "source": [
        "# Inequality Sign\n",
        "i = 2\n",
        "i != 6"
      ],
      "metadata": {
        "id": "JF1AZdHytNAc"
      },
      "execution_count": null,
      "outputs": []
    },
    {
      "cell_type": "code",
      "source": [
        "# Use Equality sign to compare the strings\n",
        "\"ACDC\" == \"Michael Jackson\""
      ],
      "metadata": {
        "id": "zXsPxtjntWfB"
      },
      "execution_count": null,
      "outputs": []
    },
    {
      "cell_type": "code",
      "source": [
        "# If statement example\n",
        "age = 19\n",
        "#age = 18\n",
        "#expression that can be true or false\n",
        "if age > 18:\n",
        "  \n",
        "    #within an indent, we have the expression that is run if the condition is true\n",
        "    print(\"you can enter\" )\n",
        "#The statements after the if statement will run regardless if the condition is true or false \n",
        "print(\"move on\")"
      ],
      "metadata": {
        "id": "lVkKgACptcqc"
      },
      "execution_count": null,
      "outputs": []
    },
    {
      "cell_type": "code",
      "source": [
        "# Else statement example\n",
        "age = 18\n",
        "# age = 19\n",
        "if age > 18:\n",
        "    print(\"you can enter\" )\n",
        "else:\n",
        "    print(\"go see Meat Loaf\" ) \n",
        "print(\"move on\")"
      ],
      "metadata": {
        "id": "p4aWWzqdtfu1"
      },
      "execution_count": null,
      "outputs": []
    },
    {
      "cell_type": "code",
      "source": [
        "# Elif statment example\n",
        "age = 18\n",
        "if age > 18:\n",
        "    print(\"you can enter\" )\n",
        "elif age == 18:\n",
        "    print(\"go see Pink Floyd\")\n",
        "else:\n",
        "    print(\"go see Meat Loaf\" ) \n",
        "print(\"move on\")"
      ],
      "metadata": {
        "id": "DB5O4FqTtla-"
      },
      "execution_count": null,
      "outputs": []
    },
    {
      "cell_type": "code",
      "source": [
        "# Condition statement example\n",
        "album_year = 1980\n",
        "if(album_year > 1979) and (album_year < 1990):\n",
        "    print (\"Album year was in between 1980 and 1989\")\n",
        "    \n",
        "print(\"\")\n",
        "print(\"Do Stuff..\")"
      ],
      "metadata": {
        "id": "mh05zSdHttLl"
      },
      "execution_count": null,
      "outputs": []
    },
    {
      "cell_type": "code",
      "source": [
        "# Condition statement example\n",
        "album_year = 1990\n",
        "if(album_year < 1980) or (album_year > 1989):\n",
        "    print (\"Album was not made in the 1980's\")\n",
        "else:\n",
        "    print(\"The Album was made in the 1980's \")"
      ],
      "metadata": {
        "id": "X6f4H-iQtwdv"
      },
      "execution_count": null,
      "outputs": []
    },
    {
      "cell_type": "markdown",
      "source": [
        "**Lab - Loops**"
      ],
      "metadata": {
        "id": "ilHbiB8wuZzn"
      }
    },
    {
      "cell_type": "code",
      "source": [
        "# Range \n",
        "# Use the range\n",
        "range(3)"
      ],
      "metadata": {
        "id": "g1TpzlzgucX9"
      },
      "execution_count": null,
      "outputs": []
    },
    {
      "cell_type": "code",
      "source": [
        "# For loop example\n",
        "dates = [1982, 1980, 1973]\n",
        "N = len(dates)\n",
        "\n",
        "for i in range(N):\n",
        "    print(dates[i])  "
      ],
      "metadata": {
        "id": "YA-G5EkevIyy"
      },
      "execution_count": null,
      "outputs": []
    },
    {
      "cell_type": "code",
      "source": [
        "# Example of for loop\n",
        "for i in range(0, 8):\n",
        "    print(i)"
      ],
      "metadata": {
        "id": "-IyxafbRvMwu"
      },
      "execution_count": null,
      "outputs": []
    },
    {
      "cell_type": "code",
      "source": [
        "# Use for loop to change the elements in list\n",
        "squares = ['red', 'yellow', 'green', 'purple', 'blue']\n",
        "\n",
        "for i in range(0, 5):\n",
        "    print(\"Before square \", i, 'is',  squares[i])\n",
        "    squares[i] = 'white'\n",
        "    print(\"After square \", i, 'is',  squares[i])"
      ],
      "metadata": {
        "id": "0u4uA6pBvP21"
      },
      "execution_count": null,
      "outputs": []
    },
    {
      "cell_type": "code",
      "source": [
        "# While Loop Example\n",
        "dates = [1982, 1980, 1973, 2000]\n",
        "\n",
        "i = 0\n",
        "year = dates[0]\n",
        "\n",
        "while(year != 1973):    \n",
        "    print(year)\n",
        "    i = i + 1\n",
        "    year = dates[i]\n",
        "    \n",
        "\n",
        "print(\"It took \", i ,\"repetitions to get out of loop.\")"
      ],
      "metadata": {
        "id": "56ipReDLvS8E"
      },
      "execution_count": null,
      "outputs": []
    },
    {
      "cell_type": "markdown",
      "source": [
        "**Lab - Functions**"
      ],
      "metadata": {
        "id": "b6L2y4-bvysr"
      }
    },
    {
      "cell_type": "code",
      "source": [
        "# First function example: Add 1 to a and store as b\n",
        "def add(a):\n",
        "    b = a + 1\n",
        "    print(a, \"if you add one\", b)\n",
        "    return(b)"
      ],
      "metadata": {
        "id": "DdKiTloJv3ef"
      },
      "execution_count": 106,
      "outputs": []
    },
    {
      "cell_type": "code",
      "source": [
        "# Get a help on add function\n",
        "help(add)"
      ],
      "metadata": {
        "id": "3jzlffpXxJ84"
      },
      "execution_count": null,
      "outputs": []
    },
    {
      "cell_type": "code",
      "source": [
        "# Call the function add()\n",
        "add(1)"
      ],
      "metadata": {
        "id": "7BIE8GWkxPJz"
      },
      "execution_count": null,
      "outputs": []
    },
    {
      "cell_type": "code",
      "source": [
        "# Define a function for multiple two numbers\n",
        "def Mult(a, b):\n",
        "    c = a * b\n",
        "    return(c)\n",
        "    print('This is not printed')\n",
        "    \n",
        "result = Mult(12,2)\n",
        "print(result)"
      ],
      "metadata": {
        "id": "C3vXsw_TxRfF"
      },
      "execution_count": null,
      "outputs": []
    },
    {
      "cell_type": "code",
      "source": [
        "# Function Definition\n",
        "def square(a):\n",
        "    \n",
        "    # Local variable b\n",
        "    b = 1\n",
        "    c = a * a + b\n",
        "    print(a, \"if you square + 1\", c) \n",
        "    return(c)"
      ],
      "metadata": {
        "id": "QX_D__naxYKO"
      },
      "execution_count": 110,
      "outputs": []
    },
    {
      "cell_type": "code",
      "source": [
        "# Initializes Global variable  \n",
        "x = 3\n",
        "# Makes function call and return function a y\n",
        "y = square(x)\n",
        "y"
      ],
      "metadata": {
        "id": "rXNRJqPsxZxD"
      },
      "execution_count": null,
      "outputs": []
    },
    {
      "cell_type": "code",
      "source": [
        "# Function example\n",
        "def type_of_album(artist, album, year_released):\n",
        "    \n",
        "    print(artist, album, year_released)\n",
        "    if year_released > 1980:\n",
        "        return \"Modern\"\n",
        "    else:\n",
        "        return \"Oldie\"\n",
        "    \n",
        "x = type_of_album(\"Michael Jackson\", \"Thriller\", 1980)\n",
        "print(x)"
      ],
      "metadata": {
        "id": "IvrG1fJHxlqt"
      },
      "execution_count": null,
      "outputs": []
    },
    {
      "cell_type": "code",
      "source": [
        "# Print the list using for loop\n",
        "def PrintList(the_list):\n",
        "    for element in the_list:\n",
        "        print(element)\n",
        "\n",
        "# Implement the printlist function\n",
        "PrintList(['1', 1, 'the man', \"abc\"])"
      ],
      "metadata": {
        "id": "BpgLEIdhxpOt"
      },
      "execution_count": null,
      "outputs": []
    },
    {
      "cell_type": "markdown",
      "source": [
        "**Lab - Objects and Classes**"
      ],
      "metadata": {
        "id": "F5u_7IfVySrn"
      }
    },
    {
      "cell_type": "code",
      "source": [
        "# Import the library\n",
        "import matplotlib.pyplot as plt\n",
        "%matplotlib inline  "
      ],
      "metadata": {
        "id": "JSUBFnPLyUjT"
      },
      "execution_count": 118,
      "outputs": []
    },
    {
      "cell_type": "code",
      "source": [
        "# Create a class Circle\n",
        "class Circle(object):\n",
        "    \n",
        "    # Constructor\n",
        "    def __init__(self, radius=3, color='blue'):\n",
        "        self.radius = radius\n",
        "        self.color = color \n",
        "    \n",
        "    # Method\n",
        "    def add_radius(self, r):\n",
        "        self.radius = self.radius + r\n",
        "        return(self.radius)\n",
        "    \n",
        "    # Method\n",
        "    def drawCircle(self):\n",
        "        plt.gca().add_patch(plt.Circle((0, 0), radius=self.radius, fc=self.color))\n",
        "        plt.axis('scaled')\n",
        "        plt.show()  "
      ],
      "metadata": {
        "id": "Az-z_-cS0O5_"
      },
      "execution_count": 120,
      "outputs": []
    },
    {
      "cell_type": "code",
      "source": [
        "# Create an object RedCircle\n",
        "RedCircle = Circle(10, 'red')"
      ],
      "metadata": {
        "id": "yv1UidfN0R0a"
      },
      "execution_count": 121,
      "outputs": []
    },
    {
      "cell_type": "code",
      "source": [
        "# Find out the methods can be used on the object RedCircle\n",
        "dir(RedCircle)"
      ],
      "metadata": {
        "id": "Wy-Ew_Cc0W83"
      },
      "execution_count": null,
      "outputs": []
    },
    {
      "cell_type": "code",
      "source": [
        "# Print the object attribute color\n",
        "RedCircle.color"
      ],
      "metadata": {
        "id": "7s4g3pGO0ZjP"
      },
      "execution_count": null,
      "outputs": []
    },
    {
      "cell_type": "code",
      "source": [
        "# Set the object attribute radius\n",
        "RedCircle.radius = 1\n",
        "RedCircle.radius"
      ],
      "metadata": {
        "id": "zDyqgvH60d37"
      },
      "execution_count": null,
      "outputs": []
    },
    {
      "cell_type": "code",
      "source": [
        "# Use method to change the object attribute radius\n",
        "print('Radius of object:',RedCircle.radius)\n",
        "RedCircle.add_radius(2)\n",
        "print('Radius of object of after applying the method add_radius(2):',RedCircle.radius)\n",
        "RedCircle.add_radius(5)\n",
        "print('Radius of object of after applying the method add_radius(5):',RedCircle.radius)"
      ],
      "metadata": {
        "id": "97egW82h0g5G"
      },
      "execution_count": null,
      "outputs": []
    },
    {
      "cell_type": "code",
      "source": [
        "# Create a new Rectangle class for creating a rectangle object\n",
        "class Rectangle(object):\n",
        "    \n",
        "    # Constructor\n",
        "    def __init__(self, width=2, height=3, color='r'):\n",
        "        self.height = height \n",
        "        self.width = width\n",
        "        self.color = color\n",
        "    \n",
        "    # Method\n",
        "    def drawRectangle(self):\n",
        "        plt.gca().add_patch(plt.Rectangle((0, 0), self.width, self.height ,fc=self.color))\n",
        "        plt.axis('scaled')\n",
        "        plt.show()"
      ],
      "metadata": {
        "id": "vi_wEcg10moz"
      },
      "execution_count": 126,
      "outputs": []
    },
    {
      "cell_type": "code",
      "source": [
        "# Create a new object rectangle\n",
        "SkinnyBlueRectangle = Rectangle(2, 3, 'blue')"
      ],
      "metadata": {
        "id": "ajm2C-XA0pO1"
      },
      "execution_count": 127,
      "outputs": []
    },
    {
      "cell_type": "code",
      "source": [
        "# Print the object attribute width\n",
        "SkinnyBlueRectangle.width"
      ],
      "metadata": {
        "id": "BDy_iOvV0qVR"
      },
      "execution_count": null,
      "outputs": []
    },
    {
      "cell_type": "markdown",
      "source": [
        "**Quizzes & Quizzes from labs**"
      ],
      "metadata": {
        "id": "SlBSFmbjrTol"
      }
    },
    {
      "cell_type": "code",
      "source": [
        "# QUESTION 1 - Select the values of i that produces a True for the following:\n",
        "i = 1\n",
        "i != 0 "
      ],
      "metadata": {
        "id": "rOcv0RZxrg9z"
      },
      "execution_count": null,
      "outputs": []
    },
    {
      "cell_type": "code",
      "source": [
        "# QUESTION 2 - What is the output of the following: This is a.\n",
        "if(x != 'a'):\n",
        "  print(\"This is not a.\")\n",
        "else:\n",
        "  print(\"This is a.\")\n"
      ],
      "metadata": {
        "id": "RMgVddqXrwMO"
      },
      "execution_count": null,
      "outputs": []
    },
    {
      "cell_type": "code",
      "source": [
        "# Write an if statement to determine if an album had a rating greater than 8. Test it using the rating for the album “Back in Black” that had a rating of 8.5. If the statement is true print \"This album is Amazing!\"\n",
        "rating = 8.5\n",
        "if rating > 8:\n",
        "    print (\"This album is Amazing!\")"
      ],
      "metadata": {
        "id": "4u64njeyr_8h"
      },
      "execution_count": null,
      "outputs": []
    },
    {
      "cell_type": "code",
      "source": [
        "# Write an if-else statement that performs the following. If the rating is larger then eight print “this album is amazing”. If the rating is less than or equal to 8 print “this album is ok”.\n",
        "rating = 8.5\n",
        "if rating > 8:\n",
        "    print (\"this album is amazing\")\n",
        "else:\n",
        "    print (\"this album is ok\")"
      ],
      "metadata": {
        "id": "VRbIDhd1t6_h"
      },
      "execution_count": null,
      "outputs": []
    },
    {
      "cell_type": "code",
      "source": [
        "# Write an if statement to determine if an album came out before 1980 or in the years: 1991 or 1993. If the condition is true print out the year the album came out.\n",
        "album_year = 1979\n",
        "if album_year < 1980 or album_year == 1991 or album_year == 1993:\n",
        "    print(\"This album came out in year\", album_year)"
      ],
      "metadata": {
        "id": "BRAEBqVLt_HY"
      },
      "execution_count": null,
      "outputs": []
    },
    {
      "cell_type": "markdown",
      "source": [
        "**Loop Quizzes**"
      ],
      "metadata": {
        "id": "gkIKeSEzugBF"
      }
    },
    {
      "cell_type": "code",
      "source": [
        "# QUESTION 1 - What is the output of the following lines of code: # 3, 4, 5 \n",
        "A = [3,4,5]\n",
        "for a in A:\n",
        "  print(a)\n"
      ],
      "metadata": {
        "id": "XeGsWREiueQu"
      },
      "execution_count": null,
      "outputs": []
    },
    {
      "cell_type": "code",
      "source": [
        "# QUESTION 2 - What is the output of the following lines of code: # 1, 2 \n",
        "x = 3\n",
        "y = 1\n",
        "\n",
        "while(y != x):\n",
        "  print(y)\n",
        "  y = y+1"
      ],
      "metadata": {
        "id": "NXnCz-IVuu7B"
      },
      "execution_count": null,
      "outputs": []
    },
    {
      "cell_type": "code",
      "source": [
        "# Write a for loop the prints out all the element between -5 and 5 using the range function.\n",
        "for i in range(-4, 5):\n",
        "    print(i)"
      ],
      "metadata": {
        "id": "Me4EbQRYu64u"
      },
      "execution_count": null,
      "outputs": []
    },
    {
      "cell_type": "code",
      "source": [
        "# Write a for loop that prints out the following list: squares=['red', 'yellow', 'green', 'purple', 'blue']\n",
        "squares = ['red', 'yellow', 'green', 'purple', 'blue']\n",
        "for square in squares:\n",
        "    print(square)"
      ],
      "metadata": {
        "id": "QfpPUuckvcDg"
      },
      "execution_count": null,
      "outputs": []
    },
    {
      "cell_type": "code",
      "source": [
        "# Write a while loop to display the values of the Rating of an album playlist stored in the list PlayListRatings. If the score is less than 6, exit the loop. The list PlayListRatings is given by: PlayListRatings = [10, 9.5, 10, 8, 7.5, 5, 10, 10]\n",
        "PlayListRatings = [10, 9.5, 10, 8, 7.5, 5, 10, 10]\n",
        "i = 0\n",
        "Rating = PlayListRatings[0]\n",
        "while(i < len(PlayListRatings) and Rating >= 6):\n",
        "    print(Rating)\n",
        "    i = i + 1\n",
        "    Rating = PlayListRatings[i]\n",
        "    i = i + 1"
      ],
      "metadata": {
        "id": "vQNmi0SHvhXS"
      },
      "execution_count": null,
      "outputs": []
    },
    {
      "cell_type": "code",
      "source": [
        "# Write a while loop to copy the strings 'orange' of the list squares to the list new_squares. Stop and exit the loop if the value on the list is not 'orange'\n",
        "squares = ['orange', 'orange', 'purple', 'blue ', 'orange']\n",
        "new_squares = []\n",
        "i = 0\n",
        "while(i < len(squares) and squares[i] == 'orange'):\n",
        "    new_squares.append(squares[i])\n",
        "    i = i + 1\n",
        "print(new_squares)"
      ],
      "metadata": {
        "id": "vDjo8bdJvq4A"
      },
      "execution_count": null,
      "outputs": []
    },
    {
      "cell_type": "markdown",
      "source": [
        "**Functions Quizzes**"
      ],
      "metadata": {
        "id": "aLzQrAQxv89L"
      }
    },
    {
      "cell_type": "code",
      "source": [
        "# QUESTION 1 - What is the value of c after the following block of code is run ?\n",
        "a = 1\n",
        "def add(b):\n",
        "  return a + b\n",
        "\n",
        "c = add(10)\n",
        "c"
      ],
      "metadata": {
        "id": "88YpbhdFv_Hh"
      },
      "execution_count": null,
      "outputs": []
    },
    {
      "cell_type": "code",
      "source": [
        "# QUESTION 2 - What is the value of c after the following block of code is run with proper numerical input?\n",
        "def f(*x):\n",
        "  return sum(x)\n",
        "\n",
        "c = f(c)\n",
        "c"
      ],
      "metadata": {
        "id": "EePoWJ2_wLI8"
      },
      "execution_count": null,
      "outputs": []
    },
    {
      "cell_type": "code",
      "source": [
        "# Come up with a function that divides the first input by the second input:\n",
        "def div(a, b):\n",
        "    return(a/b)"
      ],
      "metadata": {
        "id": "1p0v8VmExxP1"
      },
      "execution_count": 114,
      "outputs": []
    },
    {
      "cell_type": "code",
      "source": [
        "# Use the function con for the following question.\n",
        "def con(a, b):\n",
        "    return(a + b)"
      ],
      "metadata": {
        "id": "9BrXvavQx2np"
      },
      "execution_count": 115,
      "outputs": []
    },
    {
      "cell_type": "code",
      "source": [
        "# Can the con function we defined before be used to add two integers or strings? # Yes\n",
        "con(2, 2)"
      ],
      "metadata": {
        "id": "YZtMjyZkx670"
      },
      "execution_count": null,
      "outputs": []
    },
    {
      "cell_type": "code",
      "source": [
        "# Can the con function we defined before be used to concatenate lists or tuples? # Yes\n",
        "con(['a', 1], ['b', 1])"
      ],
      "metadata": {
        "id": "4boNnQkgyDoJ"
      },
      "execution_count": null,
      "outputs": []
    },
    {
      "cell_type": "markdown",
      "source": [
        "**Objects and Classes Quizzes**"
      ],
      "metadata": {
        "id": "ciALZdEpyK5K"
      }
    },
    {
      "cell_type": "code",
      "source": [
        "\"\"\"\n",
        " Text Analysis\n",
        "\n",
        "You have been recruited by your friend, a linguistics enthusiast, to create a utility tool that can perform analysis on a given piece of text. Complete the class 'analysedText' with the following methods -\n",
        "\n",
        "    Constructor (__init__) - This method should take the argument text, make it lower case, and remove all punctuation. Assume only the following punctuation is used: period (.), exclamation mark (!), comma (,) and question mark (?). Assign this newly formatted text to a new attribute called fmtText.\n",
        "    freqAll - This method should create and return dictionary of all unique words in the text, along with the number of times they occur in the text. Each key in the dictionary should be the unique word appearing in the text and the associated value should be the number of times it occurs in the text. Create this dictionary from the fmtText attribute.\n",
        "    freqOf - This method should take a word as an argument and return the number of occurrences of that word in fmtText. \n",
        "\n",
        "The skeleton code has been given to you. Docstrings can be ignored for the purpose of the exercise.\n",
        "Hint: Some useful functions are replace(), lower(), split(), count() \n",
        "\"\"\"\n",
        "class analysedText(object):\n",
        "    \n",
        "    def __init__ (self, text):\n",
        "        formattedText = text.replace('.','').replace('!','').replace('?','').replace(',','')\n",
        "  \n",
        "        formattedText = formattedText.lower()\n",
        "        \n",
        "        self.fmtText = formattedText\n",
        "        \n",
        "    def freqAll(self):        \n",
        "        wordList = self.fmtText.split(' ')\n",
        "        \n",
        "        freqMap = {}\n",
        "        for word in set(wordList):\n",
        "            freqMap[word] = wordList.count(word)\n",
        "        \n",
        "        return freqMap\n",
        "    \n",
        "    def freqOf(self,word):\n",
        "        freqDict = self.freqAll()\n",
        "        \n",
        "        if word in freqDict:\n",
        "            return freqDict[word]\n",
        "        else:\n",
        "            return 0\n",
        "\n",
        "import sys\n",
        "\n",
        "sampleMap = {'eirmod': 1,'sed': 1, 'amet': 2, 'diam': 5, 'consetetur': 1, 'labore': 1, 'tempor': 1, 'dolor': 1, 'magna': 2, 'et': 3, 'nonumy': 1, 'ipsum': 1, 'lorem': 2}\n",
        "\n",
        "def testMsg(passed):\n",
        "    if passed:\n",
        "       return 'Test Passed'\n",
        "    else :\n",
        "       return 'Test Failed'\n",
        "\n",
        "print(\"Constructor: \")\n",
        "try:\n",
        "    samplePassage = analysedText(\"Lorem ipsum dolor! diam amet, consetetur Lorem magna. sed diam nonumy eirmod tempor. diam et labore? et diam magna. et diam amet.\")\n",
        "    print(testMsg(samplePassage.fmtText == \"lorem ipsum dolor diam amet consetetur lorem magna sed diam nonumy eirmod tempor diam et labore et diam magna et diam amet\"))\n",
        "except:\n",
        "    print(\"Error detected. Recheck your function \" )\n",
        "print(\"freqAll: \")\n",
        "try:\n",
        "    wordMap = samplePassage.freqAll()\n",
        "    print(testMsg(wordMap==sampleMap))\n",
        "except:\n",
        "    print(\"Error detected. Recheck your function \" )\n",
        "print(\"freqOf: \")\n",
        "try:\n",
        "    passed = True\n",
        "    for word in sampleMap:\n",
        "        if samplePassage.freqOf(word) != sampleMap[word]:\n",
        "            passed = False\n",
        "            break\n",
        "    print(testMsg(passed))\n",
        "    \n",
        "except:\n",
        "    print(\"Error detected. Recheck your function  \" )\n",
        "    "
      ],
      "metadata": {
        "id": "nkbS1YeYyKnM"
      },
      "execution_count": null,
      "outputs": []
    },
    {
      "cell_type": "markdown",
      "source": [
        "**Review Questions**"
      ],
      "metadata": {
        "id": "6OzTiJ8V14lW"
      }
    },
    {
      "cell_type": "code",
      "source": [
        "# Question 1 - What is the output of the following lines of code:\n",
        "x = 1\n",
        "if(x != 1):\n",
        "  print('Hello')\n",
        "else:\n",
        "  print('Hi')\n",
        "\n",
        "print('Mike')\n",
        "\n",
        "# Hi\n",
        "# Mike"
      ],
      "metadata": {
        "id": "1PBpO4NP17eD"
      },
      "execution_count": null,
      "outputs": []
    },
    {
      "cell_type": "code",
      "source": [
        "# Question 2 - What is the output of the following few lines of code? # '11' '22' '33' \n",
        "A = ['1','2','3']\n",
        "for a in A:\n",
        "  print(2*a)\n"
      ],
      "metadata": {
        "id": "PMjzDpZv2KE3"
      },
      "execution_count": null,
      "outputs": []
    },
    {
      "cell_type": "code",
      "source": [
        "# Question 3 - Consider the function Delta, when will the function return a value of 1 # When the input is 0. \n",
        "def Delta(x):\n",
        "  if x == 0:\n",
        "    y = 1;\n",
        "  else:\n",
        "    y = 0;\n",
        "  return(y)\n",
        "\n",
        "Delta(1)"
      ],
      "metadata": {
        "id": "f2WB-3rJ2UAW"
      },
      "execution_count": null,
      "outputs": []
    },
    {
      "cell_type": "code",
      "source": [
        "# Question 4 - What is the correct way to sort the list 'B' using a method? The result should not return a new list, just change the list 'B'. # B.sort() "
      ],
      "metadata": {
        "id": "gxYogOFC2kgb"
      },
      "execution_count": null,
      "outputs": []
    },
    {
      "cell_type": "code",
      "source": [
        "# Question 5 - What are the keys of the following dictionary: {'a':1,'b':2}? # a,b"
      ],
      "metadata": {
        "id": "453tzdzL2qYF"
      },
      "execution_count": null,
      "outputs": []
    }
  ]
}