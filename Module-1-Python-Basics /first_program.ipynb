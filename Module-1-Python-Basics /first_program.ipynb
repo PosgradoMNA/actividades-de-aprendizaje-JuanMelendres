{
 "cells": [
  {
   "cell_type": "code",
   "execution_count": 11,
   "metadata": {},
   "outputs": [
    {
     "name": "stdout",
     "output_type": "stream",
     "text": [
      "Hello Python 101\n",
      "Hello\n",
      "World\n",
      "<class 'str'>\n",
      "101\n",
      "True\n",
      "Hello\n",
      "World!\n"
     ]
    }
   ],
   "source": [
    "# This is a comment\n",
    "# Print Hello Python 101 in single line\n",
    "# Hello World\n",
    "print(\"Hello Python 101\")\n",
    "\n",
    "# Print Hello Python 101 in two lines\n",
    "print(\"Hello\\nWorld\")\n",
    "\n",
    "# Types in Python\n",
    "print(type(\"Hello Python 101\"))\n",
    "\n",
    "# Cast in Python\n",
    "print(int(\"101\"))\n",
    "print(bool(int(\"101\")))\n",
    "\n",
    "#  Question 1\n",
    "# Using the Practice Lab, find the result of executing print(\"Hello\\nWorld!\") statement.\n",
    "print(\"Hello\\nWorld!\")\n",
    "# Answer:\n",
    "# Hello\n",
    "# World\n",
    "\n",
    "#  Question 2\n",
    "# What is the output of executing the following statement: # print('Hello World!')?\n",
    "# print('Hello World!')\n",
    "# Answer: There is no output as it is a comment."
   ]
  }
 ],
 "metadata": {
  "kernelspec": {
   "display_name": "Python 3.8.5 64-bit",
   "language": "python",
   "name": "python3"
  },
  "language_info": {
   "codemirror_mode": {
    "name": "ipython",
    "version": 3
   },
   "file_extension": ".py",
   "mimetype": "text/x-python",
   "name": "python",
   "nbconvert_exporter": "python",
   "pygments_lexer": "ipython3",
   "version": "3.8.5"
  },
  "orig_nbformat": 4,
  "vscode": {
   "interpreter": {
    "hash": "082e9a3bcad0a290d0001e938aa60b99250c6c2ef33a923c00b70f9826caf4b7"
   }
  }
 },
 "nbformat": 4,
 "nbformat_minor": 2
}
